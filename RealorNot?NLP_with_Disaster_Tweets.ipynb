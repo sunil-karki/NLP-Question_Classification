{
  "nbformat": 4,
  "nbformat_minor": 0,
  "metadata": {
    "colab": {
      "name": "Copy of Untitled1.ipynb",
      "provenance": [],
      "collapsed_sections": [],
      "machine_shape": "hm",
      "authorship_tag": "ABX9TyPwd0GNImT/4eocYvk+65CY",
      "include_colab_link": true
    },
    "kernelspec": {
      "name": "python3",
      "display_name": "Python 3"
    }
  },
  "cells": [
    {
      "cell_type": "markdown",
      "metadata": {
        "id": "view-in-github",
        "colab_type": "text"
      },
      "source": [
        "<a href=\"https://colab.research.google.com/github/sunil-karki/NLP-Question_Classification/blob/master/RealorNot%3FNLP_with_Disaster_Tweets.ipynb\" target=\"_parent\"><img src=\"https://colab.research.google.com/assets/colab-badge.svg\" alt=\"Open In Colab\"/></a>"
      ]
    },
    {
      "cell_type": "code",
      "metadata": {
        "id": "qUqM1TwuT3_I",
        "colab_type": "code",
        "colab": {}
      },
      "source": [
        "#The learning rate changes with every iteration, i.e., with every batch and not epoch. So, if you set the decay = 1e-2 and each epoch has 100 batches/iterations,\n",
        "#then after 1 epoch your learning rate will be\n",
        "\n",
        "#  lr = init_lr * 1/(1 + 1e-2 * 100)\n",
        "#So, if I want my learning rate to be 0.75 of the original learning rate at the end of each epoch, I would set the lr_decay to\n",
        "\n",
        "#  batches_per_epoch = dataset_size/batch_size\n",
        "#  lr_decay = (1./0.75 -1)/batches_per_epoch\n",
        "#It seems to work for me. Also, since the new learning rate is calculated at every iteration, the optimizer doesn't change the value of the learning rate \n",
        "#variable and always uses the initial learning rate to calculate the effective learning rate.\n"
      ],
      "execution_count": 0,
      "outputs": []
    },
    {
      "cell_type": "code",
      "metadata": {
        "id": "exXcA78CXejI",
        "colab_type": "code",
        "colab": {}
      },
      "source": [
        "#Pyimage decay\n",
        "#https://www.pyimagesearch.com/2019/07/22/keras-learning-rate-schedules-and-decay/"
      ],
      "execution_count": 0,
      "outputs": []
    },
    {
      "cell_type": "code",
      "metadata": {
        "id": "4YZjt-8P8YLv",
        "colab_type": "code",
        "outputId": "827dd62f-4241-40f9-e267-0caaab17c8f5",
        "colab": {
          "resources": {
            "http://localhost:8080/nbextensions/google.colab/files.js": {
              "data": "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",
              "ok": true,
              "headers": [
                [
                  "content-type",
                  "application/javascript"
                ]
              ],
              "status": 200,
              "status_text": ""
            }
          },
          "base_uri": "https://localhost:8080/",
          "height": 91
        }
      },
      "source": [
        "#https://towardsdatascience.com/learning-rate-schedules-and-adaptive-learning-rate-methods-for-deep-learning-2c8f433990d1\n",
        "\n",
        "from google.colab import files\n",
        "files.upload()"
      ],
      "execution_count": 2,
      "outputs": [
        {
          "output_type": "display_data",
          "data": {
            "text/html": [
              "\n",
              "     <input type=\"file\" id=\"files-db2719a2-c1cf-4e8a-bdad-6d069b37dc92\" name=\"files[]\" multiple disabled />\n",
              "     <output id=\"result-db2719a2-c1cf-4e8a-bdad-6d069b37dc92\">\n",
              "      Upload widget is only available when the cell has been executed in the\n",
              "      current browser session. Please rerun this cell to enable.\n",
              "      </output>\n",
              "      <script src=\"/nbextensions/google.colab/files.js\"></script> "
            ],
            "text/plain": [
              "<IPython.core.display.HTML object>"
            ]
          },
          "metadata": {
            "tags": []
          }
        },
        {
          "output_type": "stream",
          "text": [
            "Saving kaggle.json to kaggle.json\n"
          ],
          "name": "stdout"
        },
        {
          "output_type": "execute_result",
          "data": {
            "text/plain": [
              "{'kaggle.json': b'{\"username\":\"sunilkarki520\",\"key\":\"8368d7fdc07a580b54aeb9a6df65cda4\"}'}"
            ]
          },
          "metadata": {
            "tags": []
          },
          "execution_count": 2
        }
      ]
    },
    {
      "cell_type": "code",
      "metadata": {
        "id": "izpBi1Sv8cI0",
        "colab_type": "code",
        "colab": {}
      },
      "source": [
        "!mkdir -p ~/.kaggle\n",
        "!cp kaggle.json ~/.kaggle/\n",
        "\n",
        "!chmod 600 ~/.kaggle/kaggle.json"
      ],
      "execution_count": 0,
      "outputs": []
    },
    {
      "cell_type": "code",
      "metadata": {
        "id": "wKFNwr-P8hdx",
        "colab_type": "code",
        "outputId": "5b6b1156-3d62-400b-9d63-ac55850356e0",
        "colab": {
          "base_uri": "https://localhost:8080/",
          "height": 187
        }
      },
      "source": [
        "!kaggle competitions download -c nlp-getting-started"
      ],
      "execution_count": 4,
      "outputs": [
        {
          "output_type": "stream",
          "text": [
            "Warning: Looks like you're using an outdated API Version, please consider updating (server 1.5.6 / client 1.5.4)\n",
            "Downloading sample_submission.csv to /content\n",
            "\r  0% 0.00/22.2k [00:00<?, ?B/s]\n",
            "100% 22.2k/22.2k [00:00<00:00, 19.8MB/s]\n",
            "Downloading test.csv to /content\n",
            "  0% 0.00/411k [00:00<?, ?B/s]\n",
            "100% 411k/411k [00:00<00:00, 56.7MB/s]\n",
            "Downloading train.csv to /content\n",
            "  0% 0.00/965k [00:00<?, ?B/s]\n",
            "100% 965k/965k [00:00<00:00, 59.4MB/s]\n"
          ],
          "name": "stdout"
        }
      ]
    },
    {
      "cell_type": "code",
      "metadata": {
        "id": "Xv-4ejZW80rU",
        "colab_type": "code",
        "outputId": "483986f5-7af0-4d92-aa3b-13162b21daab",
        "colab": {
          "base_uri": "https://localhost:8080/",
          "height": 34
        }
      },
      "source": [
        "!ls"
      ],
      "execution_count": 5,
      "outputs": [
        {
          "output_type": "stream",
          "text": [
            "kaggle.json  sample_data  sample_submission.csv  test.csv  train.csv\n"
          ],
          "name": "stdout"
        }
      ]
    },
    {
      "cell_type": "code",
      "metadata": {
        "id": "9RBL-OYQV5di",
        "colab_type": "code",
        "outputId": "c80a39b3-500f-46f5-b5ec-cb1a69b402f7",
        "colab": {
          "base_uri": "https://localhost:8080/",
          "height": 80
        }
      },
      "source": [
        "import pandas as pd\n",
        "import numpy as np\n",
        "from sklearn.model_selection import train_test_split\n",
        "\n",
        "from keras.preprocessing.text import Tokenizer\n",
        "from keras.preprocessing.sequence import pad_sequences\n",
        "\n",
        "from keras.layers import Dense, Input, LSTM, Embedding, Dropout, Activation, GRU, Conv1D\n",
        "from keras.layers import Bidirectional, GlobalMaxPool1D, GlobalMaxPooling1D, GlobalAveragePooling1D\n",
        "from keras.layers import Input, Embedding, Dense, Conv2D, MaxPool2D, concatenate\n",
        "\n",
        "from keras.optimizers import Adam\n",
        "from keras import backend as K      ######\n",
        "from keras.models import Model\n",
        "from keras.engine.topology import Layer\n",
        "from keras import initializers, regularizers, constraints, optimizers, layers"
      ],
      "execution_count": 6,
      "outputs": [
        {
          "output_type": "stream",
          "text": [
            "Using TensorFlow backend.\n"
          ],
          "name": "stderr"
        },
        {
          "output_type": "display_data",
          "data": {
            "text/html": [
              "<p style=\"color: red;\">\n",
              "The default version of TensorFlow in Colab will soon switch to TensorFlow 2.x.<br>\n",
              "We recommend you <a href=\"https://www.tensorflow.org/guide/migrate\" target=\"_blank\">upgrade</a> now \n",
              "or ensure your notebook will continue to use TensorFlow 1.x via the <code>%tensorflow_version 1.x</code> magic:\n",
              "<a href=\"https://colab.research.google.com/notebooks/tensorflow_version.ipynb\" target=\"_blank\">more info</a>.</p>\n"
            ],
            "text/plain": [
              "<IPython.core.display.HTML object>"
            ]
          },
          "metadata": {
            "tags": []
          }
        }
      ]
    },
    {
      "cell_type": "code",
      "metadata": {
        "id": "AehUXIgi9hzh",
        "colab_type": "code",
        "outputId": "cd6ca301-4745-41e2-fb92-9698a5f2dd5e",
        "colab": {
          "base_uri": "https://localhost:8080/",
          "height": 51
        }
      },
      "source": [
        "\n",
        "train_df = pd.read_csv('train.csv') \n",
        "test_df = pd.read_csv('test.csv') \n",
        "print(\"Train shape : \",train_df.shape)\n",
        "print(\"Test shape : \",test_df.shape)"
      ],
      "execution_count": 7,
      "outputs": [
        {
          "output_type": "stream",
          "text": [
            "Train shape :  (7613, 5)\n",
            "Test shape :  (3263, 4)\n"
          ],
          "name": "stdout"
        }
      ]
    },
    {
      "cell_type": "code",
      "metadata": {
        "id": "y0c6jR56-ls8",
        "colab_type": "code",
        "outputId": "def4940d-71ed-423d-e202-f702f733e741",
        "colab": {
          "base_uri": "https://localhost:8080/",
          "height": 419
        }
      },
      "source": [
        "train_df"
      ],
      "execution_count": 8,
      "outputs": [
        {
          "output_type": "execute_result",
          "data": {
            "text/html": [
              "<div>\n",
              "<style scoped>\n",
              "    .dataframe tbody tr th:only-of-type {\n",
              "        vertical-align: middle;\n",
              "    }\n",
              "\n",
              "    .dataframe tbody tr th {\n",
              "        vertical-align: top;\n",
              "    }\n",
              "\n",
              "    .dataframe thead th {\n",
              "        text-align: right;\n",
              "    }\n",
              "</style>\n",
              "<table border=\"1\" class=\"dataframe\">\n",
              "  <thead>\n",
              "    <tr style=\"text-align: right;\">\n",
              "      <th></th>\n",
              "      <th>id</th>\n",
              "      <th>keyword</th>\n",
              "      <th>location</th>\n",
              "      <th>text</th>\n",
              "      <th>target</th>\n",
              "    </tr>\n",
              "  </thead>\n",
              "  <tbody>\n",
              "    <tr>\n",
              "      <th>0</th>\n",
              "      <td>1</td>\n",
              "      <td>NaN</td>\n",
              "      <td>NaN</td>\n",
              "      <td>Our Deeds are the Reason of this #earthquake M...</td>\n",
              "      <td>1</td>\n",
              "    </tr>\n",
              "    <tr>\n",
              "      <th>1</th>\n",
              "      <td>4</td>\n",
              "      <td>NaN</td>\n",
              "      <td>NaN</td>\n",
              "      <td>Forest fire near La Ronge Sask. Canada</td>\n",
              "      <td>1</td>\n",
              "    </tr>\n",
              "    <tr>\n",
              "      <th>2</th>\n",
              "      <td>5</td>\n",
              "      <td>NaN</td>\n",
              "      <td>NaN</td>\n",
              "      <td>All residents asked to 'shelter in place' are ...</td>\n",
              "      <td>1</td>\n",
              "    </tr>\n",
              "    <tr>\n",
              "      <th>3</th>\n",
              "      <td>6</td>\n",
              "      <td>NaN</td>\n",
              "      <td>NaN</td>\n",
              "      <td>13,000 people receive #wildfires evacuation or...</td>\n",
              "      <td>1</td>\n",
              "    </tr>\n",
              "    <tr>\n",
              "      <th>4</th>\n",
              "      <td>7</td>\n",
              "      <td>NaN</td>\n",
              "      <td>NaN</td>\n",
              "      <td>Just got sent this photo from Ruby #Alaska as ...</td>\n",
              "      <td>1</td>\n",
              "    </tr>\n",
              "    <tr>\n",
              "      <th>...</th>\n",
              "      <td>...</td>\n",
              "      <td>...</td>\n",
              "      <td>...</td>\n",
              "      <td>...</td>\n",
              "      <td>...</td>\n",
              "    </tr>\n",
              "    <tr>\n",
              "      <th>7608</th>\n",
              "      <td>10869</td>\n",
              "      <td>NaN</td>\n",
              "      <td>NaN</td>\n",
              "      <td>Two giant cranes holding a bridge collapse int...</td>\n",
              "      <td>1</td>\n",
              "    </tr>\n",
              "    <tr>\n",
              "      <th>7609</th>\n",
              "      <td>10870</td>\n",
              "      <td>NaN</td>\n",
              "      <td>NaN</td>\n",
              "      <td>@aria_ahrary @TheTawniest The out of control w...</td>\n",
              "      <td>1</td>\n",
              "    </tr>\n",
              "    <tr>\n",
              "      <th>7610</th>\n",
              "      <td>10871</td>\n",
              "      <td>NaN</td>\n",
              "      <td>NaN</td>\n",
              "      <td>M1.94 [01:04 UTC]?5km S of Volcano Hawaii. htt...</td>\n",
              "      <td>1</td>\n",
              "    </tr>\n",
              "    <tr>\n",
              "      <th>7611</th>\n",
              "      <td>10872</td>\n",
              "      <td>NaN</td>\n",
              "      <td>NaN</td>\n",
              "      <td>Police investigating after an e-bike collided ...</td>\n",
              "      <td>1</td>\n",
              "    </tr>\n",
              "    <tr>\n",
              "      <th>7612</th>\n",
              "      <td>10873</td>\n",
              "      <td>NaN</td>\n",
              "      <td>NaN</td>\n",
              "      <td>The Latest: More Homes Razed by Northern Calif...</td>\n",
              "      <td>1</td>\n",
              "    </tr>\n",
              "  </tbody>\n",
              "</table>\n",
              "<p>7613 rows × 5 columns</p>\n",
              "</div>"
            ],
            "text/plain": [
              "         id keyword  ...                                               text target\n",
              "0         1     NaN  ...  Our Deeds are the Reason of this #earthquake M...      1\n",
              "1         4     NaN  ...             Forest fire near La Ronge Sask. Canada      1\n",
              "2         5     NaN  ...  All residents asked to 'shelter in place' are ...      1\n",
              "3         6     NaN  ...  13,000 people receive #wildfires evacuation or...      1\n",
              "4         7     NaN  ...  Just got sent this photo from Ruby #Alaska as ...      1\n",
              "...     ...     ...  ...                                                ...    ...\n",
              "7608  10869     NaN  ...  Two giant cranes holding a bridge collapse int...      1\n",
              "7609  10870     NaN  ...  @aria_ahrary @TheTawniest The out of control w...      1\n",
              "7610  10871     NaN  ...  M1.94 [01:04 UTC]?5km S of Volcano Hawaii. htt...      1\n",
              "7611  10872     NaN  ...  Police investigating after an e-bike collided ...      1\n",
              "7612  10873     NaN  ...  The Latest: More Homes Razed by Northern Calif...      1\n",
              "\n",
              "[7613 rows x 5 columns]"
            ]
          },
          "metadata": {
            "tags": []
          },
          "execution_count": 8
        }
      ]
    },
    {
      "cell_type": "code",
      "metadata": {
        "id": "W4rwZzzG9iae",
        "colab_type": "code",
        "outputId": "d4af1e31-e334-4585-d9cc-44f3c77db9af",
        "colab": {
          "base_uri": "https://localhost:8080/",
          "height": 419
        }
      },
      "source": [
        "test_df"
      ],
      "execution_count": 9,
      "outputs": [
        {
          "output_type": "execute_result",
          "data": {
            "text/html": [
              "<div>\n",
              "<style scoped>\n",
              "    .dataframe tbody tr th:only-of-type {\n",
              "        vertical-align: middle;\n",
              "    }\n",
              "\n",
              "    .dataframe tbody tr th {\n",
              "        vertical-align: top;\n",
              "    }\n",
              "\n",
              "    .dataframe thead th {\n",
              "        text-align: right;\n",
              "    }\n",
              "</style>\n",
              "<table border=\"1\" class=\"dataframe\">\n",
              "  <thead>\n",
              "    <tr style=\"text-align: right;\">\n",
              "      <th></th>\n",
              "      <th>id</th>\n",
              "      <th>keyword</th>\n",
              "      <th>location</th>\n",
              "      <th>text</th>\n",
              "    </tr>\n",
              "  </thead>\n",
              "  <tbody>\n",
              "    <tr>\n",
              "      <th>0</th>\n",
              "      <td>0</td>\n",
              "      <td>NaN</td>\n",
              "      <td>NaN</td>\n",
              "      <td>Just happened a terrible car crash</td>\n",
              "    </tr>\n",
              "    <tr>\n",
              "      <th>1</th>\n",
              "      <td>2</td>\n",
              "      <td>NaN</td>\n",
              "      <td>NaN</td>\n",
              "      <td>Heard about #earthquake is different cities, s...</td>\n",
              "    </tr>\n",
              "    <tr>\n",
              "      <th>2</th>\n",
              "      <td>3</td>\n",
              "      <td>NaN</td>\n",
              "      <td>NaN</td>\n",
              "      <td>there is a forest fire at spot pond, geese are...</td>\n",
              "    </tr>\n",
              "    <tr>\n",
              "      <th>3</th>\n",
              "      <td>9</td>\n",
              "      <td>NaN</td>\n",
              "      <td>NaN</td>\n",
              "      <td>Apocalypse lighting. #Spokane #wildfires</td>\n",
              "    </tr>\n",
              "    <tr>\n",
              "      <th>4</th>\n",
              "      <td>11</td>\n",
              "      <td>NaN</td>\n",
              "      <td>NaN</td>\n",
              "      <td>Typhoon Soudelor kills 28 in China and Taiwan</td>\n",
              "    </tr>\n",
              "    <tr>\n",
              "      <th>...</th>\n",
              "      <td>...</td>\n",
              "      <td>...</td>\n",
              "      <td>...</td>\n",
              "      <td>...</td>\n",
              "    </tr>\n",
              "    <tr>\n",
              "      <th>3258</th>\n",
              "      <td>10861</td>\n",
              "      <td>NaN</td>\n",
              "      <td>NaN</td>\n",
              "      <td>EARTHQUAKE SAFETY LOS ANGELES ÛÒ SAFETY FASTE...</td>\n",
              "    </tr>\n",
              "    <tr>\n",
              "      <th>3259</th>\n",
              "      <td>10865</td>\n",
              "      <td>NaN</td>\n",
              "      <td>NaN</td>\n",
              "      <td>Storm in RI worse than last hurricane. My city...</td>\n",
              "    </tr>\n",
              "    <tr>\n",
              "      <th>3260</th>\n",
              "      <td>10868</td>\n",
              "      <td>NaN</td>\n",
              "      <td>NaN</td>\n",
              "      <td>Green Line derailment in Chicago http://t.co/U...</td>\n",
              "    </tr>\n",
              "    <tr>\n",
              "      <th>3261</th>\n",
              "      <td>10874</td>\n",
              "      <td>NaN</td>\n",
              "      <td>NaN</td>\n",
              "      <td>MEG issues Hazardous Weather Outlook (HWO) htt...</td>\n",
              "    </tr>\n",
              "    <tr>\n",
              "      <th>3262</th>\n",
              "      <td>10875</td>\n",
              "      <td>NaN</td>\n",
              "      <td>NaN</td>\n",
              "      <td>#CityofCalgary has activated its Municipal Eme...</td>\n",
              "    </tr>\n",
              "  </tbody>\n",
              "</table>\n",
              "<p>3263 rows × 4 columns</p>\n",
              "</div>"
            ],
            "text/plain": [
              "         id keyword location                                               text\n",
              "0         0     NaN      NaN                 Just happened a terrible car crash\n",
              "1         2     NaN      NaN  Heard about #earthquake is different cities, s...\n",
              "2         3     NaN      NaN  there is a forest fire at spot pond, geese are...\n",
              "3         9     NaN      NaN           Apocalypse lighting. #Spokane #wildfires\n",
              "4        11     NaN      NaN      Typhoon Soudelor kills 28 in China and Taiwan\n",
              "...     ...     ...      ...                                                ...\n",
              "3258  10861     NaN      NaN  EARTHQUAKE SAFETY LOS ANGELES ÛÒ SAFETY FASTE...\n",
              "3259  10865     NaN      NaN  Storm in RI worse than last hurricane. My city...\n",
              "3260  10868     NaN      NaN  Green Line derailment in Chicago http://t.co/U...\n",
              "3261  10874     NaN      NaN  MEG issues Hazardous Weather Outlook (HWO) htt...\n",
              "3262  10875     NaN      NaN  #CityofCalgary has activated its Municipal Eme...\n",
              "\n",
              "[3263 rows x 4 columns]"
            ]
          },
          "metadata": {
            "tags": []
          },
          "execution_count": 9
        }
      ]
    },
    {
      "cell_type": "code",
      "metadata": {
        "id": "zdO4QGI0-2wI",
        "colab_type": "code",
        "colab": {}
      },
      "source": [
        "\n",
        "train_data = train_df \n",
        "train_data = train_data.replace(np.nan, '', regex=True)\n",
        "\n",
        "train_data['text'] = train_data['text'] + ' ' + train_data['location'] + ' ' + train_data['keyword']\n",
        "del train_data['keyword']\n",
        "del train_data['location']\n",
        "#train_data.iloc[0]\n",
        "a = train_data.iloc[0][['text']].values\n",
        "#print(a)\n",
        "\n",
        "test_data = test_df \n",
        "test_data = test_data.replace(np.nan, '', regex=True)\n",
        "\n",
        "test_data['text'] = test_data['text'] + ' ' + test_data['location'] + ' ' + test_data['keyword']"
      ],
      "execution_count": 0,
      "outputs": []
    },
    {
      "cell_type": "code",
      "metadata": {
        "id": "J6ICQVcCaCif",
        "colab_type": "code",
        "outputId": "f8c85960-c1de-412f-a224-74a8272e6262",
        "colab": {
          "base_uri": "https://localhost:8080/",
          "height": 419
        }
      },
      "source": [
        "train_data"
      ],
      "execution_count": 11,
      "outputs": [
        {
          "output_type": "execute_result",
          "data": {
            "text/html": [
              "<div>\n",
              "<style scoped>\n",
              "    .dataframe tbody tr th:only-of-type {\n",
              "        vertical-align: middle;\n",
              "    }\n",
              "\n",
              "    .dataframe tbody tr th {\n",
              "        vertical-align: top;\n",
              "    }\n",
              "\n",
              "    .dataframe thead th {\n",
              "        text-align: right;\n",
              "    }\n",
              "</style>\n",
              "<table border=\"1\" class=\"dataframe\">\n",
              "  <thead>\n",
              "    <tr style=\"text-align: right;\">\n",
              "      <th></th>\n",
              "      <th>id</th>\n",
              "      <th>text</th>\n",
              "      <th>target</th>\n",
              "    </tr>\n",
              "  </thead>\n",
              "  <tbody>\n",
              "    <tr>\n",
              "      <th>0</th>\n",
              "      <td>1</td>\n",
              "      <td>Our Deeds are the Reason of this #earthquake M...</td>\n",
              "      <td>1</td>\n",
              "    </tr>\n",
              "    <tr>\n",
              "      <th>1</th>\n",
              "      <td>4</td>\n",
              "      <td>Forest fire near La Ronge Sask. Canada</td>\n",
              "      <td>1</td>\n",
              "    </tr>\n",
              "    <tr>\n",
              "      <th>2</th>\n",
              "      <td>5</td>\n",
              "      <td>All residents asked to 'shelter in place' are ...</td>\n",
              "      <td>1</td>\n",
              "    </tr>\n",
              "    <tr>\n",
              "      <th>3</th>\n",
              "      <td>6</td>\n",
              "      <td>13,000 people receive #wildfires evacuation or...</td>\n",
              "      <td>1</td>\n",
              "    </tr>\n",
              "    <tr>\n",
              "      <th>4</th>\n",
              "      <td>7</td>\n",
              "      <td>Just got sent this photo from Ruby #Alaska as ...</td>\n",
              "      <td>1</td>\n",
              "    </tr>\n",
              "    <tr>\n",
              "      <th>...</th>\n",
              "      <td>...</td>\n",
              "      <td>...</td>\n",
              "      <td>...</td>\n",
              "    </tr>\n",
              "    <tr>\n",
              "      <th>7608</th>\n",
              "      <td>10869</td>\n",
              "      <td>Two giant cranes holding a bridge collapse int...</td>\n",
              "      <td>1</td>\n",
              "    </tr>\n",
              "    <tr>\n",
              "      <th>7609</th>\n",
              "      <td>10870</td>\n",
              "      <td>@aria_ahrary @TheTawniest The out of control w...</td>\n",
              "      <td>1</td>\n",
              "    </tr>\n",
              "    <tr>\n",
              "      <th>7610</th>\n",
              "      <td>10871</td>\n",
              "      <td>M1.94 [01:04 UTC]?5km S of Volcano Hawaii. htt...</td>\n",
              "      <td>1</td>\n",
              "    </tr>\n",
              "    <tr>\n",
              "      <th>7611</th>\n",
              "      <td>10872</td>\n",
              "      <td>Police investigating after an e-bike collided ...</td>\n",
              "      <td>1</td>\n",
              "    </tr>\n",
              "    <tr>\n",
              "      <th>7612</th>\n",
              "      <td>10873</td>\n",
              "      <td>The Latest: More Homes Razed by Northern Calif...</td>\n",
              "      <td>1</td>\n",
              "    </tr>\n",
              "  </tbody>\n",
              "</table>\n",
              "<p>7613 rows × 3 columns</p>\n",
              "</div>"
            ],
            "text/plain": [
              "         id                                               text  target\n",
              "0         1  Our Deeds are the Reason of this #earthquake M...       1\n",
              "1         4           Forest fire near La Ronge Sask. Canada         1\n",
              "2         5  All residents asked to 'shelter in place' are ...       1\n",
              "3         6  13,000 people receive #wildfires evacuation or...       1\n",
              "4         7  Just got sent this photo from Ruby #Alaska as ...       1\n",
              "...     ...                                                ...     ...\n",
              "7608  10869  Two giant cranes holding a bridge collapse int...       1\n",
              "7609  10870  @aria_ahrary @TheTawniest The out of control w...       1\n",
              "7610  10871  M1.94 [01:04 UTC]?5km S of Volcano Hawaii. htt...       1\n",
              "7611  10872  Police investigating after an e-bike collided ...       1\n",
              "7612  10873  The Latest: More Homes Razed by Northern Calif...       1\n",
              "\n",
              "[7613 rows x 3 columns]"
            ]
          },
          "metadata": {
            "tags": []
          },
          "execution_count": 11
        }
      ]
    },
    {
      "cell_type": "code",
      "metadata": {
        "id": "42Glo6qAjCYl",
        "colab_type": "code",
        "outputId": "ba5b3875-4996-4d5f-efab-07b9fbf17b1d",
        "colab": {
          "base_uri": "https://localhost:8080/",
          "height": 102
        }
      },
      "source": [
        "import nltk\n",
        "nltk.download('stopwords')\n",
        "nltk.download('wordnet')"
      ],
      "execution_count": 12,
      "outputs": [
        {
          "output_type": "stream",
          "text": [
            "[nltk_data] Downloading package stopwords to /root/nltk_data...\n",
            "[nltk_data]   Unzipping corpora/stopwords.zip.\n",
            "[nltk_data] Downloading package wordnet to /root/nltk_data...\n",
            "[nltk_data]   Unzipping corpora/wordnet.zip.\n"
          ],
          "name": "stdout"
        },
        {
          "output_type": "execute_result",
          "data": {
            "text/plain": [
              "True"
            ]
          },
          "metadata": {
            "tags": []
          },
          "execution_count": 12
        }
      ]
    },
    {
      "cell_type": "code",
      "metadata": {
        "id": "15_N_-RZhWZ5",
        "colab_type": "code",
        "colab": {}
      },
      "source": [
        "#train_data['tweet'].apply(lambda x: [item for item in x if item not in stop])\n",
        "\n",
        "import nltk\n",
        "import re\n",
        "from nltk.corpus import stopwords\n",
        "stopword = stopwords.words('english')\n",
        "\n",
        "\n",
        "lm = nltk.WordNetLemmatizer()\n",
        "st = nltk.PorterStemmer()\n",
        "\n",
        "class NLP_preprocess:\n",
        "    def tokenize(self, text):\n",
        "        tokens = re.split('\\W+', text)\n",
        "        return tokens\n",
        "\n",
        "    def remove_stopwords(self, tokenized_text):\n",
        "        text = [word for word in tokenized_text if word not in stopword]\n",
        "        return text\n",
        "    \n",
        "    def lemmatizing(self, text):\n",
        "        text = [lm.lemmatize(word) for word in text]\n",
        "        return text\n",
        "    \n",
        "    def stemming(self, text):\n",
        "        text = [st.stem(word) for word in text]\n",
        "        return text\n",
        "\n",
        "    def process_column(self, col):\n",
        "        col = col.apply(lambda x: self.tokenize(x.lower()))\n",
        "        col = col.apply(lambda x: self.remove_stopwords(x))\n",
        "        col = col.apply(lambda x: self.lemmatizing(x))\n",
        "        return col"
      ],
      "execution_count": 0,
      "outputs": []
    },
    {
      "cell_type": "code",
      "metadata": {
        "id": "eCUSmd-pjJD8",
        "colab_type": "code",
        "outputId": "54158310-368c-4eef-fb3b-7498b769cb2d",
        "colab": {
          "base_uri": "https://localhost:8080/",
          "height": 419
        }
      },
      "source": [
        "#Tokenizing the text and removing stop words\n",
        "nlp = NLP_preprocess()\n",
        "\n",
        "train_data['text'] = nlp.process_column(train_data['text'])\n",
        "train_data"
      ],
      "execution_count": 14,
      "outputs": [
        {
          "output_type": "execute_result",
          "data": {
            "text/html": [
              "<div>\n",
              "<style scoped>\n",
              "    .dataframe tbody tr th:only-of-type {\n",
              "        vertical-align: middle;\n",
              "    }\n",
              "\n",
              "    .dataframe tbody tr th {\n",
              "        vertical-align: top;\n",
              "    }\n",
              "\n",
              "    .dataframe thead th {\n",
              "        text-align: right;\n",
              "    }\n",
              "</style>\n",
              "<table border=\"1\" class=\"dataframe\">\n",
              "  <thead>\n",
              "    <tr style=\"text-align: right;\">\n",
              "      <th></th>\n",
              "      <th>id</th>\n",
              "      <th>text</th>\n",
              "      <th>target</th>\n",
              "    </tr>\n",
              "  </thead>\n",
              "  <tbody>\n",
              "    <tr>\n",
              "      <th>0</th>\n",
              "      <td>1</td>\n",
              "      <td>[deed, reason, earthquake, may, allah, forgive...</td>\n",
              "      <td>1</td>\n",
              "    </tr>\n",
              "    <tr>\n",
              "      <th>1</th>\n",
              "      <td>4</td>\n",
              "      <td>[forest, fire, near, la, ronge, sask, canada, ]</td>\n",
              "      <td>1</td>\n",
              "    </tr>\n",
              "    <tr>\n",
              "      <th>2</th>\n",
              "      <td>5</td>\n",
              "      <td>[resident, asked, shelter, place, notified, of...</td>\n",
              "      <td>1</td>\n",
              "    </tr>\n",
              "    <tr>\n",
              "      <th>3</th>\n",
              "      <td>6</td>\n",
              "      <td>[13, 000, people, receive, wildfire, evacuatio...</td>\n",
              "      <td>1</td>\n",
              "    </tr>\n",
              "    <tr>\n",
              "      <th>4</th>\n",
              "      <td>7</td>\n",
              "      <td>[got, sent, photo, ruby, alaska, smoke, wildfi...</td>\n",
              "      <td>1</td>\n",
              "    </tr>\n",
              "    <tr>\n",
              "      <th>...</th>\n",
              "      <td>...</td>\n",
              "      <td>...</td>\n",
              "      <td>...</td>\n",
              "    </tr>\n",
              "    <tr>\n",
              "      <th>7608</th>\n",
              "      <td>10869</td>\n",
              "      <td>[two, giant, crane, holding, bridge, collapse,...</td>\n",
              "      <td>1</td>\n",
              "    </tr>\n",
              "    <tr>\n",
              "      <th>7609</th>\n",
              "      <td>10870</td>\n",
              "      <td>[, aria_ahrary, thetawniest, control, wild, fi...</td>\n",
              "      <td>1</td>\n",
              "    </tr>\n",
              "    <tr>\n",
              "      <th>7610</th>\n",
              "      <td>10871</td>\n",
              "      <td>[m1, 94, 01, 04, utc, 5km, volcano, hawaii, ht...</td>\n",
              "      <td>1</td>\n",
              "    </tr>\n",
              "    <tr>\n",
              "      <th>7611</th>\n",
              "      <td>10872</td>\n",
              "      <td>[police, investigating, e, bike, collided, car...</td>\n",
              "      <td>1</td>\n",
              "    </tr>\n",
              "    <tr>\n",
              "      <th>7612</th>\n",
              "      <td>10873</td>\n",
              "      <td>[latest, home, razed, northern, california, wi...</td>\n",
              "      <td>1</td>\n",
              "    </tr>\n",
              "  </tbody>\n",
              "</table>\n",
              "<p>7613 rows × 3 columns</p>\n",
              "</div>"
            ],
            "text/plain": [
              "         id                                               text  target\n",
              "0         1  [deed, reason, earthquake, may, allah, forgive...       1\n",
              "1         4    [forest, fire, near, la, ronge, sask, canada, ]       1\n",
              "2         5  [resident, asked, shelter, place, notified, of...       1\n",
              "3         6  [13, 000, people, receive, wildfire, evacuatio...       1\n",
              "4         7  [got, sent, photo, ruby, alaska, smoke, wildfi...       1\n",
              "...     ...                                                ...     ...\n",
              "7608  10869  [two, giant, crane, holding, bridge, collapse,...       1\n",
              "7609  10870  [, aria_ahrary, thetawniest, control, wild, fi...       1\n",
              "7610  10871  [m1, 94, 01, 04, utc, 5km, volcano, hawaii, ht...       1\n",
              "7611  10872  [police, investigating, e, bike, collided, car...       1\n",
              "7612  10873  [latest, home, razed, northern, california, wi...       1\n",
              "\n",
              "[7613 rows x 3 columns]"
            ]
          },
          "metadata": {
            "tags": []
          },
          "execution_count": 14
        }
      ]
    },
    {
      "cell_type": "code",
      "metadata": {
        "id": "Ga8F9WinkVf6",
        "colab_type": "code",
        "outputId": "54570353-a2cf-4ebc-ee54-fc236b247f12",
        "colab": {
          "base_uri": "https://localhost:8080/",
          "height": 419
        }
      },
      "source": [
        "from nltk.tokenize.treebank import TreebankWordDetokenizer as detoken\n",
        "\n",
        "#Detokenizing the token back to text\n",
        "#TreebankWordDetokenizer().detokenize(train_data.iloc[0]['text'])\n",
        "\n",
        "train_data['text'] = train_data['text'].apply(lambda x: detoken().detokenize(x))\n",
        "train_data"
      ],
      "execution_count": 15,
      "outputs": [
        {
          "output_type": "execute_result",
          "data": {
            "text/html": [
              "<div>\n",
              "<style scoped>\n",
              "    .dataframe tbody tr th:only-of-type {\n",
              "        vertical-align: middle;\n",
              "    }\n",
              "\n",
              "    .dataframe tbody tr th {\n",
              "        vertical-align: top;\n",
              "    }\n",
              "\n",
              "    .dataframe thead th {\n",
              "        text-align: right;\n",
              "    }\n",
              "</style>\n",
              "<table border=\"1\" class=\"dataframe\">\n",
              "  <thead>\n",
              "    <tr style=\"text-align: right;\">\n",
              "      <th></th>\n",
              "      <th>id</th>\n",
              "      <th>text</th>\n",
              "      <th>target</th>\n",
              "    </tr>\n",
              "  </thead>\n",
              "  <tbody>\n",
              "    <tr>\n",
              "      <th>0</th>\n",
              "      <td>1</td>\n",
              "      <td>deed reason earthquake may allah forgive u</td>\n",
              "      <td>1</td>\n",
              "    </tr>\n",
              "    <tr>\n",
              "      <th>1</th>\n",
              "      <td>4</td>\n",
              "      <td>forest fire near la ronge sask canada</td>\n",
              "      <td>1</td>\n",
              "    </tr>\n",
              "    <tr>\n",
              "      <th>2</th>\n",
              "      <td>5</td>\n",
              "      <td>resident asked shelter place notified officer ...</td>\n",
              "      <td>1</td>\n",
              "    </tr>\n",
              "    <tr>\n",
              "      <th>3</th>\n",
              "      <td>6</td>\n",
              "      <td>13 000 people receive wildfire evacuation orde...</td>\n",
              "      <td>1</td>\n",
              "    </tr>\n",
              "    <tr>\n",
              "      <th>4</th>\n",
              "      <td>7</td>\n",
              "      <td>got sent photo ruby alaska smoke wildfire pour...</td>\n",
              "      <td>1</td>\n",
              "    </tr>\n",
              "    <tr>\n",
              "      <th>...</th>\n",
              "      <td>...</td>\n",
              "      <td>...</td>\n",
              "      <td>...</td>\n",
              "    </tr>\n",
              "    <tr>\n",
              "      <th>7608</th>\n",
              "      <td>10869</td>\n",
              "      <td>two giant crane holding bridge collapse nearby...</td>\n",
              "      <td>1</td>\n",
              "    </tr>\n",
              "    <tr>\n",
              "      <th>7609</th>\n",
              "      <td>10870</td>\n",
              "      <td>aria_ahrary thetawniest control wild fire cali...</td>\n",
              "      <td>1</td>\n",
              "    </tr>\n",
              "    <tr>\n",
              "      <th>7610</th>\n",
              "      <td>10871</td>\n",
              "      <td>m1 94 01 04 utc 5km volcano hawaii http co zdt...</td>\n",
              "      <td>1</td>\n",
              "    </tr>\n",
              "    <tr>\n",
              "      <th>7611</th>\n",
              "      <td>10872</td>\n",
              "      <td>police investigating e bike collided car littl...</td>\n",
              "      <td>1</td>\n",
              "    </tr>\n",
              "    <tr>\n",
              "      <th>7612</th>\n",
              "      <td>10873</td>\n",
              "      <td>latest home razed northern california wildfire...</td>\n",
              "      <td>1</td>\n",
              "    </tr>\n",
              "  </tbody>\n",
              "</table>\n",
              "<p>7613 rows × 3 columns</p>\n",
              "</div>"
            ],
            "text/plain": [
              "         id                                               text  target\n",
              "0         1         deed reason earthquake may allah forgive u       1\n",
              "1         4              forest fire near la ronge sask canada       1\n",
              "2         5  resident asked shelter place notified officer ...       1\n",
              "3         6  13 000 people receive wildfire evacuation orde...       1\n",
              "4         7  got sent photo ruby alaska smoke wildfire pour...       1\n",
              "...     ...                                                ...     ...\n",
              "7608  10869  two giant crane holding bridge collapse nearby...       1\n",
              "7609  10870  aria_ahrary thetawniest control wild fire cali...       1\n",
              "7610  10871  m1 94 01 04 utc 5km volcano hawaii http co zdt...       1\n",
              "7611  10872  police investigating e bike collided car littl...       1\n",
              "7612  10873  latest home razed northern california wildfire...       1\n",
              "\n",
              "[7613 rows x 3 columns]"
            ]
          },
          "metadata": {
            "tags": []
          },
          "execution_count": 15
        }
      ]
    },
    {
      "cell_type": "code",
      "metadata": {
        "id": "DZUGRreBG2wO",
        "colab_type": "code",
        "colab": {}
      },
      "source": [
        "## some config values \n",
        "embed_size = 300 # how big is each word vector\n",
        "max_features = 95000 # how many unique words to use (i.e num rows in embedding vector)\n",
        "maxlen = 70 # max number of words in a question to use\n",
        "\n",
        "## ValueError: Layer weight shape (95000, 300) not compatible with provided weight shape (24568, 300)\n",
        "max_features = 24568\n",
        "max_features = 13308"
      ],
      "execution_count": 0,
      "outputs": []
    },
    {
      "cell_type": "code",
      "metadata": {
        "id": "ssbu37QyzLDC",
        "colab_type": "code",
        "outputId": "3d279aa4-5bb3-45e3-d313-acf51b54a295",
        "colab": {
          "base_uri": "https://localhost:8080/",
          "height": 34
        }
      },
      "source": [
        "maxlen = max([len(data) for data in train_data['text'].values])   ##maximum number of words in column text\n",
        "print(maxlen)    ##195"
      ],
      "execution_count": 17,
      "outputs": [
        {
          "output_type": "stream",
          "text": [
            "180\n"
          ],
          "name": "stdout"
        }
      ]
    },
    {
      "cell_type": "code",
      "metadata": {
        "id": "vy5xgengh6Pt",
        "colab_type": "code",
        "colab": {}
      },
      "source": [
        "## split to train and val\n",
        "train_data, val_data = train_test_split(train_data, test_size=0.15, random_state=2018)\n",
        "train_data, traintest_data = train_test_split(train_data, test_size=0.15, random_state=2019) \n",
        " "
      ],
      "execution_count": 0,
      "outputs": []
    },
    {
      "cell_type": "code",
      "metadata": {
        "id": "i22Aip0dlq7m",
        "colab_type": "code",
        "outputId": "168c00dc-5a45-46b9-8fa7-485b46b98860",
        "colab": {
          "base_uri": "https://localhost:8080/",
          "height": 419
        }
      },
      "source": [
        "train_data"
      ],
      "execution_count": 19,
      "outputs": [
        {
          "output_type": "execute_result",
          "data": {
            "text/html": [
              "<div>\n",
              "<style scoped>\n",
              "    .dataframe tbody tr th:only-of-type {\n",
              "        vertical-align: middle;\n",
              "    }\n",
              "\n",
              "    .dataframe tbody tr th {\n",
              "        vertical-align: top;\n",
              "    }\n",
              "\n",
              "    .dataframe thead th {\n",
              "        text-align: right;\n",
              "    }\n",
              "</style>\n",
              "<table border=\"1\" class=\"dataframe\">\n",
              "  <thead>\n",
              "    <tr style=\"text-align: right;\">\n",
              "      <th></th>\n",
              "      <th>id</th>\n",
              "      <th>text</th>\n",
              "      <th>target</th>\n",
              "    </tr>\n",
              "  </thead>\n",
              "  <tbody>\n",
              "    <tr>\n",
              "      <th>4345</th>\n",
              "      <td>6170</td>\n",
              "      <td>latestnews tension bayelsa patience jonathan p...</td>\n",
              "      <td>1</td>\n",
              "    </tr>\n",
              "    <tr>\n",
              "      <th>5917</th>\n",
              "      <td>8448</td>\n",
              "      <td>godof_mischief_ loki dagger pulled jammed mina...</td>\n",
              "      <td>1</td>\n",
              "    </tr>\n",
              "    <tr>\n",
              "      <th>6636</th>\n",
              "      <td>9503</td>\n",
              "      <td>terrorist tried get car shot http co vsoxkbt6n...</td>\n",
              "      <td>1</td>\n",
              "    </tr>\n",
              "    <tr>\n",
              "      <th>4277</th>\n",
              "      <td>6075</td>\n",
              "      <td>greatbritishbakeoff love know nice weather hap...</td>\n",
              "      <td>0</td>\n",
              "    </tr>\n",
              "    <tr>\n",
              "      <th>2636</th>\n",
              "      <td>3780</td>\n",
              "      <td>day 1998 appetite destruction go 1 billboard a...</td>\n",
              "      <td>0</td>\n",
              "    </tr>\n",
              "    <tr>\n",
              "      <th>...</th>\n",
              "      <td>...</td>\n",
              "      <td>...</td>\n",
              "      <td>...</td>\n",
              "    </tr>\n",
              "    <tr>\n",
              "      <th>7126</th>\n",
              "      <td>10208</td>\n",
              "      <td>jetstar virgin forced cancel bali flight ash m...</td>\n",
              "      <td>1</td>\n",
              "    </tr>\n",
              "    <tr>\n",
              "      <th>5847</th>\n",
              "      <td>8355</td>\n",
              "      <td>understand wanting hang guy friend give space ...</td>\n",
              "      <td>0</td>\n",
              "    </tr>\n",
              "    <tr>\n",
              "      <th>6138</th>\n",
              "      <td>8757</td>\n",
              "      <td>nowplaying song siren john frusciante 2009 htt...</td>\n",
              "      <td>0</td>\n",
              "    </tr>\n",
              "    <tr>\n",
              "      <th>6876</th>\n",
              "      <td>9859</td>\n",
              "      <td>back ireland v sad traumatised freezing beauti...</td>\n",
              "      <td>0</td>\n",
              "    </tr>\n",
              "    <tr>\n",
              "      <th>7321</th>\n",
              "      <td>10481</td>\n",
              "      <td>wild land fire come wild 20fires</td>\n",
              "      <td>1</td>\n",
              "    </tr>\n",
              "  </tbody>\n",
              "</table>\n",
              "<p>5500 rows × 3 columns</p>\n",
              "</div>"
            ],
            "text/plain": [
              "         id                                               text  target\n",
              "4345   6170  latestnews tension bayelsa patience jonathan p...       1\n",
              "5917   8448  godof_mischief_ loki dagger pulled jammed mina...       1\n",
              "6636   9503  terrorist tried get car shot http co vsoxkbt6n...       1\n",
              "4277   6075  greatbritishbakeoff love know nice weather hap...       0\n",
              "2636   3780  day 1998 appetite destruction go 1 billboard a...       0\n",
              "...     ...                                                ...     ...\n",
              "7126  10208  jetstar virgin forced cancel bali flight ash m...       1\n",
              "5847   8355  understand wanting hang guy friend give space ...       0\n",
              "6138   8757  nowplaying song siren john frusciante 2009 htt...       0\n",
              "6876   9859  back ireland v sad traumatised freezing beauti...       0\n",
              "7321  10481                   wild land fire come wild 20fires       1\n",
              "\n",
              "[5500 rows x 3 columns]"
            ]
          },
          "metadata": {
            "tags": []
          },
          "execution_count": 19
        }
      ]
    },
    {
      "cell_type": "code",
      "metadata": {
        "id": "vG04ltuEh7pK",
        "colab_type": "code",
        "outputId": "3c45a5d2-3907-41c9-a6a5-7e83355deb8b",
        "colab": {
          "base_uri": "https://localhost:8080/",
          "height": 51
        }
      },
      "source": [
        "print(type(train_data))\n",
        "print(train_data.shape)\n",
        "train_data = train_data.sample(frac=1)"
      ],
      "execution_count": 20,
      "outputs": [
        {
          "output_type": "stream",
          "text": [
            "<class 'pandas.core.frame.DataFrame'>\n",
            "(5500, 3)\n"
          ],
          "name": "stdout"
        }
      ]
    },
    {
      "cell_type": "code",
      "metadata": {
        "id": "nQzODs9pmI_6",
        "colab_type": "code",
        "outputId": "6b2a589d-c40b-4aca-e0a9-e1c283c05547",
        "colab": {
          "base_uri": "https://localhost:8080/",
          "height": 255
        }
      },
      "source": [
        "print(train_data)"
      ],
      "execution_count": 21,
      "outputs": [
        {
          "output_type": "stream",
          "text": [
            "         id                                               text  target\n",
            "5716   8158  video picking body water rescuer searching hun...       1\n",
            "3120   4480  also iphone charger broken electrocuted newcas...       0\n",
            "2288   3283  read already 14 remains one favorite article e...       0\n",
            "5411   7722   panicking made tired __ want sleep bed panicking       1\n",
            "6290   8986  last two weather pic storm august 2nd people p...       1\n",
            "...     ...                                                ...     ...\n",
            "5320   7595       tube strike absolute pandemonium pandemonium       0\n",
            "2429   3490  joelsherman1 dw way better career chipper dera...       0\n",
            "859    1241  setzorah dad dont claim mean right look eye bl...       0\n",
            "7597  10852  mh370 aircraft debris found la reunion missing...       1\n",
            "3752   5331  politifiact harry reid 30 percent woman served...       0\n",
            "\n",
            "[5500 rows x 3 columns]\n"
          ],
          "name": "stdout"
        }
      ]
    },
    {
      "cell_type": "code",
      "metadata": {
        "id": "I1qYqDJLiV3_",
        "colab_type": "code",
        "colab": {}
      },
      "source": [
        "train_data = train_data.sample(frac=1)\n",
        "train_data = pd.concat([train_data, train_data.iloc[0:200]]) \n",
        "train_data = train_data.sample(frac=1)\n",
        "train_data = pd.concat([train_data, train_data.iloc[0:200]]) \n",
        "train_data = train_data.sample(frac=1)\n",
        "train_data = pd.concat([train_data, train_data.iloc[0:200]]) \n",
        "train_data = train_data.sample(frac=1)\n",
        "train_data = pd.concat([train_data, train_data.iloc[0:200]]) \n",
        "train_data = train_data.sample(frac=1)\n",
        "train_data = pd.concat([train_data, train_data.iloc[0:200]]) \n",
        "train_data = train_data.sample(frac=1)\n",
        "train_data = pd.concat([train_data, train_data.iloc[0:200]]) "
      ],
      "execution_count": 0,
      "outputs": []
    },
    {
      "cell_type": "code",
      "metadata": {
        "id": "_n-yKKr6l6yO",
        "colab_type": "code",
        "outputId": "5833b12d-077d-45ad-be35-9d651cbf00c5",
        "colab": {
          "base_uri": "https://localhost:8080/",
          "height": 255
        }
      },
      "source": [
        "print(train_data)"
      ],
      "execution_count": 23,
      "outputs": [
        {
          "output_type": "stream",
          "text": [
            "        id                                               text  target\n",
            "4335  6156  criminal hijack lorry bus arrested enugu accor...       1\n",
            "6407  9159  17 killed ûªarabia mosque suicide bombing suic...       1\n",
            "6943  9958                              feel lucky rn tsunami       0\n",
            "3764  5346  fire catalinas look kinda cool picture justice...       1\n",
            "1219  1757  zourryart forgot add burning building screamin...       1\n",
            "...    ...                                                ...     ...\n",
            "2882  4142  happily support mydrought project bringing awa...       1\n",
            "6314  9026               put stretcher want see dmv stretcher       0\n",
            "2539  3643    np agalloch desolation song istanbul desolation       0\n",
            "1555  2245  laevantine fortunately reworked plumbing emerg...       0\n",
            "331    478  erker eep thought yesterday saw hella scary ha...       1\n",
            "\n",
            "[6700 rows x 3 columns]\n"
          ],
          "name": "stdout"
        }
      ]
    },
    {
      "cell_type": "code",
      "metadata": {
        "id": "8VFeF7_YbCpF",
        "colab_type": "code",
        "colab": {}
      },
      "source": [
        "\n",
        "## fill up the missing values\n",
        "train_X = train_data['text'].values\n",
        "val_X = val_data['text'].values\n",
        "test_X = test_data['text'].values\n",
        "traintest_X = traintest_data['text'].values\n",
        "\n",
        "## Tokenize the sentences\n",
        "tokenizer = Tokenizer(num_words=max_features)\n",
        "tokenizer.fit_on_texts(list(train_X))\n",
        "train_X = tokenizer.texts_to_sequences(train_X)\n",
        "val_X = tokenizer.texts_to_sequences(val_X)\n",
        "test_X = tokenizer.texts_to_sequences(test_X)\n",
        "traintest_X = tokenizer.texts_to_sequences(traintest_X)\n",
        "\n",
        "## Pad the sentences \n",
        "train_X = pad_sequences(train_X, maxlen=maxlen)\n",
        "val_X = pad_sequences(val_X, maxlen=maxlen)\n",
        "test_X = pad_sequences(test_X, maxlen=maxlen)\n",
        "traintest_X = pad_sequences(traintest_X, maxlen=maxlen)\n",
        "\n",
        "## Get the target values\n",
        "train_y = train_data['target'].values   #train_y is an array i.e. array([1, 0, 1, ..., 1, 1, 1])\n",
        "val_y = val_data['target'].values\n",
        "traintest_y = traintest_data['target'].values  \n",
        "    \n",
        "#shuffling the data\n",
        "np.random.seed(2021)\n",
        "trn_idx = np.random.permutation(len(train_X))\n",
        "val_idx = np.random.permutation(len(val_X))\n",
        "trntst_idx = np.random.permutation(len(traintest_X))\n",
        "\n",
        "train_X = train_X[trn_idx]  #train_X is an array i,e. array([1653, 2280, 1170, ..., 6370, 2662, 1274])\n",
        "val_X = val_X[val_idx]\n",
        "train_y = train_y[trn_idx]\n",
        "val_y = val_y[val_idx]    \n",
        "traintest_X = traintest_X[trntst_idx] \n",
        "traintest_y = traintest_y[trntst_idx]"
      ],
      "execution_count": 0,
      "outputs": []
    },
    {
      "cell_type": "code",
      "metadata": {
        "id": "14j557hyigcA",
        "colab_type": "code",
        "outputId": "cae5dd44-1cf0-420f-9973-8ed37a7c5bea",
        "colab": {
          "base_uri": "https://localhost:8080/",
          "height": 54
        }
      },
      "source": [
        "word_index = tokenizer.word_index\n",
        "print(word_index)"
      ],
      "execution_count": 25,
      "outputs": [
        {
          "output_type": "stream",
          "text": [
            "{'co': 1, 'http': 2, 'û': 3, 'new': 4, 'fire': 5, 'like': 6, 'amp': 7, 'u': 8, 'body': 9, 'emergency': 10, 'usa': 11, 'get': 12, '2': 13, 'building': 14, 'via': 15, 'burning': 16, 'california': 17, 'one': 18, 'nuclear': 19, 'people': 20, 'police': 21, 'disaster': 22, 'news': 23, 'suicide': 24, 'city': 25, 'death': 26, 'ca': 27, 'video': 28, 'storm': 29, 'flood': 30, 'world': 31, 'york': 32, 'day': 33, 'hostage': 34, 'time': 35, 'year': 36, 'state': 37, 'bomb': 38, 'weapon': 39, 'attack': 40, 'injury': 41, 'fatality': 42, 'back': 43, '3': 44, 'would': 45, 'crash': 46, 'home': 47, 'collapse': 48, 'family': 49, 'still': 50, 'mass': 51, 'first': 52, '1': 53, 'siren': 54, 'go': 55, 'london': 56, 'say': 57, 'got': 58, 'know': 59, 'life': 60, 'gt': 61, 'dead': 62, 'wildfire': 63, 'forest': 64, '5': 65, 'casualty': 66, 'uk': 67, 'see': 68, 'man': 69, 'accident': 70, 'united': 71, '4': 72, 'look': 73, 'earthquake': 74, 'let': 75, 'rt': 76, 'bombing': 77, 'love': 78, 'car': 79, 'bag': 80, 'train': 81, 'two': 82, 'flooding': 83, 'today': 84, 'make': 85, 'going': 86, 'youtube': 87, 'want': 88, 'injured': 89, 'think': 90, 'war': 91, 'killed': 92, 'wreck': 93, 'flame': 94, 'sinking': 95, 'need': 96, 'woman': 97, 'ny': 98, 'bloody': 99, 'damage': 100, 'debris': 101, 'oil': 102, 'way': 103, 'twister': 104, 'could': 105, 'hiroshima': 106, 'fear': 107, 'canada': 108, 'fatal': 109, 'whirlwind': 110, 'armageddon': 111, 'washington': 112, 'evacuate': 113, 'harm': 114, 'south': 115, 'army': 116, '20fires': 117, 'old': 118, 'detonate': 119, 'windstorm': 120, 'thunderstorm': 121, 'wild': 122, 'good': 123, 'bombed': 124, 'typhoon': 125, 'hurricane': 126, '2015': 127, 'take': 128, 'wounded': 129, 'bridge': 130, 'outbreak': 131, 'hijack': 132, 'screaming': 133, 'may': 134, 'last': 135, 'even': 136, 'evacuated': 137, 'famine': 138, 'full': 139, 'lightning': 140, 'derailment': 141, 'hazardous': 142, 'australia': 143, 'trapped': 144, 'god': 145, 'come': 146, 'destroyed': 147, 'japan': 148, 'wreckage': 149, 'explosion': 150, 'curfew': 151, 'obliterated': 152, 'traumatised': 153, 'plan': 154, 'help': 155, 'sinkhole': 156, 'right': 157, 'chemical': 158, 'san': 159, 'india': 160, 'massacre': 161, 'destroy': 162, 'terrorist': 163, 'watch': 164, 'dust': 165, 'please': 166, 'school': 167, '8': 168, 'area': 169, 'wrecked': 170, 'bleeding': 171, 'annihilated': 172, 'ûªs': 173, 'hail': 174, 'natural': 175, 'evacuation': 176, 'catastrophe': 177, 'drown': 178, 'work': 179, 'crush': 180, 'cliff': 181, 'razed': 182, 'snowstorm': 183, 'hazard': 184, 'tsunami': 185, 'ruin': 186, 'ambulance': 187, 'survive': 188, 'mudslide': 189, 'lol': 190, 'danger': 191, 'thunder': 192, 'w': 193, 'england': 194, 'service': 195, 'drowning': 196, 'terrorism': 197, 'best': 198, 'deluge': 199, 'blown': 200, 'refugee': 201, 'tornado': 202, 'many': 203, 'demolish': 204, 'cyclone': 205, 'thing': 206, 'mh370': 207, 'heat': 208, 'smoke': 209, 'county': 210, 'panic': 211, 'crashed': 212, 'electrocute': 213, 'quarantined': 214, 'panicking': 215, '9': 216, 'st': 217, 'rescued': 218, 'lava': 219, '20storm': 220, 'pm': 221, 'much': 222, 'scream': 223, 'hijacker': 224, 'military': 225, 'trauma': 226, 'photo': 227, 'engulfed': 228, 'loud': 229, 'violent': 230, '20disaster': 231, 'devastation': 232, 'blizzard': 233, 'really': 234, 'crushed': 235, 'blood': 236, 'collide': 237, 'north': 238, 'collision': 239, 'malaysia': 240, 'survivor': 241, 'change': 242, 'landslide': 243, 'rainstorm': 244, 'said': 245, 'cause': 246, 'blazing': 247, 'house': 248, 'collided': 249, 'flattened': 250, 'texas': 251, 'burned': 252, 'northern': 253, 'never': 254, 'kill': 255, 'survived': 256, 'displaced': 257, 'desolation': 258, 'c': 259, 'stop': 260, 'bioterror': 261, 'everyone': 262, 'electrocuted': 263, 'volcano': 264, 'destruction': 265, 'derailed': 266, 'derail': 267, 'pandemonium': 268, 'avalanche': 269, 'rioting': 270, 'im': 271, 'another': 272, 'los': 273, 'hit': 274, 'earth': 275, 'seismic': 276, '6': 277, 'drought': 278, 'hellfire': 279, 'wound': 280, 'call': 281, 'demolition': 282, 'top': 283, 'eyewitness': 284, 'bioterrorism': 285, 'atomic': 286, 'drowned': 287, 'legionnaire': 288, 'riot': 289, 'tx': 290, 'ok': 291, 'devastated': 292, 'angeles': 293, 'stretcher': 294, '10': 295, '20up': 296, 'near': 297, 'live': 298, 'cross': 299, 'great': 300, 'hope': 301, 'la': 302, 'coming': 303, 'catastrophic': 304, 'rescuer': 305, 'mayhem': 306, 'screamed': 307, 'feel': 308, 'demolished': 309, 'explode': 310, 'fall': 311, 'black': 312, 'show': 313, 'latest': 314, 'arson': 315, 'wind': 316, 'desolate': 317, 'found': 318, 'land': 319, 'arsonist': 320, 'fl': 321, 'sandstorm': 322, 'ever': 323, 'inundated': 324, 'check': 325, 'girl': 326, 'guy': 327, 'aftershock': 328, 'hot': 329, 'bush': 330, 'west': 331, 'chicago': 332, 'annihilation': 333, 'oh': 334, 'obliteration': 335, 'attacked': 336, 'worldwide': 337, 'keep': 338, 'airplane': 339, 'update': 340, 'truck': 341, 'water': 342, 'food': 343, '15': 344, 'b': 345, 'nigeria': 346, 'trouble': 347, 'reddit': 348, 'sunk': 349, 'bomber': 350, 'structural': 351, 'island': 352, 'rubble': 353, 'since': 354, 'little': 355, 'end': 356, 'dc': 357, 'obliterate': 358, 'china': 359, 'official': 360, 'every': 361, 'well': 362, 'sound': 363, 'made': 364, 'exploded': 365, 'apocalypse': 366, 'blaze': 367, 'collapsed': 368, 'nc': 369, 'p': 370, 'kid': 371, 'also': 372, '0': 373, 'night': 374, 'weather': 375, 'quarantine': 376, 'rescue': 377, 'read': 378, 'blew': 379, 'ablaze': 380, 'always': 381, 'warning': 382, 'as': 383, 'face': 384, 'story': 385, 'shit': 386, 'movie': 387, 'run': 388, 'eye': 389, 'around': 390, 'road': 391, 'game': 392, 'without': 393, '20bags': 394, 'big': 395, 'pa': 396, 'detonation': 397, 'getting': 398, 'upheaval': 399, 'report': 400, 'part': 401, '7': 402, 'obama': 403, 'week': 404, 'calgary': 405, 'hailstorm': 406, 'blight': 407, '20fire': 408, 'save': 409, 'post': 410, 'battle': 411, 'fucking': 412, 'wave': 413, 'content': 414, 'severe': 415, 'head': 416, 'bus': 417, 'spill': 418, 'job': 419, 'tragedy': 420, 'fuck': 421, '11': 422, 'mumbai': 423, 'bc': 424, 'bad': 425, 'meltdown': 426, 'child': 427, 'deluged': 428, 'rain': 429, 'boy': 430, 'twitter': 431, 'summer': 432, '08': 433, 'set': 434, 'next': 435, 'florida': 436, '20emergency': 437, '70': 438, 'n': 439, 'tomorrow': 440, 'hell': 441, '18': 442, 'high': 443, 'nyc': 444, 'missing': 445, 'free': 446, 'america': 447, '05': 448, 'red': 449, 'il': 450, 'place': 451, 'confirmed': 452, 'phone': 453, 'light': 454, 'real': 455, 'ûª': 456, 'long': 457, 'jersey': 458, '20reactor': 459, 'music': 460, 'tonight': 461, 'someone': 462, 'de': 463, 'sign': 464, 'half': 465, 'va': 466, 'market': 467, 'beach': 468, 'wanna': 469, 'fight': 470, 'iran': 471, 'r': 472, 'liked': 473, 'minute': 474, 'national': 475, 'toronto': 476, '20bag': 477, 'oklahoma': 478, 'word': 479, 'pakistan': 480, 'heart': 481, 'hijacking': 482, 'breaking': 483, '20buildings': 484, 'gonna': 485, 'hour': 486, 'officer': 487, 'away': 488, 'air': 489, 'lot': 490, 'came': 491, '20truck': 492, 'e': 493, 'power': 494, 'colorado': 495, '20fall': 496, 'ûò': 497, 'murder': 498, '40': 499, 'baby': 500, '20burning': 501, 'shoulder': 502, '20spill': 503, 'issue': 504, 'global': 505, 'thought': 506, 'east': 507, 'put': 508, '00': 509, 'soon': 510, 'everywhere': 511, 'order': 512, 'river': 513, 'second': 514, 'lt': 515, 'saudi': 516, 'failure': 517, 'blast': 518, '20collapse': 519, 'fan': 520, 'kingdom': 521, 'ga': 522, 'business': 523, 'oregon': 524, 'lake': 525, 'least': 526, 'fukushima': 527, 'anniversary': 528, 'suspect': 529, 'released': 530, 'tv': 531, 'hundred': 532, 'person': 533, 'play': 534, 'street': 535, '30': 536, 'american': 537, 'v': 538, 'peace': 539, '20plan': 540, 'town': 541, 'kenya': 542, 'stock': 543, 'brown': 544, '20services': 545, 'zone': 546, 'possible': 547, 'francisco': 548, 'philippine': 549, 'lady': 550, 'stand': 551, 'something': 552, 'investigator': 553, 'book': 554, 'due': 555, 'better': 556, 'effect': 557, 'left': 558, 'medium': 559, 'mosque': 560, 'georgia': 561, 'somewhere': 562, 'fedex': 563, 'money': 564, 'murderer': 565, 'thank': 566, 'boston': 567, 'bagging': 568, '20bagging': 569, 'nothing': 570, 'nowplaying': 571, 'shot': 572, 'africa': 573, 'denver': 574, 'shooting': 575, 'bang': 576, 'atlanta': 577, 'past': 578, 'pic': 579, 'support': 580, 'gun': 581, 'country': 582, 'song': 583, 'migrant': 584, 'start': 585, 'ship': 586, 'affected': 587, 'tell': 588, 'traffic': 589, 'british': 590, 'horrible': 591, 'responder': 592, 'reunion': 593, 'phoenix': 594, 'reason': 595, 'ireland': 596, '20murderer': 597, 'making': 598, 'believe': 599, '01': 600, 'rock': 601, 'whole': 602, 'class': 603, 'okay': 604, 'august': 605, 'reactor': 606, 'government': 607, 'friend': 608, 'rise': 609, 'charged': 610, 'seattle': 611, 'three': 612, 'stay': 613, '20murder': 614, 'airport': 615, 'dog': 616, 'team': 617, 'white': 618, 'saw': 619, 'move': 620, '20bomb': 621, '20bang': 622, 'thanks': 623, 'aircraft': 624, 'park': 625, 'used': 626, 'star': 627, 'leave': 628, '50': 629, 'heard': 630, 'ûªt': 631, 'ûó': 632, '20': 633, 'care': 634, 'inside': 635, 'site': 636, 'x': 637, 'lab': 638, '20wave': 639, 'policy': 640, 'bar': 641, 'abc': 642, 'self': 643, 'boat': 644, '20bomber': 645, 'manchester': 646, 'longer': 647, 'find': 648, 'ebay': 649, 'isi': 650, 'trying': 651, 'crew': 652, 'problem': 653, 'die': 654, 'nj': 655, 'else': 656, 'anyone': 657, 'went': 658, 'deal': 659, 'memory': 660, 'sea': 661, 'group': 662, 'link': 663, 'died': 664, 'online': 665, 'az': 666, 'sue': 667, '20responders': 668, '20on': 669, 'helicopter': 670, '20accident': 671, 'indonesia': 672, 'win': 673, 'image': 674, 'dallas': 675, 'instead': 676, '06': 677, 'nigga': 678, 'ontario': 679, 'hand': 680, 'ago': 681, 'sure': 682, 'lost': 683, 'use': 684, 'sydney': 685, 'history': 686, 'tn': 687, 'plane': 688, 'watching': 689, 'already': 690, 'closed': 691, 'far': 692, 'aug': 693, 'ur': 694, 'security': 695, 'wait': 696, 'alarm': 697, '20failure': 698, 'level': 699, 'try': 700, 'yet': 701, 'soudelor': 702, 'listen': 703, 'miami': 704, 'literally': 705, 'center': 706, 'outside': 707, 'mo': 708, 'month': 709, 'hollywood': 710, 'thousand': 711, 'actually': 712, 'mean': 713, 'maybe': 714, 'remember': 715, 'israeli': 716, 'wa': 717, 'brother': 718, 'done': 719, 'threat': 720, 'human': 721, 'probably': 722, '12': 723, 'handbag': 724, '17': 725, 'cool': 726, 'central': 727, 'feared': 728, 'everything': 729, 'bigger': 730, 'islam': 731, 'mp': 732, 'might': 733, 'give': 734, 'secret': 735, 'answer': 736, 'fort': 737, 'myanmar': 738, 'ave': 739, '16': 740, 'share': 741, 'hate': 742, 'finally': 743, 'firefighter': 744, 'must': 745, 'ûï': 746, 'spring': 747, 'talk': 748, 'moment': 749, 'feeling': 750, 'worst': 751, 'transport': 752, 'point': 753, 'turn': 754, 'haha': 755, 'mark': 756, 'hawaii': 757, 'vehicle': 758, 'art': 759, 'health': 760, 'coast': 761, 'spot': 762, 'hero': 763, 'claim': 764, 'mad': 765, 'amid': 766, 'village': 767, 'pkk': 768, 'detonated': 769, 'conclusively': 770, 'md': 771, 'follow': 772, '20bombing': 773, 'case': 774, 'wake': 775, 'reuters': 776, 'blue': 777, 'western': 778, 'fun': 779, 'scotland': 780, 'projected': 781, 'f': 782, 'line': 783, 'cake': 784, 'men': 785, 'fast': 786, 'portland': 787, 'ball': 788, '60': 789, 'almost': 790, 'lord': 791, 'send': 792, 'prebreak': 793, 'seek': 794, 'action': 795, 'beautiful': 796, 'crisis': 797, 'horse': 798, 'brooklyn': 799, 'turkey': 800, 'houston': 801, 'inundation': 802, 'million': 803, 'yes': 804, 'hey': 805, 'happened': 806, 'crazy': 807, 'anything': 808, 'bay': 809, 'caused': 810, 'sorry': 811, 'cover': 812, 'cnn': 813, 'seen': 814, 'horror': 815, 'called': 816, 'front': 817, 'victoria': 818, 'youth': 819, 'control': 820, 'nearby': 821, 'rule': 822, 'strike': 823, '16yr': 824, 'hear': 825, 'low': 826, 'com': 827, 'pick': 828, 'militant': 829, 'mi': 830, 'omg': 831, 'space': 832, 'dont': 833, 'epicentre': 834, 'yeah': 835, '25': 836, 'scared': 837, 'tree': 838, 'france': 839, 'king': 840, 'refugio': 841, 'costlier': 842, 'side': 843, 'lie': 844, 'view': 845, 'taken': 846, 'foot': 847, 'public': 848, 'wonder': 849, 'rd': 850, 'entire': 851, 'issued': 852, 'alabama': 853, 'computer': 854, 'reported': 855, 'climate': 856, 'miner': 857, 'å': 858, 'morning': 859, 'russian': 860, 'union': 861, 'looking': 862, 'though': 863, 'germany': 864, 'damn': 865, 'bayelsa': 866, 'learn': 867, 'alberta': 868, 'indiana': 869, 'tweet': 870, 'former': 871, 'driver': 872, 'daily': 873, 'hill': 874, 'others': 875, 'vancouver': 876, 'company': 877, 'open': 878, 'planet': 879, 'israel': 880, 'heavy': 881, 'dream': 882, 'pay': 883, 'queen': 884, 'christian': 885, 'mom': 886, 'track': 887, 'radio': 888, 'question': 889, 'cloud': 890, 'shift': 891, 'large': 892, 'playing': 893, 'added': 894, 'driving': 895, 'airline': 896, 'nw': 897, 'strong': 898, 'flag': 899, 'worry': 900, 'bring': 901, 'chile': 902, 'centre': 903, '24': 904, 'falling': 905, 'outrage': 906, 'property': 907, 'break': 908, 'across': 909, 'leather': 910, 'pilot': 911, 'following': 912, 'idea': 913, 'vega': 914, 'louis': 915, 'happy': 916, 'swallowed': 917, 'matter': 918, 'valley': 919, 'drive': 920, 'columbia': 921, 'k': 922, 'sex': 923, 'name': 924, 'dad': 925, 'pain': 926, 'mountain': 927, 'el': 928, 'disea': 929, 'escape': 930, 'flight': 931, 'expert': 932, 'buy': 933, 'feat': 934, 'dance': 935, 'wale': 936, 'hard': 937, 'meek': 938, 'drake': 939, 'fashion': 940, '04': 941, 'victim': 942, 'middle': 943, 'true': 944, 'indian': 945, 'teen': 946, 'sport': 947, 'data': 948, 'episode': 949, 'upon': 950, 'carolina': 951, 'soul': 952, 'downtown': 953, 'offensive': 954, 'till': 955, 'nearly': 956, 'gave': 957, 'pennsylvania': 958, 'couple': 959, 'wedding': 960, 'ar': 961, 'diego': 962, 'muslim': 963, 'led': 964, 'feminist': 965, 'melbourne': 966, 'orange': 967, 'working': 968, 'film': 969, 'release': 970, 'miss': 971, 'passenger': 972, 'major': 973, 'huge': 974, 'green': 975, 'repair': 976, 'cold': 977, 'four': 978, 'tote': 979, 'gem': 980, 'radiation': 981, 'dy': 982, 'arrested': 983, 'germ': 984, 'pakistani': 985, 'austin': 986, 'truth': 987, 'gay': 988, 'causing': 989, 'match': 990, 'coach': 991, 'ice': 992, 'gbbo': 993, 'capture': 994, 'declares': 995, 'saipan': 996, 'scene': 997, 'occurred': 998, 'l': 999, 'parent': 1000, 'album': 1001, 'unit': 1002, 'santa': 1003, 'knock': 1004, 'sensor': 1005, 'mind': 1006, 'banned': 1007, 'piece': 1008, 'student': 1009, 'giant': 1010, 'mount': 1011, 'ppl': 1012, 'h': 1013, 'salt': 1014, 'happen': 1015, 'trench': 1016, 'toddler': 1017, 'bestnaijamade': 1018, 'reading': 1019, 'patience': 1020, 'dude': 1021, 'gop': 1022, 'burn': 1023, 'international': 1024, 'playlist': 1025, 'flash': 1026, 'behind': 1027, 'lamp': 1028, 'cree': 1029, 'afghanistan': 1030, 'mishap': 1031, 'ground': 1032, 'sick': 1033, 'wrong': 1034, 'user': 1035, 'terror': 1036, 'date': 1037, 'disease': 1038, '13': 1039, 'running': 1040, 'ahead': 1041, 'safety': 1042, 'ab': 1043, 'internet': 1044, 'palestinian': 1045, 'saved': 1046, 'ready': 1047, 'cost': 1048, 'trust': 1049, 'silver': 1050, 'nigerian': 1051, 'twelve': 1052, 'rate': 1053, 'apollo': 1054, 'bbc': 1055, 'worth': 1056, 'drunk': 1057, 'instagram': 1058, 'download': 1059, 'time2015': 1060, 'utc2015': 1061, 'somalia': 1062, 'totally': 1063, 'theater': 1064, 'played': 1065, 'governor': 1066, 'parole': 1067, 'bed': 1068, 'ebola': 1069, 'sad': 1070, 'sitting': 1071, '19': 1072, 'killer': 1073, 'hat': 1074, 'gunman': 1075, 'poor': 1076, 'mode': 1077, '22': 1078, 'crematorium': 1079, 'mine': 1080, 'career': 1081, 'jonathan': 1082, 'map': 1083, 'nice': 1084, 'g': 1085, 'expected': 1086, 'searching': 1087, 'govt': 1088, 'anthrax': 1089, 'comment': 1090, 'tennessee': 1091, 'course': 1092, 'lead': 1093, 'massachusetts': 1094, 'russia': 1095, 'camp': 1096, 'al': 1097, 'disney': 1098, 'series': 1099, 'cable': 1100, 'pretty': 1101, 'libya': 1102, 'walk': 1103, 'account': 1104, '100': 1105, 'angry': 1106, 'charlotte': 1107, 'wanted': 1108, 'party': 1109, 'act': 1110, 'double': 1111, 'beyond': 1112, 'gotta': 1113, 'ìït': 1114, 'deep': 1115, 'program': 1116, 'vote': 1117, 'gas': 1118, 'chief': 1119, '20zone': 1120, 'investigating': 1121, 'declaration': 1122, 'worse': 1123, 'local': 1124, 'thx': 1125, 'bell': 1126, 'court': 1127, 'room': 1128, 'gold': 1129, 'prepare': 1130, 'ignition': 1131, 'likely': 1132, 'nashville': 1133, 'ap': 1134, 'appears': 1135, 'cop': 1136, 'wall': 1137, 'early': 1138, 'metro': 1139, 'provoke': 1140, 'insurance': 1141, 'japanese': 1142, 'landing': 1143, 'chance': 1144, 'taking': 1145, 'department': 1146, 'enough': 1147, 'felt': 1148, 'picking': 1149, 'loving': 1150, 'civilian': 1151, 'birmingham': 1152, 'offroad': 1153, 'box': 1154, 'udhampur': 1155, 'sky': 1156, 'richmond': 1157, 'nagasaki': 1158, 'alone': 1159, 'da': 1160, 'gone': 1161, 'funny': 1162, 'evening': 1163, 'ohio': 1164, 'leader': 1165, 'subreddits': 1166, 'expect': 1167, 'asia': 1168, 'caught': 1169, '21': 1170, 'enugu': 1171, 'force': 1172, 'memphis': 1173, 'facebook': 1174, 'begin': 1175, 'magic': 1176, 'brazil': 1177, 'cut': 1178, 'along': 1179, '12000': 1180, 'living': 1181, 'beat': 1182, 'wish': 1183, 'tried': 1184, 'utc': 1185, 'squad': 1186, 'potus': 1187, 'detroit': 1188, 'return': 1189, 'spain': 1190, 'michigan': 1191, 'dan': 1192, 'allows': 1193, 'usgs': 1194, '07': 1195, 'karachi': 1196, 'cruz': 1197, 'ocean': 1198, 'event': 1199, 'fine': 1200, 'review': 1201, 'future': 1202, 'yesterday': 1203, 'favorite': 1204, 'unconfirmed': 1205, 'neighbour': 1206, 'holding': 1207, 'stadium': 1208, 'forever': 1209, 'thinking': 1210, 'emmerdale': 1211, 'result': 1212, 'five': 1213, 'iraq': 1214, 'told': 1215, 'loss': 1216, 'fully': 1217, 'wow': 1218, 'direction': 1219, 'biggest': 1220, 'tension': 1221, 'apc': 1222, 'cry': 1223, 'temple': 1224, 'amsterdam': 1225, 'quiz': 1226, 'son': 1227, 'southern': 1228, 'cancer': 1229, 'petition': 1230, 'islamic': 1231, 'total': 1232, 'hi': 1233, 'record': 1234, 'wife': 1235, 'ash': 1236, 'sun': 1237, 'weekend': 1238, 'hospital': 1239, 'suspected': 1240, '26': 1241, 'freak': 1242, 'ancient': 1243, 'meet': 1244, 'salem': 1245, 'message': 1246, 'bitch': 1247, 'using': 1248, 'manslaughter': 1249, 'among': 1250, 'info': 1251, 'cdt': 1252, 'specially': 1253, '1980': 1254, 'madhya': 1255, 'pradesh': 1256, 'number': 1257, 'pool': 1258, 'incident': 1259, 'desire': 1260, 'target': 1261, 'criminal': 1262, 'kinda': 1263, 'kick': 1264, 'effort': 1265, 'usatoday': 1266, 'em': 1267, 'delhi': 1268, 'lmao': 1269, 'lovely': 1270, 'cameroon': 1271, 'marians': 1272, 'steel': 1273, 'industry': 1274, 'waiting': 1275, 'hwy': 1276, 'resident': 1277, '6aug': 1278, 'travel': 1279, 'walking': 1280, 'single': 1281, 'pray': 1282, 'pathogen': 1283, 'moon': 1284, '14': 1285, '300': 1286, 'tampa': 1287, 'tropical': 1288, 'kansa': 1289, 'project': 1290, 'app': 1291, 'financial': 1292, 'giving': 1293, 'mexico': 1294, 'drink': 1295, 'bear': 1296, 'broke': 1297, 'lagos': 1298, 'setting': 1299, 'sleeping': 1300, 'window': 1301, 'anymore': 1302, 'risk': 1303, 'le': 1304, 'pdp': 1305, 'awesome': 1306, 'mph': 1307, 'understand': 1308, 'meat': 1309, 'destroys': 1310, 'thursday': 1311, 'illinois': 1312, 'information': 1313, 'soldier': 1314, 'saying': 1315, 'member': 1316, 'nv': 1317, 'research': 1318, 'started': 1319, 'college': 1320, 'hold': 1321, 'mention': 1322, '130': 1323, 'modified': 1324, '70th': 1325, 'fact': 1326, 'planned': 1327, 'age': 1328, 'close': 1329, 'test': 1330, 'sacramento': 1331, 'faux': 1332, 'smaug': 1333, 'hair': 1334, 'door': 1335, 'none': 1336, 'linked': 1337, 'become': 1338, 'fuel': 1339, 'brought': 1340, 'arizona': 1341, 'edm': 1342, 'activity': 1343, 'canyon': 1344, 'm': 1345, 'anchorage': 1346, 'grenade': 1347, '5km': 1348, 'argentina': 1349, 'antioch': 1350, 'pop': 1351, 'rocky': 1352, 'seven': 1353, 'en': 1354, 'jakarta': 1355, 'sir': 1356, 'af': 1357, 'friday': 1358, 'honestly': 1359, 'opening': 1360, 'killing': 1361, 'ray': 1362, 'mid': 1363, 'republican': 1364, 'guess': 1365, 'glass': 1366, 'lose': 1367, 'hiring': 1368, 'training': 1369, 'sister': 1370, 'general': 1371, 'remove': 1372, 'involving': 1373, 'nairobi': 1374, 'syrian': 1375, 'wednesday': 1376, 'law': 1377, 'seeing': 1378, 'different': 1379, 'amazon': 1380, 'voice': 1381, 'author': 1382, 'taiwan': 1383, 'struggle': 1384, 'wrought': 1385, 'super': 1386, 'asking': 1387, 'agree': 1388, 'emotional': 1389, '600': 1390, 'cinema': 1391, 'crime': 1392, 'cant': 1393, 'social': 1394, 'player': 1395, 'port': 1396, 'baltimore': 1397, 'bit': 1398, 'animal': 1399, 'dr': 1400, 'false': 1401, 'sc': 1402, 'block': 1403, 'drone': 1404, 'maryland': 1405, 'paul': 1406, 'concerned': 1407, 'interesting': 1408, 'sense': 1409, 'sent': 1410, 'region': 1411, 'inner': 1412, 'exit': 1413, 'standard': 1414, 'owner': 1415, 'www': 1416, 'italy': 1417, 'ûªve': 1418, 'sweden': 1419, 'interview': 1420, 'tho': 1421, 'dark': 1422, 'coffee': 1423, 'j': 1424, 'highway': 1425, 'hobo': 1426, 'purse': 1427, 'shell': 1428, 'access': 1429, 'text': 1430, 'shut': 1431, 'yo': 1432, '2013': 1433, '2014': 1434, 'young': 1435, 'article': 1436, 'jeb': 1437, 'covered': 1438, 'lucky': 1439, 'picture': 1440, 'justice': 1441, 'option': 1442, 'indianapolis': 1443, 'seems': 1444, 'deputy': 1445, 'pocket': 1446, 'brain': 1447, 'id': 1448, 'directioners': 1449, 'round': 1450, 'shadow': 1451, 'hunter': 1452, 'system': 1453, 'exactly': 1454, 'university': 1455, 'rly': 1456, 'dnb': 1457, 'nation': 1458, 'legacy': 1459, 'parley': 1460, 'president': 1461, 's': 1462, 'season': 1463, 'cook': 1464, 'flat': 1465, 'helping': 1466, 'guide': 1467, 'sunday': 1468, 'hurt': 1469, 'fund': 1470, 'structure': 1471, 'palm': 1472, '23': 1473, 'rather': 1474, 'upper': 1475, 'choice': 1476, 'married': 1477, 'moving': 1478, 'small': 1479, 'height': 1480, 'funtenna': 1481, 'humanity': 1482, 'wi': 1483, 'hello': 1484, 'welcome': 1485, 'loved': 1486, 'ticket': 1487, 'joe': 1488, 'mn': 1489, 'nursing': 1490, 'decision': 1491, 'quickly': 1492, 'father': 1493, 'john': 1494, 'step': 1495, 'metal': 1496, 'virgin': 1497, 'catch': 1498, 'machine': 1499, 'knee': 1500, 'wont': 1501, 'turkish': 1502, 'mt': 1503, '1st': 1504, 'orlando': 1505, 'tank': 1506, '29': 1507, 'roosevelt': 1508, 'insurer': 1509, 'ah': 1510, 'absolutely': 1511, 'cleveland': 1512, 'forget': 1513, 'follower': 1514, 'grill': 1515, 'combo': 1516, 'fog': 1517, 'imagine': 1518, 'arm': 1519, 'aba': 1520, 'delivers': 1521, '31': 1522, 'justinbieber': 1523, 'reality': 1524, 'complete': 1525, 'extreme': 1526, 'toilet': 1527, 'angel': 1528, 'michael': 1529, 'thomas': 1530, 'asked': 1531, 'either': 1532, 'completely': 1533, 'trent': 1534, 'stuff': 1535, 'perfect': 1536, 'leaving': 1537, 'virginia': 1538, 'yr': 1539, 'press': 1540, 'pull': 1541, 'trip': 1542, 'berlin': 1543, 'dangerous': 1544, 'shelter': 1545, 'fleet': 1546, 'tent': 1547, 'maine': 1548, 'tonto': 1549, 'finger': 1550, 'massive': 1551, 'response': 1552, 'stage': 1553, 'short': 1554, 'condition': 1555, 'nevada': 1556, 'happening': 1557, 'woke': 1558, 'universe': 1559, 'headed': 1560, 'arianagrande': 1561, 'hobbit': 1562, 'shall': 1563, 'tired': 1564, 'according': 1565, 'fantasy': 1566, 'join': 1567, 'atl': 1568, 'version': 1569, 'philly': 1570, 'worker': 1571, '5th': 1572, 'office': 1573, 'raid': 1574, 'listening': 1575, 'rip': 1576, 'struck': 1577, 'degree': 1578, 'roll': 1579, 'recount': 1580, 'turned': 1581, 'dubstep': 1582, 'ian': 1583, 'definitely': 1584, 'burst': 1585, 'alaska': 1586, 'technology': 1587, 'exploration': 1588, 'careful': 1589, 'blog': 1590, 'duck': 1591, 'calm': 1592, 'abandoned': 1593, 'somebody': 1594, 'visit': 1595, '54': 1596, 'special': 1597, 'zealand': 1598, 'illegal': 1599, 'shower': 1600, 'poll': 1601, 'scary': 1602, 'navy': 1603, 'sub': 1604, 'fighting': 1605, 'dublin': 1606, 'plus': 1607, 'nine': 1608, 'saving': 1609, 'mortal': 1610, 'kombat': 1611, 'avoid': 1612, 'maximum': 1613, 'max': 1614, 'science': 1615, 'sometimes': 1616, 'root': 1617, 'wwii': 1618, 'station': 1619, 'jay': 1620, 'goal': 1621, 'related': 1622, 'rail': 1623, 'twice': 1624, 'pre': 1625, 'guardian': 1626, '4000': 1627, 'galactic': 1628, 'calif': 1629, 'build': 1630, 'pamela': 1631, 'based': 1632, 'daughter': 1633, 'feed': 1634, 'blow': 1635, 'happens': 1636, 'pressure': 1637, 'extra': 1638, 'stopped': 1639, 'wtf': 1640, 'patient': 1641, 'paterson': 1642, 'ban': 1643, '53inch': 1644, '300w': 1645, 'curved': 1646, '4x4': 1647, 'price': 1648, 'trfc': 1649, 'stream': 1650, 'mile': 1651, 'spos': 1652, 'paris': 1653, 'club': 1654, 'screen': 1655, 'veteran': 1656, 'produced': 1657, '27': 1658, 'ii': 1659, 'chelsea': 1660, 'mr': 1661, 'ben': 1662, 'blocked': 1663, 'active': 1664, 'tablet': 1665, 'winston': 1666, 'raleigh': 1667, 'budget': 1668, 'non': 1669, 'hole': 1670, 'leeds': 1671, 'operation': 1672, 'pro': 1673, 'ky': 1674, 'glad': 1675, 'percent': 1676, 'board': 1677, 'main': 1678, 'together': 1679, 'bought': 1680, 'david': 1681, 'bristol': 1682, 'pillow': 1683, 'drug': 1684, 'parenthood': 1685, 'netherlands': 1686, 'jet': 1687, 'term': 1688, 'edinburgh': 1689, 'municipal': 1690, 'express': 1691, 'loose': 1692, 'lumpur': 1693, 'jamaica': 1694, 'concern': 1695, 'later': 1696, 'minister': 1697, 'prevent': 1698, 'township': 1699, 'ig': 1700, 'bank': 1701, 'gaza': 1702, 'mediterranean': 1703, 'rome': 1704, 'williams': 1705, 'add': 1706, 'anti': 1707, 'football': 1708, 'strategy': 1709, 'fruit': 1710, '33': 1711, 'starting': 1712, 'maintenance': 1713, 'greg': 1714, 'limited': 1715, 'brasil': 1716, 'leading': 1717, 'bounty': 1718, 'ted': 1719, 'europe': 1720, 'ûïwhen': 1721, 'plunging': 1722, 'kuwait': 1723, 'watched': 1724, '320': 1725, 'ir': 1726, 'icemoon': 1727, 'djicemoon': 1728, 'trapmusic': 1729, 'repatriated': 1730, 'commercial': 1731, 'qew4c5m1xd': 1732, 'min': 1733, 'sismo': 1734, 'cleared': 1735, '75': 1736, '101': 1737, 'treatment': 1738, 'midwest': 1739, 'fish': 1740, 'vine': 1741, 'needed': 1742, 'tram': 1743, 'saturday': 1744, 'spirit': 1745, 'happily': 1746, 'larger': 1747, 'impact': 1748, 'org': 1749, 'se': 1750, 'bringing': 1751, 'pipe': 1752, 'adult': 1753, 'foxnews': 1754, 'writing': 1755, 'crane': 1756, 'learning': 1757, 'kindle': 1758, 'steve': 1759, 'magnum': 1760, 'rì': 1761, 'field': 1762, 'church': 1763, 'hated': 1764, 'po': 1765, 'outlook': 1766, 'ridge': 1767, 'store': 1768, 'easy': 1769, 'reno': 1770, 'sit': 1771, 'waving': 1772, 'geller': 1773, 'potential': 1774, 'bee': 1775, 'pas': 1776, 'ct': 1777, 'shape': 1778, 'pile': 1779, 'create': 1780, '28': 1781, 'quote': 1782, 'continues': 1783, 'mod': 1784, 'bruh': 1785, 'ft': 1786, 'australian': 1787, 'congress': 1788, 'violence': 1789, 'key': 1790, 'focus': 1791, 'arrived': 1792, 'capital': 1793, 'swim': 1794, 'nowhere': 1795, 'newcastle': 1796, 'durham': 1797, 'humidity': 1798, 'respect': 1799, 'gov': 1800, 'alive': 1801, 'economic': 1802, 'confirms': 1803, 'uganda': 1804, '500': 1805, 'jan': 1806, 'ten': 1807, 'german': 1808, 'ames': 1809, 'tribune': 1810, 'equipment': 1811, 'character': 1812, 'eastern': 1813, 'cape': 1814, 'rose': 1815, 'philadelphia': 1816, 'disco': 1817, 'soundcloud': 1818, 'hampshire': 1819, 'iowa': 1820, 'hunt': 1821, 'tour': 1822, 'bathroom': 1823, 'beginning': 1824, 'senso': 1825, 'clinton': 1826, 'idk': 1827, 'battlefield': 1828, 'nah': 1829, 'serious': 1830, 'ross': 1831, '32': 1832, 'ne': 1833, '3g': 1834, 'route': 1835, 'o784': 1836, 'totaling': 1837, 'worldnews': 1838, 'jackson': 1839, 'stupid': 1840, 'recall': 1841, 'supposed': 1842, 'tip': 1843, 'wmata': 1844, 'wit': 1845, 'jose': 1846, 'situation': 1847, 'gta': 1848, 'cat': 1849, 'cyclist': 1850, 'roanoke': 1851, 'floyd': 1852, 'straight': 1853, 'english': 1854, 'kuala': 1855, 'type': 1856, 'talking': 1857, 'crack': 1858, 'electrical': 1859, 'grow': 1860, 'etc': 1861, 'tear': 1862, 'blvd': 1863, 'aka': 1864, 'louisiana': 1865, 'italian': 1866, 'politics': 1867, 'minecraft': 1868, 'practice': 1869, '97': 1870, 'heaven': 1871, 'vietnam': 1872, 'pack': 1873, 'plant': 1874, 'extremely': 1875, 'internally': 1876, 'browser': 1877, 'exchanging': 1878, 'lorry': 1879, 'rn': 1880, 'loan': 1881, 'essex': 1882, 'prabhu': 1883, 'calamity': 1884, 'sp': 1885, 'mix': 1886, 'drinking': 1887, 'oops': 1888, 'gift': 1889, 'wheeler': 1890, 'spinning': 1891, 'tribal': 1892, 'amazing': 1893, 'switzerland': 1894, 'hotel': 1895, 'lunch': 1896, 'nfl': 1897, 'satellite': 1898, 'gain': 1899, 'senator': 1900, 'leg': 1901, 'tutorial': 1902, 'troop': 1903, 'patrick': 1904, 'q': 1905, 'stamp': 1906, 'elephant': 1907, 'copycat': 1908, 'pls': 1909, 'relative': 1910, 'youngheroesid': 1911, 'pantherattack': 1912, 'powerlines': 1913, 'kaduna': 1914, 'ut': 1915, 'dragon': 1916, '09': 1917, 'xd': 1918, 'equal': 1919, 'compliant': 1920, 'jupiter': 1921, 'bottom': 1922, 'mercy': 1923, 'bet': 1924, 'officially': 1925, 'hashtag': 1926, 'sideline': 1927, 'np': 1928, 'toll': 1929, 'powerful': 1930, 'entertainment': 1931, 'knew': 1932, 'milwaukee': 1933, 'eruption': 1934, 'ya': 1935, '304': 1936, 'screenshots': 1937, 'combat': 1938, 'opus': 1939, 'xbox': 1940, 'itunes': 1941, 'dropped': 1942, 'ia': 1943, 'protect': 1944, 'enjoy': 1945, 'fireman': 1946, 'broad': 1947, 'aussie': 1948, 'fail': 1949, 'pump': 1950, 'hwo': 1951, 'asshole': 1952, 'continue': 1953, 'q2eblokeve': 1954, 'encmhz6y34': 1955, 'clear': 1956, 'seriously': 1957, 'edition': 1958, '90': 1959, 'buffalo': 1960, 'portugal': 1961, 'snow': 1962, 'colour': 1963, 'apparently': 1964, 'walmart': 1965, 'kit': 1966, 'roof': 1967, 'cancel': 1968, 'everyday': 1969, 'bronx': 1970, 'yobe': 1971, 'iphone': 1972, 'hilarious': 1973, '36': 1974, 'di': 1975, 'unless': 1976, 'appreciate': 1977, 'notification': 1978, 'surf': 1979, 'fucked': 1980, '2nd': 1981, 'åè': 1982, '35': 1983, 'page': 1984, 'slightly': 1985, 'jam': 1986, 'exchange': 1987, 'gunfire': 1988, '99': 1989, 'preview': 1990, 'fat': 1991, 'lane': 1992, 'mtvhottest': 1993, 'canaanite': 1994, 'gang': 1995, 'gm': 1996, 'bin': 1997, 'porn': 1998, 'size': 1999, 'carry': 2000, 'damaged': 2001, 'korea': 2002, 'blessed': 2003, 'geneva': 2004, 'mì': 2005, 'ceo': 2006, 'weird': 2007, 'afternoon': 2008, 'incredible': 2009, 'flower': 2010, '02': 2011, 'slide': 2012, 'republic': 2013, 'morioh': 2014, 'currently': 2015, 'yyc': 2016, 'abstorm': 2017, 'bro': 2018, 'generation': 2019, 'personal': 2020, 'capsizes': 2021, '80': 2022, 'dorret': 2023, 'chill': 2024, 'realise': 2025, 'seat': 2026, 'adelaide': 2027, 'tube': 2028, 'surrounded': 2029, 'increased': 2030, 'notice': 2031, 'gotham': 2032, 'held': 2033, 'able': 2034, 'heading': 2035, 'ended': 2036, 'subject': 2037, 'insane': 2038, 'okwx': 2039, 'nh': 2040, 'confirm': 2041, 'concert': 2042, 'wisconsin': 2043, 'greece': 2044, 'freakiest': 2045, 'bug': 2046, 'o': 2047, 'associated': 2048, 'wide': 2049, 'apartment': 2050, 'indeed': 2051, 'style': 2052, 'took': 2053, 'click': 2054, 'tag': 2055, 'pam': 2056, 'mary': 2057, 'trump': 2058, 'quite': 2059, 'democracy': 2060, 'reopening': 2061, 'debt': 2062, 'design': 2063, 'ukraine': 2064, 'paradise': 2065, 'malaysian': 2066, 'ex': 2067, 'mac': 2068, 'mets': 2069, 'server': 2070, 'rare': 2071, 'connecticut': 2072, 'stranded': 2073, 'fr': 2074, 'six': 2075, 'traditional': 2076, 'tcot': 2077, 'irandeal': 2078, 'dozen': 2079, 'correction': 2080, 'rio': 2081, '495': 2082, 'loop': 2083, 'reach': 2084, 'pacific': 2085, 'thailand': 2086, 'evidence': 2087, 'joy': 2088, 'lifted': 2089, 'idaho': 2090, 'triple': 2091, 'estimate': 2092, 'winter': 2093, 'linkury': 2094, 'boise': 2095, 'bb17': 2096, 'epic': 2097, 'buckle': 2098, 'september': 2099, 'winnipeg': 2100, 'wing': 2101, 'hungry': 2102, 'robot': 2103, '87': 2104, 'brick': 2105, 'missouri': 2106, 'french': 2107, 'palo': 2108, 'alto': 2109, 'unveiled': 2110, 'affect': 2111, 'upset': 2112, 'penalty': 2113, 'columbus': 2114, 'mike': 2115, 'finish': 2116, 'accidentally': 2117, 'stuck': 2118, 'madinah': 2119, 'prophetmuhammad': 2120, 'fart': 2121, 'nasahurricane': 2122, 'avenue': 2123, 'shanghai': 2124, 'calling': 2125, 'campus': 2126, 'ri': 2127, 'list': 2128, 'vid': 2129, 'boulder': 2130, 'chinese': 2131, 'bicyclist': 2132, 'gabon': 2133, 'bound': 2134, 'nba': 2135, 'meal': 2136, 'ugly': 2137, 'moved': 2138, 'greatest': 2139, 'charge': 2140, 'rohingya': 2141, 'sittwe': 2142, '06jst': 2143, 'hughes': 2144, 'fell': 2145, 'av': 2146, 'studio': 2147, 'diamond': 2148, 'chester': 2149, 'unknown': 2150, 'bath': 2151, 'mystery': 2152, 'athens': 2153, 'july': 2154, 'stressful': 2155, 'ugh': 2156, '370': 2157, 'harry': 2158, 'potter': 2159, 'edt': 2160, 'radar': 2161, 'connector': 2162, 'evil': 2163, 'newest': 2164, 'creating': 2165, 'failed': 2166, 'relief': 2167, 'ã': 2168, 'cup': 2169, 'bout': 2170, 'lack': 2171, 'singapore': 2172, 'morgan': 2173, 'annual': 2174, 'mail': 2175, 'apply': 2176, 'stuart': 2177, 'vintage': 2178, 'mf': 2179, 'faster': 2180, 'creek': 2181, 'slow': 2182, 'arabia': 2183, 'chevy': 2184, 'cell': 2185, 'period': 2186, 'surprise': 2187, 'mansehra': 2188, 'band': 2189, 'romance': 2190, 'glasgow': 2191, 'mission': 2192, 'specialist': 2193, 'trailer': 2194, 'sing': 2195, 'hearing': 2196, 'zombie': 2197, 'attention': 2198, 'emotion': 2199, 'diet': 2200, 'blamed': 2201, 'haram': 2202, 'baseball': 2203, 'fox': 2204, 'bat': 2205, 'wy': 2206, 'cybksxhf7d': 2207, 'birthday': 2208, 'festival': 2209, 'path': 2210, 'approach': 2211, 'wilmington': 2212, 'late': 2213, 'dat': 2214, 'invoice': 2215, 'conversation': 2216, 'manager': 2217, 'energy': 2218, 'population': 2219, 'prefer': 2220, 'federal': 2221, 'tryna': 2222, 'broken': 2223, 'cousin': 2224, 'counter': 2225, 'league': 2226, 'advisory': 2227, 'ankle': 2228, 'karymsky': 2229, 'elevated': 2230, 'score': 2231, 'wired': 2232, 'dis': 2233, 'signed': 2234, 'plain': 2235, 'female': 2236, 'kicked': 2237, 'mhtw4fnet': 2238, 'forsure': 2239, 'sicily': 2240, 'conference': 2241, 'leicester': 2242, 'coastal': 2243, 'oc': 2244, 'impossible': 2245, 'hoe': 2246, 'prophet': 2247, 'rapidly': 2248, 'duty': 2249, 'jhaustin': 2250, 'trial': 2251, 'experience': 2252, 'needle': 2253, 'mill': 2254, 'bargain': 2255, 'recovery': 2256, 'asheville': 2257, 'billionaire': 2258, 'except': 2259, 'clip': 2260, 'lion': 2261, 'thru': 2262, 'reminds': 2263, 'averted': 2264, '94': 2265, 'drop': 2266, 'aid': 2267, 'source': 2268, 'ask': 2269, 'drove': 2270, 'nu': 2271, 'worried': 2272, 'tax': 2273, 'us': 2274, 'eating': 2275, 'sale': 2276, 'slip': 2277, 'interest': 2278, 'lethal': 2279, 'drag': 2280, 'known': 2281, 'knoxville': 2282, 'born': 2283, 'alleged': 2284, 'qld': 2285, 'beyonce': 2286, 'warns': 2287, 'spaceship': 2288, 'collection': 2289, 'charity': 2290, 'orleans': 2291, 'zionist': 2292, 'kidnapped': 2293, 'rubber': 2294, 'marine': 2295, 'vuitton': 2296, 'monogram': 2297, 'dvd': 2298, 'tongue': 2299, 'michele': 2300, 'cheese': 2301, 'puerto': 2302, 'rico': 2303, 'decide': 2304, 'investigation': 2305, 'jacksonville': 2306, 'shipping': 2307, 'recent': 2308, 'afghan': 2309, 'stone': 2310, 'delay': 2311, 'anywhere': 2312, 'terrible': 2313, 'trafford': 2314, 'odeon': 2315, 'gainesville': 2316, 'retweet': 2317, 'autistic': 2318, 'society': 2319, 'location': 2320, 'girlfriend': 2321, 'madison': 2322, 'paulo': 2323, 'several': 2324, 'bullet': 2325, 'prime': 2326, 'prison': 2327, 'genocide': 2328, 'search': 2329, 'senate': 2330, 'network': 2331, 'rockyfire': 2332, 'jack': 2333, 'oakland': 2334, 'crossed': 2335, 'meme': 2336, 'marvel': 2337, 'dry': 2338, 'picked': 2339, 'rea': 2340, 'singing': 2341, 'model': 2342, 'brisbane': 2343, 'biological': 2344, 'sleep': 2345, 'quest': 2346, 'jewish': 2347, 'fresh': 2348, 'channel': 2349, 'theatre': 2350, 'battling': 2351, 'ton': 2352, 'taste': 2353, 'grey': 2354, 'satchel': 2355, 'arrest': 2356, 'citizen': 2357, 'horrific': 2358, 'sh': 2359, 'finland': 2360, 'maharashtra': 2361, 'nature': 2362, 'current': 2363, '2011': 2364, 'bangalore': 2365, 'dubai': 2366, 'kisii': 2367, '5000': 2368, 'finnish': 2369, 'palestine': 2370, 'gust': 2371, 'asylum': 2372, 'esh': 2373, 'santiago': 2374, 'rage': 2375, 'onto': 2376, 'nm': 2377, 'scientist': 2378, '30pm': 2379, 'shop': 2380, 'bid': 2381, 'th': 2382, 'spent': 2383, '52': 2384, 'forecast': 2385, 'promise': 2386, 'ctd': 2387, 'asap': 2388, 'alert': 2389, 'drill': 2390, 'card': 2391, 'grows': 2392, '65': 2393, 'forced': 2394, 'pore': 2395, '48': 2396, 'admits': 2397, 'scheme': 2398, 'lgbt': 2399, 'johannesburg': 2400, 'prepared': 2401, 'updated': 2402, 'somehow': 2403, 'auckland': 2404, '34': 2405, 'butter': 2406, 'bless': 2407, 'district': 2408, 'waste': 2409, 'row': 2410, 'providence': 2411, 'parker': 2412, 'dundee': 2413, 'un': 2414, 'badge': 2415, 'yellow': 2416, 'engine': 2417, 'aware': 2418, 'examining': 2419, 'pumpkin': 2420, 'turning': 2421, 'memorial': 2422, 'hamilton': 2423, 'expecting': 2424, 'thurs': 2425, 'method': 2426, 'anxiety': 2427, 'factory': 2428, 'blind': 2429, 'bend': 2430, 'overtime': 2431, 'predict': 2432, 'inc': 2433, 'xxx': 2434, 'brock': 2435, 'huh': 2436, 'plaza': 2437, 'lee': 2438, 'precipitation': 2439, 'measurement': 2440, 'housing': 2441, 'homeless': 2442, 'vet': 2443, 'pulled': 2444, 'pussy': 2445, 'trubgme': 2446, 'flightcity': 2447, 'motorcyclist': 2448, 'broadway': 2449, 'erie': 2450, 'niagara': 2451, 'retail': 2452, 'positive': 2453, 'cameron': 2454, 'campaign': 2455, 'acre': 2456, 'casper': 2457, 'fettilootch': 2458, 'slanglucci': 2459, 'oppression': 2460, 'moll5vd8yd': 2461, 'dk': 2462, 'denmark': 2463, 'auction': 2464, 'caesar': 2465, 'newton': 2466, 'chair': 2467, 'spaniel': 2468, 'mma': 2469, 'sm': 2470, 'guest': 2471, 'lowndes': 2472, 'overnight': 2473, 'pluto': 2474, 'automatic': 2475, 'statement': 2476, 'shake': 2477, 'wherever': 2478, 'pbban': 2479, 'temporary': 2480, 'xp': 2481, 'reap': 2482, 'write': 2483, 'anybody': 2484, 'speak': 2485, 'ultimate': 2486, 'kolkata': 2487, 'plague': 2488, 'exp': 2489, 'putting': 2490, 'threatening': 2491, 'au': 2492, 'cr': 2493, 'sadly': 2494, 'gotten': 2495, 'george': 2496, 'blame': 2497, 'playa': 2498, 'del': 2499, 'manhattan': 2500, 'sinjar': 2501, 'eh': 2502, 'remembering': 2503, 'trap': 2504, '45': 2505, 'depth': 2506, 'intensity': 2507, 'joseph': 2508, 'kent': 2509, 'physically': 2510, 'rapid': 2511, 'education': 2512, '2012': 2513, 'transit': 2514, 'realized': 2515, 'usually': 2516, 'fit': 2517, 'lightening': 2518, 'gray': 2519, 'fairy': 2520, 'fifth': 2521, 'shepherd': 2522, 'abe': 2523, 'pak': 2524, 'tbt': 2525, 'viralspell': 2526, 'title': 2527, 'chase': 2528, 'tracking': 2529, 'ryan': 2530, 'pc': 2531, 'defense': 2532, 'pin': 2533, 'apple': 2534, 'losing': 2535, 'reject': 2536, 'innocent': 2537, 'endorses': 2538, 'print': 2539, 'hd': 2540, 'audio': 2541, 'crap': 2542, '627': 2543, 'residential': 2544, 'sharp': 2545, 'foreign': 2546, 'wash': 2547, 'smh': 2548, 'shame': 2549, '69': 2550, 'fife': 2551, 'threatens': 2552, 't': 2553, 'nuke': 2554, 'he': 2555, 'waimate': 2556, 'deserves': 2557, 'rocket': 2558, 'bluejays': 2559, 'showed': 2560, 'higher': 2561, 'smile': 2562, 'item': 2563, 'warcraft': 2564, 'reduce': 2565, '95': 2566, 'maria': 2567, 'inj': 2568, 'buenos': 2569, 'aire': 2570, 'quarter': 2571, 'checked': 2572, 'form': 2573, 'freedom': 2574, 'listed': 2575, 'twin': 2576, 'wood': 2577, 'physical': 2578, 'proof': 2579, 'sanction': 2580, 'pipeline': 2581, 'ûªm': 2582, 'environment': 2583, 'apocalyptic': 2584, 'sending': 2585, 'anna': 2586, 'bulletin': 2587, 'manor': 2588, 'therapy': 2589, 'fallen': 2590, 'google': 2591, 'experiment': 2592, '731': 2593, 'vvplfqv58p': 2594, 'med': 2595, 'pet': 2596, 'supreme': 2597, 'photography': 2598, 'external': 2599, 'example': 2600, 'rockin': 2601, 'claytonbryant': 2602, 'artistsunited': 2603, 'began': 2604, 'remain': 2605, 'ill': 2606, 'ep': 2607, 'musician': 2608, 'atlantic': 2609, 'community': 2610, 'cute': 2611, 'profile': 2612, 'worldnetdaily': 2613, 'yall': 2614, 'minded': 2615, 'thats': 2616, 'coventry': 2617, 'enemy': 2618, 'heavenly': 2619, 'considering': 2620, 'neil': 2621, 'laden': 2622, 'avoiding': 2623, 'african': 2624, 'rsa': 2625, 'bite': 2626, 'meeting': 2627, 'nsfw': 2628, 'louisville': 2629, 'understanding': 2630, 'clearly': 2631, 'missed': 2632, 'fired': 2633, 'final': 2634, 'nobody': 2635, 'fairfax': 2636, 'solar': 2637, 'cannot': 2638, 'value': 2639, 'lesson': 2640, 'advance': 2641, 'åê': 2642, 'queensland': 2643, 'simulate': 2644, 'soccer': 2645, 'consider': 2646, 'len': 2647, 'stick': 2648, 'disappearance': 2649, 'cuz': 2650, '1945': 2651, 'mansion': 2652, 'choking': 2653, 'montana': 2654, 'base': 2655, 'christmas': 2656, 'taco': 2657, 'gg': 2658, 'lethbridge': 2659, 'hopefully': 2660, 'sf': 2661, 'classic': 2662, 'beyhive': 2663, 'becomes': 2664, 'manila': 2665, 'holland': 2666, 'responsible': 2667, 'capacity': 2668, 'clutch': 2669, 'antonio': 2670, 'including': 2671, 'tr': 2672, '2009': 2673, '13000': 2674, 'mini': 2675, 'grace': 2676, 'sweet': 2677, 'boot': 2678, 'third': 2679, 'lower': 2680, 'wx': 2681, 'founder': 2682, 'excellent': 2683, 'economy': 2684, 'aim': 2685, 'unite': 2686, 'pov': 2687, 'toward': 2688, 'opinion': 2689, 'bill': 2690, 'demon': 2691, 'selfies': 2692, 'rising': 2693, 'towel': 2694, 'foster': 2695, 'ego': 2696, 'sarah': 2697, 'targeting': 2698, 'minority': 2699, 'sì': 2700, 'runner': 2701, 'civil': 2702, 'load': 2703, 'gf': 2704, 'patched': 2705, 'exploit': 2706, 'bypass': 2707, 'password': 2708, 'msf': 2709, 'andy': 2710, 'senior': 2711, 'flew': 2712, 'soup': 2713, 'eb': 2714, 'material': 2715, 'slower': 2716, 'adventure': 2717, 'arsenal': 2718, 'priority': 2719, 'jordan': 2720, 'strange': 2721, 'allowed': 2722, 'ending': 2723, '4wd': 2724, 'beam': 2725, 'lima': 2726, 'hunting': 2727, 'forbes': 2728, 'immediately': 2729, 'biker': 2730, 'circuit': 2731, 'prior': 2732, 'benefit': 2733, 'certain': 2734, 'facility': 2735, 'smash': 2736, 'eq': 2737, 'ride': 2738, 'fwy': 2739, 'vacant': 2740, 'unsafe': 2741, 'newyork': 2742, 'palace': 2743, 'document': 2744, 'calorie': 2745, 'usual': 2746, 'fresno': 2747, 'stealing': 2748, 'stephen': 2749, 'yea': 2750, 'alp': 2751, 'error': 2752, 'truly': 2753, 'ear': 2754, 'tied': 2755, 'dinner': 2756, 'vinyl': 2757, 'plot': 2758, 'poverty': 2759, 'integrity': 2760, 'adding': 2761, 'towards': 2762, 'museum': 2763, 'kurtschlichter': 2764, 'latestnews': 2765, 'pete': 2766, 'kyle': 2767, 'floor': 2768, 'nd': 2769, 'helsinki': 2770, 'conflict': 2771, 'carryi': 2772, 'grand': 2773, 'surface': 2774, 'bake': 2775, 'brum': 2776, 'speaking': 2777, 'crashing': 2778, 'combined': 2779, 'activated': 2780, 'management': 2781, 'strip': 2782, 'ad': 2783, 'digit': 2784, 'garden': 2785, 'grove': 2786, 'historic': 2787, 'email': 2788, 'shoe': 2789, 'disrupts': 2790, 'lafayette': 2791, 'purple': 2792, 'earlier': 2793, 'tucson': 2794, 'remains': 2795, 'b4': 2796, 'okanagan': 2797, 'ûïwe': 2798, 'mitt': 2799, 'leaf': 2800, 'protest': 2801, 'progress': 2802, 'janeiro': 2803, 'scare': 2804, 'there': 2805, 'nope': 2806, 'reporting': 2807, 'cramer': 2808, 'iger': 2809, 'cnbc': 2810, 'luis': 2811, 'lancashire': 2812, 'safe': 2813, 'casual': 2814, 'stylish': 2815, 'replace': 2816, 'peanut': 2817, 'greensboro': 2818, 'hip': 2819, '2010': 2820, 'charging': 2821, 'ultimalucha': 2822, 'friendship': 2823, 'named': 2824, 'eu': 2825, 'web': 2826, 'mental': 2827, 'ûªll': 2828, 'negative': 2829, 'southeast': 2830, '2005': 2831, 'debate': 2832, 'gained': 2833, 'built': 2834, 'highland': 2835, 'perth': 2836, 'halifax': 2837, 'deadly': 2838, 'lebanon': 2839, 'sunset': 2840, 'niall': 2841, 'vampiro': 2842, 'fair': 2843, 'created': 2844, 'van': 2845, 'present': 2846, 'fix': 2847, 'mood': 2848, 'thirst': 2849, 'square': 2850, 'paramedic': 2851, 'significant': 2852, 'constantly': 2853, 'defect': 2854, 'phew': 2855, 'prob': 2856, 'travis': 2857, 'richardson': 2858, 'mlb': 2859, 'billboard': 2860, 'hybrid': 2861, 'quran': 2862, 'smoking': 2863, 'fd': 2864, 'shutdown': 2865, 'edmonton': 2866, 'qz': 2867, 'mama': 2868, 'graveyard': 2869, 'normal': 2870, 'breakfast': 2871, 'millennium': 2872, 'layzba9y8h': 2873, 'whao': 2874, 'mvsrjd4x3d': 2875, 'swmo': 2876, 'assistance': 2877, 'wilshere': 2878, 'dhaka': 2879, 'chosen': 2880, 'unsigned': 2881, 'myfriendmina': 2882, 'screenshot': 2883, 'dayton': 2884, 'sa': 2885, 'oral': 2886, '15km': 2887, 'qfyy5azifx': 2888, 'stearns': 2889, '7cadm3lnko': 2890, 'broomfield': 2891, 'johnson': 2892, 'ag': 2893, 'durant': 2894, 'flaming': 2895, 'joke': 2896, 'purchased': 2897, 'lvlh3w3awo': 2898, 'viwxy1xdyk': 2899, 'brut': 2900, 'joining': 2901, 'warn': 2902, 'blowout': 2903, 'swell': 2904, 'nugget': 2905, 'anxious': 2906, 'shirley': 2907, 'listenlive': 2908, 'reportedly': 2909, 'faan': 2910, 'freeport': 2911, 'extension': 2912, 'cord': 2913, 'extends': 2914, 'absolute': 2915, 'yonews': 2916, 'euro': 2917, 'batter': 2918, 'sprinter': 2919, 'frontline': 2920, 'lez': 2921, 'nasasolarsystem': 2922, 'minor': 2923, 'huntsville': 2924, 'bean': 2925, 'raining': 2926, 'fading': 2927, 'whatever': 2928, 'carried': 2929, 'hatchet': 2930, 'involved': 2931, 'draw': 2932, 'occasion': 2933, 'eight': 2934, 'older': 2935, 'bob': 2936, 'majesty': 2937, 'emperor': 2938, 'khan': 2939, 'laughing': 2940, 'became': 2941, 'dick': 2942, 'ûïthe': 2943, 'teacher': 2944, 'native': 2945, 'bjp': 2946, 'darude': 2947, 'ferguson': 2948, 'newyorker': 2949, 'pun': 2950, 'barbados': 2951, 'plate': 2952, 'yazidis': 2953, 'bowl': 2954, 'boundary': 2955, 'belief': 2956, 'sofa': 2957, 'explains': 2958, 'montreal': 2959, 'shipwreck': 2960, 'mv': 2961, 'tech': 2962, 'warship': 2963, 'battleship': 2964, 'fraction': 2965, 'vital': 2966, 'coffeeshop': 2967, 'silence': 2968, 'hipster': 2969, 'ì': 2970, 'syria': 2971, 'idfire': 2972, 'consequence': 2973, 'founding': 2974, 'enjoying': 2975, 'colder': 2976, 'include': 2977, 'cbc': 2978, 'whiterun': 2979, 'skyrim': 2980, 'invest': 2981, 'meaning': 2982, 'flying': 2983, 'shaking': 2984, 'gmail': 2985, 'weak': 2986, 'excuse': 2987, 'client': 2988, 'ksawlyux02': 2989, 'eventually': 2990, 'charles': 2991, 'touch': 2992, 'bts': 2993, 'spend': 2994, 'feeding': 2995, 'bully': 2996, '107': 2997, 'assembly': 2998, 'guillermo': 2999, 'wed': 3000, 'vacation': 3001, 'braking': 3002, 'unlocked': 3003, 'nz': 3004, 'tea': 3005, '39': 3006, 'beginner': 3007, 'surely': 3008, 'wo': 3009, 'amirite': 3010, 'captured': 3011, 'offer': 3012, 'weight': 3013, 'behavior': 3014, 'boko': 3015, 'heroine': 3016, 'seemed': 3017, 'desert': 3018, 'inning': 3019, 'jeff': 3020, 'jazz': 3021, 'sat': 3022, 'psa': 3023, 'warm': 3024, 'harbor': 3025, 'tuned': 3026, 'survival': 3027, 'wire': 3028, 'torch': 3029, 'passing': 3030, 'tory': 3031, 'noticed': 3032, 'recipe': 3033, 'mediterran': 3034, 'folk': 3035, 'signing': 3036, 'punishment': 3037, 'sexual': 3038, 'mitigation': 3039, 'moth': 3040, 'bos': 3041, 'accused': 3042, 'matako': 3043, 'nepal': 3044, 'kiss': 3045, 'metlife': 3046, 'jesus': 3047, 'christ': 3048, 'annoying': 3049, 'trunk': 3050, 'spark': 3051, 'preparedness': 3052, 'elite': 3053, 'er': 3054, 'territory': 3055, 'westeros': 3056, 'gander': 3057, 'lonely': 3058, '150': 3059, 'fuckin': 3060, 'playoff': 3061, 'babe': 3062, 'pregnant': 3063, 'leo': 3064, 'injures': 3065, 'pll': 3066, 'previous': 3067, 'cambridge': 3068, 'buying': 3069, 'movement': 3070, 'suppose': 3071, 'enter': 3072, 'diving': 3073, 'tempered': 3074, 'protector': 3075, 'blackberry': 3076, 'z10': 3077, 'britain': 3078, 'hardy': 3079, 'freeman': 3080, 'weed': 3081, 'todd': 3082, 'habit': 3083, 'uncle': 3084, 'hannaph': 3085, 'twitch': 3086, 'legit': 3087, 'fed': 3088, 'ksu': 3089, '2017': 3090, 'volleyball': 3091, 'saint': 3092, 'arrive': 3093, 'academy': 3094, 'awful': 3095, 'minion': 3096, 'shared': 3097, 'animalrescue': 3098, 'macon': 3099, 'bride': 3100, 'responded': 3101, 'yorker': 3102, 'announcement': 3103, 'pot': 3104, 'telling': 3105, 'liverpool': 3106, 'privacy': 3107, 'idiot': 3108, 'britney': 3109, 'spear': 3110, 'swimming': 3111, 'cunt': 3112, 'royal': 3113, 'stab': 3114, 'adam': 3115, 'dignity': 3116, 'mayan': 3117, 'destiny': 3118, 'blessing': 3119, 'microlight': 3120, 'hating': 3121, 'metrofmtalk': 3122, 'baghdad': 3123, 'range': 3124, 'spending': 3125, 'whether': 3126, 'cock': 3127, 'perspective': 3128, 'matt': 3129, 'ed': 3130, 'communication': 3131, 'object': 3132, 'venezuela': 3133, 'hoax': 3134, 'device': 3135, 'm1': 3136, 'boyfriend': 3137, 'clothes': 3138, 'mess': 3139, 'edward': 3140, '1141': 3141, 'enrt': 3142, 'recommend': 3143, 'battery': 3144, 'wondering': 3145, 'childhood': 3146, 'cricket': 3147, 'ps4': 3148, 'pepper': 3149, 'evanston': 3150, 'arlington': 3151, 'detail': 3152, 'corner': 3153, 'sparked': 3154, 'trinidad': 3155, 'tobago': 3156, 'neighbor': 3157, 'journey': 3158, 'inspired': 3159, 'color': 3160, 'stress': 3161, 'outbid': 3162, 'sentinel': 3163, 'doctor': 3164, 'tinyjecht': 3165, 'despite': 3166, 'tuesday': 3167, 'mmmmmm': 3168, 'oooooohhhh': 3169, 'oooh': 3170, 'ooh': 3171, 'mackay': 3172, 'anyway': 3173, 'exist': 3174, 'wellington': 3175, 'walker': 3176, 'sized': 3177, 'sunny': 3178, 'pittsburgh': 3179, 'doubt': 3180, 'mikeparractor': 3181, 'revolution': 3182, 'highly': 3183, 'fanboys': 3184, 'amongst': 3185, 'abbswinston': 3186, 'empire': 3187, 'calhoun': 3188, 'aggressive': 3189, 'comedy': 3190, 'sophie': 3191, 'stockholm': 3192, 'ish': 3193, 'foxtrot': 3194, 'loughborough': 3195, 'zouma': 3196, 'prince': 3197, 'motor': 3198, 'probe': 3199, 'average': 3200, 'sweater': 3201, 'autumn': 3202, 'ûïa': 3203, 'rosenthal': 3204, 'prompt': 3205, 'timeline': 3206, 'armed': 3207, 'ont': 3208, 'gate': 3209, 'tough': 3210, 'didnt': 3211, 'fav': 3212, 'chart': 3213, 'uber': 3214, 'huffman': 3215, 'a': 3216, 'omar': 3217, 'reid': 3218, 'served': 3219, 'pant': 3220, 'sand': 3221, 'schedule': 3222, 'homie': 3223, 'schiphol': 3224, 'allah': 3225, 'emsc': 3226, 'common': 3227, 'newlywed': 3228, 'controlled': 3229, 'shelby': 3230, 'tide': 3231, 'lou': 3232, 'nytimes': 3233, 'micom': 3234, 'candy': 3235, 'stats': 3236, 'invalid': 3237, 'grazed': 3238, 'taylor': 3239, 'responds': 3240, 'thus': 3241, 'satan': 3242, 'hall': 3243, 'auth': 3244, 'blk': 3245, 'newsintweets': 3246, 'dutch': 3247, 'nankana': 3248, 'sahib': 3249, 'tom': 3250, 'palin': 3251, 'bb4sp': 3252, 'rest': 3253, 'kerricktrial': 3254, 'ty': 3255, 'flooded': 3256, 'description': 3257, '300000': 3258, 'verdict': 3259, 'file': 3260, 'locked': 3261, '5pm': 3262, 'locke': 3263, 'hinton': 3264, 'ran': 3265, 'nude': 3266, 'kissimmee': 3267, 'jerry': 3268, 'gym': 3269, 'dress': 3270, 'mannequin': 3271, 'njh': 3272, 'cth': 3273, 'bored': 3274, 'decided': 3275, 'ink': 3276, '0wratka2jl': 3277, '43': 3278, 'hug': 3279, '2pcs': 3280, '18w': 3281, 'mining': 3282, 'sin': 3283, 'malibu': 3284, 'alcohol': 3285, 'guard': 3286, 'charleston': 3287, 'architect': 3288, 'auto': 3289, 'pedophile': 3290, 'vi': 3291, 'looked': 3292, 'eat': 3293, 'narnia': 3294, 'stepped': 3295, 'godslove': 3296, 'thanku': 3297, 'original': 3298, 'discovery': 3299, 'spokane': 3300, 'simply': 3301, 'genius': 3302, 'letting': 3303, 'sorrow': 3304, 'border': 3305, 'lover': 3306, 'sigalert': 3307, '133': 3308, 'btwn': 3309, 'chain': 3310, 'ciyty0fgpr': 3311, 'dime': 3312, 'coral': 3313, 'mock': 3314, 'profit': 3315, 'madrid': 3316, 'backyard': 3317, 'cave': 3318, 'jean': 3319, 'socialnews': 3320, 'hong': 3321, 'kong': 3322, 'passed': 3323, 'minneapolis': 3324, 'kept': 3325, 'chaos': 3326, 'pres': 3327, 'nail': 3328, 'staff': 3329, 'crowd': 3330, 'holy': 3331, 'moore': 3332, 'skin': 3333, 'raynbowaffair': 3334, 'editor': 3335, 'diamondkesawn': 3336, 'ramag': 3337, 'nova': 3338, 'rider': 3339, 'vail': 3340, 'agency': 3341, 'arabian': 3342, 'drawn': 3343, 'maui': 3344, 'demand': 3345, 'inspection': 3346, 'hide': 3347, 'cap': 3348, 'liberal': 3349, 'specific': 3350, 'void': 3351, 'leveled': 3352, 'fyi': 3353, 'dominicana': 3354, 'knox': 3355, 'electronic': 3356, 'priest': 3357, 'random': 3358, 'draco': 3359, 'toxic': 3360, 'savebees': 3361, 'respond': 3362, 'croatian': 3363, 'gmt': 3364, 'status': 3365, 'tune': 3366, 'chocolate': 3367, 'gateau': 3368, 'alright': 3369, 'primary': 3370, 'generally': 3371, 'circle': 3372, 'easily': 3373, 'accra': 3374, 'regular': 3375, 'dying': 3376, 'paper': 3377, 'temper': 3378, 'seem': 3379, 'zayn': 3380, 'headline': 3381, 'table': 3382, 'midland': 3383, '360wisenews': 3384, 'ell': 3385, 'streak': 3386, 'condolence': 3387, 'thriller': 3388, 'rolling': 3389, 'wealth': 3390, 'lung': 3391, 'activates': 3392, 'wheel': 3393, 'omfg': 3394, 'heel': 3395, 'trolley': 3396, 'sandiego': 3397, 'executive': 3398, 'prosecuted': 3399, 'lonewolffur': 3400, 'jammu': 3401, 'otrametlife': 3402, 'highest': 3403, 'naved': 3404, 'financing': 3405, 'secured': 3406, 'fam': 3407, 'sixth': 3408, 'franklin': 3409, 'fkn': 3410, '3rd': 3411, 'subconscious': 3412, 'ûªre': 3413, 'arriving': 3414, 'credit': 3415, 'telangana': 3416, 'recently': 3417, 'asian': 3418, 'solid': 3419, 'combust': 3420, 'ch4': 3421, 'panel': 3422, 'pileup': 3423, 'dear': 3424, 'monkey': 3425, 'abused': 3426, 'restore': 3427, 'simple': 3428, 'wear': 3429, 'within': 3430, 'gloucester': 3431, 'nuff': 3432, 'certainly': 3433, 'starbucks': 3434, 'scorpion': 3435, 'norway': 3436, 'lincoln': 3437, 'moscow': 3438, 'limit': 3439, 'wearing': 3440, 'uniform': 3441, 'tower': 3442, 'cryptic': 3443, 'guided': 3444, 'multiple': 3445, 'afterlife': 3446, 'gusty': 3447, 'swansea': 3448, 'authority': 3449, 'netanyahu': 3450, 'flush': 3451, 'split': 3452, 'vince': 3453, 'mcmahon': 3454, 'dirt': 3455, 'deck': 3456, 'fool': 3457, 'heal': 3458, 'ferry': 3459, 'distance': 3460, 'abortion': 3461, 'dolphin': 3462, 'arkansas': 3463, 'jonesboro': 3464, 'lifting': 3465, 'factor': 3466, 'alexandria': 3467, 'race': 3468, 'throwing': 3469, 'salvador': 3470, 'putin': 3471, 'aunt': 3472, 'attempt': 3473, 'wet': 3474, 'toe': 3475, 'frisco': 3476, 'porridge': 3477, 'tubestrike': 3478, 'speed': 3479, 'success': 3480, 'neither': 3481, 'nurse': 3482, 'dealing': 3483, 'greenville': 3484, 'nicki': 3485, 'hush': 3486, 'concept': 3487, 'republica': 3488, 'demi': 3489, 'amman': 3490, 'divided': 3491, 'footage': 3492, 'planning': 3493, 'squeeze': 3494, 'custom': 3495, 'followback': 3496, 'estimated': 3497, 'globe': 3498, 'luchaunderground': 3499, 'faced': 3500, 'returned': 3501, 'plug': 3502, 'monsoon': 3503, 'ignore': 3504, 'wicked': 3505, 'mother': 3506, 'clev': 3507, 'forgot': 3508, 'fella': 3509, 'greater': 3510, 'castle': 3511, 'incase': 3512, 'keampurley': 3513, 'iiii': 3514, 'riveeeeeer': 3515, 'numa': 3516, 'casa': 3517, 'healthy': 3518, 'backpack': 3519, 'tan': 3520, 'ember': 3521, 'lzml1xb2nh': 3522, 'ashland': 3523, 'wedn': 3524, 'bkpfpogysi': 3525, 'chojo': 3526, 'dagenham': 3527, 'ignored': 3528, 'sheriff': 3529, 'joined': 3530, 'conscience': 3531, 'throwback': 3532, 'wmoyibwec1': 3533, 'lucymayofficial': 3534, '0rsverlztm': 3535, 'linden': 3536, 'lite': 3537, 'cure': 3538, '073izwx0lb': 3539, 'lind': 3540, 'okmlagvkjv': 3541, 'q5qcoao8jp': 3542, 'choosegod': 3543, 'restoringpaths': 3544, 'hr': 3545, 'kodak': 3546, 'snowball': 3547, 'songhey89': 3548, 'goooooooaaaaaal': 3549, '180': 3550, 'kmpfhglhoo': 3551, 'sirbrandonknt': 3552, 'lesnar': 3553, 'cena': 3554, 'summerslam': 3555, 'finished': 3556, 's107ee7cyc': 3557, 'bribriony': 3558, 'proxy': 3559, 'fortune': 3560, 'summertime': 3561, 'skill': 3562, 'popular': 3563, 'boxer': 3564, 'feinstein': 3565, 'alfapedia': 3566, 'fled': 3567, 'spread': 3568, 'hailing': 3569, 'thereal': 3570, '4i0rjc9rqu': 3571, 'comin': 3572, '9z9hsmiavd': 3573, 'mopheme': 3574, 'bigstar': 3575, 'vuzuhustle': 3576, 'bloomberg': 3577, 'wj0u59mppb': 3578, '1313': 3579, 'frederick': 3580, 'delmont': 3581, 'onion': 3582, 'yojkfqej6s': 3583, 'fairground': 3584, 'keratin': 3585, 'brazilian': 3586, 'muntinlupa': 3587, 'wzbt': 3588, 'gettysburg': 3589, 'ttes': 3590, 'helpline': 3591, 'gpv': 3592, 'wnw': 3593, '12jst': 3594, '18jst': 3595, 'l6jbjaj8dm': 3596, 'okuma': 3597, 'koch8slasq': 3598, '07860': 3599, 'surfer': 3600, '44': 3601, '23km': 3602, 'twentynine': 3603, 'rick': 3604, 'chachi': 3605, 'otblb9pj2i': 3606, 'icon': 3607, 'bradleybrad47': 3608, 'upgraded': 3609, 'role': 3610, 'shopping': 3611, 'l0pmmtzlwp': 3612, 'fau': 3613, 'regional': 3614, 'infectious': 3615, 'trash': 3616, 'swallow': 3617, 'pond': 3618, 'nightmarish': 3619, 'smurfs': 3620, 'battered': 3621, 'alexeivolkov1': 3622, 'mcfaul': 3623, 'roskomnadzor': 3624, 'ridiculously': 3625, 'politicized': 3626, 'remind': 3627, 'usnwsgov': 3628, '30a': 3629, 'widespread': 3630, 'smart': 3631, 'melt': 3632, 'surprised': 3633, 'connecto': 3634, 'motorcraft': 3635, 'wpt': 3636, 'count': 3637, 'becoming': 3638, 'digital': 3639, 'happiness': 3640, 'nears': 3641, 'uo8grdauat': 3642, 'monticello': 3643, 'respondent': 3644, 'consciousness': 3645, 'ytnnnd631z': 3646, 'pref': 3647, 'fantasticfour': 3648, 'bummer': 3649, 'presence': 3650, 'growing': 3651, 'stronger': 3652, 'gamergate': 3653, 'difficulty': 3654, 'mydrought': 3655, 'awareness': 3656, '2zvhx41i9v': 3657, 'dmv': 3658, 'fortunately': 3659, 'voted': 3660, 'note': 3661, 'opera': 3662, 'salman': 3663, 'unstoppable': 3664, 'bajrangi': 3665, 'bhaijaan': 3666, 'crosed': 3667, 'charlie': 3668, 'warned': 3669, 'discovered': 3670, 'cm': 3671, 'starring': 3672, 'mina': 3673, 'bird': 3674, 'asleep': 3675, 'noise': 3676, 'mutual': 3677, 'expose': 3678, 'joel': 3679, 'ibaraki': 3680, 'prefecture': 3681, 'offing': 3682, 'm5': 3683, '60km': 3684, 'qhbzkerott': 3685, 'cogxbox': 3686, 'xboxone': 3687, 'minnesota': 3688, 'liberty': 3689, 'dependency': 3690, 'counselor': 3691, 'intern': 3692, 'theellenshow': 3693, '54000': 3694, 'signature': 3695, 'soooo': 3696, 'breakingnewslh': 3697, 'bree': 3698, 'mars': 3699, 'seventy': 3700, 'mido': 3701, 'ww1': 3702, 'na': 3703, 'landscape': 3704, 'unavoidable': 3705, 'socialism': 3706, 'bbdpnj8xsx': 3707, 'jax': 3708, 'written': 3709, 'y3fo0ghg8t': 3710, 'dramatic': 3711, 'simultaneous': 3712, 'acute': 3713, 'grandeur': 3714, 'shocking': 3715, 'tail': 3716, 'tru': 3717, 'evolve': 3718, 'legendary': 3719, 'nose': 3720, 'sean': 3721, 'mentally': 3722, 'nosurrender': 3723, '79th': 3724, 'voodoo': 3725, 'designed': 3726, 'occupant': 3727, 'droid': 3728, 'rockbottomradfm': 3729, 'lying': 3730, 'dems': 3731, '1a': 3732, 'charger': 3733, 'hoping': 3734, 'matthew': 3735, 'gadget': 3736, 'foxy': 3737, 'feast': 3738, 'moral': 3739, 'wattpad': 3740, 'uribe': 3741, 'sw': 3742, 'brentwood': 3743, 'kurdish': 3744, 'met': 3745, 'idol': 3746, 'x1441': 3747, 'quick': 3748, 'wv': 3749, 'plaguing': 3750, 'pitcher': 3751, 'willing': 3752, 'sd': 3753, 'featured': 3754, 'proceeds': 3755, 'resource': 3756, 'encouragement': 3757, 'motion': 3758, 'outdoor': 3759, 'ev': 3760, 'dolce': 3761, 'flip': 3762, 'starter': 3763, 'blanket': 3764, 'knife': 3765, 'slayer': 3766, 'attendance': 3767, 'thin': 3768, 'majority': 3769, '666': 3770, 'griffin': 3771, 'fez': 3772, 'predicted': 3773, 'landfall': 3774, 'yvafi3zujx': 3775, 'delaware': 3776, 'buck': 3777, 'convivted': 3778, 'liable': 3779, 'skirt': 3780, 'crystal': 3781, 'rp': 3782, 'purchase': 3783, 'billing': 3784, 'cherry': 3785, 'bail': 3786, 'et': 3787, 'thyzomvwu0': 3788, '83joo0xk29': 3789, 'voting': 3790, 'buried': 3791, 'cow': 3792, 'skq8oucm3r': 3793, 'prevention': 3794, 'mistake': 3795, 'library': 3796, 'cia': 3797, 'adamantly': 3798, 'opposed': 3799, 'hxox7o42rq': 3800, 'journalism': 3801, 'premature': 3802, 'yor': 3803, 'laugh': 3804, 'largest': 3805, 'finishing': 3806, 'throne': 3807, 'solution': 3808, 'gidi': 3809, 'davidvonderhaar': 3810, 'cdc': 3811, 'bigamist': 3812, 'stacey': 3813, 'ouvindo': 3814, 'inevitable': 3815, 'internal': 3816, 'marker': 3817, 'mooresville': 3818, 'rb': 3819, 'lance': 3820, 'dunbar': 3821, 'bi': 3822, 'egg': 3823, 'smell': 3824, 'diaporama': 3825, 'sixpenceee': 3826, 'crater': 3827, 'located': 3828, 'volcanoåêinåêrussia': 3829, 'nottingham': 3830, 'col': 3831, 'quoted': 3832, 'ashley': 3833, 'safer': 3834, 'ron': 3835, 'bread': 3836, 'volga': 3837, 'ram': 3838, 'rammed': 3839, 'touched': 3840, '53': 3841, 'earring': 3842, 'snapchat': 3843, 'improve': 3844, 'thhjjw51pe': 3845, 'malik': 3846, 'hah': 3847, 'programme': 3848, 'section': 3849, 'dem': 3850, 'isle': 3851, 'shore': 3852, 'dmoneydemi': 3853, 'dtb': 3854, 'watchout': 3855, 'simulation': 3856, 'fold': 3857, 'intact': 3858, 'odds': 3859, 'ûïrichmond': 3860, 'exc': 3861, 'ssw': 3862, 'anza': 3863, 'v3azwoamzk': 3864, 'grrrr': 3865, 'realjaxclone': 3866, 'montrì': 3867, 'quì': 3868, 'bec': 3869, 'camera': 3870, 'pp': 3871, 'gawx': 3872, 'colombia': 3873, 'piano': 3874, 'corpus': 3875, 'voluntary': 3876, 'nb': 3877, 'generational': 3878, 'szeapueuvy': 3879, 'stw3pg3t0o': 3880, 'robinson': 3881, 'defend': 3882, 'worked': 3883, 'brand': 3884, 'ge': 3885, 'jake': 3886, 'tlc': 3887, 'suddenly': 3888, 'sneak': 3889, 'jasoncundy05': 3890, 'utd': 3891, 'pedro': 3892, 'cmon': 3893, 'relax': 3894, 'poem': 3895, 'rained': 3896, 'keeper': 3897, 'runnin': 3898, 'chernobyl': 3899, 'honor': 3900, 'confirmation': 3901, 'mxaaaa': 3902, 'whale': 3903, 'illustration': 3904, 'expensive': 3905, 'itsjustinstuart': 3906, 'odv3rqs8ju': 3907, 'changed': 3908, 'rape': 3909, 'swarm': 3910, 'reminder': 3911, 'milf': 3912, 'oiled': 3913, 'closeup': 3914, 'faogxkwdpg': 3915, 'jihadi': 3916, 'proto': 3917, 'd5h4jif1y3': 3918, 'doug': 3919, 'applaud': 3920, 'sheffield': 3921, 'european': 3922, 'remembered': 3923, 'lil': 3924, '5fcjvml520': 3925, 'fvyrwhux8p': 3926, 'greeting': 3927, 'daddy': 3928, 'ecuador': 3929, 'wonderful': 3930, 'vì': 3931, 'mall': 3932, 'console': 3933, 'instruction': 3934, 'commute': 3935, 'push': 3936, 'workplace': 3937, 'supervisor': 3938, 'sunshine': 3939, 'besides': 3940, 'northwestern': 3941, 'benedict': 3942, 'rohnertparkdps': 3943, 'paid': 3944, 'income': 3945, 'pizza': 3946, 'fishing': 3947, 'lauren': 3948, 'paint': 3949, 'piling': 3950, 'coincide': 3951, 'curb': 3952, 'drum': 3953, 'got7supportph': 3954, 'chilling': 3955, 'mkx': 3956, 'neck': 3957, 'fate': 3958, 'meg': 3959, 'believing': 3960, 'surge': 3961, 'lived': 3962, 'wz55nbyao3': 3963, 'l7pmdmejs1': 3964, 'mdp2ni1pqu': 3965, 'whoa': 3966, 'krnw0wxhe5': 3967, '30pcs': 3968, '12mm': 3969, 'resin': 3970, 'flatback': 3971, 'rhinestone': 3972, 'decoration': 3973, 'fa': 3974, 'cared': 3975, 'idc': 3976, 'lisbon': 3977, 'dressed': 3978, 'lrt': 3979, 'frog': 3980, 'inexpressible': 3981, 'decade': 3982, 'thoyhrhkfj': 3983, 'wvj39a3bgm': 3984, 'address': 3985, 'triggered': 3986, 'dw': 3987, 'trail': 3988, 'wrap': 3989, '114': 3990, 'serial': 3991, 'whats': 3992, 'although': 3993, 'den': 3994, '1000': 3995, 'responsibility': 3996, 'z': 3997, 'fake': 3998, 'reshapes': 3999, 'inch': 4000, 'tgirl': 4001, 'karma': 4002, 'messenger': 4003, 'reward': 4004, 'rated': 4005, 'imdb': 4006, 'doc': 4007, 'si': 4008, 'eysvvza7qm': 4009, 'longbreastyat': 4010, 'gordon': 4011, 'conspiracy': 4012, 'dreaming': 4013, 'placed': 4014, 'dept': 4015, 'swiss': 4016, 'alex': 4017, 'voter': 4018, 'june': 4019, 'bicycle': 4020, 'fly': 4021, 'addict': 4022, 'kraft': 4023, 'alameda': 4024, 'pleasure': 4025, 'particularly': 4026, 'milkshake': 4027, 'sample': 4028, 'j8tyt1xrrk': 4029, '9d4nazoi94': 4030, 'zehrs': 4031, 'waterloo': 4032, 'knob': 4033, 'publicizing': 4034, 'partnership': 4035, 'abandon': 4036, 'specif': 4037, 'closure': 4038, 'honey': 4039, 'conservative': 4040, 'mullah': 4041, 'peaceful': 4042, 'tellyfckngo': 4043, 'jaycootchi': 4044, 'babality': 4045, 'lmfaoooo': 4046, 'dame': 4047, 'mercury': 4048, 'striked': 4049, 'otm': 4050, 'runway': 4051, 'sink': 4052, 'tokyo': 4053, 'reduced': 4054, 'mania': 4055, 'holmgren': 4056, 'cabin': 4057, '360': 4058, 'virus': 4059, 'rexyy': 4060, 'floated': 4061, 'usagov': 4062, 'dove': 4063, 'noah': 4064, 'correspondent': 4065, 'standing': 4066, 'eic': 4067, 'murfreesboro': 4068, 'greenway': 4069, 'bunch': 4070, 'technica': 4071, 'undercover': 4072, 'utter': 4073, 'shock': 4074, 'ihhen': 4075, 'quality': 4076, 'installation': 4077, 'cladding': 4078, 'cbplawyers': 4079, 'discus': 4080, 'leak': 4081, 'cocaine': 4082, 'marijuana': 4083, 'telegraphworld': 4084, 'mmmm': 4085, 'wht': 4086, 'ornament': 4087, 'hillary': 4088, 'code': 4089, 'entered': 4090, 'forbid': 4091, 'contact': 4092, 'celtic': 4093, 'fbi': 4094, 'attractive': 4095, 'helen': 4096, 'shestooyoung': 4097, 'ops': 4098, 'welshninja87': 4099, 'fedporn': 4100, 'absurd': 4101, 'satire': 4102, 'indistinguishable': 4103, 'sight': 4104, 'given': 4105, 'scott': 4106, 'peru': 4107, 'avenger': 4108, 'unsuckdcmetro': 4109, 'leejasper': 4110, 'interestraterise': 4111, 'produce': 4112, 'armory': 4113, 'albany': 4114, 'riyadh': 4115, 'tunnel': 4116, 'climb': 4117, 'waco': 4118, 'wholesale': 4119, 'gon': 4120, 'rep': 4121, 'blackpool': 4122, 'cigarette': 4123, 'jogger': 4124, 'settlement': 4125, 'referring': 4126, 'beatdown': 4127, 'logic': 4128, 'esteemed': 4129, 'tragic': 4130, 'avon': 4131, 'nbc': 4132, 'hang': 4133, 'delete': 4134, 'transporting': 4135, 'specimen': 4136, '98o2kc3a1z': 4137, 'tgdonttkty': 4138, 'interested': 4139, 'stewart': 4140, 'looting': 4141, 'blowing': 4142, 'apparent': 4143, 'scariest': 4144, 'telemarketing': 4145, 'yugvani': 4146, '10th': 4147, 'costa': 4148, 'holiday': 4149, 'yorkshire': 4150, 'ability': 4151, 'pitch': 4152, 'thyroid': 4153, 'freezing': 4154, 'bright': 4155, 'solve': 4156, 'southbound': 4157, 'irvine': 4158, 'chp': 4159, 'detouring': 4160, 'saddlebrooke': 4161, 'foodscare': 4162, 'offers2go': 4163, 'nestleindia': 4164, 'magginoodle': 4165, 'humanconsumption': 4166, 'karnataka': 4167, 'provide': 4168, 'warming': 4169, 'repatriating': 4170, 'wvvgmeja7l': 4171, 'suck': 4172, 'hardly': 4173, 'pointing': 4174, 'borrower': 4175, 'sbhhkkz01y': 4176, 'warrior': 4177, 'condo': 4178, 'afraid': 4179, 'favourite': 4180, 'te': 4181, '1620': 4182, 'odd': 4183, 'skinny': 4184, 'livin': 4185, 'surgery': 4186, 'romania': 4187, 'daniel': 4188, 'sww0qsmxvm': 4189, 'bcdp4gkoka': 4190, 'emotionally': 4191, 'blakeshelton': 4192, 'jeez': 4193, 'ripped': 4194, '103': 4195, 'phixznv1yn': 4196, 'brighton': 4197, 'zak': 4198, 'bagans': 4199, 'cage': 4200, 'yay': 4201, 'utah': 4202, 'cue': 4203, 'davidson': 4204, 'rainier': 4205, 'encounter': 4206, 'mourns': 4207, 'superhero': 4208, 'epilepsy': 4209, 'northeast': 4210, 'ghost': 4211, 'hosting': 4212, 'banquet': 4213, 'nnw': 4214, 'sassy': 4215, 'hunk': 4216, 'smoky': 4217, 'aoms': 4218, 'ibooklove': 4219, 'bookboost': 4220, 'nasa': 4221, 'rightways': 4222, 'vz1irh0nmm': 4223, 'rightwaystan': 4224, 'wod': 4225, 'stack': 4226, 'lubbock': 4227, 'outflow': 4228, 'kelly': 4229, 'railway': 4230, 'context': 4231, 'opened': 4232, 'origin': 4233, 'falphil': 4234, 'compassion': 4235, 'sexist': 4236, 'vegetable': 4237, 'indifference': 4238, 'suffering': 4239, 'forward': 4240, 'wasteland': 4241, 'ccot': 4242, 'cried': 4243, 'jharkhand': 4244, 'kindly': 4245, 'milky': 4246, 'seeker': 4247, 'unto': 4248, 'household': 4249, 'plastic': 4250, 'gemmasterful': 4251, 'unfortunately': 4252, 'ventura': 4253, 'mourning': 4254, 'stabbing': 4255, 'stir': 4256, 'grief': 4257, 'hardcore': 4258, 'farm': 4259, 'penn': 4260, 'inspiring': 4261, 'comic': 4262, '140': 4263, 'hypocrisy': 4264, 'harrybecareful': 4265, 'kamon': 4266, 'waterfront': 4267, 'threw': 4268, 'chunk': 4269, 'revenue': 4270, 'website': 4271, 'threaten': 4272, '158': 4273, 'est': 4274, 'bakersfield': 4275, 'revealed': 4276, 'naperville': 4277, 'robert': 4278, 'log': 4279, 'legal': 4280, 'bother': 4281, '53lorsrgqf': 4282, 'doe': 4283, '9nwajli9cr': 4284, 'attitude': 4285, 'kallemattson': 4286, '3w6sea9tuv': 4287, 'latin': 4288, '6th': 4289, 'james': 4290, 'replacing': 4291, 'survey': 4292, 'aelinrhee': 4293, 'mascara': 4294, 'smeared': 4295, 'destroying': 4296, 'continued': 4297, 'concrete': 4298, 'underway': 4299, 'damaturu': 4300, 'bbqnk76qus': 4301, 'tidal': 4302, 'denier': 4303, 'bahrain': 4304, 'pocatello': 4305, 'ghana': 4306, 'enjoyed': 4307, 'montgomery': 4308, 'treaty': 4309, 'beware': 4310, 'burnt': 4311, 'wipp': 4312, 'various': 4313, 'begging': 4314, 'clean': 4315, 'orangi': 4316, 'sindh': 4317, 'le4brduau9': 4318, 'ring': 4319, 'improvement': 4320, 'wayne': 4321, 'ori': 4322, 'longest': 4323, 'sends': 4324, 'xico': 4325, 'hack': 4326, 'montetjwitter11': 4327, 'challenge': 4328, 'master': 4329, 'richard': 4330, 'rapping': 4331, '2007': 4332, 'lip': 4333, 'darkest': 4334, 'nyt': 4335, 'bedroom': 4336, 'tailor': 4337, 'kay': 4338, 'robbed': 4339, 'planted': 4340, 'sort': 4341, 'gn': 4342, 'val': 4343, 'march': 4344, 'kashmir': 4345, '106': 4346, 'fury': 4347, 'corleonedaboss': 4348, 'tumbling': 4349, 'registered': 4350, 'uhkxmxab9l': 4351, 'study': 4352, 'political': 4353, 'cta': 4354, 'transformation': 4355, 'zero': 4356, 'victory': 4357, 'alien': 4358, 'formed': 4359, 'murderous': 4360, 'hood': 4361, 'cobra': 4362, 'safely': 4363, 'oak': 4364, 'guildford': 4365, 'lao': 4366, 'underwater': 4367, 'vision': 4368, 'responding': 4369, '8fvqrizoux': 4370, 'realdonaldtrump': 4371, 'df9fjonvep': 4372, 'punjab': 4373, 'refused': 4374, 'perhaps': 4375, 'develop': 4376, 'cam': 4377, 'rating': 4378, 'e1': 4379, 'particulate': 4380, 'fossil': 4381, 'voltaic': 4382, 'voc': 4383, 'petroleum': 4384, 'bacteria': 4385, 'decomposition': 4386, 'standwithpp': 4387, 'aztec': 4388, 'engineer': 4389, 'cle': 4390, 'transportation': 4391, 'showing': 4392, 'ûïmake': 4393, 'amssummer': 4394, 'd': 4395, 'lapse': 4396, 'fitness': 4397, 'streaming': 4398, 'selfie': 4399, 'marquei': 4400, 'como': 4401, 'visto': 4402, 'kissed': 4403, 'bancodeseries': 4404, 'eden': 4405, 'psychological': 4406, 'notorious': 4407, 'laboratory': 4408, 'dealer': 4409, 'peta': 4410, 'qgqlpmrfjd': 4411, 'homosexuality': 4412, 'garbage': 4413, 'lmfao': 4414, 'que': 4415, 'enterprise': 4416, 'bot': 4417, 'weakness': 4418, 'follows': 4419, '45pm': 4420, 'damaging': 4421, 'spinningbot': 4422, 'tie': 4423, 'tyler': 4424, 'tool': 4425, 'spanish': 4426, 'til': 4427, 'iranian': 4428, 'brings': 4429, 'gilbert23': 4430, 'e8dl1lncvu': 4431, 'ykvsttvdwo': 4432, 'ifqqpur99x': 4433, 'oun': 4434, 'dollar': 4435, 'enabled': 4436, 'kalle': 4437, 'mattson': 4438, 'recreates': 4439, 'clever': 4440, 'wither': 4441, 'excited': 4442, 'fixing': 4443, 'mishacollins': 4444, 'hop': 4445, 'y46isyzkc8': 4446, 'tale': 4447, 'otsm38xmas': 4448, '4bcqzqjrzn': 4449, 'paname': 4450, 'robertharding': 4451, 'repjohnkatko': 4452, 'argument': 4453, 'grateful': 4454, 'monster': 4455, 'bff': 4456, 'zrzejpef5j': 4457, 'barn': 4458, 'tulsa': 4459, 'proud': 4460, 'yep': 4461, 'dam': 4462, 'camping': 4463, 'buddha': 4464, 'allegation': 4465, 'throw': 4466, 'haddonfield': 4467, 'shark': 4468, 'ottawa': 4469, 'vortex': 4470, 'catcher': 4471, 'oiywrzl79z': 4472, 'greek': 4473, 'knocking': 4474, 'sexy': 4475, '616': 4476, 'idp': 4477, 'monitoring': 4478, 'cal': 4479, 'cotton': 4480, 'omgggg': 4481, 'amsterdayum': 4482, '120615': 4483, '062415': 4484, 'monday': 4485, 'gopdebate': 4486, 'momneedscoffee': 4487, 'iwontmakeit': 4488, 'vernon': 4489, 'scoopit': 4490, 'acting': 4491, 'sr': 4492, 'journal': 4493, 'maj': 4494, 'muzzamil': 4495, 'offr': 4496, 'otherwise': 4497, 'vanuatu': 4498, 'afmkcfn1tl': 4499, 'devalue': 4500, 'logo': 4501, 'pattern': 4502, 'stormbeard': 4503, 'juda': 4504, 'rob': 4505, 'astonishing': 4506, 'gig': 4507, 'beer': 4508, 'fm': 4509, 'samanthaturne19': 4510, 'forgiven': 4511, 'caution': 4512, 'galaxy': 4513, 'downfall': 4514, 'scar': 4515, 'warne': 4516, 'shocked': 4517, 'experienced': 4518, 'murdered': 4519, 'edyfo6e2pu': 4520, 'm5kxlpkfa1': 4521, '302': 4522, 'ruined': 4523, 'cream': 4524, 'collins': 4525, 'za4axfjsvb': 4526, 'salvadoran': 4527, 'earner': 4528, 'mohammed': 4529, 'canoe': 4530, 'quarrel': 4531, '2008': 4532, 'haunting': 4533, 'norman': 4534, 'marge': 4535, 'eheks': 4536, 'fluffy': 4537, 'pedestrian': 4538, 'staining': 4539, 'budmke3nnf': 4540, 'jr': 4541, 'zodiac': 4542, 'trey': 4543, 'dupree': 4544, 'sparkz': 4545, 'beatz': 4546, 'chuck': 4547, 'hdkd9j2lw0': 4548, 'iii': 4549, 'float': 4550, 'fifa16': 4551, 'etuuyislhw': 4552, 'hmm': 4553, 'canberra': 4554, '5sos': 4555, 'michael5sos': 4556, '78': 4557, 'derails': 4558, 'damnnnn': 4559, 'gmcr': 4560, 'whomever': 4561, 'accordingly': 4562, 'william': 4563, 'pleasanton': 4564, 'irish': 4565, 'independent': 4566, 'prayer': 4567, 'salmon': 4568, 'danisnotonfire': 4569, 'phil': 4570, 'dakota': 4571, 'jmastrodonato': 4572, 'ortiz': 4573, 'bunting': 4574, 'forefather': 4575, 'fill': 4576, 'multi': 4577, 'startide': 4578, 'hotter': 4579, '3x': 4580, 'maricopa': 4581, 'gps': 4582, 'marin': 4583, 'anonymous': 4584, 'earnings': 4585, 'wee': 4586, 'shoot': 4587, 'rutherford': 4588, 'regarding': 4589, 'ha': 4590, 'twia': 4591, 'resulted': 4592, 'bu': 4593, 'obispo': 4594, 'villager': 4595, 'healing': 4596, 'henderson': 4597, 'dwilliams313': 4598, 'ieansquad': 4599, 'nu6wrp716d': 4600, 'westend': 4601, 'puritan': 4602, 'thu': 4603, 'blah': 4604, 'especially': 4605, 'steal': 4606, 'ak': 4607, 'entrepreneur': 4608, 'runaway': 4609, 'u2kwof3wtj': 4610, 'beluga': 4611, 'seaworld': 4612, 'opseaworld': 4613, 'mzk5ujlfcv': 4614, 'zimbabwe': 4615, 'plenty': 4616, 'ipa': 4617, 'radler': 4618, 'a8nmdkd3rv': 4619, '412': 4620, 'haiyan': 4621, 'witness': 4622, 'tony': 4623, 'harper': 4624, 'zujwuiomb3': 4625, 'paignton': 4626, '57': 4627, 'dope': 4628, 'leadership': 4629, 'cc': 4630, 'smithsonian': 4631, 'wanting': 4632, 'ethereal': 4633, 'bare': 4634, 'abu': 4635, 'baraa1': 4636, 'iraqi': 4637, 'evansville': 4638, 'construction': 4639, 'tremor': 4640, 'audience': 4641, 'dq': 4642, 'hitting': 4643, 'olympic': 4644, 'frozen': 4645, 'flashback': 4646, 'cork': 4647, 'upstairs': 4648, 'hartford': 4649, 'election': 4650, 'mongolia': 4651, 'wrapup': 4652, 'disappoints': 4653, 'eric': 4654, '375': 4655, 'mat': 4656, 'writer': 4657, 'witter': 4658, 'komen': 4659, 'environmental': 4660, 'ph': 4661, 'sac': 4662, 'sore': 4663, 'moines': 4664, 'shelli': 4665, 'crown': 4666, 'niece': 4667, 'previously': 4668, '200': 4669, 'brutally': 4670, 'treated': 4671, 'justified': 4672, 'domestic': 4673, 'sarasota': 4674, 'springer': 4675, 'g03dkpoonp': 4676, 'go0hpi0b4c': 4677, 'pretend': 4678, 'palermo': 4679, 'southampton': 4680, 'snap': 4681, '166': 4682, 'medieval': 4683, 'lit': 4684, 'harris': 4685, 'favor': 4686, 'sb': 4687, 'i5': 4688, 'ffkcj8pfj2': 4689, 'music212': 4690, 'ûªarabia': 4691, 'aseer': 4692, 'pmtqhivsxx': 4693, 'catalinas': 4694, 'n0tawgezjx': 4695, 'zourryart': 4696, 'acarewornheart': 4697, 'thda': 4698, 'xzlrwc0pik': 4699, 'o5xlxmkoyq': 4700, 'vacancy': 4701, 'artumhmbhh': 4702, 'redeemer': 4703, '4h8qyvvd0e': 4704, 'romanticsuspense': 4705, 'snaymldiun': 4706, 'hoop': 4707, 'violation': 4708, 'pf8dxwibdp': 4709, 'socialmedia': 4710, 'qfjjdxes7g': 4711, 'tweetlikeitsseptember11th2001': 4712, 'vbffodtp6m': 4713, 'fran': 4714, '209923': 4715, '545328': 4716, 'scrolling': 4717, 'exact': 4718, 'shady': 4719, 'pine': 4720, 'compete': 4721, 'e65v80fcus': 4722, 'ameribag': 4723, 'khaki': 4724, 'beige': 4725, 'nylon': 4726, 'r4k7tylofj': 4727, 'xum8ylcb4q': 4728, 'excessive': 4729, 'emerging': 4730, 'sheen': 4731, 'suresh': 4732, 'harda': 4733, 'regr': 4734, 'q5mlbodvm4': 4735, 'sept': 4736, 'eo2f96wxpz': 4737, 'bieyguqpb1': 4738, 'h1xigcen7f': 4739, 'gamer': 4740, 'troll': 4741, 'backtoback': 4742, 'chargedup': 4743, '17000': 4744, 'n8ezfctfce': 4745, 'fanarmyfaceoff': 4746, 'kgtxnnbj7y': 4747, 'szuter': 4748, '9e2f7bivle': 4749, '4zqrsaqrrt': 4750, '6ar3ukvsxw': 4751, 'scotrail': 4752, 'bloke': 4753, 'hassle': 4754, 'roofing': 4755, 'u30n3ffx8y': 4756, 'orphanage': 4757, 'obviously': 4758, 'dja4relcns': 4759, 'f8gvwkfqox': 4760, 'animation': 4761, 'argentaelite': 4762, 'thuggin': 4763, '4cog0otiwn': 4764, '72ix7vm87w': 4765, 'argent': 4766, 'm4jdzmgjow': 4767, 'n0uhasfkbv': 4768, 'downstairs': 4769, 'rhiannon': 4770, 'hungover': 4771, 'uhmmmm': 4772, 'huhwpmrywz': 4773, 'dorett': 4774, 'zevan9kjzl': 4775, 'uuzfs1l5kt': 4776, 'charlesadler': 4777, 'browner': 4778, 'render': 4779, 'ssu': 4780, 'ks7ln8hq8s': 4781, 'paulista': 4782, 'someplace': 4783, 'leyjwnnah8': 4784, 'blockage': 4785, 'woodward': 4786, 'northbound': 4787, 'davison': 4788, 'shoalstraffic': 4789, 'srajapakse': 4790, 'missy': 4791, 'suited': 4792, 'yee': 4793, 'haw': 4794, 'konoha': 4795, 'dawgs': 4796, 'dak': 4797, 'jak': 4798, 'igyu2peiu3': 4799, 'hattiesburg': 4800, 'amaramin3': 4801, 'capable': 4802, 'smooth': 4803, 'danryckert': 4804, 'drewscanlon': 4805, 'stealth': 4806, 'silenced': 4807, 'm4': 4808, 'gucci': 4809, 'mkrxqzehmy': 4810, 'gm80x3vutf': 4811, 'qymalttvzp': 4812, 'postapocalypticflimflam': 4813, 'prodding': 4814, 'bgy4i47j70': 4815, 'tejas': 4816, 'thesmallclark': 4817, 'trigger': 4818, '3others': 4819, 'hardest': 4820, 'yard': 4821, '20000k': 4822, 'warwick': 4823, 'dollarocracy': 4824, 'marley': 4825, 'brinx': 4826, 'striptease': 4827, 'pounding': 4828, 'ferrochrome': 4829, 'verge': 4830, 'sandton': 4831, 'spicybreads': 4832, 'coxytown': 4833, 'downloading': 4834, 'stable': 4835, 'q5mdsnbcmh': 4836, 'fujiwara': 4837, 'shunichiro': 4838, 'hatena': 4839, 'bookmark': 4840, '28t3nwhdky': 4841, '0mcxc68gzd': 4842, 'etswuod3om': 4843, 'wlmsq3mtho': 4844, 'arvada': 4845, 'bekrpjnyhs': 4846, 'qew': 4847, 'approaching': 4848, '405': 4849, 'removed': 4850, 'bftou2nybw': 4851, 'adidas': 4852, 'swingman': 4853, 't81oayjowc': 4854, 'dec': 4855, 'dywwnbbyvj': 4856, 'h20': 4857, 'deploy': 4858, 'posted': 4859, '5ytiex55lh': 4860, 'laughtraders': 4861, 'capitulation': 4862, 'wate': 4863, 'vvorm': 4864, 'hearitfrompatty': 4865, '60000': 4866, '42gw2i2q41': 4867, 'mumbai24x7': 4868, 'ind': 4869, 'tuaryijpqu': 4870, 'phelimkine': 4871, '8go68kje4b': 4872, '0krw1zyahm': 4873, 'qpur3vd7hl': 4874, 'creationmin': 4875, 'rwrabbit': 4876, 'gooneratheist': 4877, 'atheistic': 4878, 'lolatjesus': 4879, 'aix': 4880, 'provence': 4881, 'utrecht': 4882, 'lolla': 4883, 'yrfz5wj7r2': 4884, 'drob': 4885, 'theghostparty': 4886, 'cocker': 4887, 'rjrmw7nzy5': 4888, 'brant': 4889, 'drummond': 4890, 'eudwnfyuem': 4891, 'u4bdy1w7d4': 4892, 'blank': 4893, 'expression': 4894, 'cheek': 4895, 'clapping': 4896, 'marvins': 4897, 'subtlety': 4898, 'dieanpink95': 4899, 'yu': 4900, 'nita99': 4901, 'traveller': 4902, 'qsheu3yf0w': 4903, 'jixscpmdud': 4904, 'ibrahimmisau': 4905, '5zcje7arci': 4906, 'havxobcsvu': 4907, '414510': 4908, '942499': 4909, 'breeder': 4910, 'bred': 4911, 'dragonvale': 4912, 'qgum9xheos': 4913, 'kf0qybkzol': 4914, 'chromsucks': 4915, 'cheese3d': 4916, 'shitton': 4917, 'exclusively': 4918, 'playthrough': 4919, 'sqoa1wv4um': 4920, 'amateur': 4921, 'actress': 4922, 'reprises': 4923, 'horrormovies': 4924, 'w9cd6offcj': 4925, 'tub': 4926, 'qxh1h61cwd': 4927, 'exhaustion': 4928, 'bummerville': 4929, 'otw': 4930, 'hhs': 4931, 'selects': 4932, 'qmo1txxdkj': 4933, 'photogenic': 4934, 'gosh': 4935, 'nearest': 4936, 'hvbj30aj9s': 4937, 'obstacle': 4938, 'dontexpectnothing': 4939, 'yuba': 4940, 'disappeared': 4941, '17months': 4942, 'nrhurysypd': 4943, 'uprootin': 4944, 'fhvokmphed': 4945, 'qqc0gkbegs': 4946, 'efs300': 4947, 'zstuvsbqq0': 4948, 'trek': 4949, 'charon': 4950, 'q8ivrzojzv': 4951, 'byuwnbeki': 4952, 'tacit': 4953, 'raging': 4954, 'kaumelite': 4955, 'vor': 4956, 'smofc': 4957, '2lbtshxi3c': 4958, '0jmkdtcymj': 4959, '40pm': 4960, 'tq1ruqd4lg': 4961, 'hunwx': 4962, 'e3l1jqjh2u': 4963, 'mistaken': 4964, 'cataclysmic': 4965, 'reator': 4966, 'senzu': 4967, 'gohan': 4968, 'pouch': 4969, 'russaky89': 4970, '410': 4971, 'bsmj2hvgwd': 4972, 'bxalnedy49': 4973, 'drmartyfox': 4974, 'libs': 4975, 'harbour': 4976, 'asukager': 4977, 'magical': 4978, 'swag': 4979, 'booty': 4980, 'xv': 4981, 'tampabay': 4982, 'unhappy': 4983, 'purposely': 4984, 'garrett': 4985, 'eur': 4986, 'bwin': 4987, 'sikkg0fphr': 4988, 'jfyfzddlrn': 4989, 'wakeupflorida': 4990, 'floridian': 4991, 'trophyhunt': 4992, 'j5in8mexaj': 4993, 'scarier': 4994, '8jcyxhq1az': 4995, 'cameronciletti': 4996, 'tigersjostun': 4997, 'jolly': 4998, 'jinu': 4999, 'babri': 5000, 'todayhave': 5001, 'revenge': 5002, 'skipping': 5003, 'fant4stic': 5004, 'carmi': 5005, 'kqvn1utpmm': 5006, 'burbank': 5007, 'guvtizyche': 5008, 'defensenews': 5009, 'comus': 5010, 'subsd': 5011, 'sy2whxt0k5': 5012, 'uhf7nyabsw': 5013, 'howling': 5014, 'complaining': 5015, 'emblem': 5016, 'gigant': 5017, 'agalloch': 5018, 'istanbul': 5019, 'laevantine': 5020, 'reworked': 5021, 'plumbing': 5022, 'glitter': 5023, 'erker': 5024, 'eep': 5025, 'hella': 5026, 'setlist': 5027, 'awpu0gae0b': 5028, 'tj': 5029, 'marquis': 5030, 'rmg': 5031, 'sketch': 5032, 'ûïyou': 5033, 'machinegunkelly': 5034, 'underground': 5035, 'biggangvh1': 5036, 'snapharmony': 5037, 'ypvvqz8jzt': 5038, 'often': 5039, 'bengal': 5040, 'mamata': 5041, 'banerjee': 5042, 'dvc': 5043, 'pgxfocghqg': 5044, 'paonia': 5045, 'dock': 5046, 'cheryl': 5047, 'obsessed': 5048, 'cole': 5049, 'texansdc': 5050, 'kylekrenek': 5051, 'zepp1978': 5052, 'frobeus': 5053, 'ns': 5054, 'teddy': 5055, 'baqocmcjqc': 5056, 'host': 5057, 'bal': 5058, 'thigh': 5059, 'witch': 5060, 'mogadishu': 5061, 'opposition': 5062, 'comingsoon': 5063, 'manaus': 5064, 'tx51oybrn6': 5065, 'thenewshype': 5066, 'nantes': 5067, 'gyh00mrkjm': 5068, 'bg': 5069, 'adjuster': 5070, 'safeco': 5071, '3k42mjvqca': 5072, 'mirad': 5073, 'c6lgtotvsf': 5074, 'cedar': 5075, 'hahahah': 5076, 'worrying': 5077, 'detains': 5078, 'xuub2hbli5': 5079, 'h5epx2d1ga': 5080, 'firetruck': 5081, '911': 5082, 'hazmat': 5083, 'longaberger': 5084, 'floral': 5085, 'fabric': 5086, 'strap': 5087, 'fb8snrg4hu': 5088, 'tarzana': 5089, 'hkyfkug5zw': 5090, 'lunasagalle': 5091, 'synapsenkotze': 5092, 'bastard': 5093, 'realize': 5094, 'closest': 5095, 'motogp': 5096, 'espargaro': 5097, 'layout': 5098, 'rny4l3sr7a': 5099, 'igx8xfz8ko': 5100, '50vdq7a1m5': 5101, 'qh6oxft9ir': 5102, 'cherokee': 5103, 'tricycle': 5104, 'ljeryhitwh': 5105, 'hashd': 5106, 'shaabi': 5107, 'theft': 5108, '2ag9auabr3': 5109, 'qna4tubnwh': 5110, 'brianroemmele': 5111, 'ux': 5112, 'emv': 5113, 'insert': 5114, 'stripe': 5115, 'reader': 5116, 'golf': 5117, 'faith': 5118, 'oneonta': 5119, 'staten': 5120, '2jr3yo55dr': 5121, 'vantage': 5122, 'explain': 5123, 'nsw': 5124, 'cycling': 5125, 'b0zwi0qptu': 5126, 'travelelixir': 5127, 'helo': 5128, 'apt': 5129, 'gfdhfmpcel': 5130, 'everydaynaija': 5131, 'nonm8c6l8p': 5132, 'everydaynigerian': 5133, 'freegeezy17': 5134, 'powerbraking': 5135, 'aisumage': 5136, 'akumareisu': 5137, 'ophelia': 5138, 'luv': 5139, 'distinct': 5140, 'rotation': 5141, 'nomad': 5142, 'digging': 5143, 'expense': 5144, 'sg': 5145, 'knockout': 5146, 'nyv51681ue': 5147, 'preparing': 5148, 'longs': 5149, 'islamabad': 5150, 'iconic': 5151, 'wbre': 5152, 'wyou': 5153, 'jhvigsx5jg': 5154, 'a2tiivnjdy': 5155, 'fw2xifj6ec': 5156, 'tarragona': 5157, 'truelove': 5158, 'lith': 5159, 'seduction': 5160, 'astrology': 5161, 'rtrrt': 5162, 'lotz': 5163, 'avoided': 5164, 'delo': 5165, 'scuf': 5166, 'heyimginog': 5167, 'gambit': 5168, 'noaa': 5169, 'looping': 5170, 'destination': 5171, '0ajisa5531': 5172, 'hugomatz': 5173, 'vam5podgyw': 5174, 'zevakjapcz': 5175, 'devil': 5176, 'fabvlvn5ms': 5177, 'radychildrens': 5178, 'igwstttkwk': 5179, 'wildomar': 5180, 'k5fijankjb': 5181, 'gyqlaoz3l2': 5182, 'stripped': 5183, 'wynne': 5184, 'kathrynschulz': 5185, 'cascadia': 5186, 'libertygeek83': 5187, 'kissing': 5188, 'lej5onus9q': 5189, 'negro': 5190, 'awadgolf': 5191, 'capitalist': 5192, 'elect': 5193, 'firefighting': 5194, 'easternoregon': 5195, 'v6qxnfhrxf': 5196, 'remorse': 5197, '5c': 5198, 'benson': 5199, 'clegg': 5200, 'btdjgwekqx': 5201, 'haley': 5202, 'manuel': 5203, 'accuracy': 5204, 'improves': 5205, 'wakefield': 5206, 'åç': 5207, 'glory': 5208, 'rave': 5209, 'regret': 5210, 'jennifer': 5211, 'aniston': 5212, 'muscle': 5213, 'explicitly': 5214, 'qadrkejz9t': 5215, 'jul': 5216, 'sirensicebreaker': 5217, 'diverse': 5218, 'hpljur0obo': 5219, 'falcon': 5220, 'chick': 5221, 'chewing': 5222, 'bedford': 5223, 'perquisite': 5224, 'pair': 5225, 'blizzheroes': 5226, 'diablo': 5227, 'transformed': 5228, 'farrakhan': 5229, 'boeing': 5230, 'cockpit': 5231, 'marketing': 5232, 'manitou': 5233, 'fantastic': 5234, 'whistle': 5235, 'reflects': 5236, 'hanneman': 5237, 'hiphop': 5238, 'indie': 5239, 'possibly': 5240, 'danemillar1': 5241, 'morocco': 5242, 'bash': 5243, 'cheated': 5244, 'organization': 5245, 'insight': 5246, 'parking': 5247, 'csaresu': 5248, 'sdmrzgeryx': 5249, 'sdgoutwntb': 5250, 'potentially': 5251, 'ibiza': 5252, 'pill': 5253, 'ava': 5254, 'matching': 5255, 'hu5cxqnobf': 5256, 'tak': 5257, 'egypt': 5258, 'blacklivesmatter': 5259, 'crude': 5260, 'grab': 5261, 'sikh': 5262, 'dviyer': 5263, 'colorlines': 5264, 'nlbltynv36': 5265, 'bjrrqhhohl': 5266, 'goetjgihop': 5267, 'p8yr2po6jn': 5268, 'nghlth': 5269, 'freiza': 5270, 'cleanest': 5271, 'titanic': 5272, 'shaped': 5273, 'yelp': 5274, 'bolster': 5275, 'investigative': 5276, 'e8aegofdy2': 5277, 'sharethis': 5278, 'sarniamakchris': 5279, 'hromadske': 5280, 'kasiadear33': 5281, 'silly': 5282, '7000': 5283, 'yo3t8qho9h': 5284, 'nkulw': 5285, '8odtzmvqar': 5286, 'tna': 5287, 'appease': 5288, 'morbid': 5289, 'curiosity': 5290, 'destinationimpact': 5291, 'gloria': 5292, 'gaynor': 5293, 'oktaviana': 5294, 'devi': 5295, 'hukjz1wt36': 5296, 'camberwell': 5297, 'catching': 5298, 'mousse': 5299, 'tuai0zwgxu': 5300, 'cont': 5301, 'coursing': 5302, 'weyrey': 5303, 'jcdd6sd6qn': 5304, '9guckjghms': 5305, 'careless': 5306, 'campfire': 5307, 'epicenter': 5308, 'kentucky': 5309, 'knowing': 5310, 'abuse': 5311, 'prone': 5312, 'bae': 5313, 'orianna': 5314, 'increasing': 5315, 'lawx': 5316, 'u0sykowvwv': 5317, 'hollyorange8': 5318, 'spa': 5319, 'ex6jzqj3ni': 5320, 'freshman': 5321, '9nly2tovud': 5322, 'pissed': 5323, '77': 5324, 'iredell': 5325, '55': 5326, 'cowboy': 5327, 'rkb7egkveb': 5328, 'blonde': 5329, 'fry': 5330, 'zmwecbwvao': 5331, 'disgusting': 5332, 'ahhhh': 5333, 'y678xsnvj6': 5334, 'jdb': 5335, 'ljc': 5336, 'agb': 5337, 'tw': 5338, 'messi': 5339, 'ronaldo': 5340, 'lloyd': 5341, 'tix': 5342, 'bolton': 5343, 'hua': 5344, 'missambear': 5345, 'e90j3vjolc': 5346, 'newark': 5347, 'dave': 5348, 'an3w16c8f6': 5349, 'zxathetis': 5350, 'badly': 5351, 'forging': 5352, 'manutd': 5353, 'libertarianluke': 5354, 'honest': 5355, 'rampage': 5356, 'canadian': 5357, 'imawesome7986': 5358, 'decisionsondecisions': 5359, 'agreed': 5360, 'repay': 5361, 'yhmregauxz': 5362, 'soldi': 5363, 'obsz45ybaj': 5364, 'x8zqbwnfo1': 5365, 'dn5buo7gsk': 5366, 'catfish': 5367, 'retweeted': 5368, 'jeannathomas': 5369, 'vic': 5370, 'practicing': 5371, 'comma': 5372, 'snapchatselfie': 5373, 'wrongperson': 5374, 'middlesbrough': 5375, 'obligation': 5376, 'kla': 5377, '688': 5378, 'y7peto0dx2': 5379, 'oshawa': 5380, 'girlthatsrio': 5381, 'wannabe': 5382, 'pickup': 5383, 'artist': 5384, 'saadthe': 5385, 'kpdied': 5386, '2007he': 5387, 'kppolice': 5388, 'trancy': 5389, 'vjsaqpxngn': 5390, 'enniscrone': 5391, 'aughris': 5392, 'sligo': 5393, 'restive': 5394, 'northwest': 5395, 'aisle': 5396, 'dedicated': 5397, 'director': 5398, 'dcdecfv934': 5399, 'dwbc1duvdk': 5400, 'insult': 5401, 'birth': 5402, 'rhee1975': 5403, 'deliciousvomit': 5404, 'protection': 5405, 'lift': 5406, 'glided': 5407, 'tin': 5408, 'prompted': 5409, 'puppy': 5410, 'askin': 5411, 'nasty': 5412, 'awkward': 5413, 'stomach': 5414, 'beacon': 5415, 'escaped': 5416, 'insomnia': 5417, 'yahoo': 5418, 'fifty': 5419, 'dual': 5420, 'outlet': 5421, 'trend': 5422, 'dysfunctional': 5423, 'mcconnell': 5424, 'judicial': 5425, 'nomination': 5426, 'govern': 5427, 'vt2aky5mgk': 5428, 'eugene': 5429, 'turnedonfetaboo': 5430, 'hsjb215': 5431, 'e1wrvyzfkv': 5432, 'fouseytube': 5433, 'moderate': 5434, 'spreading': 5435, 'cali': 5436, '509': 5437, 'grew': 5438, 'nap': 5439, 'fdny': 5440, 'inciweb': 5441, 'ana': 5442, 'holistic': 5443, 'dispensary': 5444, 'yvv1rlghft': 5445, 'smartnews': 5446, 'impressive': 5447, 'mostly': 5448, 'reopen': 5449, 'santaclara': 5450, 'pkwy': 5451, 'bayarea': 5452, 'pmlohzurwr': 5453, 'clara': 5454, 'schism': 5455, 'dqtmtpqmbr': 5456, 'dmsnyptscy': 5457, 'qouxigdtbz': 5458, 'removing': 5459, 'kind': 5460, 'mtvsummerstar': 5461, 'videoveranomtv': 5462, 'lana': 5463, 'rey': 5464, 'campinas': 5465, 'windows10': 5466, '3fzidhqrk3': 5467, 'eazzy': 5468, 'warranted': 5469, 'jap': 5470, 'michel': 5471, 'imported': 5472, 'bluebell': 5473, 'p9rymfjcux': 5474, 'innovation': 5475, 'bump': 5476, 'omb3os54tn': 5477, 'schelbertgeorg': 5478, 'teaching': 5479, 'ren': 5480, 'tunes': 5481, 'wgg': 5482, 'inject': 5483, 'vein': 5484, 'indoors': 5485, 'judgement': 5486, 'mpc': 5487, 'fvlgu1nayr': 5488, 'dorset': 5489, 'whoop': 5490, 'chann': 5491, '100nd': 5492, 'handle': 5493, 'hieroglyphic': 5494, 'lowly': 5495, 'im6m4xaen2': 5496, 'woosley': 5497, 'newrelease': 5498, 'edge': 5499, 'jimmy': 5500, 'lapaka': 5501, '4l8h2fklno': 5502, 'zitqkdfxjy': 5503, 'reply': 5504, 'horizon': 5505, 'layang': 5506, 'anthony': 5507, 'everytime': 5508, 'evacuating': 5509, 'walton': 5510, 'eastwood77': 5511, 'knobhead': 5512, 'duvuzhmvut': 5513, 'stuns': 5514, 'aw': 5515, 'beached': 5516, 'kerry': 5517, 'rqbspucjdf': 5518, 'basic': 5519, 'uqnj6nk9y3': 5520, 'qlnnmxzfqk': 5521, 'taught': 5522, 'wud': 5523, 'urgent': 5524, '5cm0lfzhxn': 5525, 'jakartapost': 5526, 'haiti': 5527, 'coat': 5528, 'worn': 5529, 'lately': 5530, 'msuy4qtpk9': 5531, 'doflamingo': 5532, 'dougmartin17': 5533, 'quincy': 5534, 'kabul': 5535, 'posting': 5536, 'pickle': 5537, 'priceless': 5538, 'tdhn9zy0er': 5539, 'kca': 5540, 'votejkt48id': 5541, '12news': 5542, 'housed': 5543, '90th': 5544, 'osborn': 5545, 'extinguished': 5546, 'che': 5547, 'guevara': 5548, 'gljbnsfgll': 5549, 'hannah': 5550, 'recorded': 5551, 'batting': 5552, 'engvaus': 5553, 'rowyso': 5554, 'hamburg': 5555, 'tracklist': 5556, 'whenever': 5557, 'loaded': 5558, 'bcsxyec4ji': 5559, 'dfxi76kvx0': 5560, 'xehwmsh7lv': 5561, 'solano': 5562, 'sr37': 5563, 'skaggs': 5564, 'mylieruxk1': 5565, 'receives': 5566, 'impacting': 5567, 'drvm8isote': 5568, 'anderson': 5569, 'ethiopian': 5570, 'regime': 5571, 'gtfo': 5572, 'alternative': 5573, 'bundle': 5574, 'tallahassee': 5575, 'protecting': 5576, 'shirt': 5577, 'xbmm7ite9q': 5578, 'rapidcity': 5579, 'cheyenne': 5580, 'button': 5581, 'fiore': 5582, 'scale': 5583, 'bearer': 5584, 'whose': 5585, 'proper': 5586, 'waterway': 5587, 'sjkgjxff2r': 5588, 'lukebox': 5589, '0nr4dpjgyl': 5590, 'exhibition': 5591, 'bc19': 5592, 'thehighfessions': 5593, 'blasted': 5594, 'pancake': 5595, '20yrs': 5596, 'timkaine': 5597, 'woodlawn': 5598, 'catechize': 5599, 'confidential': 5600, 'finer': 5601, 'subatomic': 5602, 'spell': 5603, '2wcbrgn62j': 5604, 'blevins': 5605, 'f1bakpnyn6åê': 5606, 'lzxwoaye4x': 5607, 'barackobama': 5608, 'accionempresa': 5609, 'gerenciatodos': 5610, 'virtual': 5611, 'listing': 5612, 'fir': 5613, 'cannon': 5614, 'predator': 5615, 'sweet2young': 5616, '3x6rbqjhn3': 5617, 'uke': 5618, 'kidsthesedays': 5619, 'wrqf6u55hh': 5620, 'hoped': 5621, 'baan': 5622, 'thai': 5623, 'sushi': 5624, 'udp10frxrl': 5625, 'cartoony': 5626, 'papa': 5627, '4zmcqrmois': 5628, 'lesbian': 5629, 'peak': 5630, 'dystopian': 5631, 'rifle': 5632, 'tuning': 5633, 'ibed3xg7fy': 5634, 'zaynmalik': 5635, 'overwork': 5636, 'reacted': 5637, 'pawsox': 5638, '9ckgggyvou': 5639, 'u0vdbrxfia': 5640, 'wasp': 5641, 'dive': 5642, 'placing': 5643, 'psychiatric': 5644, 'predjama': 5645, 'eslovenia': 5646, 'elianaraquel': 5647, 'wilden': 5648, 'littleton': 5649, 'cloudy': 5650, 'johnsontionne': 5651, 'volunteer': 5652, 'weighs': 5653, 'yycstorm': 5654, 'photoset': 5655, 'kurd': 5656, 'raised': 5657, 'dothraki': 5658, 'mateo': 5659, 'mirage': 5660, 'addition': 5661, 'meant': 5662, 'pb': 5663, 'daubt': 5664, 'chubychux': 5665, '71vdjhjnwv': 5666, '662': 5667, 'reoz7h3em8': 5668, 'chamblee': 5669, 'laguna': 5670, 'durban': 5671, 'brooke': 5672, 'hogan': 5673, 'thanking': 5674, 'publicity': 5675, 'alphen': 5676, 'aan': 5677, 'rijn': 5678, 'pasta': 5679, 'refuse': 5680, 'yemen': 5681, 'm3': 5682, 'articals': 5683, 'qd3dssfwue': 5684, 'twitterville': 5685, 'njd28pg9xv': 5686, 'quake': 5687, 'important': 5688, 'btw': 5689, 'fourth': 5690, 'leesburg': 5691, 'j5mkcbkcov': 5692, 'stu': 5693, 'tyre': 5694, 'baseballquotes1': 5695, 'dynasty': 5696, 'nrc': 5697, 'pztbqimpuw': 5698, 'nbcnews': 5699, 'reaad': 5700, 'plsss': 5701, 'aggressif': 5702, 'opposite': 5703, 'jeddah': 5704, 'beneath': 5705, 'gif': 5706, 'impending': 5707, 'wnd': 5708, '030': 5709, 'cld': 5710, 'inst': 5711, 'apch': 5712, 'rwy': 5713, 'oper': 5714, '2030': 5715, 'taxiway': 5716, 'navbl': 5717, 'tmp': 5718, '9k1tqsaarm': 5719, 'ev3nx9scx3': 5720, 'jkd7cti2iw': 5721, 'lajn2n5e2d': 5722, 'cumming': 5723, 'sophiewisey': 5724, 'roadworks': 5725, 'disruptive': 5726, 'tottenham': 5727, 'somerset': 5728, '119000': 5729, '966': 5730, 'eu8jypizsd': 5731, 'janenelson097': 5732, 'stephenscifi': 5733, 'adaptation': 5734, 'optioned': 5735, 'sciencefiction': 5736, '1200': 5737, 'generalnews': 5738, 'auf4j4owj1': 5739, '1940': 5740, 'angela': 5741, 'sander': 5742, 'roundhouse': 5743, 'popcorn': 5744, 'nxgerxa': 5745, 'admin': 5746, 'circus': 5747, 'hermitage': 5748, 'etisalat': 5749, 'mb': 5750, 'lalaloopsy': 5751, 'doll': 5752, 'seed': 5753, 'sunburst': 5754, 'seashore': 5755, 'spice': 5756, 'nyty7fcqo6': 5757, 'hyypspn0yq': 5758, 'fence': 5759, 'heroin': 5760, 'gzxipmoknb': 5761, 'belgium': 5762, 'cosponsor': 5763, '928': 5764, 'renew911health': 5765, 'jones94kyle': 5766, 'newport': 5767, 'appreciated': 5768, 'scalpium': 5769, 'kink': 5770, 'windowsill': 5771, 'starling': 5772, 'sb5r7shccj': 5773, 'chandler': 5774, 'dgelj8ryt9': 5775, 'emilee': 5776, 'fsc': 5777, 'chrisman528': 5778, 'huntington': 5779, 'derivative': 5780, 'mouth': 5781, 'gallifrey': 5782, 'mantra': 5783, 'geht4ski86': 5784, 'rbrw8pwipj': 5785, 'qzlpfhpwdo': 5786, 'zionism': 5787, 'busines': 5788, 'shzsymausi': 5789, 'rap': 5790, 'nonprofit': 5791, 'h1xch54kd3': 5792, 'dealbreaker': 5793, 'wrapped': 5794, 'corey': 5795, 'questergirl': 5796, 'ditto': 5797, 'drank': 5798, 'vodka': 5799, 'eddie': 5800, 'vedders': 5801, 'lap': 5802, 'livingsafely': 5803, 'homefolk': 5804, 'opinionated': 5805, 'proposal': 5806, 'modernized': 5807, 'omw': 5808, 'politifiact': 5809, 'freesikhpoliticalprisnors': 5810, 'bapusuratsingh': 5811, 'tring': 5812, 'askcharley': 5813, 'electro': 5814, 'caribbean': 5815, 'chris': 5816, 'tuvbr4lep3': 5817, 'alumrgl40e': 5818, '8h2kctfb8i': 5819, 'xrrlnhelap': 5820, 'commit': 5821, 'breakingnews': 5822, '15pm': 5823, 'qvlxpyyycd': 5824, 'stunned': 5825, 'busy': 5826, 'handling': 5827, 'naval': 5828, '1999': 5829, 'arnhem': 5830, 'unrelenting': 5831, 'expand': 5832, 'bbcnews': 5833, '163': 5834, 'rumbling': 5835, 'agdq': 5836, 'kororinpa': 5837, 'marble': 5838, 'tloz': 5839, 'oracle': 5840, 'metroid': 5841, 'patna': 5842, 'beforeitsnews': 5843, 'pueblo': 5844, 'cameronhigdon34': 5845, 'soapscoop': 5846, 'yh': 5847, 'referred': 5848, 'tonyj': 5849, 'centralizedhockey': 5850, 'agrees': 5851, 'sel': 5852, 'oyy9mgw7hn': 5853, 'hinterestin': 5854, 'hinterestland': 5855, 'contrast': 5856, 'bowknot': 5857, 'womengirls': 5858, 'zip': 5859, 'sqmtkkjimj': 5860, 'khf0ih05a9': 5861, 'buscame': 5862, 'tu': 5863, 'melte': 5864, 'microsofts': 5865, 'windsor': 5866, 'swift': 5867, '9jcibenckz': 5868, 'mar': 5869, 'institute': 5870, 'exacerbated': 5871, 'adoption': 5872, 'pzeixi4xk7': 5873, 'eastcarolina': 5874, 'ovo': 5875, '1vjalja1sx': 5876, 'mud': 5877, 'younger': 5878, 'iadlslqdpd': 5879, 'o8y1sul4ow': 5880, 'afycso': 5881, 'jamilazzaini': 5882, 'alifaditha': 5883, 'medan': 5884, 'aria': 5885, 'ahrary': 5886, 'thetawniest': 5887, 'troubling': 5888, 'starving': 5889, '17th': 5890, 'dimension': 5891, 'anyname': 5892, 'impulse': 5893, 'implode': 5894, 'slave': 5895, 'electr': 5896, 'werk9qibvv': 5897, 'proposed': 5898, 'behalf': 5899, 'upgrade': 5900, 'sustainability': 5901, '6aimd1uway': 5902, '9cgbjwmhii': 5903, 'dig': 5904, 'hoke': 5905, 'excepting': 5906, 'versus': 5907, 'dfljev': 5908, 'cooler': 5909, 'temp': 5910, 'wwe': 5911, '2k15': 5912, 'xxkhjysn0p': 5913, 'jevhknjgbx': 5914, 'brave': 5915, 'dnj': 5916, 'gameplay': 5917, 'elsa': 5918, 'aq': 5919, 'ferrell': 5920, 'attempting': 5921, 'delany': 5922, 'dhalgren': 5923, 'beastly': 5924, 'downing': 5925, 'greenpoint': 5926, 'indi': 5927, 'indiannews': 5928, 'e2wfgp8jhk': 5929, 'diff': 5930, 'andrew': 5931, 'shedding': 5932, '10pm': 5933, 'vxvfaeey0q': 5934, 'clown': 5935, 'mugged': 5936, 'ina': 5937, 'buted': 5938, 'gridlock': 5939, 'washingtonpost': 5940, 'duke': 5941, 'dtn': 5942, 'magner': 5943, 'betrayed': 5944, 'prez': 5945, 'sponsor': 5946, 'loot': 5947, 'ricin': 5948, 'cartel': 5949, 'kidnap': 5950, 'bust': 5951, 'recap': 5952, 'microsoft': 5953, 'sony': 5954, 'cod': 5955, 'nolocation': 5956, '90blks': 5957, '8whts': 5958, 'colluded': 5959, 'lgl': 5960, 'idis': 5961, 'ali': 5962, 'booradleyvancullen': 5963, 'lisatoddsutton': 5964, 'bcz': 5965, 'murphy': 5966, 'junk': 5967, 'clearwater': 5968, 'fee': 5969, 'offloading': 5970, 'swinfo': 5971, 'dot': 5972, 'haysville': 5973, 'tux0ypwzur': 5974, 'yooooooo': 5975, 'shook': 5976, 'coworker': 5977, 'touchdown': 5978, 'fpyru5golh': 5979, 'recordand': 5980, 'elbow': 5981, 'boxing': 5982, 'principle': 5983, 'dixon': 5984, 'hatred': 5985, 'n71hmvervv': 5986, 'thisiswhywecanthavenicethings': 5987, 'camper': 5988, 'wwgadpffkw': 5989, 'gzmoblsjxu': 5990, '5cgtqfk2ur': 5991, '6m0ynjwbc9': 5992, 'leedsrouge': 5993, '9bliddngtf': 5994, 'hopeinchrist': 5995, 'lifelettercafe': 5996, 'chatham': 5997, 'incognito': 5998, 'connormidd': 5999, 'krsy54xmmc': 6000, 'privilege': 6001, 'jaydennotjared': 6002, 'vero': 6003, 'closing': 6004, 'mole': 6005, 'eunice': 6006, 'njoki': 6007, 'aiii': 6008, 'calmly': 6009, 'gdjb': 6010, 'asot': 6011, 'nostalgia': 6012, 'vdefmulx43': 6013, 'yqpaijsa5g': 6014, 'payday': 6015, 'tacoma': 6016, 'vroman': 6017, '5oqhq8quqv': 6018, 'vilnius': 6019, 'locker': 6020, 'walter': 6021, 'travelling': 6022, 'shrewsbury': 6023, 'halt': 6024, 'capitalism': 6025, 'mmiye1k8zz': 6026, 'peterhowenecn': 6027, 'necn': 6028, 'cgf61fpmr0': 6029, 'gunsense': 6030, '000': 6031, '6ioabsl6i7': 6032, 'crcn8rwvkj': 6033, 'afp': 6034, 'mchenry': 6035, 'bore': 6036, 'outfit': 6037, 'photographer': 6038, 'brian': 6039, 'ruebs': 6040, 'endures': 6041, '4500': 6042, 'groom': 6043, 'namekians': 6044, 'juice': 6045, 'plymouth': 6046, 'su': 6047, 'kabk3tcjnl': 6048, 'minna': 6049, 'chikislizeth08': 6050, 'prepares': 6051, 'lifestyle': 6052, 'lizard': 6053, 'attained': 6054, 'juror': 6055, 'unlocking': 6056, 'donald': 6057, 'vocal': 6058, 'workout': 6059, 'naypyidaw': 6060, 'prensa': 6061, 'latina': 6062, 'jods9a32pi': 6063, 'plank': 6064, 'hiding': 6065, 'eurotunnel': 6066, 'bajaur': 6067, 'elizabeth': 6068, 'ameenshaikh3': 6069, 'journalist': 6070, 'unaddressed': 6071, 'keithboykin': 6072, 'randallpinkston': 6073, 'pozarmy': 6074, 'gxq1auzb18': 6075, '400000': 6076, 'ûò800000': 6077, 'txzxcnudr8': 6078, 'furious': 6079, 'carmqivkwu': 6080, 'vzpkn23rx4': 6081, 'contained': 6082, 'kamindoz': 6083, 'xrdwr8cdvm': 6084, 'fxtffl4axy': 6085, 'cancelled': 6086, 'promote': 6087, 'spike': 6088, '30min': 6089, 'ckec': 6090, 'uubovy9gqi': 6091, 'whereas': 6092, 'jez': 6093, 'printing': 6094, 'reffbkvg9r': 6095, 'purfleet': 6096, 'radioactive': 6097, '9zmwt9xydz': 6098, 'detroitpls': 6099, 'richland': 6100, 'jon': 6101, 'crippling': 6102, 'åø': 6103, 'minsuwoongs': 6104, 'kate': 6105, 'infp': 6106, 'narendramodi': 6107, 'eastbound': 6108, 'motorcycle': 6109, 'dailykos': 6110, 'christie': 6111, 'pit': 6112, 'core': 6113, 'unstable': 6114, 'shantae': 6115, 'avysss': 6116, 'trophy': 6117, 'photoshop': 6118, 'i0tvl15coz': 6119, 'igtxhapo0k': 6120, 'rica': 6121, 'lay': 6122, 'bundled': 6123, 'resting': 6124, 'handed': 6125, 'pan': 6126, 'grade': 6127, 'mega': 6128, 'alarmed': 6129, 'tepco': 6130, 'integrative': 6131, '7y2gnva2ev': 6132, 'drama': 6133, '709': 6134, 'affiliate': 6135, 'marketer': 6136, 'ks100': 6137, '7o4lnfbe7k': 6138, 'fvzsgjtbew': 6139, '9rfo9gy3ne': 6140, 'ima': 6141, 'kiev': 6142, 'exqkmlg4nj': 6143, 'mosquito': 6144, 'missile': 6145, 'ally': 6146, '13w8cyukkz': 6147, 'westchester': 6148, 'johnfromcranber': 6149, 'plea': 6150, 'yahoonews': 6151, '8km': 6152, '3bwwnlsxhb': 6153, 'premier': 6154, 'lulu': 6155, 'mypillowstudio': 6156, 'm4pqkkeevc': 6157, 'snowden': 6158, 'katrina': 6159, 'childfund': 6160, 'pqhq4jnztt': 6161, 'fx0w2sq05f': 6162, 'aust': 6163, 'careemergencies': 6164, 'appeal': 6165, 'nathanfillion': 6166, 'gtycqyfuam': 6167, 'qwd5pvgjbo': 6168, 'chem': 6169, 'm9mowcmvnj': 6170, 'bangor': 6171, 'bobcat': 6172, 'slate': 6173, 'stl': 6174, 'immigrant': 6175, 'bl59fw4sys': 6176, 'magazine': 6177, '50ft': 6178, 'transgender': 6179, 'cary': 6180, 'mim8hh2ce6': 6181, 'earned': 6182, 'itsmegss': 6183, 'barking': 6184, 'shity': 6185, 'sail': 6186, 'aquarium': 6187, 'sailing': 6188, 'destroyer': 6189, 'decor': 6190, 'slightest': 6191, 'stirring': 6192, 'belly': 6193, 'pt': 6194, 'task': 6195, 'donation': 6196, 'fiasco': 6197, '1974': 6198, 'ldgwsyowss': 6199, 'cnyvvy4wat': 6200, 'cekbxjmpbj': 6201, 'natz5ipv1x': 6202, 'leaeby6cr2': 6203, 'iamdowntown': 6204, 'hbhx0dwkpc': 6205, 'ford': 6206, 'thankfully': 6207, 'command': 6208, 'ljylxz1fbi': 6209, 'outage': 6210, 'wxii': 6211, 'beltway': 6212, 'softenza': 6213, 'wk': 6214, 'seward': 6215, 'seattledot': 6216, 'seattletimes': 6217, 'patch': 6218, 'wireless': 6219, 'poplar': 6220, 'otp': 6221, 'grandma': 6222, 'ssshhheeesshh': 6223, '25sy9y295l': 6224, 'quito': 6225, 'vfbbchwrfd': 6226, 'sold': 6227, 'fe': 6228, 'studebaker': 6229, '6uhih9pbru': 6230, 'puncture': 6231, 'initial': 6232, 'the': 6233, 'galicia': 6234, 'bradley': 6235, 'diebold': 6236, 'suffered': 6237, 'epileptic': 6238, 'unsayjdtu7': 6239, 'litter': 6240, 'macia': 6241, 'tb52o146tx': 6242, 'tsbtigdsdt': 6243, 'elisagxrcia': 6244, 'talkin': 6245, 'ghostwriter': 6246, 'pg': 6247, 'chillin': 6248, 'encaustic': 6249, 'cerography': 6250, 'portion': 6251, 'byityf': 6252, 'i7ap1mes8m': 6253, 'sonofbaldwin': 6254, 'bookslast': 6255, 'kp': 6256, 'kroschel': 6257, 'swwylrk0fv': 6258, 'applies': 6259, 'scumbernauld': 6260, 'fountain': 6261, 'uae': 6262, 'dannyonpc': 6263, 'hardline': 6264, 'throwingknifes': 6265, 'countynews': 6266, 'eldoret': 6267, 'dirty': 6268, 'backup': 6269, 'bwp': 6270, 'iembot': 6271, 'hfo': 6272, 'hana': 6273, 'gg0dzsvbz7': 6274, 'kbe91arcdw': 6275, 'bgm4csrbvd': 6276, 'brunette': 6277, 'tease': 6278, 'holed': 6279, 'freestyle': 6280, 'arena': 6281, 'sep': 6282, 'claimed': 6283, 'grabber': 6284, 'ûïhatchet': 6285, 'jones': 6286, 'midget': 6287, 'kendall': 6288, 'jenner': 6289, 'gd': 6290, 'namjoon': 6291, 'jp': 6292, 'soviet': 6293, 'testing': 6294, 'dean': 6295, 'itzzkwfhg5': 6296, 'iamhorsefly': 6297, 'lec1vms7x2': 6298, 'ovofest': 6299, 'lock': 6300, 'peterborough': 6301, 'exam': 6302, 'thinkpink': 6303, 'magichairbump': 6304, 'nmhztb1ewm': 6305, 'rubi': 6306, 'liì': 6307, 'bottle': 6308, 'choose': 6309, 'weakening': 6310, 'jhpdssvhve': 6311, 'lyallpur': 6312, 'megancoopy': 6313, 'laurathorne97': 6314, 'mesqtvdu63': 6315, '7l6bhexixv': 6316, 'emosrmuvqa': 6317, 'filled': 6318, 'apart': 6319, 'growth': 6320, 'nri': 6321, 'trs': 6322, 'tdp': 6323, 'pickerel': 6324, 'yellowknife': 6325, 'tee': 6326, 'anyways': 6327, '0jfnvaxfph': 6328, 'gei58vhbw6': 6329, 'newberg': 6330, 'jacque': 6331, 'betz': 6332, 'fevwarrior': 6333, 'walked': 6334, 'v5ogr3f5n9': 6335, 'kf74o2mcsc': 6336, 'n2zhrchcgv': 6337, 'maygodhelpus': 6338, 'freed': 6339, 'bokoharam': 6340, 'captive': 6341, 'ûïi': 6342, 'pk8dgvripw': 6343, 'rz0adzursw': 6344, 'tha': 6345, 'belongs': 6346, 'adanne': 6347, 'cfc': 6348, 'tita': 6349, 'vida': 6350, 'zsykzj2bzg': 6351, 'lma39zrwoy': 6352, 'seemeth': 6353, 'thereof': 6354, 'kensington': 6355, 'relentless': 6356, 'kyrikoni': 6357, 'expressandstar': 6358, 'veg': 6359, '1xpw292tje': 6360, 'jerusalem': 6361, 'suny': 6362, 'ctr': 6363, 'goshen': 6364, '80dzgco6vc': 6365, 'bernabeau': 6366, 'tft1bb4xaz': 6367, 'gary': 6368, 'celebration': 6369, 'basement': 6370, 'cracking': 6371, 'scotia': 6372, 'saturn': 6373, 'daborsch': 6374, 'lured': 6375, 'fanbase': 6376, 'disappointed': 6377, 'everyones': 6378, 'gmmbc': 6379, 'fragile': 6380, 'rear': 6381, 'valle': 6382, 'sol': 6383, 'mic': 6384, 'lemairelee': 6385, 'danharmon': 6386, 'representative': 6387, '4hcywrwn6l': 6388, '2twxz6vxbx': 6389, 'l1gh8064yv': 6390, 'scichat': 6391, 'sodak': 6392, 'vidalia': 6393, 'carriage': 6394, 'db7ft3yi6d': 6395, 'stressed': 6396, 'hysteria': 6397, 'misty': 6398, 'december': 6399, 'funnynews': 6400, 'lci3pljx25': 6401, 'kinder': 6402, 'kamloops': 6403, 'nato': 6404, 'zfyqsawvrk': 6405, 'ile': 6406, 'ife': 6407, 'osun': 6408, 'billneelynbc': 6409, 'incredibly': 6410, 'egyptian': 6411, 'gtxndnjrrl': 6412, '1717': 6413, 'regardless': 6414, 'encore': 6415, 'organism': 6416, 'sume5pro0f': 6417, 'kamu': 6418, 'bitcoin': 6419, 'fur': 6420, 'offensiveåêcontent': 6421, 'beckyfeigin': 6422, 'defs': 6423, 'gage': 6424, 'tasmania': 6425, 'legio': 6426, 'slipped': 6427, 'p4kofytkdx': 6428, 'irony': 6429, 'dbu30obdxz': 6430, 'adsvdpnp3r': 6431, 'recycling': 6432, 'theyre': 6433, 'hahahaha': 6434, 'hackney': 6435, 'brb': 6436, 'atm': 6437, 'rally': 6438, 'ayshbanaysh': 6439, 'goat': 6440, 'smkznf52za': 6441, 'åèmgn': 6442, 'africaå': 6443, '263789f4': 6444, 'fdjuyvzmrv': 6445, 'wizkidayo': 6446, 'hunger': 6447, 'function': 6448, 'novel': 6449, 'simpson': 6450, 'uyyyrkd6q3': 6451, 'lansdale': 6452, 'petting': 6453, 'instant': 6454, 'hahaha': 6455, 'meteor': 6456, 'emily4everever': 6457, 'rida': 6458, 'yucatìán': 6459, 'metric': 6460, 'pcp': 6461, 'physician': 6462, 'jannet2208': 6463, 'enolagay': 6464, 'disarmed': 6465, 'jb25fhke6q': 6466, 'labour': 6467, 'loretta': 6468, 'certificate': 6469, 'krefeld': 6470, '4km': 6471, 'interlaken': 6472, 'wa5c77f8vq': 6473, 'nnmqlz91o9': 6474, 'o91f3cyy0r': 6475, '37': 6476, 'kabwandi': 6477, 'cereal': 6478, 'carsonrex': 6479, 'spaceangelseven': 6480, 'p0fizxmn5r': 6481, 'msmigot': 6482, 'convincing': 6483, 'compelling': 6484, 'tend': 6485, 'paulton': 6486, 'pjnet': 6487, 'relive': 6488, 'mentioned': 6489, 'versethe': 6490, 'i15': 6491, 'idwx': 6492, '0cr74m1uxm': 6493, 'hrips': 6494, 'corpse': 6495, 'jittering': 6496, 'ashayo': 6497, 'vods': 6498, 'dualcom': 6499, 'easter': 6500, 'bp': 6501, 'package': 6502, 'costly': 6503, 'khartoum': 6504, 'filter': 6505, 'offsite': 6506, 'grange': 6507, 'friggin': 6508, 'laid': 6509, 'rodkiai': 6510, 'cafetiere': 6511, 'crockery': 6512, 'shitty': 6513, '3967': 6514, 'assistant': 6515, 'marked': 6516, 'marksmaponyane': 6517, 'sundown': 6518, 'boksburg': 6519, 'upwards': 6520, '3gvus8nppy': 6521, 'sandy': 6522, 'hook': 6523, 'elementary': 6524, 'lwlexxjus8': 6525, 'mskn6d3ekh': 6526, 'entering': 6527, 'doublecups': 6528, 'lfkmtzaekk': 6529, 'prod': 6530, 'thisizbwright': 6531, 'jorrynja': 6532, 'bf': 6533, 'ter': 6534, '1976': 6535, 'phantrash': 6536, '1952': 6537, 'dodge': 6538, 'bodied': 6539, 'libby': 6540, 'mcejzzxgh8': 6541, 'raì¼l': 6542, 'bgytmqj3oo': 6543, 'akwa': 6544, 'ibom': 6545, 'audreyp77': 6546, 'teena': 6547, '797': 6548, 'darryl': 6549, 'brooks': 6550, 'elitesportsny': 6551, 'lopezandthelion': 6552, 'natsnation': 6553, 'grande': 6554, 'capsized': 6555, 'dazzle': 6556, 'medical': 6557, 'freefromwolves': 6558, 'danny': 6559, 'deconstruct': 6560, 'kerri': 6561, 'sackville': 6562, 'tms7': 6563, 'winner': 6564, 'brief': 6565, 'choppas': 6566, 'vip': 6567, 'shania': 6568, 'eaten': 6569, 'illusion': 6570, 'trinna': 6571, 'jaipur': 6572, 'cityofcalgary': 6573, 'turner': 6574, 'jlabuz': 6575, 'adamtuss': 6576, 'climbing': 6577, 'vern': 6578, 'sq': 6579, 'chicken': 6580, 'maailiss': 6581, '4o460fm8hn': 6582, 'qi8qdw5dfg': 6583, 'lemon': 6584, '600858': 6585, '047821': 6586, 'chan': 6587, 'mortified': 6588, 'chloe': 6589, 'bellx': 6590, '9tb82zmr2x': 6591, 'cecilthelion': 6592, 'uptown': 6593, 'controller': 6594, 'condemnation': 6595, 'revelation': 6596, 'sudan': 6597, 'bksyymvisg': 6598, 'spare': 6599, 'oom': 6600, 'etgqf28mge': 6601, 'gleaned': 6602, 'yrqgnblkac': 6603, 'dare': 6604, 'gujarat': 6605, 'sheeran': 6606, 'premiere': 6607, 'assisting': 6608, 'pijg5w2l2u': 6609, 'mentality': 6610, '1061thetwister': 6611, '82ndabndiv': 6612, 'paratrooper': 6613, 'loading': 6614, 'ugesklcn8m': 6615, 'significance': 6616, 'azimel': 6617, 'deceased': 6618, 'advice': 6619, 'solicitor': 6620, 'detectado': 6621, 'japì': 6622, 'jst': 6623, 'invasion': 6624, 'tomislav': 6625, 'salopek': 6626, 'wiqjeruktf': 6627, 'crackdown': 6628, 'restricted': 6629, 'impressed': 6630, 'traverse': 6631, 'robbiewilliams': 6632, 'asswipe': 6633, 'rcmp': 6634, 'tch': 6635, 'whitbourne': 6636, 'vault': 6637, 'flawless': 6638, 'pyehwodwun': 6639, 'exterminate': 6640, '8jxql8cv8z': 6641, 'kapokekito': 6642, 'northgate': 6643, 'frustrated': 6644, 'quantit': 6645, 'https': 6646, '64cymg1ltg': 6647, 'lauderdale': 6648, '1970': 6649, 'moulding': 6650, '429cj': 6651, 'southdowns': 6652, 'treeporn': 6653, '0yzgw9zbhr': 6654, 'rhtaqjvqn2': 6655, 'bone': 6656, 'wine': 6657, 'freaking': 6658, '9000': 6659, 'theadvocatemag': 6660, 'retro': 6661, 'establishment': 6662, 'donzilla': 6663, 'trump2016': 6664, 'xvaoqo4egr': 6665, 'contribute': 6666, 'hillaryclinton': 6667, 'maratha': 6668, 'raider': 6669, 'scorched': 6670, '1943': 6671, 'bengali': 6672, 'rsdkwzrc8g': 6673, 'exposed': 6674, 'kicking': 6675, 'northampton': 6676, 'vanderbilt': 6677, 'achieve': 6678, 'excellence': 6679, '3rrght4ewp': 6680, 'aep': 6681, 'cash': 6682, 'megynkelly': 6683, 'msnbc': 6684, 'suit': 6685, 'democrat': 6686, 'uwfvwmjepu': 6687, 'pxonlrqusm': 6688, 'permit': 6689, 'actual': 6690, 'petersburg': 6691, 'epidemic': 6692, 'gfsl2kwt5h': 6693, 'architecture': 6694, 'reddakushgodd': 6695, 'smfh': 6696, 'princess': 6697, 'charminar': 6698, 'bagalkote': 6699, '4roisyxjlw': 6700, '3r8qozjt7t': 6701, 'bloomington': 6702, 'abomination': 6703, 'maketh': 6704, 'ehgtzhkan4': 6705, 'bucharest': 6706, 'cuyahoga': 6707, 'greening': 6708, 'if62sdxvp7': 6709, 'fewmoretweets': 6710, 'abuja': 6711, 'canonusaimaging': 6712, 'canonbringit': 6713, 'canontattoo': 6714, 'theresmorewherethatcamefrom': 6715, 'tcxxhdjas6': 6716, 'camilacabello97': 6717, 'zarry': 6718, 'meerkat': 6719, 'periscope': 6720, 'dropping': 6721, '3x5': 6722, 'cjhh17duli': 6723, 'jacket': 6724, 'jimmyfallon': 6725, 'plano': 6726, 'ranking': 6727, 'straighten': 6728, 'swooping': 6729, 'iamrrsb': 6730, 'pdehd1tcpk': 6731, 'skywars': 6732, 'flechadas': 6733, 'sinistras': 6734, 'productive': 6735, 'vbqmz5apwj': 6736, 'c2eyjnybfn': 6737, 'gt7gf0fsex': 6738, '83': 6739, '53p4ooo1xn': 6740, 'xwoevmk0aa': 6741, 'stroke': 6742, 'messed': 6743, 'mnl': 6744, 'marynmck': 6745, 'adorable': 6746, 'livingston': 6747, 'luck': 6748, 'recording': 6749, 'cydia': 6750, 'njenga': 6751, 'razing': 6752, 'ywkk26arag': 6753, 'dye': 6754, 'kanye': 6755, 'djdewd13wr': 6756, 'nbo': 6757, 'meganbee92': 6758, 'kadiegrr': 6759, 'blackburn': 6760, 'o8xvtlp4mf': 6761, 'nuu': 6762, 'fwt': 6763, 'myhohvrhil': 6764, 'tm5hthfdo0': 6765, 'hart2010': 6766, 'sapphirescallop': 6767, 'oppa': 6768, 'haaaaaa': 6769, 'notified': 6770, 'fans': 6771, 'meridian': 6772, 'typical': 6773, 'darkness': 6774, 'wolf': 6775, 'vanessa': 6776, 'gentleman': 6777, 'background': 6778, 'andåêchina': 6779, '3og66nfsig': 6780, 'iamdigitalent': 6781, 'bb': 6782, 'deny': 6783, 'atmosphere': 6784, 'hacker': 6785, 'insubcontinent': 6786, 'x36': 6787, 'canvas': 6788, 'rczalru05o': 6789, 'painting': 6790, 'suh': 6791, 'playstation': 6792, 'blutz10': 6793, '125': 6794, 'bankstown': 6795, 'wattle': 6796, 'rank': 6797, '15p': 6798, '7p': 6799, 'bilingual': 6800, 'g5do2x6226': 6801, 'tunisia': 6802, 'kurqlxfihl': 6803, 'soo': 6804, 'alton': 6805, 'ks94': 6806, 'vbswhz4s2v': 6807, 'mwzqcjhzpb': 6808, 'lego': 6809, 'kakajambori': 6810, 'mechanical': 6811, 'bokaro': 6812, 'bp6mfjhars': 6813, 'annapolis': 6814, 'fittscott': 6815, 'showcase': 6816, 'popularmmos': 6817, 'mul1j9aeux': 6818, 'def': 6819, 'reaching': 6820, 'kitchen': 6821, 'chest': 6822, 'administration': 6823, 'storybrooke': 6824, 'cebu': 6825, 'philippi': 6826, 'al28rvkqpq': 6827, 'fangirling': 6828, 'wdvqlewybs': 6829, 'porto': 6830, 'foul': 6831, 'ksa': 6832, 'lifetime': 6833, 'downpour': 6834, 'jyxafd4knk': 6835, 'bagged': 6836, 'lac': 6837, 'langley': 6838, 'microchip': 6839, 'tbh': 6840, 'wallahi': 6841, 'blake': 6842, '46': 6843, '6o1mgmghgt': 6844, 'wtpo6elrzd': 6845, 'barcelona': 6846, 'webcam': 6847, 'legion': 6848, 'imperfect': 6849, 'ln': 6850, 'forex': 6851, 'trading': 6852, 'purified': 6853, 'pale': 6854, 'moonlight': 6855, 'tipster': 6856, 'pfsryjs1pc': 6857, 'skdbot7tgf': 6858, 'mutant': 6859, 'sweep': 6860, 'asymbina': 6861, 'tithenai': 6862, 'hampered': 6863, 'liking': 6864, 'ella': 6865, 'vickers': 6866, 'washable': 6867, 'ysfyeahpvg': 6868, 'menlo': 6869, 'sfo': 6870, 'cairo': 6871, 'iupui': 6872, '039': 6873, 'fqwtsxlkrz': 6874, 'cuba': 6875, 'rich': 6876, 'texting': 6877, '7k': 6878, 'freegucci': 6879, 'carpet': 6880, 'asgard': 6881, 'yao1e0xngw': 6882, 'dental': 6883, 'appointment': 6884, 'homeland': 6885, 'shira': 6886, 'convertible': 6887, '238': 6888, 'bestseller': 6889, '0llwuqn8vg': 6890, 'conquest': 6891, 'skippy6gaming': 6892, 'mxhrextrkh': 6893, 'ps3': 6894, 'hurry': 6895, 'torture': 6896, 'nan': 6897, 'toiindianews': 6898, 'ofcourse': 6899, 'caued': 6900, 'washing': 6901, 'itsqueenbaby': 6902, 'proudly': 6903, 'temperature': 6904, 'ys3nmwwyvc': 6905, 'alpotnb7q3': 6906, '2000': 6907, 'hzhoa6vzas': 6908, 'lhh': 6909, 'silent': 6910, 'mastered': 6911, 'biexwdldwc': 6912, '3stfmn26r9': 6913, 'slicker': 6914, 'vymnrnsthg': 6915, '1mvsqg0xke': 6916, 'appropriation': 6917, 'politician': 6918, 'plannedparenthood': 6919, 'fooled': 6920, 'eqdm2opybg': 6921, 'contoocook': 6922, 'psalm': 6923, 'redeemeth': 6924, 'servant': 6925, 'bulgarian': 6926, 'tittie': 6927, 'noemotion': 6928, 'edk': 6929, 'pathfinder': 6930, '9odqryjncf': 6931, 'fo': 6932, '7evyelw4lc': 6933, 'snake': 6934, 'parade': 6935, 'bethlehem': 6936, '462446': 6937, '022017': 6938, '350': 6939, 'ko0oz3ryfg': 6940, 'fizz': 6941, 'marshall': 6942, 'dambisa': 6943, 'moyo': 6944, 'prosyn': 6945, 'oped': 6946, 'mistrustful': 6947, 'vaunps6wja': 6948, 'onegreenplanet': 6949, 'ûïstretcher': 6950, 'speaker': 6951, '7qpg80ud7v': 6952, 'kcoff6bmie': 6953, 'recover': 6954, 'olap': 6955, 'recognize': 6956, '4th': 6957, 'rtfirzcpoc': 6958, 'hmu': 6959, 'wukcalnqms': 6960, 'beaumont': 6961, 'tumblr': 6962, 'xoxo': 6963, '582': 6964, 'strategicpatience': 6965, 'rqwuoy1fm4': 6966, '03': 6967, '828': 6968, 'oliver': 6969, 'hollyw': 6970, 'c22ecvl4hw': 6971, 'rajasthan': 6972, 'bernardino': 6973, 'riverside': 6974, 'defendant': 6975, 'chose': 6976, 'phase': 6977, 'marlon': 6978, 'diverts': 6979, 'declaring': 6980, '5aiexcbkfq': 6981, 'raynor': 6982, 'usama': 6983, 'ladin': 6984, 'naturally': 6985, 'sheer': 6986, '2b': 6987, 'glenn': 6988, 'steven': 6989, 'gettin': 6990, 'bowling': 6991, 'llf': 6992, 'dorado': 6993, 'xbznu0qkvs': 6994, 'thehammers': 6995, 'tonycottee1986': 6996, 'alsowhat': 6997, 'bilic': 6998, 'slated': 6999, 'themhe': 7000, 'jim': 7001, 'vermont': 7002, 'tlvfaces': 7003, 'automation': 7004, 'cy0ciu2u1c': 7005, 's01e09': 7006, 'vrpthvpymt': 7007, 'bloodymonday': 7008, 'tvshowtime': 7009, 'nkkvknbvoz': 7010, 'sincerely': 7011, 'hertfordshire': 7012, 'isao': 7013, 'hashimoto': 7014, 'atomicbomb': 7015, 'v0t8h4iecc': 7016, 'racist': 7017, 'necessary': 7018, 'ahh': 7019, 'headphone': 7020, 'o1smuh2unn': 7021, 'xqj6wgiuqh': 7022, 'that': 7023, 'cart': 7024, 'newser': 7025, 'tb8gzembxu': 7026, '38': 7027, 'snowflake': 7028, 'danville': 7029, 'jumped': 7030, 'diaspora': 7031, '9vw0uqqi1y': 7032, 'loseit': 7033, 'gilderoy': 7034, 'encouraged': 7035, '6qzxfk2lfs': 7036, 'geometric': 7037, 'lynchburg': 7038, 'identitytheft': 7039, 'customer': 7040, 'r1cnsjuayq': 7041, 'dq1ylcrf9k': 7042, 'acoustic': 7043, 'heavydirtysoul': 7044, 'impacted': 7045, 'vitaly': 7046, 'churkin': 7047, 'briliantly': 7048, 'klimkin': 7049, 'mh17': 7050, 'tt4kvmvujq': 7051, 'defeat': 7052, 'cawx': 7053, 'sorrower': 7054, 'l056yj2ioi': 7055, 'utmwmjirty': 7056, 'figure': 7057, 'wftv': 7058, 'psychologist': 7059, 'lgglf5yrme': 7060, 'coil': 7061, 'crpo9dkw9v': 7062, 'bbcengland': 7063, 'q4kgftc2am': 7064, '6w6a2l4qae': 7065, 'premium': 7066, 'strawberry': 7067, 'davis': 7068, 'zxcorq0a3a': 7069, 'ani': 7070, 'lwwojxttiv': 7071, 'wxhmp5ppjq': 7072, 'seoul': 7073, 'urogyn': 7074, 'mesh': 7075, 'offender': 7076, 'npoqlkqup9': 7077, 'meshnewsdesk': 7078, 'billy': 7079, 'marysville': 7080, '1998': 7081, 'wmv': 7082, 'materialism': 7083, 'talkradio': 7084, 'sdxzhjco0x': 7085, 'loses': 7086, 'fingerrockfire': 7087, 'ex8a5jyzm5': 7088, 'azwx': 7089, 'deeekobmxa': 7090, 'almusafirah': 7091, 'innit': 7092, 'jonvoyage': 7093, 'rapper': 7094, 'dummy': 7095, 'manitoba': 7096, 'html5': 7097, 'y32owbrovf': 7098, 'vr2u4cerw8': 7099, 'reagan': 7100, 'oim6po8xcu': 7101, 'cnxxmffrae': 7102, 'm203ul6o7p': 7103, 'r8k6rxw6d6': 7104, 'cuban': 7105, 'sympathy': 7106, '3mtwh0jjns': 7107, 'jamaicaplain': 7108, 'acquire': 7109, 'dlvzaay7qr': 7110, 'creativity': 7111, 'greatbritishbakeoff': 7112, 'pulling': 7113, 'op': 7114, 'bgaj2oax1p': 7115, '2500fps': 7116, 'swept': 7117, 'lollapalooza': 7118, 'glorious': 7119, 'changing': 7120, 'uranium': 7121, 'vice': 7122, 'eastward': 7123, 'mc': 7124, 'arsonistmusic': 7125, 'toledo': 7126, 'importance': 7127, 'heartbeat': 7128, 'sounding': 7129, 'familiar': 7130, 'davao': 7131, 'dm': 7132, 'greenharvard': 7133, 'rgoguyt0lf': 7134, 'y8orqapwrk': 7135, 'ejrme49rkd': 7136, 'estate': 7137, 'poconorecord': 7138, 'emergencymgtmag': 7139, '7zlsumiess': 7140, 'tdcch01n7q': 7141, 'preserve': 7142, 'ajw': 7143, 'x5jgkjv6ma': 7144, 'jishin': 7145, 'minamisoma': 7146, '96': 7147, 'strict': 7148, 'liability': 7149, 'lizzie363': 7150, 'cstsmith': 7151, '14000': 7152, 'thnk': 7153, 'sicamous': 7154, 'brunswick': 7155, 'swing': 7156, 'manufactured': 7157, 'cristianinspire': 7158, 'ixjqg1sx6u': 7159, 'wfaaweather': 7160, 'scout': 7161, 'okla': 7162, 'wolverhampton': 7163, 'oc73x': 7164, '7xglah10zl': 7165, 'thmblaatzp': 7166, '617': 7167, 'btown': 7168, 'rogue': 7169, 'siskiyou': 7170, 'nf': 7171, 'modiministry': 7172, 'tl41olpakz': 7173, 'btpqdehl3p': 7174, 'quot': 7175, 'dangerousbeans': 7176, 'phenomenal': 7177, 'summit': 7178, 'iit': 7179, 'logically': 7180, '945hpa': 7181, '45m': 7182, '60m': 7183, 'nbd5ot9iew': 7184, 'jamaicaobserver': 7185, 'cnewslive': 7186, 'skh': 7187, 'cupcake': 7188, 'scottsdale': 7189, 'hz4lkffc59': 7190, 'bre': 7191, 'morrow': 7192, 'dorrian': 7193, 'gaffney': 7194, 'utumvaabz6': 7195, 'stormcoming': 7196, 'enroute': 7197, 'elkhorn': 7198, 'walerga': 7199, 'tri': 7200, 'deadgirltalking': 7201, 'unfortunemelody': 7202, 'jaylenejoybeligan': 7203, 'tarynel': 7204, 'dredougie': 7205, 'santanico': 7206, 'pvkgo79jni': 7207, 'refrigerator': 7208, 'jamessnyder22': 7209, 'sgxb6e5yda': 7210, 'cleanup': 7211, 'csx': 7212, 'jdavis': 7213, 'behindashield': 7214, 'wars': 7215, 'goddess': 7216, 'forgotten': 7217, 'genuine': 7218, 'meanwhile': 7219, 'huber': 7220, '2016': 7221, 'uoozxaus26': 7222, 'anger': 7223, 'egcv7ybjae': 7224, 'derby': 7225, 'xgkyvf9t4f': 7226, 'wgwiqmicl1': 7227, 'saku': 7228, 'boi': 7229, 'devia': 7230, 'ler': 7231, 'wattys2015': 7232, 'teenfiction': 7233, 'g891m9gh4r': 7234, 'xq92x4bvg3': 7235, '8th': 7236, 'increase': 7237, 'deepest': 7238, 'officeofrg': 7239, 'josh': 7240, 'bandung': 7241, 'warra': 7242, 'raung': 7243, 'veldfest': 7244, 'announces': 7245, 'refund': 7246, 'pp05etlk7t': 7247, '3ol8mhhpma': 7248, 'nightmare': 7249, 'mistresspip': 7250, 'amazed': 7251, 'mistress': 7252, 'santo': 7253, 'domingo': 7254, 'rubybot': 7255, 'describing': 7256, 'instantly': 7257, 'economics': 7258, 'northland': 7259, 'ordered': 7260, 'spontaneously': 7261, '4got': 7262, '81g18wsauk': 7263, 'permanent': 7264, 'brit': 7265, 'domain': 7266, 'ww2': 7267, 'bentossell': 7268, 'producthunt': 7269, 'sunnyvale': 7270, 'sudden': 7271, '05th': 7272, 'mdt': 7273, 'yqyiwjn8ez': 7274, 'autobiography': 7275, 'lawton': 7276, 'outcome': 7277, 'metastatic': 7278, 'colorectal': 7279, '5yl4dc1tqt': 7280, 'elem': 7281, 'ewa': 7282, 'windstormåêinsurer': 7283, '92fwtobi3u': 7284, 'pyee94nure': 7285, 'bah': 7286, 'gear': 7287, 'menswear': 7288, 'urbanfashion': 7289, 'ccwzdtfbus': 7290, 'homeowner': 7291, 'torrance': 7292, 'twoptwips': 7293, 'sifting': 7294, 'tyne': 7295, 'mariomaraczi': 7296, 'freaked': 7297, 'geyser': 7298, 'desde': 7299, 'beconfident': 7300, 'sooo': 7301, 'dispatch': 7302, 'cnmi': 7303, 'iqowzgvznl': 7304, 'cement': 7305, 'agent': 7306, 'sod': 7307, 'diverted': 7308, 'gurion': 7309, 'jkpjpch9i6': 7310, 'beirut': 7311, 'trusting': 7312, 'belt': 7313, 'zu9yydf5di': 7314, 'wailuku': 7315, '45cmaqf8ns': 7316, 'couch': 7317, 'p1amginsys': 7318, 'elderly': 7319, 'hike': 7320, 'chip': 7321, 'tahoe': 7322, 'siding': 7323, 'drool': 7324, 'neighborhood': 7325, 'abusing': 7326, 'skardu': 7327, 'nqnwktrhsa': 7328, '48h3tlvlxr': 7329, 'nowplay': 7330, 'maldives': 7331, 'troy': 7332, 'praying': 7333, 'affecting': 7334, 'sturgis': 7335, 'kotaweather': 7336, 'zachlowe': 7337, 'constant': 7338, 'missionhills': 7339, 'jump': 7340, 'martyr': 7341, 'nux5xfpv2d': 7342, 'spså': 7343, 'glassanimals': 7344, 'slithering': 7345, 'viscous': 7346, 'yeahs': 7347, 'erykah': 7348, 'badu': 7349, '7zb9gm5z0h': 7350, 'cultsierre': 7351, 'muf5czqjrl': 7352, 'sslt8esmhy': 7353, 'ml': 7354, 'fierce': 7355, 'garage': 7356, 'propane': 7357, 'sunnymeade': 7358, 'kokomo': 7359, 'sl': 7360, 'barry': 7361, 'vassalboro': 7362, 'gazebo': 7363, 'petel': 7364, 'mcguire': 7365, 'uuewccdtow': 7366, 'augusta': 7367, '04330': 7368, 'najib': 7369, 'skanndtyagi': 7370, 'h0xunj3c7c': 7371, 'uuew4mjles': 7372, 'stormchase': 7373, 'ef': 7374, '3sicroaanz': 7375, 'i27oa0hisp': 7376, 'arwx': 7377, 'sfgate': 7378, 'iz9u8bhfaa': 7379, '1d': 7380, 'wwa': 7381, 'pdx': 7382, 'dp': 7383, 'b00hr': 7384, 'owje3i6ygn': 7385, 'setting4success': 7386, 'smallbusiness': 7387, '9lpf4v4hmq': 7388, 'tfl': 7389, 'downtime': 7390, 'icsfdsifqb': 7391, 'continually': 7392, 'shia': 7393, 'requiring': 7394, 'jedi': 7395, 'hasbro': 7396, 'fce0k1ihti': 7397, 'zhsll7swbh': 7398, 'madeinnorthumberland': 7399, 'dlh': 7400, 'dm0uupqgwy': 7401, 'rspca': 7402, 'ûïairplane': 7403, '6ffylajwps': 7404, 'thrissur': 7405, 'thy': 7406, 'doone': 7407, 'permission': 7408, 'natwest': 7409, 'tallest': 7410, 'eastbourne': 7411, 'dreamz': 7412, 'suv': 7413, 'lulgzimbestpicts': 7414, 'accuses': 7415, 'nema': 7416, 'stans': 7417, 'startup': 7418, 'frequently': 7419, 'fb': 7420, 'safari': 7421, 'formation': 7422, 'lyric': 7423, 'mauds99': 7424, 'jagexsupport': 7425, 'ush59uq30j': 7426, 'rsn': 7427, 'electric': 7428, 'u9bkqt6xhr': 7429, 'californian': 7430, 'finding': 7431, 'medic': 7432, 'yelling': 7433, 'lbmekyphm5': 7434, 'teamfollowback': 7435, 'coimbatore': 7436, 'maintain': 7437, 'vijfnhl630': 7438, 'oooureli': 7439, 'tolerance': 7440, 'sharing': 7441, 'mutilated': 7442, 'urbanisation': 7443, 'challenged': 7444, 'brahman': 7445, 'dominance': 7446, 'deadend': 7447, 'aogashima': 7448, 'decatur': 7449, 'sao': 7450, 'esp': 7451, 'jinx': 7452, 'otrakansascity': 7453, 'rolo': 7454, 'waukesha': 7455, 'matijwkzbh': 7456, 'coolidge': 7457, 'meinlcymbals': 7458, 'lexi': 7459, 'delayed': 7460, 'utterly': 7461, 'component': 7462, 'aviation': 7463, 'contruction': 7464, 'upgrading': 7465, 'vashon': 7466, 'mukilteo': 7467, 'fmj8mxjy8a': 7468, 'giannis': 7469, 'submerged': 7470, 'reef': 7471, 'gn3whnsfib': 7472, 'fwpof5twoc': 7473, 'detained': 7474, 'dirk': 7475, 'outta': 7476, 'soak': 7477, 'tiger': 7478, 'annmarieronan': 7479, 'niamhosullivanx': 7480, 'tat': 7481, 'olympia': 7482, 'apollobrown': 7483, 'recommended': 7484, 'however': 7485, 'caitlin': 7486, 'kiernan': 7487, 'centipede': 7488, 'numbered': 7489, 'tiyulif5c6': 7490, 'diver': 7491, 'j2aqs5loxu': 7492, 'grandmother': 7493, '8217': 7494, 'ndcy8q7r6i': 7495, 'vickie627': 7496, 'unqualified': 7497, 'wwfacu6nft': 7498, 'pattonoswalt': 7499, 'judge': 7500, 'filmed': 7501, 'aog5chjmvs': 7502, 'cln2sxzy1z': 7503, 'laundry': 7504, 'marketforce': 7505, 'scandal': 7506, 'experiencing': 7507, 'language': 7508, 'bushkill': 7509, 'cub': 7510, 'pisgah': 7511, 'toooooo': 7512, 'bck': 7513, 'worldwi': 7514, 'misery': 7515, 'sheet': 7516, '208': 7517, '267': 7518, '6773': 7519, 'ganseyman': 7520, 'dani': 7521, 'stockton': 7522, 'budapest': 7523, 'hungary': 7524, 'autoinsurance': 7525, 'clueless': 7526, 'ydetwgribk': 7527, 'retract': 7528, 'wordpressdotcom': 7529, 'cornwall': 7530, 'roh3': 7531, 'muse': 7532, 'rgj': 7533, 'kaf3wdrmtn': 7534, 'carson': 7535, 'cnni': 7536, 'prisonplanet': 7537, 'noting': 7538, '0szwlwl9qu': 7539, 'net': 7540, 'mtmoia0oo0': 7541, 'nn4ztcmsru': 7542, 'fighter': 7543, 'acid': 7544, 'pllolz': 7545, 'frontpage': 7546, 'rickperry': 7547, 'jariana': 7548, 'chairman': 7549, 'bangladesh': 7550, 'brake': 7551, 'princeoffencing': 7552, 'frickin': 7553, 'zdpa4dbtsu': 7554, 'christi': 7555, 'sbgirvqvzb': 7556, 'available': 7557, 'soaking': 7558, 'looooooooooool': 7559, 'jrkgyl7te5': 7560, 'walthamstow': 7561, 'perfectly': 7562, 'tni92fea3u': 7563, 'czbamzq3gl': 7564, 'heathrow': 7565, 'solo': 7566, 'throughout': 7567, 'spider': 7568, 'cyprus': 7569, 'analysis': 7570, 'wd7s6s0vci': 7571, 'java': 7572, 'firm': 7573, 'cybersecurity': 7574, 'laftj2gyly': 7575, 'news4buffalo': 7576, 'guardrail': 7577, 'mum': 7578, 'octnpyueei': 7579, 'pivot': 7580, 'required': 7581, 'actionmoviestaughtus': 7582, 'gaelite': 7583, 'orchard': 7584, 'lia': 7585, 'aurora': 7586, 'peacefully': 7587, 'helene': 7588, 'hutch': 7589, 'canal': 7590, 'tookitlikeaman': 7591, 'lovemydentist': 7592, '1916': 7593, '800': 7594, 'merycormier': 7595, 'cosima': 7596, 'shay': 7597, 'cest': 7598, '68': 7599, 'fforecast': 7600, '61': 7601, 'fri': 7602, 'wordldwide': 7603, 'pugprobs': 7604, 'jervis': 7605, 'ante': 7606, 'hyderabad': 7607, 'methville': 7608, 'pakpattan': 7609, 'ru': 7610, 'mwnhappy': 7611, 'bikini': 7612, 'vicinity': 7613, 'treat': 7614, 'nazi': 7615, 'vaccine': 7616, 'katunews': 7617, 'liveonk2': 7618, 'carrying': 7619, 'feature': 7620, 'sustainable': 7621, 'illness': 7622, 'define': 7623, '319': 7624, 'incinerator': 7625, 'pulkovo': 7626, 'trinity': 7627, 'triad': 7628, 'washed': 7629, 'variety': 7630, 'snack': 7631, 'fi': 7632, 'hiker': 7633, 'icymi': 7634, 'mate': 7635, 'pdx911': 7636, '86rsyy2tng': 7637, 'pow': 7638, 'talked': 7639, 'sudkk1weez': 7640, 'pressed': 7641, 'ridiculous': 7642, 'mì¼sica': 7643, 'frank': 7644, 'blocking': 7645, 'opp': 7646, 'nopower': 7647, '1986': 7648, 'starflame': 7649, 'zsxqbduzbn': 7650, '6ncfjxploy': 7651, 'elreynetwork': 7652, 'ox6ouw3yut': 7653, 'zippednews': 7654, 'elk': 7655, 'bhavana': 7656, 'netflix': 7657, 'weallheartonedirection': 7658, 'meteoearth': 7659, 'mfckpvzfv8': 7660, 'punch': 7661, 'wfp': 7662, 'tanehisicoates': 7663, 'laced': 7664, 'monologue': 7665, 'charlize': 7666, 'coulda': 7667, 'staggering': 7668, 'tenement': 7669, 'investing': 7670, 'completed': 7671, 'm6x1': 7672, 'thread': 7673, 'sqpshaws0w': 7674, 'udlebh88uz': 7675, 'optic': 7676, 'avwe1lbvhn': 7677, 'ing': 7678, 'gishwhes': 7679, 'soaked': 7680, 'pad': 7681, 'tampon': 7682, 'oso': 7683, 'coloiccarnality': 7684, 'instinct': 7685, 'scratch': 7686, 'enfield': 7687, 'poorly': 7688, 'raw': 7689, 'huzrhgmksy': 7690, 'eventspalmbeach': 7691, 'eudrylantiqua': 7692, 'era': 7693, 'pfannebeckers': 7694, 'rediscover': 7695, 'fantabulous': 7696, 'wmhy47xkil': 7697, 'cuvkf5ykax': 7698, 'embroidered': 7699, 'yelllowheather': 7700, 'undeserving': 7701, 'mafia': 7702, 'alexbelloli': 7703, '64oz': 7704, 'jar': 7705, 'terre': 7706, 'haute': 7707, 'jihadis': 7708, 'poland': 7709, '1wcofmlub9': 7710, 'freedomoutpost': 7711, 'majorem': 7712, 'dei': 7713, 'glorium': 7714, 'frautrapani': 7715, 'golem': 7716, 'strongly': 7717, 'medal': 7718, 'bodìü': 7719, 'norge': 7720, 'shootas': 7721, 'burner': 7722, 'roller': 7723, 'peep': 7724, 'november': 7725, 'displace': 7726, '7amdollela': 7727, '3la': 7728, 'kulli': 7729, '7aal': 7730, 'vaca': 7731, 'garrison': 7732, 'sector': 7733, 'cognitive': 7734, 'vivian': 7735, 'minaj': 7736, 'pumped': 7737, 'southridgelife': 7738, 'milk': 7739, 'barely': 7740, 'renison': 7741, 'njturnpike': 7742, 'cleric': 7743, 'mrvxbzywd4': 7744, 'skyline': 7745, 'explosive': 7746, 'tween': 7747, '9am': 7748, 'imagini': 7749, 'noi': 7750, 'clipuri': 7751, 'j6cfwukofe': 7752, 'cliptv': 7753, 'desolationofsmaug': 7754, 'poze': 7755, 'thehobbit': 7756, 'bulak': 7757, 'jaclynsonne': 7758, 'oliviaann': 7759, 'guessing': 7760, 'eiu': 7761, 'chucktown': 7762, 'lasalle': 7763, 'deliver': 7764, 'quantico': 7765, '61st': 7766, 'calumet': 7767, 'solitude': 7768, 'sequel': 7769, 'lawsuit': 7770, 'pmharper': 7771, 'slowly': 7772, 'mpp': 7773, 'lambasts': 7774, 'kanglaonline': 7775, 'jp9xyla3c5': 7776, 'nn6y0fd3l0': 7777, 'trusty': 7778, 'i405': 7779, 'con': 7780, '2pm': 7781, 'almighty': 7782, 'strength': 7783, 'ei1k01zab3': 7784, 'gujranwala': 7785, 'blacken': 7786, 'parched': 7787, 'tinder': 7788, 'i2lwty5yup': 7789, 'cochrane': 7790, 'zqmtrbkas0': 7791, 'yeqq3bzx3g': 7792, 'kmvrzasxy4': 7793, 'lakewood': 7794, 'appleofficlal': 7795, 'migrating': 7796, 'iphoto': 7797, 'wasted': 7798, 'hrsto': 7799, 'wpri': 7800, 'rhode': 7801, 'exclusive': 7802, 'raishimi33': 7803, 'vulnerable': 7804, 'transfer': 7805, 'virgil': 7806, 'dijk': 7807, 'pvmr38lnva': 7808, 'advised': 7809, 'mageavexis': 7810, 'dimitri': 7811, 'brigade': 7812, 'exercise': 7813, 'losdelsonido': 7814, 'ivanberroa': 7815, 'mistreated': 7816, 'justifying': 7817, 'selma2oakland': 7818, 'grabakahitman': 7819, 'izi': 7820, 'garcia': 7821, 'machida': 7822, 'jagexhelpdibi': 7823, 'jag': 7824, 'habbo': 7825, 'tic': 7826, 'tac': 7827, 'matchwood': 7828, 'i': 7829, 'espaì': 7830, 'telegraph': 7831, 'coverage': 7832, '2y5morpugt': 7833, 'tor': 7834, 'tesla': 7835, 'cad': 7836, 'rush': 7837, 'dryer': 7838, 'gskjqwyi2d': 7839, 'eau': 7840, 'claire': 7841, 'jumper': 7842, 'spit': 7843, 'oxford': 7844, '1023': 7845, 'enormous': 7846, 'nfpa': 7847, 'nixon': 7848, 'greer': 7849, 'n2qzbmzuly': 7850, 'goku': 7851, 'bumper': 7852, 'dj': 7853, 'lamha': 7854, 'teamhendrick': 7855, 'khsbzkfd6o': 7856, 'hew': 7857, 'donå': 7858, 'iqj1z3jxx8': 7859, 'collideworship': 7860, 'vnzybfgzcm': 7861, 'yadkinville': 7862, 'scrambledeggs': 7863, 'kia': 7864, 'b9kuylcxg4': 7865, 'mumbaitimes': 7866, 'elgeotaofeeq': 7867, 'ambition': 7868, 'jrowah': 7869, 'darwinism': 7870, 'lo': 7871, 'robertson2': 7872, 'jackmulholland1': 7873, 'carlos': 7874, '3ife1zsop7': 7875, 'fla': 7876, 'modnao23': 7877, 'ruining': 7878, 'migraine': 7879, '4pqcmqchng': 7880, 'grtvnews': 7881, '7fsn1gewux': 7882, '772': 7883, 'temperance': 7884, 'permenence': 7885, 'mrrobinson': 7886, 'thesteveharveyshow': 7887, 'vibe': 7888, 'joshcorman': 7889, 'infosec': 7890, 'etp': 7891, 'hszjafxrvi': 7892, 'lsqe7nu6kl': 7893, 'carmen': 7894, 'edit': 7895, 'dudairbbpo': 7896, 'padosfyxnm': 7897, 'x8moyevjsj': 7898, 'kirafrog': 7899, 'wario': 7900, 'qwsbvflpe1': 7901, 'inmate': 7902, 'remand': 7903, '1osmiuxkhw': 7904, 'floored4': 7905, 'lag': 7906, 'r5stv25zhq': 7907, 'kigy7m6bgj': 7908, 'vivaargentina': 7909, 'xgn': 7910, 'infinity': 7911, 'ronin': 7912, 'carbon': 7913, 'hahah': 7914, 'preset': 7915, 'nades': 7916, 'colchester': 7917, 'cleav': 7918, 'cleavage': 7919, 'kv5l4ppxfg': 7920, 'reginald': 7921, 'rejected': 7922, 'stretched': 7923, 'igz7v24ge9': 7924, 'm75dnf2xyg': 7925, 'techfish': 7926, 'captainn': 7927, 'supernatural': 7928, 'sibling': 7929, 'rivalry': 7930, 'wogc': 7931, 'izaknpjeqw': 7932, 'missdaoh': 7933, 'barack': 7934, 'c0t7rvotkj': 7935, 'examinercom': 7936, 'natalie': 7937, 'stavola': 7938, 'lh': 7939, 'indiefilm': 7940, '2dw23pmf4b': 7941, 'arrogant': 7942, 'starbs': 7943, 'strutting': 7944, 'ashford': 7945, 'z2vdgiyowf': 7946, 'skqpwsnoin': 7947, 'bairstow': 7948, 'buffet': 7949, 'lad': 7950, '8s0mtwrumq': 7951, 'technews': 7952, 'puledo': 7953, 'satisfying': 7954, 'econom': 7955, 'zsqm8ihe1k': 7956, 'hcyajsacfj': 7957, 'q9zixci8e6': 7958, 'mankato': 7959, 'johngreen': 7960, 'robthier': 7961, 'lomasvisto': 7962, 'devours': 7963, 'intersectio': 7964, 'qwtk1b2fmc': 7965, 'cadenadeseguidores': 7966, 'êwagger': 7967, 'ominicanì': 7968, 'wwi': 7969, 'f9j3l2yjl4': 7970, 'mwwwowcayo': 7971, 'lcc': 7972, '96355': 7973, 'qyx5thkrbh': 7974, 'enfant': 7975, 'finna': 7976, 'boutta': 7977, 'hurting': 7978, 'bossnation': 7979, 'fvxhopdf3w': 7980, 'waffi': 7981, 'uorxff0nfx': 7982, 'f1r5isbvks': 7983, 'alexis': 7984, 'fucoqhclad': 7985, 'detkenlang': 7986, 'kcrnmjkj73': 7987, 'spouting': 7988, 'co2': 7989, 'lobo': 7990, 'paranoico': 7991, 'punpunlì': 7992, 'ndia': 7993, 'lowkey': 7994, 'acmrm833zq': 7995, '0dqjeretxu': 7996, 'hassanrouhani': 7997, 'doomed': 7998, 'clap': 7999, 'cgvuy3rcxo': 8000, 'abha': 8001, '1xw0z8zeqw': 8002, 'g5zsru0zvq': 8003, 'ujnrgfangj': 8004, 'tmipegqyev': 8005, 'benstracy': 8006, 'overtook': 8007, 'condenses': 8008, 'villa': 8009, 'mcv': 8010, 'fd9dzspugk': 8011, 'hienshi': 8012, 'gbay99': 8013, 'wouldnt': 8014, 'dumb': 8015, 'thief': 8016, 'hicksville': 8017, 'stole': 8018, '6odnbttpsq': 8019, 'lindenhurst': 8020, 'vanilla': 8021, 'azeroth': 8022, 'dynastic': 8023, 'yr8knephgu': 8024, 'dumuzid': 8025, 'x1402': 8026, 'iz17klelzc': 8027, 'editorial': 8028, 'ct2jutvytg': 8029, 'iso': 8030, 'psp': 8031, 'hbpnfoawii': 8032, 'bangtan': 8033, 'petereallen': 8034, 'huffpostuk': 8035, 'bbc5live': 8036, 'substantial': 8037, 'g6monvnpsu': 8038, 'bbcintroducing': 8039, 'purpleturtlerdg': 8040, 'giantgiantsound': 8041, 'ofan6dkoez': 8042, 'rdg': 8043, 'ophiuchus2613': 8044, '1008pla': 8045, 'efak': 8046, 'b2yvlmpepr': 8047, 'cooool': 8048, 'chronicillness': 8049, 'mylifestory': 8050, 'fyjwjdkm5i': 8051, 'cya': 8052, 'anakin': 8053, 'wbc2015': 8054, 'rjopjkbydr': 8055, 'nufdgw9yev': 8056, '2okscwyohc': 8057, 'queer': 8058, 'sultry': 8059, 'rosenbergs': 8060, 'ntsb': 8061, 'spaceshiptwo': 8062, 'eysblyx6l6': 8063, 'kpcc': 8064, 'vergil': 8065, 'agnus': 8066, 'dmd': 8067, 'leedstraif': 8068, 'zhrtcvu0ff': 8069, 'fuckyeahcarey': 8070, 'bornverified': 8071, '982988': 8072, '261624': 8073, 'attraction': 8074, 'ia44nczlif': 8075, 'ogtuv1plht': 8076, 'huthxlkyxy': 8077, 'pagasa': 8078, '12am': 8079, 'panay': 8080, 'guimaras': 8081, 'mountainous': 8082, 'lizbon': 8083, 'kidicalmassdc': 8084, 'breakdown': 8085, 'a6wmbnr51s': 8086, 'bytbz8s5ux': 8087, '034': 8088, 'ip': 8089, 'o3wvsclicx': 8090, 'iot': 8091, 'conserve': 8092, 'nnv3zwvant': 8093, 'lu': 8094, 'oobscfoktq': 8095, 'numenor': 8096, 'skarletan': 8097, 'dissuaded': 8098, 'rq': 8099, 'hearth': 8100, 'of3td6dglb': 8101, 'motivated': 8102, 'donnelly': 8103, 'uziwgzryny': 8104, 'slingnews': 8105, 'lue3waegpi': 8106, 'edappally': 8107, 'kochi': 8108, 'waved': 8109, 'misled': 8110, '19th': 8111, '64': 8112, 'o2cdkpsdfp': 8113, 'fnaf': 8114, 'fanfiction': 8115, 'trixie': 8116, 'pageshi': 8117, '366nhtg3tz': 8118, 'promo': 8119, 'danbury': 8120, 'o7qogmoegu': 8121, '109': 8122, 'captain': 8123, 'ssb4': 8124, 'loser': 8125, 'chew': 8126, 'gum': 8127, '7cibxls55f': 8128, 'lastingness': 8129, 'acquiesce': 8130, 'retreat': 8131, 'ziuw': 8132, 'irt4kkgsjx': 8133, 'daorcey': 8134, 'nsit': 8135, 'graywardens': 8136, 'invzices': 8137, 'sllikely': 8138, 'themed': 8139, 'westmarch': 8140, 'arreat': 8141, 'everett': 8142, 'unconscious': 8143, 'wc': 8144, 'os1wjrvx5c': 8145, 'weebly': 8146, 'unhappiness': 8147, 'btjpeo0bto': 8148, 'clyj32l333': 8149, 'duval': 8150, '25573': 8151, 'oct': 8152, '1895': 8153, 'zckxtfc9pt': 8154, 'astros': 8155, 'stunningly': 8156, 'mia': 8157, 'z8cp77lvza': 8158, '737': 8159, 'takeoff': 8160, 'atc': 8161, 'porthcawl': 8162, 'hough': 8163, 'dougkessler': 8164, 'b2b': 8165, 'b2bagency': 8166, 'enqgtbaxuj': 8167, 'slideshare': 8168, 'contentmarketing': 8169, 'debatequestionswewanttohear': 8170, 'unr': 8171, 'weston': 8172, 'custer': 8173, 'pennington': 8174, 'd33munni': 8175, 'jeannamibian': 8176, 'noooooooo': 8177, 'panoramic': 8178, 'muwmfjgzyh': 8179, 'perenjori': 8180, 'y2jt1amyfj': 8181, 'amen': 8182, 'salvation': 8183, 'woodcreek': 8184, 'roseville': 8185, 'bayelsaåêstate': 8186, 'vh8qtbypzt': 8187, '85v': 8188, '265v': 8189, '10w': 8190, 'pir': 8191, 'auc': 8192, 'njvpxzmj5v': 8193, 'ijd7wzv5t9': 8194, 'jackperu1': 8195, 'joshsternberg': 8196, 'v4': 8197, 'ulupxyzjwv': 8198, '2oroyunym2': 8199, 'c9jnxz3dxc': 8200, '3sqsergni2': 8201, 'lfw4iymsak': 8202, 'ûïdetonate': 8203, 'href': 8204, 'wnowfvcbms': 8205, 'jxwojxqndc': 8206, 'freebesieged': 8207, 'martinmj22': 8208, 'yougov': 8209, 'wafer': 8210, '2q3fuerey5': 8211, 'youssefyamani': 8212, 'equation': 8213, 'zg1yddywa5': 8214, '1erd2fpryp': 8215, 'squeaver': 8216, 'hangin': 8217, 'watchin': 8218, 'septic': 8219, 'moss': 8220, 'chamber': 8221, 'cyber': 8222, 'ey': 8223, 'qamgvqafzc': 8224, 'defines': 8225, 'perpetrator': 8226, 'cmweiojj55': 8227, 'whistled': 8228, 'mermaid': 8229, 'pwamg8ozj4': 8230, 'oup': 8231, 'igmpj': 8232, 'dangling': 8233, 'piercing': 8234, 'ooc': 8235, 'subjected': 8236, 'unwarranted': 8237, 'dannyjohnjules': 8238, 'spencer': 8239, 'fearon': 8240, 'christielinford': 8241, '250000': 8242, 'lxjjgyv86a': 8243, 'u9x3perxco': 8244, 'heather': 8245, 'sparxxx': 8246, 'threesome': 8247, 'soaker': 8248, 'jqfcy9guqv': 8249, 'tn65puhfhw': 8250, 'decent': 8251, 'billers': 8252, 'promoted': 8253, 'humble': 8254, 'lipstick': 8255, 'rediscovered': 8256, 'nars': 8257, 'emilyschuman': 8258, '4egh1g1jk7': 8259, 'kijima': 8260, 'claiming': 8261, 'banthebomb': 8262, '6g49ywwsqj': 8263, '2iafpmqjep': 8264, 'croat': 8265, 'eioqjwgeix': 8266, 'roaming': 8267, '77ciwxabva': 8268, 'funtua': 8269, '2liwkjybe9': 8270, 'norge2040': 8271, 'aarhus': 8272, 'jutland': 8273, 'barak': 8274, 'depends': 8275, '5ebpybfh4d': 8276, 'i8sj1kws1d': 8277, 'contemplating': 8278, 'chili': 8279, 'molten': 8280, 'zaynmaiikist': 8281, 'greet': 8282, 'bask': 8283, 'warmth': 8284, 'bliss': 8285, 'tvyqczgjdy': 8286, 'lindasocvat': 8287, 'tflbusalerts': 8288, 'bishop': 8289, 'stortford': 8290, 'cheetosarabia': 8291, 'cheetos': 8292, 'honduras': 8293, 'pisces': 8294, 'morganville': 8295, 'vsgqolr32g': 8296, 'p7uhcb13qx': 8297, 'permanently': 8298, 'swayoung01': 8299, 'recognised': 8300, 'performing': 8301, 'simon': 8302, 'tribe': 8303, 'rhyme': 8304, 'vibrator': 8305, 'vape': 8306, 'busted': 8307, 'phantasmal': 8308, 'cummerbund': 8309, 'qrhjei7grq': 8310, 'alexjacobsonpfs': 8311, 'andre': 8312, 'gore': 8313, 'bestcoast': 8314, '8jvqi9uspl': 8315, 'warfighting': 8316, 'lzff4pt4az': 8317, 'ftsn': 8318, 'ftsnnewsdesk': 8319, 'williamsbridge': 8320, 'sticking': 8321, 'ttq9ilhp8w': 8322, 'ireporter': 8323, '0rny349unt': 8324, 'movietheatre': 8325, '615': 8326, '9newsmornings': 8327, 'sword': 8328, 'tape': 8329, 's5': 8330, 'starks': 8331, 'greyjoys': 8332, 'interpretation': 8333, 'my8q1uwijn': 8334, 'lifeguard': 8335, 'paztdblgyk': 8336, 'thetshirtkid': 8337, 'overcharging': 8338, 'rent': 8339, 'fayetteville': 8340, 'hearthstone': 8341, 'vcirn1md8v': 8342, 'samajp32': 8343, 'tone': 8344, 'soonersportstv': 8345, '2o7eva1coe': 8346, '142163': 8347, '979189': 8348, 'masturbates': 8349, '5qhoehe9hf': 8350, 'fuerk0gwui': 8351, 'mv7ggglmvc': 8352, 'lexington': 8353, 'j2bone': 8354, 'disrwhqgym': 8355, 'homer': 8356, 'tulowitzki': 8357, 'westminister': 8358, 'sr22': 8359, 'knott': 8360, 'eumlca1edw': 8361, 'misfitrarity': 8362, 'misfit': 8363, '4yi4nuovbv': 8364, 'yahoo7': 8365, 'x1xj0xvtj7': 8366, 'punishable': 8367, 'qbdryxsglc': 8368, 'vzod7qfflv': 8369, 'icttz0divr': 8370, 'loupascale': 8371, 'candylit': 8372, 'sarumi': 8373, 'xizkjfff29': 8374, 'treyarch': 8375, 'pr': 8376, 'calum36chambers': 8377, 'emirate': 8378, 'q6oxzq45ve': 8379, 'cdcgov': 8380, 'ushiocomics': 8381, 'submitting': 8382, 'dlaub2nvtn': 8383, 'macdaddy': 8384, 'caption': 8385, 'k8ughv2aif': 8386, 'lara': 8387, 'teeth': 8388, 'flesh': 8389, 'clawing': 8390, 'j43nwkx0x3': 8391, 'awn': 8392, 'mozì': 8393, 'navigate': 8394, 'audit': 8395, 'je86vetdxh': 8396, 'cpt': 8397, 'jhb': 8398, 'jbxbi93clu': 8399, 'jetixrestored': 8400, 'teamo': 8401, 'supremo': 8402, 'pogo': 8403, 'wblimlmt2x': 8404, 'donnie': 8405, 'harbhajan': 8406, 'singh': 8407, 'stuartbroad8': 8408, 'yuvi': 8409, 'cuttack': 8410, 'orissa': 8411, 'congestion': 8412, 'steveycheese99': 8413, 'mapmyrun': 8414, 'boarding': 8415, 'galleria': 8416, 'apts': 8417, 'nmpn2mqzge': 8418, 'triumphant': 8419, 'yolk': 8420, 'fqj5aga1pd': 8421, 'cigs': 8422, 'breath': 8423, 'tray': 8424, 'p3g3bqbczu': 8425, 'rpbxdfnx5k': 8426, 'tattoo': 8427, 'donate': 8428, 'ziam': 8429, '7uf7tst9zx': 8430, 'jiomnrcygt': 8431, 'jevrcwudpm': 8432, 'wccorosen': 8433, 'insure': 8434, 'corycove': 8435, 'bestie': 8436, 'chainsaw': 8437, 'auz': 8438, 'cst': 8439, 'radioriffrocks': 8440, 'pjlda9hd5v': 8441, 'hump': 8442, '3wnjauar7w': 8443, 'garza': 8444, 'atlas': 8445, 'leone': 8446, 'copa': 8447, 'mx': 8448, 'usmnt': 8449, 'preseason': 8450, 'scotiabank': 8451, 'saddledome': 8452, '5g8qa6mpxm': 8453, 'mackem': 8454, 'joked': 8455, 'cubstalk': 8456, 'printable': 8457, 'template': 8458, 'naex0q1ax0': 8459, 'locksmith': 8460, 'domesticate': 8461, 'mechanic': 8462, 'circa': 8463, 'clock': 8464, 'gba': 8465, '1q6ccffzv6': 8466, 'bjzssw4tid': 8467, 'cyhi': 8468, 'scefpfvaeu': 8469, 'e0lugbl6pb': 8470, 'upi': 8471, 'irannucleardeal': 8472, 'emilymcfcheslop': 8473, 'pilloried': 8474, 'vz19vvgmnv': 8475, 'hqzfcxxrsb': 8476, '0vwpdizcko': 8477, 'stavernise': 8478, 'delivered': 8479, 'k4h8cq7puo': 8480, 'fy0r9o7xsl': 8481, '2racaivffq': 8482, 'idn': 8483, 'rz7fbr10xw': 8484, 'argentings': 8485, 'aaaaaaallll': 8486, 'captivity': 8487, 'legislation': 8488, 'introduced': 8489, 'compensate': 8490, 'ncjlxzfwaa': 8491, 'jewelry': 8492, 'rjebpib5rz': 8493, 'darchambau': 8494, 'wisdomwed': 8495, 'bonus': 8496, 'lifehacks': 8497, 'tbm9fqb8cw': 8498, 'sodamntrue': 8499, 'whitewalkers': 8500, 'intrigued': 8501, 'naturalemblem26': 8502, 'luka': 8503, 'alois': 8504, 'vgzgok5k3s': 8505, 'someday': 8506, 'uymxocfs33': 8507, 'xppqnyhiwc': 8508, 'qv1rmzi3j1': 8509, 'nf4iculoje': 8510, 'serbian': 8511, 'clothing': 8512, 'petersburgfl': 8513, '0npzp': 8514, '501': 8515, 'mandem': 8516, 'totteham': 8517, 'maddddd': 8518, 'ting': 8519, 'dere': 8520, 'norfolk': 8521, '6x0xhlbxji': 8522, 'universityoflaw': 8523, 'eg1fskqbv6': 8524, 'garbanzobean23': 8525, 'cutest': 8526, 'indot': 8527, 'bias': 8528, 'g7k9tqvqbk': 8529, 'devote': 8530, 'pride': 8531, 'reprocussions': 8532, 'retroactive': 8533, 'trillrebel': 8534, 'oversee': 8535, 'compton': 8536, 'nekm1rpohu': 8537, 'newyorkcity': 8538, 'medicine': 8539, 'lennox': 8540, 'drjustinmazur': 8541, 'mjtn3qbgos': 8542, 'yahoofinance': 8543, 'tesco': 8544, 'complaint': 8545, 'dogs': 8546, 'qzvkpahsq7': 8547, 'shkimonmlw': 8548, 'shii': 8549, 'intended': 8550, 'viejo': 8551, 'ruling': 8552, 'empower': 8553, 'milita': 8554, 'v0nf1uc1ow': 8555, 'zdhwrn6czc': 8556, '9km': 8557, 'ûïlittle': 8558, 'testimonial': 8559, 'muanfwcrw9': 8560, 'blaaaaaaa': 8561, 'vibrate': 8562, 'resolutevanity': 8563, 'commodity': 8564, '4hngtkdqmv': 8565, '6siirlnv6z': 8566, 'charter': 8567, 'vrwc': 8568, 'rc6eejme17': 8569, 'belfast': 8570, 'dde8gxaqrp': 8571, 'nook': 8572, 'thebachelorette': 8573, 'ecstatic': 8574, 'racco': 8575, 't8q6dzvgwx': 8576, 'cwm0ulqu3e': 8577, 'tjgxdc3d5p': 8578, '0215': 8579, 'boltåêcyclone': 8580, '400dr': 8581, 'packåêfor': 8582, 'kg4vaal': 8583, 'lmaov': 8584, 'babalmao': 8585, 'nyozi': 8586, 'kwaaaaa': 8587, '695807': 8588, '837865': 8589, 'tsutomi': 8590, 'yamaguchi': 8591, 'otd': 8592, 'daalpenzp0': 8593, 'zsberqnn9n': 8594, 'misguided': 8595, 'imprison': 8596, 'fueling': 8597, 'fiendnikki': 8598, 'warnerrobins': 8599, 'milledgeville': 8600, 'phnez60cwe': 8601, 'silas': 8602, 'sliced': 8603, 'headlinelike': 8604, 'chopped': 8605, 'cabbage': 8606, 'gh': 8607, 'generous': 8608, 'ms8e8mnddb': 8609, 'thedailybeast': 8610, 'err': 8611, 'affair': 8612, 'corona': 8613, 'nycbuildings': 8614, 'm78ir0ik01': 8615, 'enews': 8616, 'affleck': 8617, 'eonlinechat': 8618, 'sqwizzix': 8619, 'ggqcz9ab6u': 8620, 'entertainer': 8621, 'dallascowboys': 8622, 'swayback': 8623, 'complex': 8624, 'vn73o4sgzj': 8625, 'calfires': 8626, 'whimsy': 8627, 'pertains': 8628, 'yuin': 8629, '35jyap0ul9': 8630, 'cocoa': 8631, 'homealone2': 8632, 'film4': 8633, 'karen': 8634, 'enviromental': 8635, '1meeo3wjco': 8636, 'burglary': 8637, 'wftcrlz32p': 8638, 'handside': 8639, 'calk5nv5vc': 8640, 'parksboardfacts': 8641, 'zippoline': 8642, 'moveit': 8643, 'rude': 8644, 'oomf': 8645, 'instagrams': 8646, 'kaccpk85wf': 8647, 'nnixodhigc': 8648, 'waterproof': 8649, 'weiqin': 8650, 'famous': 8651, 'quartz': 8652, 'lujo': 8653, '1jgsioujas': 8654, '719tzeyhfn': 8655, 'illegally': 8656, 'r6jdj9kigm': 8657, 'sanitised': 8658, 'narrative': 8659, 'gkpanz7vg0': 8660, 'hrc3oxquik': 8661, 'wnptvbm5t7': 8662, 'realhotcullen': 8663, 'lyrium': 8664, 'wealilknowa': 8665, 'pkkcdwjyg0': 8666, 'ocojppnrh1': 8667, 'luiz': 8668, 'santos': 8669, 'libraryeliza': 8670, 'taylorswift13': 8671, 'approval': 8672, 'kolmzbz1pz': 8673, 'musicadvisory': 8674, 'hobby': 8675, 'lobby': 8676, 'ama': 8677, '8qc8bcxoko': 8678, 'arfur': 8679, 'georgecole': 8680, 'banbridge': 8681, 'hhwv0eudfv': 8682, 'widda16': 8683, 'goner': 8684, 'newcastleupontyne': 8685, 'reusing': 8686, 'advanced': 8687, 'drumming': 8688, 'champaign': 8689, 'fdbdp': 8690, 'atchisonsean': 8691, 'vibrates': 8692, 'z8r6r3nbtb': 8693, 'namffldh5h': 8694, 'ou1m9chznq': 8695, 'macob5xlsu': 8696, 'dvbbs': 8697, 'borgeous': 8698, 'arceen': 8699, 'remix': 8700, '743joqazrt': 8701, 'modelbubbles': 8702, 'activate': 8703, 'timey': 8704, 'turkmenistan': 8705, 'nominates': 8706, 'ohhsehuns': 8707, 'rcvdrwowvo': 8708, 'menpa': 8709, 'utp': 8710, '7vsqqsvgni': 8711, 'perak': 8712, 'wilbraham': 8713, 'shizune': 8714, 'yamaku': 8715, 'furiosoxv': 8716, 'qyn6kxjstl': 8717, 'subway': 8718, 'osp': 8719, 'mounting': 8720, 'ymp0ginwza': 8721, 'fyioqvioif': 8722, 'youngstown': 8723, 'skip': 8724, 'alipaper': 8725, 'keepingtheviginaclean': 8726, 'wveo9ed10e': 8727, 'kimkardashian': 8728, '3tssxphufe': 8729, 'yeezy': 8730, 'burger': 8731, 'te5tdlyimn': 8732, 'newscomauhq': 8733, '1hlvrkwgip': 8734, 'ramp': 8735, 'rjkrraj': 8736, 'karnakarank': 8737, 'vimvith': 8738, 'thalapathi': 8739, 'twcds433yi': 8740, 'indigo6e': 8741, 'carful': 8742, 'spotting': 8743, 'baggage': 8744, 'perished': 8745, 'holodomor': 8746, 'erected': 8747, 'dj1lwznieh': 8748, 'i9mxxkzhbl': 8749, 'cafe': 8750, 'cramming': 8751, 'to0bpieyms': 8752, 'riooooos': 8753, 'beast': 8754, '463p0ys0eb': 8755, 'certainty': 8756, 'fitz': 8757, 'tantrum': 8758, 'pwd5l0glkv': 8759, 'poignant': 8760, 'mwmt3bdr5l': 8761, 'hoxton': 8762, 'icy': 8763, 'rum': 8764, 'bez': 8765, 'bangin': 8766, 'stressing': 8767, 'vienna': 8768, 'butcher': 8769, 'lowestoft': 8770, 'saintrobinho86': 8771, 'demonstrated': 8772, 'bracknell': 8773, 'cyxbrzxwq4': 8774, 'icrgseagya': 8775, 'kpvymhm2ub': 8776, 'terrific': 8777, 'rotherham': 8778, 'o6armcgvbs': 8779, 'savannah': 8780, 'broseidonrex': 8781, 'dapurplesharpie': 8782, 'skimmed': 8783, 'p4doa5yyje': 8784, 'thatdes': 8785, 'forthright': 8786, 'coma': 8787, 'kebab': 8788, 'tahini': 8789, 'heared': 8790, 'szmnextdoor': 8791, 'tirelessly': 8792, 'zdtoyd8ebj': 8793, 'moderately': 8794, 'foreverwithbap': 8795, 'afssgpnzwi': 8796, 'ecxmoinzgu': 8797, 'ntwwdwednb': 8798, 'rl': 8799, 'becarefulharry': 8800, 'blower': 8801, 'tuffers': 8802, 'bbctms': 8803, 'independence': 8804, 'qnij2p8zv6': 8805, 'karolinska': 8806, 'gen': 8807, 'solna': 8808, 'dmtzmgyrik': 8809, 'guiltygearxxacp': 8810, 'drew': 8811, 'sk3l74flzz': 8812, 'midfield': 8813, 'soni': 8814, 'soner': 8815, 'sonisoner': 8816, 'devffptcvj': 8817, 'becca': 8818, 'caitlyn99': 8819, 'x1411': 8820, '2y4rgob7pj': 8821, 'mves6vssyn': 8822, 'thebriankrause': 8823, 'metaphorically': 8824, 'piperwearsthepants': 8825, 'charmed': 8826, 'lordrsbiscuits': 8827, 'dump': 8828, 'scwx': 8829, 'financialtimes': 8830, 'receiving': 8831, 'ethiopia': 8832, '2fggzqn1v4': 8833, 'receipt': 8834, 'desperate': 8835, 'thriving': 8836, 'hub': 8837, 'ûótech': 8838, 'biztip': 8839, 'electricity': 8840, 'socket': 8841, 'redondo': 8842, 'bedding': 8843, 'sticker': 8844, 'decal': 8845, 'ykuauov9jo': 8846, 'tarp': 8847, 'outfield': 8848, 'infield': 8849, 'cdcwhistleblower': 8850, 'measles': 8851, 'complication': 8852, 'loos': 8853, 'thelegendblue': 8854, 'cozmo23': 8855, 'allow': 8856, 'ascend': 8857, 'wildlife': 8858, 'lemongang': 8859, 'midnight': 8860, 'carregado': 8861, 'vscpgmsjxy': 8862, 'manual': 8863, 're': 8864, 'shrimplevy': 8865, 'lamia': 8866, 'achieving': 8867, 'deltachildren': 8868, 'instaquote': 8869, 'quoteoftheday': 8870, 'waltdisney': 8871, 'blzt5zwose': 8872, 'yerct4j244': 8873, 'malabamiandsons': 8874, 'achimota': 8875, '233liveonline': 8876, 'io7kuug1uq': 8877, 'waited': 8878, 'cab': 8879, 'slsandpet': 8880, 'sally': 8881, 'emailed': 8882, 'awol': 8883, 'argh': 8884, 'resigninshame': 8885, 'o6aa0nwlha': 8886, 'allahsfinest12': 8887, 'sylacauga': 8888, 'chpsre': 8889, 'rezaphotography': 8890, 'rpmtropsvr': 8891, 'deldryden': 8892, 'xe0ee1fzfh': 8893, 'adavis': 8894, 'cuddling': 8895, 'cruise': 8896, 'h3dch6fyaw': 8897, 'uncomfortable': 8898, 'gerryconnolly': 8899, 'repdonbeyer': 8900, 'debacle': 8901, 'mgr': 8902, '79': 8903, 'nu3xxn55vs': 8904, 'xngrfnqsx3': 8905, 'nalathekoala': 8906, 'professional': 8907, 'sequalae': 8908, 'homicide': 8909, 'fab': 8910, 'albertsons': 8911, 'cwhslmb8x9': 8912, 'int': 8913, 'bridgeportspeed': 8914, 'dih1tgqhej': 8915, 'basking': 8916, 'lmumzkltln': 8917, 'yebxxarybf': 8918, 'srruqfffr6': 8919, 'cadzxagmsi': 8920, 'attock': 8921, 'mccain': 8922, 'photographed': 8923, 'jnromse1z2': 8924, 'acmilan': 8925, 'w6yu7qs4cv': 8926, 'go0pkrfzmf': 8927, 'terrified': 8928, 'shanaynay': 8929, '547': 8930, 'dorrie': 8931, 'caruana': 8932, 'nf46paytvw': 8933, 'ciaramckendry': 8934, 'renewed': 8935, 'skinless': 8936, 'reizei': 8937, 'sama': 8938, 'jailed': 8939, 'rindou': 8940, 'policyholder': 8941, 'clico': 8942, 'e4dvi9vuxz': 8943, 'jycpf8iyhg': 8944, 'remodeled': 8945, '876': 8946, 'jamrock': 8947, 'x1386': 8948, 'ow4gexynbh': 8949, 'barbara': 8950, 'dante': 8951, 'exum': 8952, 'stem': 8953, '8pifutrb5u': 8954, 'roguewatson': 8955, 'tennoatax': 8956, 'tenno': 8957, 'dojo': 8958, 'transwomen': 8959, 'butch': 8960, 'credited': 8961, 'inciting': 8962, 'frankfort': 8963, 'grizzly': 8964, 'danielsahyounie': 8965, 'pulse': 8966, 'uwobuuw2mk': 8967, 'ik7mgidvbm': 8968, 'af1yzus8ln': 8969, 'acura': 8970, 'rsx': 8971, '0l': 8972, 'l4': 8973, 'vzaiqamdcp': 8974, 'ycecn44c8p': 8975, '367': 8976, 'cedcugeuws': 8977, 'precious': 8978, 'cargo': 8979, 'onesie': 8980, 'recalled': 8981, '0pamznyyuw': 8982, 'lamsdzkcuz': 8983, 'shield': 8984, 'mmchale13': 8985, 'wocowae': 8986, 'qi2bdvkab7': 8987, 'ushed': 8988, 'yogya': 8989, 'berhati': 8990, 'nyaman': 8991, 'slating': 8992, 'gpaulista5': 8993, 'jackwilshere': 8994, 'disgrace': 8995, 'afc': 8996, 'milton': 8997, 'keynes': 8998, 'sunflower': 8999, 'vlnmklwwby': 9000, 'p769eo49fj': 9001, 'fitba': 9002, 'kilbride': 9003, 'treating': 9004, 'dlizfkk30y': 9005, 'remaining': 9006, 'greystone': 9007, '85885473': 9008, 'lzljzzkcfa': 9009, 'murray': 9010, 'qkz2sp06xn': 9011, 'thedayct': 9012, '06413': 9013, 'editaxohaze': 9014, 'cuffed': 9015, 'yugoslav': 9016, 'macedonia': 9017, 'porcupine': 9018, 'iylvzy3cob': 9019, 'coconut': 9020, 'josie': 9021, 'splifs': 9022, 'prettyboyshyflizzy': 9023, 'beautifully': 9024, 'fkxcsztezb': 9025, 'terran': 9026, 'mainly': 9027, 'prablematicla': 9028, 'adweek': 9029, 'x1x6d5enef': 9030, 'xhehjfft7g': 9031, 'excite': 9032, 'ij0wq490cs': 9033, 'yfppifdkqo': 9034, 'ajyulmftif': 9035, 'vgf41iupkn': 9036, 'hakogaku': 9037, 'åêi': 9038, 'obp595w7tm': 9039, 'nanaimo': 9040, 'apocalpytic': 9041, 'y8wloctevc': 9042, 'ndxrk2ncln': 9043, 'uswarcrimes': 9044, 'twilightfairy': 9045, 'rnqebaycvm': 9046, 'onlin': 9047, 'n3lndjkyo3': 9048, 'thrhkhogcuåê': 9049, 'tzszmf2qxe': 9050, 'panik': 9051, 'kelbytomlinson': 9052, 'hujvgsflus': 9053, 'hidden': 9054, 'plo2qkrwhu': 9055, 'commenters': 9056, 'underestimate': 9057, 'rhett': 9058, 'obligatory': 9059, 'ymy4rskq3d': 9060, 'doesnt': 9061, 'pointless': 9062, 'thesewphist': 9063, 'whoever': 9064, 'fuckface': 9065, 'wineisdumb': 9066, 'spam': 9067, 'comuiok3mp': 9068, 'elijah': 9069, 'huriivfdkc': 9070, 'easier': 9071, 'hgb1mc3irk': 9072, '6ysxghc8gz': 9073, 'odawara': 9074, 'flow397': 9075, 'atcha': 9076, 'golfball': 9077, 'parkchat': 9078, 'antipozi': 9079, 'cucks': 9080, 'vox99fwkcx': 9081, 'worldwideweb': 9082, 'ought': 9083, 'c1xhizprad': 9084, 'nicosia': 9085, 'mages': 9086, 'specialize': 9087, 'natsu': 9088, 'dragneel': 9089, 'transcend': 9090, 'diversified': 9091, 'nr1i8qnao1': 9092, 'intramuros': 9093, 'vsvy1qe69t': 9094, 'clog': 9095, 'jrdwyy0ax4': 9096, 'us0qqqhqvj': 9097, 'dserialpcilp': 9098, 'pci': 9099, '16550': 9100, 'l0b14sj7jb': 9101, 'nicklee8': 9102, 'london3': 9103, 'loo': 9104, 'blighty': 9105, 'abnzqwlig1': 9106, 'recovered': 9107, 'airasia': 9108, 'zhjlflbhzl': 9109, 'noooooooooooo': 9110, 'bgrab7lk8d': 9111, 'wqy3jokumh': 9112, 'pc3h1ne4g0': 9113, 'vz640xoswj': 9114, 'm2hpnoak8b': 9115, 'star39': 9116, 'illegals': 9117, 'protected': 9118, 'mj2jq2psv6': 9119, 'papcrdoll': 9120, 's2g': 9121, 'deactivate': 9122, 'romeocrow': 9123, 'organizing': 9124, 'tmgcgart': 9125, 'wolforth': 9126, 'altamonte': 9127, 'pckf0nl2yn': 9128, 'garowe': 9129, 'puntland': 9130, 'ûïparties': 9131, 'crouch': 9132, '66obqmximb': 9133, 'reshape': 9134, 'mineral': 9135, 'tezltqeyw2': 9136, 'boyinahorsemask': 9137, 'panda': 9138, 'x3rcchkago': 9139, 'wkrn': 9140, 'iwcu3dgi1a': 9141, 'likwqhshhx': 9142, 'designer': 9143, 'qualit': 9144, 'zgjgghdurf': 9145, 'peeped': 9146, 'frontin': 9147, 'jeepåêsunk': 9148, 'tinted': 9149, 'bumpin': 9150, 'kynespeace': 9151, 'warden': 9152, 'aprensss3x': 9153, 'matilda': 9154, 'hhtwayt4yo': 9155, 'autoames': 9156, 'ventilated': 9157, 'bandolier': 9158, 'dix': 9159, 'sharkatraz': 9160, 'bindle': 9161, 'cleft': 9162, 'mrw': 9163, 'ifunny': 9164, 'xiydyfptru': 9165, 'jengriffinfnc': 9166, 'arrival': 9167, 'gggfvo5pb4': 9168, 'nlfr8t3xqm': 9169, 'c5jutfxbm9': 9170, 'cjrssry1rt': 9171, 'biblical': 9172, 'sct014': 9173, 'bkn032': 9174, 'russellville': 9175, 'clarksville': 9176, 'dardanelle': 9177, 'n844h1aspj': 9178, 'nikoniko12022': 9179, 'neal': 9180, 'rigga': 9181, '4virxkgmpc': 9182, 'weeaboos': 9183, 'thatsabinegirl': 9184, 'dose': 9185, 'modernist': 9186, 'hag': 9187, 'frome': 9188, '3945': 9189, 'song21': 9190, 'hacked': 9191, 'nsf': 9192, 'tardis': 9193, 'm9o08gurt4': 9194, 'rudd': 9195, 'emile': 9196, 'hirsch': 9197, 'filmmaker': 9198, 'e4qonkzndz': 9199, 'entretenimento': 9200, 'frusciante': 9201, '00cy9vxeff': 9202, 'curry': 9203, 'herman': 9204, 'stephenson': 9205, 'overturned': 9206, 'ybjezkurw1': 9207, 'summerfate': 9208, 'misscharleywebb': 9209, 'gwersyllt': 9210, 'kosher': 9211, 'txiestox5n': 9212, 'jewishpress': 9213, 'roadid': 9214, 'hikdc1fm2f': 9215, 'oia5fxi4gm': 9216, 'definition': 9217, 'chriscesq': 9218, 'fandom': 9219, 'dyannbridges': 9220, 'yeshayad': 9221, 'ipgmf4ttdx': 9222, '100mb': 9223, 'tecno': 9224, 'q1': 9225, 'ime': 9226, 'avzsyie1nt': 9227, 'ay6zzcupnz': 9228, 'sc9dns41mc': 9229, 'swollen': 9230, 'hrsfa8zuji': 9231, 'browseråêhijacker': 9232, 'vlnjnolnme': 9233, 'if5rogfjri': 9234, 'xmwodfmtui': 9235, 'nother': 9236, 'wearethenews': 9237, '2jxkmkpalp': 9238, 'ec46lyqqc6': 9239, 'fema': 9240, 'sake': 9241, 'chowtaxis': 9242, 'jackie': 9243, 'njlqrqcnl9': 9244, 'himeruisu': 9245, 'shove': 9246, 'muffle': 9247, 'juan': 9248, 'illustrated': 9249, 'horrifying': 9250, 'gzib0mawmn': 9251, 'ledofficial1': 9252, 'request': 9253, 'pontefract': 9254, 'slosheriff': 9255, 'elvy': 9256, 'hebrooon': 9257, 'formula': 9258, 'zojadelin': 9259, 'soooota': 9260, 'embra': 9261, 'tier': 9262, 'dee': 9263, 'dum': 9264, 'serva': 9265, 'fidem': 9266, 'infested': 9267, 'wimp': 9268, 'mathew': 9269, 'is': 9270, 'z3ke': 9271, 'sk1': 9272, 'saladinahmed': 9273, '6xysdn2xz0': 9274, 'earthling': 9275, '1pflm532mg': 9276, '58qrugzvg0': 9277, 'prove': 9278, 'begun': 9279, 'tren': 9280, 'vhcxtvcinr': 9281, 'joonma': 9282, 'arnd': 9283, 'hyuk': 9284, 'brewer': 9285, 'tested': 9286, '51': 9287, 'hhllqckcep': 9288, 'lnpscadaxr': 9289, 'brecksville': 9290, 'kea5l3b1ae': 9291, 'deeeznvtzzz': 9292, 'waistdeep': 9293, 'zcp5cszsll': 9294, 'ggn39m60tl': 9295, 'f5ylp7pfn7': 9296, 't7ge0j3cay': 9297, 'lìáctea': 9298, 'patrickjbutler': 9299, 'damiengayle': 9300, 'phh1vmlfoo': 9301, 'fu1btuq1et': 9302, 'shoppe': 9303, 'harperanetflixshow': 9304, 'elxn42': 9305, 'stopharper': 9306, 'dhggxo7mcc': 9307, 'argus': 9308, 'jutta': 9309, 'bmsedzofsv': 9310, 'shattered': 9311, 'visage': 9312, '0kccg1bt06': 9313, 'marc': 9314, 'holl': 9315, 'nennicook': 9316, 'aitchkaycee': 9317, 'vixstuart': 9318, 'benjbeckwith': 9319, 'ep03': 9320, 'finalise': 9321, 'alt': 9322, 'maaaaan': 9323, 'rihanna': 9324, 'wiltshire': 9325, 'nawf': 9326, 'poking': 9327, 'mithitennis': 9328, 'crackedgem': 9329, 'awaits': 9330, 'wmnonhxeir': 9331, 'bannukes': 9332, 'orchid': 9333, 'ytkxwpyihg': 9334, 'rheinbach': 9335, 'gpcecp9khv': 9336, 'cosmetic': 9337, 'periwinkle': 9338, 'copper': 9339, 'piping': 9340, 'a9bnlse6qb': 9341, 'appy': 9342, 'myth': 9343, 'obscuring': 9344, 'salon': 9345, 'dlp8kpkt2k': 9346, 'aveiro': 9347, 'unbelievably': 9348, 'aeroplane': 9349, 'freaky': 9350, 'cezhq7czll': 9351, 'e5cns6ufpa': 9352, 'riverview': 9353, 'hara': 9354, 'kiri': 9355, 'uo0aqk9kr8': 9356, 'osaka': 9357, 'eqccrtlnbd': 9358, 'qu8s89pvvt': 9359, 'passive': 9360, 'aggressively': 9361, 'coerced': 9362, 'commitment': 9363, 'largo': 9364, 'na2ey64vsg': 9365, '29pm': 9366, 'o8x4m5er6b': 9367, 'calgarians': 9368, 'fkfa9vsssz': 9369, 'fuso': 9370, 'yamashiro': 9371, 'cachet': 9372, 'aq5zlim7l4': 9373, 'fvr9jdq71a': 9374, 'yhaqa5wxok': 9375, 'contr': 9376, 'outback': 9377, 'u0keoe5fmt': 9378, '293': 9379, 'eddy': 9380, '3a': 9381, 'bmx': 9382, 'areal': 9383, '62oddekvli': 9384, 'summervibes': 9385, 'pitmix': 9386, 'brixton': 9387, 'banksy': 9388, 'mybabies': 9389, '7vovktxspo': 9390, 'yg697fcqgr': 9391, 'quadrillion': 9392, 'ghmmuj7gbe': 9393, 'u9lvvlzhye': 9394, 'lyj57pq3yx': 9395, 'roose': 9396, 'depressing': 9397, 'museawayfic': 9398, 'beenghosting': 9399, 'xylodemon': 9400, 'canceling': 9401, 'f2gwxeprak': 9402, 'construct': 9403, 'e9d9lk5fdw': 9404, 'ttb9oil8r2': 9405, 'topstories': 9406, 'timesofindia': 9407, 'graph': 9408, 'ulxf6dq3ns': 9409, 'darrellissa': 9410, 'smashing': 9411, '7pqs4rshhb': 9412, '89x': 9413, 'h9fsiaxv3q': 9414, 'stfxuniversity': 9415, 'l5awtundhm': 9416, 'maxi': 9417, 'erws6ieldg': 9418, 'foxdebatequestions': 9419, 'sharia': 9420, 'edwing': 9421, 'leitchfield': 9422, 'bella': 9423, 'rosalie': 9424, 'sponsorship': 9425, 'ajay0snplg': 9426, '21hsrrqzou': 9427, 'ed1vpitswy': 9428, '6xsbddlziy': 9429, 'nqiobczkrt': 9430, 'fest': 9431, 'wedgie': 9432, 'qqskybarng': 9433, 'biì': 9434, 'bellalinn': 9435, 'alrighty': 9436, 'stony': 9437, 'felon': 9438, '0wbecdmhqo': 9439, 'harlem': 9440, 'orxdqfz0j0': 9441, 'linton': 9442, 'mofanon': 9443, 'peeked': 9444, 'immune': 9445, 'deafening': 9446, 'stationcdrkelly': 9447, 'sys': 9448, 'clergyforced': 9449, 'grossly': 9450, 'disfigured': 9451, 'bbjls1fsad': 9452, 'abcnews24': 9453, 'peterdutton': 9454, 'labor': 9455, 'p96rgbbayl': 9456, 'mobile': 9457, 'mazing': 9458, 'ficd5qbqwl': 9459, 'utopian': 9460, 'inevitably': 9461, 'gulag': 9462, 'phila': 9463, 'trade': 9464, '159': 9465, 'burton': 9466, 'fjddx43ewj': 9467, 'messnermatthew': 9468, 'newcity': 9469, 'rebeccaforreal': 9470, 'accepts': 9471, 'govwalker': 9472, 'nbc15': 9473, 'pis0aivrbr': 9474, 'dt': 9475, 'georgegalloway': 9476, 'galloway4mayor': 9477, 'pickpocket': 9478, 'stree': 9479, 'vxin1goq4q': 9480, 'infrastructure': 9481, 'ngehhg9yga': 9482, 'repeat': 9483, 'annonymous': 9484, 'tremblayeh': 9485, 'sirmixalot': 9486, 'airdrie': 9487, 'reddeer': 9488, 'cactus': 9489, 'borderland': 9490, 'borderlands2': 9491, 'oocvg': 9492, 'ftw': 9493, 'lcnw4ead8v': 9494, 'darkndtatted': 9495, 'holmes': 9496, 'keeponrockin': 9497, 'strawberrysoryu': 9498, 'suspicious': 9499, 'fqmyprlg9g': 9500, 'mycareer': 9501, 'ep18': 9502, 'tyrone': 9503, 'mr5bi4kd82': 9504, 'emmy': 9505, 'rossum': 9506, 'honeybunzgem': 9507, 'primalkitchen': 9508, 'dumping': 9509, 'duncan': 9510, 'tiost8okvx': 9511, 'rm6cnzkszl': 9512, 'brbrs': 9513, 'fousey': 9514, 'kevinedwardsjr': 9515, 'ncjlkqasuk': 9516, 'casu': 9517, 'kclkokqi8a': 9518, 'nervana': 9519, 'per': 9520, 'behaviour': 9521, 'pleasantly': 9522, 'div': 9523, 'fought': 9524, 'sanchez': 9525, 'bolasie': 9526, '7ct01neptl': 9527, 'owen': 9528, 'twcnewsclt': 9529, 'nnbexhklhr': 9530, 'codythompson25': 9531, 'cbccalgary': 9532, 'underpass': 9533, 'enacts': 9534, 'leduc': 9535, 'ildbeje225': 9536, 'mrmikeeaton': 9537, 'muazimus': 9538, 'hil': 9539, 'jmcwrites': 9540, 'pitchwars': 9541, 'realism': 9542, '64xr9ltnoh': 9543, 'ransomware': 9544, 'wilson': 9545, 'aqbljcomln': 9546, 'pvc': 9547, 'cartoon': 9548, '7l9qazljvg': 9549, 'q0hsyfrwec': 9550, '6hkca1dsna': 9551, 'cochisecollege': 9552, 'ldx9ukngsk': 9553, 'tb': 9554, 'ribbon': 9555, 'pa5sslefec': 9556, 'offtrackhorse': 9557, 'feb': 9558, 'pm2tnnfdww': 9559, 'krasnodar': 9560, 'f7ogzrnpfv': 9561, 'mav': 9562, 'ju8nfpnedl': 9563, 'qegmrhsms2': 9564, 'zipped': 9565, 'm9ig3wq8lq': 9566, 'uriminzok': 9567, 'puppet': 9568, 'naemolgo': 9569, 'firmly': 9570, 'yiraneuni': 9571, 'fadelurker': 9572, 'dalinthanelan': 9573, 'camped': 9574, 'redcliffe': 9575, 'aidan': 9576, 'skyhold': 9577, 'pirate': 9578, 'acquired': 9579, 'blowltan': 9580, 'oq0lnf2yug': 9581, 'tzdbcgpsag': 9582, '4i0kz2akly': 9583, '94sxki7kvx': 9584, 'psbxl1hvu3': 9585, 'styled': 9586, 'undergroundbestsellers': 9587, 'dili5jhmur': 9588, 'cspan': 9589, 'maker': 9590, 'zaire2005': 9591, 'mulruifnn1': 9592, 'specialguest': 9593, 'crapgamer': 9594, 'gamescom': 9595, 'deosl86': 9596, 'xavier': 9597, 'meaningless': 9598, 'nycha': 9599, 'ny1': 9600, 'ny1burst': 9601, 'w7siidujoh': 9602, 'cspanwj': 9603, 'deai': 9604, 'sqydkslfzp': 9605, 'pmarca': 9606, 'affiliation': 9607, 'aqua': 9608, 'scghl0piq6': 9609, 'daqszzubub': 9610, 'bettyfreedoms': 9611, 'abninfvet': 9612, 'yoenis': 9613, 'production': 9614, 'mumbling': 9615, 'cackling': 9616, 'ny35': 9617, 'catskills': 9618, 'mayoroflondon': 9619, 'compulsory': 9620, 'notrocketscience': 9621, 'bunker': 9622, 'ronda': 9623, 'rousey': 9624, 'mayweather': 9625, 'ijzcytbffo': 9626, '4fxfllrien': 9627, 'i12nlsr8fk': 9628, 'asterpuppet': 9629, 'academia': 9630, 'butterfinger': 9631, 'flurry': 9632, 'deb117': 9633, 'athlete': 9634, 'fulfilling': 9635, 'clerical': 9636, 'mallelis': 9637, 'mason': 9638, 'violin': 9639, 'aberdeen': 9640, 'perthshire': 9641, 'ddnt': 9642, 'reign': 9643, 'coco': 9644, 'ostentatious': 9645, 'zeerust': 9646, 'valdes1978': 9647, 'forgive': 9648, 'testy': 9649, 'usami': 9650, 'wonderland': 9651, '300k': 9652, 'exotic': 9653, 'j49xeuj7ps': 9654, 'ibsvy2r3ph': 9655, 'rg3bndkxjx': 9656, 'bq90pfzmrp': 9657, 'workspace': 9658, 'forsee': 9659, 'badkitty': 9660, 'hickville': 9661, 'tangled': 9662, 'wicdiv': 9663, 'thecomedyquote': 9664, '50shadezofgrey': 9665, 'p45perez': 9666, '2xmdidgpnr': 9667, 'pledged': 9668, 'cbxnhhz6kd': 9669, 'hawthorne': 9670, 'wooooooo': 9671, 'gamerant': 9672, 'esports': 9673, '76ehhmqq6r': 9674, 'umtffa9jjb': 9675, 'extent': 9676, 'unfair': 9677, 'favoritism': 9678, 'jusreign': 9679, 'hxm8c8e33d': 9680, 'supply': 9681, 'install': 9682, 'frp': 9683, 'tuna': 9684, 'kijangbank': 9685, 'negara': 9686, 'zpqwkhfhnf': 9687, 'whack': 9688, '6exs23muy3': 9689, 'l9idherotj': 9690, 'tammy': 9691, 'w1997': 9692, 'elijahmallari': 9693, 'frostburg': 9694, 'currency': 9695, 'transgress': 9696, 'ward': 9697, 'payment': 9698, 'unsecured': 9699, 'jbumzqpk': 9700, 'x2wn7o2a3w': 9701, 'whelen': 9702, '295ss': 9703, 'amplifier': 9704, 'a5iwus8evq': 9705, 'gi82n2juwn': 9706, 's4pnihjqx7': 9707, 'fa07af174a71408': 9708, 'looter': 9709, 'tolerated': 9710, 'cassadaga': 9711, 'carted': 9712, '4dbhono3rk': 9713, 'dwarfonjetpack': 9714, '2099': 9715, 'oi': 9716, 'pdosrg8cf7': 9717, 'coalition': 9718, 'fondness': 9719, 'backing': 9720, '1984': 9721, 'totalitarianism': 9722, 'copied': 9723, '58wvchg1m9': 9724, 'freddiedeboer': 9725, 'thucydiplease': 9726, 'coates': 9727, 'broadly': 9728, 'beside': 9729, 'grown': 9730, 'qwrrfdgxcc': 9731, 'sstj2bepqn': 9732, 'aberystwyth': 9733, 'shrew': 9734, 'v5gtunwohy': 9735, 'familia': 9736, 'carneross': 9737, 'remarkably': 9738, 'puny': 9739, 'epoch': 9740, 'surrey': 9741, 'stolen': 9742, 'lknu8902je': 9743, 'grc': 9744, 'subscriber': 9745, 'thursd': 9746, 'ibype1kaz5': 9747, 'nort': 9748, 'dinosaurdracula': 9749, 'jason': 9750, 'irhh2gvsed': 9751, 'benkin97': 9752, 'mili': 9753, '5499': 9754, 'probs': 9755, 'rd10ex6hvt': 9756, 'adoptive': 9757, 'jxhazebnqk': 9758, 'nx2d83a4du': 9759, 'hkxfymhex': 9760, 'beet': 9761, 'luigmhma1i': 9762, 'peekskill': 9763, '10566': 9764, 'cafire': 9765, 'brobread': 9766, 'x1434': 9767, 'ye': 9768, 'wholeteam3': 9769, 'wholesaleent': 9770, 'jwnxh9q5ov': 9771, 'oneself': 9772, 'foreclosed': 9773, 'tejc': 9774, 'secondhand': 9775, 'ydgmgbryl2': 9776, 'meisnkv5tb': 9777, 'equate': 9778, 'kowing': 9779, '5lnidvobff': 9780, 'beclearoncancer': 9781, 'm4tczaawpt': 9782, 'ojhcgzxlst': 9783, 'tewkesbury': 9784, 'deemed': 9785, '0xrfvidxa2': 9786, 'oihwgezdck': 9787, 'coyote': 9788, 'k2tbes65oa': 9789, '10m': 9790, '2baxg1wdpp': 9791, 'anellatulip': 9792, 'taint': 9793, 'magisters': 9794, 'kama': 9795, 'yessum': 9796, 'unaware': 9797, 'sanitizing': 9798, 'yrvgykdbm6': 9799, 'goingdownthetoilet': 9800, 'bark': 9801, 'georgie': 9802, 'forreal': 9803, 'whipe': 9804, 'chord': 9805, 'axvq80rbyj': 9806, 'funnydadcoach': 9807, 'jasonpope2': 9808, 'johnfugelsang': 9809, 'x2': 9810, 'buhh': 9811, 'nypdnews': 9812, 'ihhrkg4v1s': 9813, 'aryu5qngjj': 9814, 'greenlacey': 9815, 'bbclaurak': 9816, 'stowing': 9817, 'aboard': 9818, 'thexfiles201days': 9819, 'bridgetown': 9820, 'superintende': 9821, 'wdueaj8q4j': 9822, 'sanjaynirupam': 9823, 'sureshprabhu': 9824, 'invokces': 9825, 'sharper': 9826, 'viper': 9827, 'hardside': 9828, 'fxk3zsj2pe': 9829, 'gzgpwsqymw': 9830, 'firenews': 9831, 'ay49mtyyl8': 9832, 'asimtanvir': 9833, 'nemesisk': 9834, 'pes': 9835, 'kevr': 9836, 'palma': 9837, 'islas': 9838, 'baleares': 9839, 'reboot': 9840, 'bel': 9841, 'cast': 9842, 'uchwtlc9b4zjugh7ydlb55iw': 9843, 'morn': 9844, 'uhl0akfvsm': 9845, '20009': 9846, 'ayshun': 9847, 'ik4len': 9848, 'lqjjy1ptwt': 9849, 'rp2dxfkhdq': 9850, 'akmihlris1': 9851, 'finance': 9852, 'liqd': 9853, 'wp6v1bhhoq': 9854, '99206': 9855, 'ashdod': 9856, 'emittin': 9857, 'swq5lmydka': 9858, 'warszawa': 9859, '149': 9860, '0oms8ri3l1': 9861, 'onlinemh370': 9862, 'onlinea': 9863, 'biolab': 9864, 'dumbfounded': 9865, 'rujv4vpnbv': 9866, 'eve': 9867, 'honored': 9868, 'klarajoelsson': 9869, 'ppfa': 9870, 'bjpsamvad': 9871, 'marek1330': 9872, 'zar': 9873, 'cringes': 9874, 'marek': 9875, 'toss': 9876, 'kanto': 9877, 'nochilllukehammings': 9878, 'trafficalert': 9879, '210': 9880, 'freeway': 9881, 'citrus': 9882, 'azusa': 9883, 'glendale': 9884, 'hunterston': 9885, 'process': 9886, 'smithereens': 9887, 'hame': 9888, 'provocation': 9889, 'lhw4vtbhzg': 9890, 'jmzcaqydfa': 9891, 'cindy': 9892, 'noonan': 9893, 'cindynoonan': 9894, 'heartbreak': 9895, 'yahistorical': 9896, 'undergroundrailraod': 9897, 'bozlwr716z': 9898, 'baseball41': 9899, 'granttamane8': 9900, 'drewwtaylor': 9901, 'dtop77': 9902, 'hillside': 9903, 'lq4lxgs2xu': 9904, 'spt54kfa9q': 9905, 'africanbaze': 9906, '2nndbgwyei': 9907, '115film': 9908, 'mdnugvubwn': 9909, 'deployment': 9910, 'deed': 9911, 'n6zflxigvr': 9912, 'bozeman': 9913, 'jarmusch': 9914, 'vampire': 9915, 'wii': 9916, 'shantaeforsmash': 9917, 'shantaehalfgeniehero': 9918, 'nintendo': 9919, 'zztbvjypn1': 9920, 'alvin': 9921, 'be4': 9922, 'dratomic420': 9923, 't97jmbzobo': 9924, 'selection': 9925, 'consistently': 9926, '637rc3qc8d': 9927, 'tegajmr8il': 9928, 'brochure': 9929, 'downside': 9930, 't5trhjuau0': 9931, 'afk': 9932, 'johanfranzen': 9933, 'orchs': 9934, 'frontlines': 9935, 'tyrant': 9936, 'pink': 9937, 'bagef9lfgt': 9938, 'bvxqa3kfrx': 9939, 'udj50j3mv4': 9940, 'hibernating': 9941, 'pbx': 9942, 'irrespective': 9943, 'careerism': 9944, 'crbzfz': 9945, '0840728': 9946, 'pdiit0af3q': 9947, 'dynamix': 9948, 'zq5kdox7by': 9949, 'harassed': 9950, 'sbila2yqjq': 9951, 'm19ivwrdkk': 9952, 'kpmyqujsue': 9953, 'remembrance': 9954, 'ii4ewe1qir': 9955, 'h3vusqzyqo': 9956, 'hint': 9957, 'beyondthebomb': 9958, '3nkculgvmw': 9959, '8lcbdw7m2z': 9960, 'erally': 9961, 'unplug': 9962, 'ac': 9963, 'myelf': 9964, 'division': 9965, '60th': 9966, 'argues': 9967, 'pelosi': 9968, 'jnn0krnxvy': 9969, '5loiwuyv5r': 9970, 'b8n6e4ryvz': 9971, 'specie': 9972, 'mysore': 9973, 'jsdf': 9974, 'collective': 9975, 'exercised': 9976, 'swellyjetevo': 9977, 'disneyland': 9978, 'sunrise': 9979, 'indiland': 9980, 'owenrbroadhurst': 9981, 'juanmthompson': 9982, 'hist': 9983, 'odws0waw9q': 9984, 'pxnatosil': 9985, 'renunciedilma': 9986, 'j6wseptxga': 9987, '5sosfam': 9988, 'qwgiwc9w7z': 9989, 'eligible': 9990, 'xsr2vujyiz': 9991, 'tf': 9992, 'fiery': 9993, 'disdain': 9994, 'otfw5sekd7': 9995, 'serve': 9996, 'nationwide': 9997, '3glyoyf6oc': 9998, 'angelriveralib': 9999, 'jaawuiovdc': 10000, 'fantosex': 10001, 'amends': 10002, 'printed': 10003, 'rjzw6c8asx': 10004, 'wtdiav11ua': 10005, 'ftunlh6ddg': 10006, 'wkv8vqvkt6': 10007, 'artisteoftheweekfact': 10008, 'coast2coastdjs': 10009, 'blaz': 10010, 'jiwonle': 10011, 'clubbanger': 10012, 'contac': 10013, '27b80f7e': 10014, '08170156520': 10015, '1buf0xm53d': 10016, 'cosmic': 10017, 'oneness': 10018, 'wbogs8ejsj': 10019, 'wiedemer': 10020, 'wztz4hgmvq': 10021, 'baker': 10022, 'cs6': 10023, 'cvgjfpbtrn': 10024, 'ugyegkfs4x': 10025, 'vixmeldrew': 10026, 'sheff': 10027, 'salamanca': 10028, 'kestuuyc4t': 10029, 'pzfbb1p1mj': 10030, 'bptzamjl2k': 10031, 'nola': 10032, 'goodluck': 10033, 'hashgqafic': 10034, 'harcourt': 10035, 'sophieingle01': 10036, 'angharadjames16': 10037, 'banana': 10038, 'malt': 10039, 'loaf': 10040, 'worm': 10041, 'croydon': 10042, 'unu': 10043, 'jamdung': 10044, 'klondike': 10045, 'belleville': 10046, 'blanksocietyx': 10047, 'rabidmonkeys1': 10048, 'unique': 10049, 'zt5ofbiwtd': 10050, 'argue': 10051, 'cheap': 10052, 'amo': 10053, 'torry': 10054, 'alvarez': 10055, 'pilgrim': 10056, 'unimpressed': 10057, 'pw5dst9roz': 10058, 'kncm9jc8i9': 10059, 'swviazsphk': 10060, 'paqanences': 10061, 'zoom': 10062, 'bulgaria': 10063, 'qhwe5k7xuw': 10064, 'megadeth': 10065, 'symphony': 10066, 'ecd7hizja1': 10067, 'jk7npdpwro': 10068, 'slatina': 10069, 'civilization': 10070, 'bangladsh': 10071, '5hvzlaradio': 10072, 'nside': 10073, 'kamchatka': 10074, 'korzhonov': 10075, '8t36hwgoqd': 10076, 'x2qsjod40u': 10077, 'hannover': 10078, 'pmggavtokp': 10079, 'christinalavv': 10080, 'lindsay': 10081, 'wynn3': 10082, 'nataliealund': 10083, 'lonepine': 10084, 'descendant': 10085, '666canberra': 10086, 'gallipoli': 10087, 't4fvvnrpc5': 10088, '0zznbvfuvo': 10089, 'pharrell': 10090, 'strickskin': 10091, 'nickscomics': 10092, 'objective': 10093, 'wakanda': 10094, 'scholar': 10095, 'imprisoning': 10096, 'f4lhfmehzh': 10097, 'chieftain': 10098, 'dickson': 10099, 'n15b': 10100, 'lqgoe7psxp': 10101, 'ogba': 10102, 'kxy56fr8vm': 10103, 'heyitsepark': 10104, 'slum': 10105, 'manifestation': 10106, 'illegality': 10107, 'discourse': 10108, 'confounds': 10109, 'stopevictions': 10110, 'padre': 10111, 'kilby': 10112, 'gbbo2015': 10113, 'gasped': 10114, 'invested': 10115, 'xcq48ourvl': 10116, 'maid': 10117, 'dh30000': 10118, 'y35qtvdsoh': 10119, 'qhujajctr5': 10120, 'saltillo': 10121, 'coahuila': 10122, 'zaragoza': 10123, 'sevier': 10124, 'pendleton': 10125, 'horno': 10126, 'temecula': 10127, 'takis': 10128, 'rubbing': 10129, 'xrgpdlswfd': 10130, '50225': 10131, '742992': 10132, 'r3do': 10133, 'hdv3zirbci': 10134, 'lahti': 10135, 'yvo6q6w442': 10136, '5koho39oje': 10137, 'datingtips': 10138, 'goodreads': 10139, 'ixjjlp1lvo': 10140, 'mfsw0tysta': 10141, 'pearlharbor': 10142, 'dismantling': 10143, 'vn0accf6d4': 10144, 'bluebirddenver': 10145, 'bsgr67dywy': 10146, 'ndggr6xyqd': 10147, 'yh5vetm0yz': 10148, '17wgug8z0m': 10149, 'gwnrhmso8k': 10150, '7npbfrzejl': 10151, 'y0kbyy8nce': 10152, 'overrun': 10153, 'suburban': 10154, 'sabrina': 10155, '1k2phqcuw8': 10156, 'eac4au': 10157, 'fvp3wnid4l': 10158, 'bwdhibtiks': 10159, 'qelroci7by': 10160, 'mssq0svnbm': 10161, 'anthelmintic': 10162, 'drawing': 10163, 'haxj6go2ac': 10164, 'vol': 10165, 'deejayempiresound': 10166, 'rqiuqxnm2x': 10167, 'briton': 10168, 'himalaya': 10169, 'wgrxly9pdo': 10170, 'bj4haavaye': 10171, '59p3aoiqus': 10172, 'queenwendy': 10173, 'dl': 10174, 'symantec': 10175, 'ergo': 10176, 'dorito': 10177, 'theeconomist': 10178, 'portrait': 10179, 'yuan': 10180, 'erdogan': 10181, 'socialist': 10182, 'suruì': 10183, 'z6xauidrxu': 10184, 'shareaholic': 10185, 'thebuffshow': 10186, 'thetwisterokc': 10187, 'shaniatwain': 10188, 'twisterlovesshania': 10189, 'o61h2taae4': 10190, 'raineishida': 10191, 'nervous': 10192, 'daretotaha': 10193, 'foreskin': 10194, 'unprecedented': 10195, 'frenzy': 10196, 'disorder': 10197, 'astounding': 10198, 'catovitch': 10199, 'retard': 10200, 'drain': 10201, 'dccc': 10202, 'vj44': 10203, 'lawrence': 10204, 'jbouie': 10205, 'mmfa': 10206, 's61': 10207, '231a': 10208, 'index': 10209, 'icd10': 10210, 'huzzah': 10211, 'molly': 10212, 'tanz': 10213, 'vermilion': 10214, '83bmprwh7w': 10215, 'glosblue66': 10216, 'avenged': 10217, 'sevenfold': 10218, 'goofball': 10219, 'pd': 10220, 'metallica': 10221, 'pontevedra': 10222, 'algtcn8baf': 10223, 'ppact': 10224, 'assured': 10225, 'investigated': 10226, 'kmxzho5tfm': 10227, 'albvdnwjtg': 10228, 'testified': 10229, 'qvc': 10230, '0lpu0gr2j0': 10231, 'bbcmtd': 10232, 'lhyxeohy6c': 10233, 'noahshack': 10234, 'teafrystlik': 10235, 'darken': 10236, 'ungodly': 10237, 'bolt': 10238, 'keegan172': 10239, 'vnni3zzuz6': 10240, 'lynnfield': 10241, 'teemo': 10242, 'tytpbc4gwi': 10243, 'currensy': 10244, 'fransokyo': 10245, 'ebbf1n7maj': 10246, 'sqfp6ecz0i': 10247, 'googlemaps': 10248, 'mashup': 10249, 'calculates': 10250, 'gregorysanders': 10251, 'usdot': 10252, 'stat': 10253, 'lightrail': 10254, 'imaginedragoner': 10255, 'huffpostcomedy': 10256, 'attendee': 10257, 'xwvw1sft4i': 10258, 'j7hukhwmal': 10259, 'xzv0lt9zzk': 10260, 'aphl': 10261, 'cgdj3drso9': 10262, 'fdsaooiskj': 10263, '2uvmq4vafq': 10264, 'zv60chjclf': 10265, 'nopeach': 10266, 'odu': 10267, 'c0slabbp7j': 10268, 'aauizggc9q': 10269, 'firearm': 10270, 'vector': 10271, 'cutter': 10272, 'sdogef3kft': 10273, 'x0giy85bs8': 10274, 'bnrdkgxavr': 10275, '1960s': 10276, 'oryx': 10277, 'symbol': 10278, 'peninsula': 10279, 'yangeqbuqw': 10280, 'jq2eh5kglt': 10281, '5bdrfu1duo': 10282, 'thoutaylorbrown': 10283, 'sonofliberty357': 10284, 'illuminated': 10285, 'brightly': 10286, 'smiling': 10287, 'jj': 10288, 'mlstransfers': 10289, 'greggmair': 10290, 'gio': 10291, 'skc': 10292, 'nycfc': 10293, 'hdjs9rntj4': 10294, 'abandonedpics': 10295, 'abbandoned': 10296, 'darsena': 10297, 'castello': 10298, 'scaligero': 10299, 'sirmione': 10300, 'customized': 10301, 'dcubecrafts': 10302, 'greetingcards': 10303, 't07qxp5cbe': 10304, 'owpd7vcfs6': 10305, 'cnshlnjuqx': 10306, 'giselle': 10307, 'pulwama': 10308, 'oef123l5rc': 10309, 'concentration': 10310, 'amalie': 10311, 'oogoto76uz': 10312, 'missjadebrown': 10313, 'riding': 10314, 'rpda60aoni': 10315, 'lucia': 10316, 'ptkrxtzjtv': 10317, 'lbpx8bucnv': 10318, 'catlow': 10319, 'c720': 10320, 'swivel': 10321, '3dc': 10322, 'shar': 10323, 'nora': 10324, 'buena': 10325, 'vista': 10326, 'hooter': 10327, 'peachtree': 10328, 'tkeoaedqkq': 10329, 'trucking': 10330, 'ltma9xqxpx': 10331, 'modis': 10332, 'strait': 10333, 'gibraltar': 10334, 'qwqnni7vmz': 10335, 'duststorm': 10336, 'paso': 10337, 'concludes': 10338, 'deactivated': 10339, '93iaeec26t': 10340, 't6obvwaphw': 10341, 'whitehouse': 10342, 'soaring': 10343, 'vymouzjzre': 10344, 'enrjh5qkve': 10345, 'kyiv': 10346, 'bloor': 10347, 'ossington': 10348, 'mattress': 10349, 'northumberland': 10350, 'cbcto': 10351, 'wpdvt31sne': 10352, 'fennovoima': 10353, 'vb3vfm76ke': 10354, 'ziphimup': 10355, 'bbsnews': 10356, 'hebron': 10357, 'gne1fw0xhe': 10358, 'hdvmhsqxhm': 10359, 'fel': 10360, 'zakuun': 10361, 'x1onv3d5ux': 10362, 'silvermoon': 10363, 'ironforge': 10364, 'newswatch': 10365, 'lansdowne': 10366, 'sts': 10367, 'ptbo': 10368, 'emerg': 10369, 'accidently': 10370, 'kidding': 10371, 'sided': 10372, 'linerless': 10373, 'wrnpywyalj': 10374, 'qv7iydovx9': 10375, 'cracker': 10376, 'cc7d0wxk0m': 10377, 'fpaoulwu3n': 10378, 'ka1hbjlqvw': 10379, 'o4xljnav8f': 10380, 'simmons': 10381, 'camden': 10382, 'handsome': 10383, '4jno677zkv': 10384, 'bhp': 10385, 'billiton': 10386, 'hqod6v6dnc': 10387, 'pompano': 10388, 'ocxbwgyft8': 10389, 'overload': 10390, 's0ctcqjvjx': 10391, 'ltf6jl5keu': 10392, 'zlq8thctkw': 10393, 'splottdave': 10394, 'teampalestina': 10395, '28700': 10396, '1967': 10397, 'bjjoifzuhl': 10398, 'iywzallsn4': 10399, 'gnwt': 10400, 'rvsyxwj9cp': 10401, 'nt': 10402, '5qyczywkgg': 10403, 'akron': 10404, 'geoffrickly': 10405, 'swan': 10406, '2065': 10407, 'preservation': 10408, '91': 10409, 'edna': 10410, 'jefferson': 10411, 'doris': 10412, 'sherfield72': 10413, 'l6nslzl7mi': 10414, 'dfw': 10415, 'itbj6dkrzi': 10416, 'nbc10': 10417, 'danielle': 10418, 'ou': 10419, 'wbball': 10420, 'meowing': 10421, 'louder': 10422, 'dunwoody': 10423, 'bong': 10424, 'orcot': 10425, 'orpol': 10426, 'dazqamoo0c': 10427, 'seshqn5dsk': 10428, 'xyyev89wiz': 10429, 'screeching': 10430, 'accompanying': 10431, 'blazerfan': 10432, 'ignoranceshe': 10433, 'latinoand': 10434, 'benothing': 10435, 'morebut': 10436, 'referencereference': 10437, 'xekstrin': 10438, 'nostril': 10439, 'partake': 10440, 'o7yyjlukfj': 10441, 'agreement': 10442, 'renamed': 10443, 'goonda': 10444, 'motley': 10445, 'hooligan': 10446, 'selfavowed': 10447, 'crook': 10448, 'determined': 10449, 'jamshedpur': 10450, 'wcw': 10451, 'catsandsyrup': 10452, 'p3o71dz992': 10453, 'sweat': 10454, 'kacrlpjc0l': 10455, 'yjjbntcazy': 10456, 'm5sbfrrsn7': 10457, 'absence': 10458, 'interaction': 10459, 'visiting': 10460, 'ancop': 10461, 'events': 10462, 'g37hujx6et': 10463, '91å': 10464, 'nffc': 10465, 'wesley': 10466, 'verhoek': 10467, 'tpanic': 10468, 'trident': 10469, '90225': 10470, 'pumper': 10471, 'ims': 10472, 'ho': 10473, 'faqnfupegn': 10474, 'mqfofkxtyh': 10475, 'sneezing': 10476, 'smack': 10477, 'lizzy': 10478, 'sks5jccrj2': 10479, 'gbluhrrlto': 10480, 'ks111': 10481, 'nxleiijfgs': 10482, 'xsgwm5zxpd': 10483, 's7vygenjuv': 10484, 'fakefams': 10485, 'busey': 10486, 'dixie': 10487, 'fiddle': 10488, 'sequence': 10489, 'lhdcpnzx6a': 10490, 'ayr': 10491, 'episcopal': 10492, 'interracial': 10493, 'harrowing': 10494, 'harassment': 10495, 'rg4jishybs': 10496, 'joint': 10497, 'eliminate': 10498, 'homeimprovement': 10499, 'kx8cu4s8t1': 10500, 'qltwhojqya': 10501, 'eytay': 10502, 'neur0sis': 10503, 'zyrzx6dfki': 10504, '2872j5d4hb': 10505, 'tilgurkv7z': 10506, 'gamin': 10507, 'ight': 10508, 'wildhorses': 10509, 'tantonationalforest': 10510, 'rollingstones': 10511, 'wm5l8pj2iy': 10512, 'drothvader': 10513, 'nevalistis': 10514, 'arachys': 10515, '2500': 10516, 'jcmonkey': 10517, 'qnvxj2palj': 10518, 'n95igskd3p': 10519, 'dancer': 10520, 'tmmorvxswz': 10521, '301dc': 10522, 'goldrush': 10523, 'perceive': 10524, 'faintly': 10525, 'sputtering': 10526, 'candle': 10527, 'vast': 10528, 'glacier': 10529, 'eternity': 10530, 'gyrsi': 10531, 'mirmanda11': 10532, 'evaaasr': 10533, 'langit': 10534, 'bidadari': 10535, 'zwvyisyp2b': 10536, 'beauce': 10537, 'sxqtyduvul': 10538, 'startrek': 10539, 'tos': 10540, 'a2e6dcsk88': 10541, 'danhrothschild': 10542, 'greed': 10543, 'takecare': 10544, 'ogt': 10545, 'colomr': 10546, 'dartmouth': 10547, 'hopefulbatgirl': 10548, 'beaten': 10549, 'ra': 10550, 'ghul': 10551, 'paved': 10552, 'francisunderwood': 10553, 'hoc': 10554, 'zqo6nuvytu': 10555, 'insula': 10556, 'barataria': 10557, 'mpoaefql6k': 10558, 'josephjett': 10559, 'aez3ak1lrn': 10560, 'exposure': 10561, 'hzpx6vaqpz': 10562, 'l4w0pcorbs': 10563, '6ime8kjacv': 10564, 'ngata': 10565, 'z16dtoqhhg': 10566, 'd1vjoyg52a': 10567, 'rory': 10568, 'mcilroy': 10569, 'chinadotcom': 10570, 'udtgwfsc3p': 10571, 'v5wsx0lqn2': 10572, 'beijing': 10573, 'friend50': 10574, 'hy5pbe12tm': 10575, 'c1njpli5or': 10576, 'contributing': 10577, 'lolly': 10578, 'knickers': 10579, 'vaginaorcake': 10580, 'grlxurko8d': 10581, 'ûª93': 10582, 'yeda': 10583, 'yakub': 10584, 'mfkqyxd8xg': 10585, 'utahcanary': 10586, 'sigh': 10587, 'rtrrtcoach': 10588, '1008planet': 10589, 'chippenham': 10590, 'wowo': 10591, 'twon': 10592, 'cityofkamloops': 10593, 'sec': 10594, 'ta6n9szyfp': 10595, 'eurocrisis': 10596, 'ââ': 10597, 'bbm9sr1wow': 10598, 'lugo': 10599, 'urg': 10600, 'upsetting': 10601, 'ndjja4d5o8': 10602, 'l7bjsq0y2o': 10603, '1200000': 10604, '11000000': 10605, 'prci76howu': 10606, 'rtcufag0au': 10607, 'nbcnightlynews': 10608, 'foutpwgfwy': 10609, 'creative': 10610, 'interviewed': 10611, 'anatomy': 10612, 'j6mpdsx9lk': 10613, 'morris': 10614, 'kpqk0c4g0m': 10615, 'tayiorrmade': 10616, 'megatronafc': 10617, 'concluded': 10618, 'beck': 10619, 'arnley': 10620, '0853': 10621, 'odmx36wdhm': 10622, 'gaheujruju': 10623, 'twilight': 10624, 'jacquie': 10625, 'biggar': 10626, 'znptdicqxe': 10627, 'kindlecountdown': 10628, 'mfrwauthor': 10629, 'mgtab': 10630, 'karijobe': 10631, 'tambourine': 10632, 'codycarnes': 10633, 'hangout': 10634, 'qkahxwlwxa': 10635, 'cm7hqwwulz': 10636, 'kdwazhqtov': 10637, 'sprite': 10638, 'n9snjmevi6': 10639, '3drsmxw3cr': 10640, 'gllawb2fsk': 10641, '3kaafuoztc': 10642, 'zeal': 10643, 'grass': 10644, 'indecisiveness': 10645, 'alot': 10646, 'kidney': 10647, 'browardcounty': 10648, 'treasure': 10649, 'outbreed': 10650, 'akx': 10651, 'visibility': 10652, 'ellensburg': 10653, 'r5bgvlqpjt': 10654, 'mehwkzwtxd': 10655, 'pixeljanosz': 10656, 'angelheartnight': 10657, 'cutekitten': 10658, 'catsofinstagram': 10659, 'summerinsweden': 10660, 'katt': 10661, 'katterpì': 10662, 'dumle': 10663, 'dagens': 10664, 'p4zfxdnbch': 10665, 'puezv6bd37': 10666, 'trained': 10667, 'urjwsvr311': 10668, '7jfreteii4': 10669, 'everton': 10670, 'wonderkid': 10671, 'nb1e7mnce5': 10672, 'strain': 10673, 'ucbfgibfor': 10674, 'muhamadjabal': 10675, 'kelby': 10676, 'tomlinson': 10677, 'mild': 10678, 'mannered': 10679, 'baseman': 10680, 'metropolitan': 10681, 'rbi': 10682, 'sfgiants': 10683, 'meyerbjoern': 10684, 'thelonevirologi': 10685, 'mackayim': 10686, 'newspaper': 10687, 'pcaldicott7': 10688, '7newsadl': 10689, 'r1xwdnvb0g': 10690, 'idm': 10691, 'bcs': 10692, 'parachute': 10693, 'cx6aupnemu': 10694, 'ballew': 10695, '4kbwpcmmbm': 10696, 'rg9yaybosa': 10697, 'missleylaha': 10698, 'bcfcticketlady': 10699, 'aamir': 10700, 'javaid': 10701, 'kro': 10702, 'gvaipmlsl0': 10703, 'themagickidraps': 10704, 'executing': 10705, 'label': 10706, 'kjmgteeklp': 10707, 'gsa4o1mjnm': 10708, 'conditionsprivation': 10709, 'i5ma6ewuwc': 10710, 'flg': 10711, 'elwoods': 10712, 'blazingelwoods': 10713, 'qyzpb1gkmr': 10714, '60mph': 10715, 'j4ni4n0yfz': 10716, '6lojoorouk': 10717, 'hav': 10718, 'sht': 10719, 'jaxhzjccd4': 10720, 'thinner': 10721, 'bnwygx6luh': 10722, 'oyogii97yh': 10723, 'pe2r3ln16o': 10724, 'tmid': 10725, 'princessduck': 10726, 'megalpolis': 10727, 'shiver': 10728, 'overflow': 10729, 'commencement': 10730, 'continent': 10731, 'shoutout': 10732, 'booze': 10733, 'cranboonitz': 10734, 'hereticofethics': 10735, 'wayward': 10736, 'qzloremft': 10737, 'toddyrockstar': 10738, 'jdtpirnm76': 10739, 'qyu8grorq1': 10740, 'nz7ackrrji': 10741, 'tnwx': 10742, '0w12pwpsfx': 10743, 'slab': 10744, 'ripping': 10745, 'labourleadership': 10746, 'contest': 10747, 'xrp0rtkffj': 10748, 'fuddy': 10749, 'authenticating': 10750, 'sole': 10751, 'mzrhfojt2j': 10752, 'dspws6hj8w': 10753, 'reportly': 10754, 'cnnbrk': 10755, 'ntvde': 10756, 'welt': 10757, 'chim': 10758, '66': 10759, 'raychielovesu': 10760, 'lemonade': 10761, 'semi': 10762, 'k2bzuatuks': 10763, 'arin': 10764, 'gummy': 10765, 'grumpout': 10766, 'wd9odwjj9l': 10767, 'philipduncan': 10768, 'breakfastone': 10769, 'philip': 10770, 'studying': 10771, '900037': 10772, 'wexler': 10773, 'sanford': 10774, 'hardcover': 10775, 'kk0qfkgqcy': 10776, 'smc1ro09fs': 10777, 'doctordryadma': 10778, 'i4': 10779, 'taxuxp9qa2': 10780, 'osteen': 10781, 'cultivating': 10782, 'o0ltqdjbqe': 10783, 'tcotåê': 10784, 'mo9wptyqkp': 10785, 'fashionable': 10786, 'mountaineering': 10787, 'resistant': 10788, 'leisure': 10789, 'tab': 10790, '7dyoglhmre': 10791, 'hkm3rtd4zf': 10792, 'drying': 10793, 'komo': 10794, 'qcpmktgllr': 10795, 'ducked': 10796, 'exited': 10797, 'nxttd9nrux': 10798, 'irqj3zkcuz': 10799, 'l9ekhnkbar': 10800, 'tomdean86': 10801, 'willian': 10802, 'shifted': 10803, 'rotary': 10804, 'uvopwz': 10805, 'basildudin': 10806, 'barbaric': 10807, 'saudies': 10808, 'austrian': 10809, 'jubail': 10810, 'ic': 10811, 'hibdw7d7ja': 10812, 'medford': 10813, 'pornhub': 10814, 'gghfx8pzmh': 10815, 'ika': 10816, '8r5vpaoo5z': 10817, 'recip': 10818, 'jvcxb75drj': 10819, 'epcotexplorer': 10820, 'jealous': 10821, 'ransacked': 10822, 'awesomeeeeeeee': 10823, 'bombardment': 10824, 'bubblycuteone': 10825, 'okayyyyyy': 10826, 'cagov': 10827, 'vp': 10828, 'imouto': 10829, 'untameddirewolf': 10830, 'sansa': 10831, 'blinked': 10832, 'modern': 10833, 'lizz': 10834, 'leonalewis': 10835, 'essenceofme': 10836, 'carefully': 10837, 'gaping': 10838, '0xa6fcjyec': 10839, 'msmiggi': 10840, 'presentation': 10841, 'fizzy': 10842, 'mixtape': 10843, 'goin': 10844, 'uungrqougn': 10845, 'di5arr6hq6': 10846, 'stuntfm': 10847, 'sb57': 10848, 'deepwater': 10849, 'distribution': 10850, 'dkpsrkg6pc': 10851, 'yyeso': 10852, 'icsjgz9te1': 10853, '9fxmn0l0bd': 10854, 'calais': 10855, 'py4mtw5xpm': 10856, 'h6z7hxuqtu': 10857, 'dicehateme': 10858, 'puppyshogun': 10859, 'dover': 10860, 'proc': 10861, 'pd14gsrfsc': 10862, 'changepilipinas': 10863, 'cavite': 10864, 'any1': 10865, 'otratmetlife': 10866, 'icymagistrate': 10867, 'ûóher': 10868, 'icicle': 10869, 'projectile': 10870, 'miniature': 10871, 'gangsta': 10872, '4am': 10873, 'belligerent': 10874, 'unfold': 10875, 'sqgogj3s5r': 10876, 'nightbeat': 10877, 'veronicadlcruz': 10878, '2minutemix': 10879, 'eatfro3d5x': 10880, 'ay': 10881, 'shrhkfj1bc': 10882, 'buffoonmike': 10883, 'influenced': 10884, 'acquisition': 10885, 'length': 10886, 'amrox4y4nx': 10887, 'surry': 10888, 'wedwyn9kfs': 10889, 'chat': 10890, 'arti': 10891, 'kaboom': 10892, 'si02qrguka': 10893, '0c1y8g7e9p': 10894, '1mgvd4x5oe': 10895, 'jamienye': 10896, 'coaching': 10897, 'defence': 10898, 'cursed': 10899, 'saskatchewan': 10900, 'ibeyiofficial': 10901, 'olnk1ti1nm': 10902, '5gktshiorr': 10903, '9jeuu86koi': 10904, 'mprnews': 10905, 'weathernetwork': 10906, 'ibx3cragtt': 10907, 'nljvp3vfyz': 10908, 'fiya': 10909, 'nv7rk63pgc': 10910, 'fionagilbert': 10911, 'application': 10912, 'modm8x1ot9': 10913, 'ossc7q12ir': 10914, '950xijhnvh': 10915, 'realistic': 10916, 'asset': 10917, 'koz': 10918, '9zrqmd8ngz': 10919, 'artificial': 10920, '358': 10921, 'legionnairesdisease': 10922, 'pneumonia': 10923, 'americanlegion': 10924, 'convention': 10925, 'kp2lf4aute': 10926, 'therealrittz': 10927, 'twi': 10928, 'ryeqmxirj8': 10929, 'manchesterlite': 10930, 'feelingmanly': 10931, 'droughtmonitor': 10932, 'contig': 10933, '80m': 10934, 'ybe9jqoznr': 10935, '328szfletz': 10936, 'formerly': 10937, 'usnoaagov': 10938, 's4srgrmqcz': 10939, '6jzcedayrg': 10940, 'uruan': 10941, 'udom': 10942, 'emmanuel': 10943, '1cnw6nska5': 10944, 'uyo': 10945, 'shakjn': 10946, 'c7': 10947, 'nolesfan05': 10948, 'nutsandboltssp': 10949, '434': 10950, 'uqva3dfbca': 10951, 'carolinagutierr': 10952, 'wowsavannah': 10953, 'collectible': 10954, 'disappear': 10955, 'atmospheric': 10956, '0mnpcer9no': 10957, 'newz': 10958, 'logistics': 10959, 'enca': 10960, 'onboard': 10961, 'dno7qxcffh': 10962, 'qvs7o10bg3': 10963, 'thenissonian': 10964, 'rejectdcartoons': 10965, 'nissan': 10966, 'williamstown': 10967, 'vt': 10968, '3pbfyjx0ya': 10969, 'akcsl': 10970, 'venture': 10971, 'suitable': 10972, 'asf': 10973, '6ix': 10974, 'toocodtodd': 10975, 'wyattb23': 10976, 'coldmpress': 10977, 'commiting': 10978, 'magnolia': 10979, 'exofficio': 10980, 'acb0ryenuo': 10981, 'accepte': 10982, 'vg8hrbebda': 10983, 'pittsboro': 10984, '0t8vqkeari': 10985, 'marrie': 10986, 'igll3ph6o1': 10987, 'hinatobot': 10988, 'lzk': 10989, 'auxsmdg1un': 10990, 'naruto': 10991, 'madara': 10992, 'scottdpierce': 10993, 'billharris': 10994, 'harrisgle': 10995, 'beezersun': 10996, 'forfeiting': 10997, 'alliston': 10998, '964dk4rwwe': 10999, 'isil': 11000, 'y8icf89h6w': 11001, 't9msnzv1kb': 11002, 'l8w30wfw3r': 11003, 'offshoot': 11004, 'etitgpsrun': 11005, 'etribune': 11006, 'waziristan': 11007, 'acebreakingnews': 11008, 'jb038rdfak': 11009, 'ecsu16': 11010, 'poisoned': 11011, 'hskl0vq2d2': 11012, 'killarney': 11013, 'optical': 11014, 'eyevziopg1': 11015, 'kleenex': 11016, 'matrix': 11017, 'ieksnfsby7': 11018, 'vwcf3slkrw': 11019, 's5nuegswyj': 11020, 'westerland': 11021, 'tonymcguinness': 11022, 'creamfields': 11023, 'mainstage': 11024, 'erj7yanjxm': 11025, 'vbrpeujanl': 11026, 'describes': 11027, 'surah': 11028, 'humaza': 11029, 'reflect': 11030, 'theboyofmasks': 11031, 'buddy': 11032, 'tyjxrfd3st': 11033, 'dickhead': 11034, 'basis': 11035, 'wisco': 11036, 'unfolded': 11037, 'dq3ddgvgbf': 11038, 'indiepopmom': 11039, 'breathe': 11040, 'pc7s8nxj6q': 11041, '9xohmmlmdy': 11042, 'beetroot': 11043, 'smp': 11044, 'ks315': 11045, 'apvlh7hj1o': 11046, '1ljntejgmb': 11047, 'c5u9qsysej': 11048, 'sg1ftkaegq': 11049, 'fenton': 11050, '22days': 11051, 'wdym': 11052, 'rockford': 11053, 'cottage': 11054, 'garfield': 11055, '4d9cd4mnvh': 11056, 'unhqcq6bex': 11057, 'heavyweight': 11058, 'jota': 11059, 'esse': 11060, 'ciudad': 11061, 'autì': 11062, 'noma': 11063, 'dramatically': 11064, 'plummeted': 11065, '6cx46e7qb7': 11066, 'amarillo': 11067, 'ee': 11068, 'ekwtihlwuf': 11069, 'superpower': 11070, '2025': 11071, 'buchana': 11072, 'emtwirknyq': 11073, 'm9k08oazve': 11074, 'kue48nmjxh': 11075, 'pandora': 11076, 'vzcvadkcqp': 11077, 'gigw51izpk': 11078, 'rickybonessxm': 11079, 'u2': 11080, 'sirius': 11081, 'sayin': 11082, 'neqw47e1uj': 11083, 'badchoices': 11084, 'bantrophyhunting': 11085, 'gap': 11086, 'pmcp8czpnd': 11087, 'califorina': 11088, 'rjg0789': 11089, 'sterotypical': 11090, 'annddd': 11091, 'colorism': 11092, 'prevalent': 11093, 'turns': 11094, 'dfyasvj7nf': 11095, 'campo': 11096, '5b7qt2yxda': 11097, 'jssmmlnaq7': 11098, 'desperation': 11099, 'dislocation': 11100, 'separation': 11101, 'temptation': 11102, 'isolation': 11103, 'quilmes': 11104, 'arg': 11105, 'sensitive': 11106, '2jhtlwuey0': 11107, 'neverland': 11108, 'keith44': 11109, 'hannomottola': 11110, 'trpreston01': 11111, 'mlrydalch': 11112, 'keits': 11113, 'liva': 11114, 'londonstan': 11115, 'qr6btdcqcj': 11116, '1w58ehv9s1': 11117, 'p8ih0hni3l': 11118, 'wisely': 11119, 'carnage': 11120, 'continuing': 11121, 'ggindependencmessage': 11122, 'doylech': 11123, 'persecution': 11124, 'w6o0uizf8p': 11125, 'hayden': 11126, 'pose': 11127, 'quirk': 11128, 'hxvihdushp': 11129, 'dantmatrafajlo': 11130, 'ba4pusvjln': 11131, 'suruc': 11132, 'reached': 11133, 'opjwunuvg8': 11134, 'gards': 11135, 'q9lxo4qkji': 11136, 'manavadar': 11137, 'littlebitofbass': 11138, 'silinski': 11139, 'onåê': 11140, 'iosthxlcyv': 11141, 'xtf5dvgrvh': 11142, 'absecon': 11143, 'piss': 11144, 'moan': 11145, 'demeanor': 11146, 'staid': 11147, 'sprinkler': 11148, 'faq': 11149, 'lawn': 11150, 'answered': 11151, 'ebb': 11152, 'maddie': 11153, 'tae': 11154, 'oktxduo': 11155, 'gkye6gjtk5': 11156, 'personalinjury': 11157, 'otleyhour': 11158, 'zac': 11159, 'newsome': 11160, 'lzasr05ljo': 11161, 'iemxgse2be': 11162, 'okinawa': 11163, '10km': 11164, 'tradcatknight': 11165, 'okanowa': 11166, 'mainline': 11167, 'nashua': 11168, '0fs9ksv5xk': 11169, 'wen': 11170, 'delphi': 11171, 'as10004': 11172, 'lmrkgporcf': 11173, '6wadnmstov': 11174, 'officialtjonez': 11175, 'suitland': 11176, 'counterstrike': 11177, 'z5y4xr14w6': 11178, 'myers': 11179, 'partially': 11180, 'triskelion': 11181, 'monitor': 11182, '2sz7okjrxi': 11183, 'seal': 11184, 'roman': 11185, 'gw0cxoojyv': 11186, '63rd': 11187, 'prairie': 11188, 'zz5udilrea': 11189, 'schoolboy': 11190, 'pq0d7mh3qr': 11191, 'multiplayer': 11192, 'demonstratio': 11193, 'gwesgeszxv': 11194, '9h0ym9ofsv': 11195, 'blitz': 11196, 'briefing': 11197, 'seminar': 11198, 'blitzed': 11199, 'tra': 11200, 'nkaw9ezqgg': 11201, 'capicapricapri': 11202, 'brento': 11203, 'bento': 11204, 'wha': 11205, 'streetlight': 11206, '0rokdutyun': 11207, '7nu7prxeul': 11208, 'kaylen': 11209, 'possibility': 11210, 'emaaalay': 11211, 'ebrointheam': 11212, 'biggie': 11213, 'y33qckq7qd': 11214, 'lowell': 11215, 'forming': 11216, 'guam': 11217, 'molave': 11218, 'jmawrlt7hb': 11219, 'paraguay': 11220, 'aw23wxtyjb': 11221, 'abgct9vfua': 11222, 'azl4xydvzk': 11223, 'jobvbvkfnz': 11224, 'c8zpmzhtde': 11225, 'unnecessary': 11226, 'waiver': 11227, 'jhscgda2g8': 11228, 'treescape': 11229, 'albeit': 11230, 'unsuccessful': 11231, 'mackinnon08': 11232, 'cjbanning': 11233, '4sake': 11234, 'argsuppose': 11235, 'individl': 11236, 'courtof': 11237, 'forbids': 11238, 'msdizftz2g': 11239, 'chapoutier': 11240, 'crozes': 11241, 'violet': 11242, 'gravel': 11243, 'yum': 11244, 'skvwn38hz7': 11245, 'slosher': 11246, 'splatdown': 11247, 'switching': 11248, 'splatling': 11249, 'pksparkxx': 11250, 'photograph': 11251, '1800': 11252, 'mandate': 11253, 'trace': 11254, 'x8i0mhyrmn': 11255, '870833': 11256, '399227': 11257, '0tslqjokvh': 11258, 'codemew': 11259, 'mil': 11260, 'you': 11261, 'aphiabeta1907': 11262, 'ugliness': 11263, 'amesocialaction': 11264, 'frat': 11265, 'bioterrorismi': 11266, 'tolewant': 11267, 'amazondeals': 11268, 'skylanders': 11269, '49': 11270, 'pmbuzfgin3': 11271, 'inkuv5dntx': 11272, '1cvegtizog': 11273, 'wrex': 11274, 'ttw': 11275, 'bumzvmwam3': 11276, 'mudgu1puns': 11277, 'aqxwolbcfq': 11278, '9hieifhsmc': 11279, 'mystical': 11280, 'gcdxydbsc4': 11281, 'empress': 11282, 'applied': 11283, 'childsexabuse': 11284, 'ojoubot': 11285, 'regalo': 11286, 'creeping': 11287, 'inflicted': 11288, 'derma': 11289, 'bracket': 11290, 'jimmozel': 11291, 'puck': 11292, 'ccdx7cglqw': 11293, 'followlasg': 11294, 'urgentthere': 11295, 'storey': 11296, 'oworoshoki': 11297, 'mainland': 11298, 'mariah': 11299, 'goodbye': 11300, 'gobsmacked': 11301, 'wonderousallure': 11302, 'avu9b4k2rv': 11303, 'thesensualeye': 11304, 'apr': 11305, 'boob': 11306, 'dggm5b0w4l': 11307, 'eyr2xx5l1p': 11308, 'gpm': 11309, 'bullseye': 11310, '7vcezi6cbb': 11311, 'trib': 11312, 'suspended': 11313, 'r4yzhxk7lw': 11314, 'meekmill': 11315, 'lwdcrpehtn': 11316, 'johndcgow': 11317, 'deniseromano': 11318, 'susanj357': 11319, 'allinwithchris': 11320, 'vfbw3nyo9l': 11321, 'microwave': 11322, 'intead': 11323, 'neanderrebel': 11324, 'belonged': 11325, '0fekgyby5f': 11326, 'submitt': 11327, 'nbugsmqlrg': 11328, 'aviationaddicts': 11329, 'outnumbering': 11330, 'license': 11331, 'fp64yosjwx': 11332, 'constitute': 11333, 'jblrrnmdsm': 11334, 'publichealth': 11335, 'austinpearcy22': 11336, 'hxdg254dho': 11337, 'gam7otgisw': 11338, 'allowing': 11339, 'marbella': 11340, 'slash': 11341, '5dj6chjfzp': 11342, 'ktx': 11343, 'eganator2000': 11344, 'merica': 11345, 'bfthahlcr0': 11346, 'donjazzy': 11347, 'policeng': 11348, 'humanrights': 11349, 'xyfl8wy62g': 11350, 'kunstler': 11351, 'ac6i3te8mt': 11352, 'residualincome': 11353, 'mlm': 11354, 'wq0jlshw1g': 11355, 'pnssia5e46': 11356, 'lsvsyspdxx': 11357, 'vsoxkbt6nq': 11358, 'beit': 11359, 'ucsudk3q1d': 11360, 'k44tl3rfmy': 11361, 'ipt0honoti': 11362, 'mzmandilynn': 11363, 'can': 11364, 'kaldi': 11365, 'stout': 11366, 'u6isxv2f3v': 11367, 'sacrifice': 11368, 'adriasimon': 11369, 'round2': 11370, 'fqqi8gvlq4': 11371, 'ticklemeshawn': 11372, 'evebrigid': 11373, 'mkqsvp8e0g': 11374, 'cfxhqhvbvb': 11375, 'enders': 11376, 'mgs2': 11377, 'pagexxi': 11378, 'ps2': 11379, 'jennife29916207': 11380, 'externally': 11381, 'nanotech': 11382, 'clot': 11383, 'hfy5v3slbb': 11384, 'fc3bxrthpg': 11385, 'biu4kowglz': 11386, 'fgdeh56plo': 11387, 'tootrue': 11388, 'mcwd37iof9': 11389, 'wesleylowery': 11390, 'illogical': 11391, 'flint': 11392, 'metropolis': 11393, 'highsmith': 11394, 'zvobmdxhgp': 11395, '11202': 11396, 'mattcohen4fake': 11397, 'gamma': 11398, 'january': 11399, 'toddstarnes': 11400, 'hehe': 11401, 'pumbrnebje': 11402, 'mustachemurse': 11403, 'dateswhitecoats': 11404, 'mocked': 11405, 'worstsummerjob': 11406, 'briannafrost': 11407, 'paxton': 11408, 'bigbrother': 11409, '37b': 11410, '6m': 11411, 'contract': 11412, '0migwcmtje': 11413, 'm2y9ym3if6': 11414, 'kinggerudo': 11415, 'moblin': 11416, 'hyrule': 11417, '1ct0pugz69': 11418, 'organicallyrude': 11419, '1rockstar62': 11420, 'mattingly': 11421, 'bundy': 11422, 'mcgwire': 11423, 'camarillo': 11424, 'cmsgexm4fc': 11425, 'sanonofre': 11426, 'overwhelming': 11427, 'fairly': 11428, 'adjusted': 11429, 'uiqsfgzoox': 11430, 'justinejayyy': 11431, 'ohgod': 11432, 'hockey': 11433, 'rbbnjkoqud': 11434, 'sihqpluidw': 11435, 'onpnbx0zex': 11436, 'um5icn5et2': 11437, 'halton': 11438, 'anew': 11439, 'dreamoforgonon': 11440, 'teeess': 11441, 'bona': 11442, 'fide': 11443, 'cislady': 11444, 'incidental': 11445, 'incitement': 11446, 'beinart': 11447, 'ot2oooedts': 11448, 'reston': 11449, 'magnetic': 11450, 'electrostatic': 11451, 'fusion': 11452, 'em5opytbpg': 11453, 'greedy': 11454, 'stacedemon': 11455, 'stern': 11456, 'yhh7x0maio': 11457, 'coercion': 11458, 'ensuring': 11459, 'gnorijnsva': 11460, 'lolgop': 11461, 'fraud': 11462, 'vra50': 11463, 'mooseknuckle': 11464, 'mcfadden': 11465, 'hamstring': 11466, 'teamstream': 11467, 'jwq4kvjh2j': 11468, 'esn': 11469, 'cilla': 11470, 'f7a66diiyk': 11471, 'comunidad': 11472, 'robertmeyer9': 11473, 'farmer': 11474, 'rembr': 11475, 'vest': 11476, 'roadside': 11477, 'ryans': 11478, 'adip0unxhu': 11479, 'clnv': 11480, 'cw': 11481, 'hoops': 11482, 'thrown': 11483, 'corsicana': 11484, 'heyimbeeyt': 11485, 'tweak': 11486, 'wkmfdig3nt': 11487, 'phillipten': 11488, 'jzwrwlvlsj': 11489, 'ot3bjjhh8s': 11490, 'ly8x7rqbwn': 11491, 'nanking': 11492, 'tipndempuz': 11493, 'cbs': 11494, 'wsj': 11495, 'wpo': 11496, 'ladyfleur': 11497, 'cafì': 11498, 'pasadena': 11499, 'cyhitheprynce': 11500, 'elephantintheroom': 11501, 'dakounty': 11502, 'gorgeous': 11503, 'ycwaulqz3u': 11504, 'bolivar': 11505, 'ledmvezcol': 11506, 'mickinyman': 11507, 'theatlantic': 11508, 'zy3hpdjnwg': 11509, 'daesh': 11510, 'confesses': 11511, 'tmz6x1n2gq': 11512, 'gcc': 11513, 'i77': 11514, 'airlift': 11515, 'interstate': 11516, 'master0fsloths': 11517, 'szx6v0bbjf': 11518, 'chrissie': 11519, 'finn': 11520, 'xpddwh5tem': 11521, 'lauradeholanda': 11522, 'forrest': 11523, 'attended': 11524, 'romford': 11525, 'londonfire': 11526, 'iyjejop2wi': 11527, 'belter': 11528, 'ealing': 11529, 'eeewo207mx': 11530, '7xq8jrtl7i': 11531, 'j90dt2qnxb': 11532, '37dqvjhncv': 11533, '4m5uheyfdo': 11534, 'ipod': 11535, 'weloveyoulouis': 11536, 'bonhomme37': 11537, 'basket': 11538, 'charming': 11539, 'tonyakappes11': 11540, 'xyav4t5n0o': 11541, 'paranormal': 11542, 'abomb': 11543, 'destroyd': 11544, 'dlgnuuuuyn': 11545, 'cnv': 11546, 'vigil': 11547, 'jvkyzndtja': 11548, 'bull': 11549, 'betting': 11550, 'rebound': 11551, '1yggzziz9o': 11552, 'abyhrgss1s': 11553, 'cowgirllawyer': 11554, 'unawares': 11555, 'intoxicated': 11556, 'midwestern': 11557, 'uv': 11558, 'gin': 11559, 'mjfdcrjs8j': 11560, 'listia': 11561, 'carajdeievingnc': 11562, 'ratio': 11563, 'gia': 11564, 'kardashianempire': 11565, 'bartlett': 11566, 'hs2': 11567, 'astroturfers': 11568, 'crumbling': 11569, 'warrington': 11570, 'antiochhickoryhollow': 11571, 'mmgsyahdzb': 11572, 'bleak': 11573, 'yvvpznzmxg': 11574, 'holtz': 11575, 'savagenation': 11576, 'peasant': 11577, 'stalin': 11578, 'redistribute': 11579, 'rogersville': 11580, 'errrr': 11581, 'notgoingoutinthat': 11582, 'hellonwheelsamc': 11583, 'how': 11584, 'talkinghell': 11585, '9giaxd6jty': 11586, 'birdland': 11587, '4vwsl2gfp0': 11588, 'bruise': 11589, '6vyyer6py0': 11590, 'redcoatjackpot': 11591, 'managed': 11592, 'curse': 11593, 'unnamed': 11594, 'curl': 11595, 'redeem': 11596, 'serene': 11597, 'panamìá': 11598, 'freshness': 11599, 'cilo9pmleb': 11600, 'talisman': 11601, 'keen': 11602, 'cristiano': 11603, 'lionel': 11604, 'mipasho': 11605, 'lxvlqvbc8r': 11606, 'lwilliams': 11607, 'michelleellle': 11608, 'beard': 11609, 'ipfzwwnxxp': 11610, 'lindenow': 11611, 'orbost': 11612, 'chubbysquirrel': 11613, '33333': 11614, 'vineyard': 11615, 'arrestpastornganga': 11616, 'collaborating': 11617, 'uh': 11618, 'freediscountbks': 11619, 'axvqldtehc': 11620, 'suspense': 11621, 'amreading': 11622, '00pm': 11623, 'urban': 11624, 'semw5cq7dg': 11625, 'pinto001': 11626, 'orpik': 11627, 'mclean': 11628, 'vjxa13n8ap': 11629, '6zcfhi7srw': 11630, 'vwykdau1vm': 11631, 'reacts': 11632, 'i6zqlk2puz': 11633, 'hove': 11634, 'bestcomedyvine': 11635, 'heyseto': 11636, 'beastin': 11637, 'tapa': 11638, 'funtimes': 11639, 'jxuepkmkrh': 11640, 'sigmund': 11641, 'freud': 11642, 'ehklp12yip': 11643, 'paci': 11644, 'rsf': 11645, 'gag': 11646, 'depok': 11647, 'onfireanders': 11648, 'jrztpt8ijq': 11649, 'avv6hpnpch': 11650, 'sf5jdnvdw9': 11651, 'now': 11652, 'cgfzk8ha1r': 11653, 'kaputt21': 11654, 'gregory': 11655, 'wickett': 11656, 'preschool': 11657, 'hhahaha': 11658, 'sbnation': 11659, 'xyi5fdacxo': 11660, 'sjtvzggcxu': 11661, '5sosfamupdater': 11662, 'smug': 11663, 'kalinandmyles': 11664, 'kalinwhite': 11665, 'givebackkalinwhiteaccount': 11666, 'xjkrxrnwnv': 11667, 'jlwgshyy3n': 11668, 'z8xiqngulc': 11669, 'attjcdemos': 11670, 'folieacat': 11671, 'timebomb': 11672, 'destined': 11673, 'emily': 11674, 'shelley': 11675, 'chaboyyhd': 11676, 'yr67ugesrm': 11677, 'finsup': 11678, 'i1eeuxxz3a': 11679, 'kernow': 11680, 'barbi': 11681, 'twins': 11682, 'destinythegame': 11683, 'bungie': 11684, 'apperception': 11685, 'bridgework': 11686, 'xxhjesc': 11687, 'ybhbarajxp': 11688, 'navista7': 11689, 'tinderbox': 11690, 'news24680': 11691, 'concord': 11692, 'akilah': 11693, 'vn2fnmy7li': 11694, 'uploading': 11695, 'critical': 11696, 'pundit': 11697, 'grave': 11698, 'logan': 11699, 'bti8jamfiu': 11700, 'pieceofme': 11701, '4mjyw7p7cf': 11702, 'perì¼': 11703, 'inws': 11704, 'spsgsp': 11705, 'pickens': 11706, 'ldcwkyuaff': 11707, 'coke': 11708, 'sydtraffic': 11709, 'trafficnetwork': 11710, 'gunfight': 11711, '2h0dpmv2ef': 11712, 'touching': 11713, 'obtaing': 11714, 'transcription': 11715, 'butiqob': 11716, 'bucs': 11717, 'foto': 11718, 'ûïlove': 11719, 't5agps7t2b': 11720, 'meadow': 11721, 'varanasi': 11722, 'fvck': 11723, 'nikki': 11724, 'salvage': 11725, 'tomato': 11726, '7b2wf6ovfk': 11727, 'zdtcw9fsx1': 11728, 'insanelimits': 11729, 'plugin': 11730, 'tps': 11731, 'tdm': 11732, '400t': 11733, '5v29w19tfx': 11734, 'implication': 11735, 'glove': 11736, 'innovative': 11737, 'z3nevglufm': 11738, 'groupon': 11739, 'ur7fexszg4': 11740, 'wb8awoblcl': 11741, 'zomatoaus': 11742, 'lovefood': 11743, '9l5kqykrbg': 11744, 'thankkk': 11745, 'notificationsu': 11746, 'parsholics': 11747, 'superb': 11748, 'jus': 11749, 'awesomelove': 11750, 'frvrgrateful': 11751, 'nadiad': 11752, 'moorlandschmbr': 11753, 'xvco7slxhw': 11754, 'jbvmgeg522': 11755, 'magnet': 11756, 'btus5jejuy': 11757, 'zrtfxluk6r': 11758, 'dy1ersdcrh': 11759, 'm4cpmxmurk': 11760, 'snipe': 11761, 'slqnph34nt': 11762, '8960': 11763, 'driller': 11764, 'boxed': 11765, 'iucpcsfbmt': 11766, 'sought': 11767, 'jp2qlrunjj': 11768, 'jbpgkgowsi': 11769, 'pacquiao': 11770, 'marquez': 11771, 'unfilled': 11772, 'durvod': 11773, '6vja8r4yxa': 11774, 'minhazmerchant': 11775, 'pune': 11776, 'haaretz': 11777, 'u4gsbnu8wc': 11778, 'gigawatts': 11779, 'installed': 11780, 'gwatt': 11781, 'leczolkmsv': 11782, 'japon': 11783, 'cantwaittoplayinminneapolis': 11784, 'calfee': 11785, 'mattburgener': 11786, 'mthe': 11787, 'premise': 11788, 'qsekoeubmd': 11789, 'ib': 11790, 'sauldale305': 11791, 'naturalexample': 11792, 'tl29lnu44o': 11793, 'ijetalerts': 11794, 'headdesk': 11795, 'elsewhere': 11796, 'extensive': 11797, 'procedure': 11798, 'bclqpwfdod': 11799, 'chowchilla': 11800, 'schoenfeld': 11801, 'glwoakppjq': 11802, 'wllflfndgg': 11803, 'sidelinesavage': 11804, 'conclusion': 11805, '32215': 11806, 'h84r1tih8j': 11807, 'plantation': 11808, 'cic7h64qv8': 11809, 'rainforestresq': 11810, 'thornton': 11811, 'm8mvdspjp7': 11812, 'yytkp1z5kg': 11813, '39iabcc5pk': 11814, 'conklin': 11815, 'shuffled': 11816, '67tjn9egyk': 11817, 'attempted': 11818, 'jbrk8zsry6': 11819, 'moor': 11820, 'sweetiebirks': 11821, 'mirrorlady2': 11822, 'slatukip': 11823, 'invaded': 11824, 'aside': 11825, '2am': 11826, 'envw98': 11827, 'nickcocofree': 11828, 'juliedicaro': 11829, 'jdabe80': 11830, 'julie': 11831, 'frail': 11832, 'saudiåêmosque': 11833, 'h99bhb29xt': 11834, 'wsls': 11835, 'childcare': 11836, 'jennasjems': 11837, 'patrickwsls': 11838, 'varies': 11839, 'summon': 11840, 'directly': 11841, 'onå': 11842, 'wolverine': 11843, 'paje5mxn1z': 11844, 'dammam': 11845, 'ensuing': 11846, 'izjk6kpwiz': 11847, 'tmzxopvs94': 11848, 'w192wkog1m': 11849, 'auntiedote': 11850, 'rioslade': 11851, 'wiggins': 11852, 'akarb74': 11853, 'dantwitty52': 11854, 'shuts': 11855, 'boom': 11856, 'eighth': 11857, 'pat': 11858, 'spen': 11859, 'r6yjw4xcky': 11860, 'coastguard': 11861, 'kjuzjc6igd': 11862, 'nss5l64cvr': 11863, 'etoffe': 11864, 'charmeuse': 11865, 'clothesless': 11866, 'precisionistic': 11867, 'vestment': 11868, 'psfda': 11869, 'lively': 11870, 'susinesses': 11871, 'stlnd': 11872, 'pnnunrnqja': 11873, '950109': 11874, '439469': 11875, 'alba': 11876, 'jyiegtnc6h': 11877, 'doghouse': 11878, 'anonchimp': 11879, 'kessily': 11880, 'allthekidneybeansandsorbet4misha': 11881, 'tomcatarts': 11882, 'vfctrzaok2': 11883, 'tidalhifi': 11884, 'mzqq5pai8g': 11885, '3460': 11886, 'limestone': 11887, 'yellowstone': 11888, 'fieldstone': 11889, 'bartholomew': 11890, 'awickedassassin': 11891, 'hugged': 11892, 'tightly': 11893, 'sleeper': 11894, 'railing': 11895, 'fx': 11896, '7ennullkzm': 11897, '390': 11898, 'bonsai': 11899, 'jid4ro34gb': 11900, 'natgeo': 11901, '612bsbvw8k': 11902, 'walkthrough': 11903, 'struggling': 11904, 'qbs2k01wzk': 11905, 'mvlziysgll': 11906, 'bestival': 11907, 'molloy': 11908, '21st': 11909, 'bikr8zzbha': 11910, 'scissor': 11911, 'alexhammerstone': 11912, 'kttape': 11913, 'ktfounder': 11914, 'remymarcel': 11915, 'frofrofro': 11916, 'b19z8vi3td': 11917, 'psi35au3pc': 11918, 'mailonline': 11919, 'xela': 11920, 'dcfd': 11921, 'chr3lyc': 11922, 'iaff36': 11923, 'uavfrtlfs4': 11924, '85g1pcccxg': 11925, 'branco': 11926, 'subcontractor': 11927, 'cgg': 11928, 'supernovalester': 11929, 'jfc': 11930, 'kkeh8qcgc3': 11931, 'aptap6yx1r': 11932, 'ha5boppejy': 11933, 'officialmqm': 11934, 'peshawar': 11935, 'setzorah': 11936, 'rvacchianonydn': 11937, 'rescuing': 11938, 'riddler': 11939, 'presidential': 11940, 'loudest': 11941, 'higuain': 11942, 'offside': 11943, 'lisavanderpump': 11944, 'fotoset': 11945, 'elanorofrohan': 11946, 'zurich': 11947, 'bq3p7n7w06': 11948, 'berk': 11949, 'aul': 11950, 'tooth': 11951, 'limerick': 11952, 'jt': 11953, 'ruff23': 11954, 'cameronhacker': 11955, 'cxi82rfifs': 11956, 'eagle': 11957, 'appraisal': 11958, 'mrospd9878': 11959, 'ayekoradio': 11960, 'brasswork': 11961, 'shaken': 11962, 'qh5axvhwh5': 11963, 'netlabel': 11964, 'electronicmusic': 11965, 'ccmusic': 11966, 'urì': 11967, 'guidofawkes': 11968, 'mediaguido': 11969, 'we40iux7ib': 11970, 'cuana': 11971, '72w': 11972, 'alloy': 11973, 'xwn7rgvkzc': 11974, 'swpdq84boi': 11975, 'nikistitz': 11976, '9y0paj8sxd': 11977, 'oldjsowky5': 11978, 'adorableappple': 11979, 'mmda': 11980, 'stankyboy88': 11981, 'lrtu8rwn2f': 11982, 'ymczyvkfme': 11983, 'senfeinstein': 11984, 'sen': 11985, 'uncontrolled': 11986, 'torrential': 11987, '0h7oua1pns': 11988, 'campanha': 11989, 'fascinating': 11990, 'propaganda': 11991, 'e2dbcpwd9u': 11992, 'peterjukes': 11993, 'systematic': 11994, 'grahamwp': 11995, 'anodgxzr3e': 11996, 'oekucq4zl0': 11997, 'shaolin': 11998, 'shen': 11999, 'chiang': 12000, 'venom': 12001, 'kung': 12002, 'fu': 12003, 'favori': 12004, 'announced': 12005, 'cm5u55miol': 12006, 'moa0q0aufa': 12007, 'nkou7zwwrt': 12008, 'gansey': 12009, 'busting': 12010, 'piper': 12011, 'curda': 12012, 'anywehere': 12013, 'sidjsjdjekdjskdjd': 12014, '0vcsafx9by': 12015, 'swiftycommissh': 12016, 'taoistinsight': 12017, 'immortaltech': 12018, 'tht': 12019, 'killin': 12020, 'harrystyles': 12021, 'cern': 12022, 'oo': 12023, 'p4huqundqi': 12024, 'bleakness': 12025, '2hv2y2m2oz': 12026, 'unrecognized': 12027, 'arab': 12028, 'ik8m4yi9t4': 12029, 'contactenergy': 12030, 'clyde': 12031, 'releasing': 12032, 'speccy': 12033, 'timaru': 12034, 'm8': 12035, 'shire': 12036, 'roving': 12037, 'raccoon': 12038, 'toughens': 12039, 'ojus08yzrq': 12040, 'churubusco': 12041, 'gs50ddg1jy': 12042, 'concur': 12043, 'mmk': 12044, 'dxwfx56pwh': 12045, 'cultural': 12046, 'kff8ojrzp4': 12047, 'job4ggtpal': 12048, '92101': 12049, 'wkpzp1jcau': 12050, 'freya': 12051, 'pez': 12052, 'sophia': 12053, 'zergele': 12054, 'qendil': 12055, 'dì': 12056, 'sseldorf': 12057, 'ztonvgubvm': 12058, 'bluehand': 12059, 'bloopandablast': 12060, 'falmer': 12061, '6tvvlg2fni': 12062, 'a2myutpdiq': 12063, 'xrskt0s9lz': 12064, 'squirrel': 12065, 'yzzxxknism': 12066, 'zzsee5hipm': 12067, 'inåêchaos': 12068, 'xkonkz0zl6': 12069, 'dxvtgi1bvo': 12070, 'theblackshag': 12071, 'dannyoneil': 12072, 'noxious': 12073, 'l5g2zj3kgg': 12074, 'patron': 12075, 'castaic': 12076, 'agqo1479xm': 12077, 'wizard': 12078, 'lwb': 12079, 'mgr809yc5a': 12080, 'kiro7seattle': 12081, 'elliott': 12082, 'psd': 12083, '9xo9mkqqsi': 12084, 'multidimensi': 12085, 'bp03eafewr': 12086, 'reaction': 12087, '6dznejuvd3': 12088, 'absolut': 12089, 'sumya15': 12090, 'premonition': 12091, 'iikssjgbdn': 12092, 'xxoupfy8nq': 12093, 'a3bjabhqhe': 12094, 'y3zfqjsvpz': 12095, 'deserved': 12096, 'kevinbacon': 12097, 'soz': 12098, 'leyland': 12099, 'okgabby': 12100, 'carpooling': 12101, 'unpredictable': 12102, 'disconnected': 12103, 'cod8sandscrims': 12104, 'empirikgaming': 12105, 'codawscrims': 12106, '4tp': 12107, 'kotc': 12108, '4tpfa': 12109, 'yup': 12110, 'ii2spvp89b': 12111, 'gaborone': 12112, 'botswana': 12113, 'asbury': 12114, 'dadz5zfo1g': 12115, 'asburyparkpress': 12116, 'aaronthefm': 12117, 'tsipras': 12118, 'wallybaiter': 12119, 'gbrnulp3fh': 12120, 'xaermbmvlv': 12121, 'catwoman1775': 12122, 'crazier': 12123, 'shooter': 12124, 'benews': 12125, 'pme0hojvya': 12126, 'vxegcmmvbv': 12127, 'collar': 12128, '6hhmbdk9yo': 12129, '93dm6gnwwc': 12130, 'necro': 12131, 'erinmariefishy': 12132, 'eastlake': 12133, 'pms4pmur0q': 12134, 'wasington': 12135, 'dal': 12136, 'eujgu1hvvx': 12137, 'pone': 12138, 'cantar': 12139, 'lily': 12140, 'xo': 12141, 'cowgirl': 12142, 'vickybrush': 12143, 'topic': 12144, 'display': 12145, 'mango': 12146, 'mjbiuvbmo6': 12147, 'i5cdtd8ftj': 12148, 'umtnnimtbm': 12149, 'ja': 12150, '704': 12151, 'soufside': 12152, 'goofy': 12153, 'q1glk8plud': 12154, 'gyzpisbi1u': 12155, 'msdntkwyaf': 12156, 'x5xumtoeke': 12157, 'lp': 12158, 'throwin': 12159, 'calzone': 12160, 'venice': 12161, 'heavyåêrain': 12162, 'q3xq8r658r': 12163, 'butterlondon': 12164, 'crayon': 12165, 'be': 12166, 'ram0s': 12167, 'bbloggers': 12168, 'dsb3ldfuxu': 12169, 'ivano': 12170, 'frankivsk': 12171, 'requiem': 12172, 'cplyrewfz3': 12173, '7k5shaiqiw': 12174, 'wema': 12175, 'rahulkanwal': 12176, 'soft': 12177, 'sanganer': 12178, 'terminated': 12179, 'randerson62': 12180, 'tennews': 12181, 'hfyrloqy8q': 12182, 'flqxd3q5py': 12183, 'univsfoundation': 12184, 'rwaph6dauv': 12185, '27w': 12186, 'atv': 12187, 'utv': 12188, 'd3p88xdlec': 12189, 'j2ddvh7fy0': 12190, 'gemini': 12191, 'mello': 12192, 'projeavg8t': 12193, 'westside': 12194, 'i10': 12195, 'eo': 12196, 'redlands': 12197, 'ft9kigmigh': 12198, 'theatershooting': 12199, 'testify': 12200, 'therefore': 12201, 'jury': 12202, 'demonstration': 12203, 'elvis': 12204, 'presley': 12205, 'panther': 12206, 'shuffle': 12207, 'legend': 12208, 'supremacist': 12209, 'anders': 12210, 'breivik': 12211, 'unsurprisingly': 12212, '1lxnjvl8tr': 12213, 'eww': 12214, 'elam': 12215, 'organ': 12216, 'harvesting': 12217, '49izkbohri': 12218, 'denali': 12219, 'declined': 12220, '143': 12221, 'reinstate': 12222, 'buffer': 12223, 'protectdenaliwolves': 12224, 'adndotcom': 12225, 'c8b6ddiqig': 12226, 'themaine': 12227, 'tweet4taiji': 12228, 'worship': 12229, 'superstition': 12230, 'himalayan': 12231, 'p5jpjgiipw': 12232, 'kainyusanagi': 12233, 'grummz': 12234, 'pixelcanuck': 12235, 'balding': 12236, 'emo': 12237, 'generic': 12238, 'memenet': 12239, 'bod': 12240, 'portgassdk': 12241, 'dip': 12242, 'leelanau': 12243, 'extended': 12244, 'oskfyj8ck7': 12245, 'besafe': 12246, 'dauntedpsyche': 12247, 'gently': 12248, 'dabbed': 12249, 'rag': 12250, 'yeun': 12251, 'amc': 12252, 'geek': 12253, '4pm': 12254, 'hesse': 12255, 'tngpshnl87': 12256, 'imzlnzltf5': 12257, 'etcpb': 12258, 'addiction': 12259, 'xsx26oo16s': 12260, 'swear': 12261, 'uncover': 12262, 'slumber': 12263, 'guaranteed': 12264, 'bitten': 12265, 'da9lzton1c': 12266, 'denton': 12267, 'oqeq4uegf8': 12268, 'memenaar': 12269, 'kindof': 12270, 'restrospect': 12271, 'qzrcinaf5z': 12272, 'lolol': 12273, 'kirkwall': 12274, 'riser': 12275, 'dierks': 12276, 'bentley': 12277, 'iheartradio': 12278, 'zqoscqd64h': 12279, 'ylvvf139bb': 12280, 'riverdale': 12281, '9asc1hhfnj': 12282, 'sjoeing76t': 12283, '3geroq49o1': 12284, 'amirkingkhan': 12285, 'floydmayweather': 12286, 'breakth': 12287, 'mgyvglenks': 12288, '3brme6sn4t': 12289, 'dialta6t69': 12290, 'correcting': 12291, 'dvieablofz': 12292, 'stateless': 12293, 'asae15': 12294, 'exhibitor': 12295, 'r8ceprqxle': 12296, 'assnchat': 12297, 'garner': 12298, 'uncertain': 12299, '1rreo2jg9u': 12300, 'htez4z48od': 12301, 'eq4rxc9bb3': 12302, 'behead': 12303, 'auspol': 12304, 'a6ppegelox': 12305, 'restoring': 12306, 'sunburned': 12307, 'firepower': 12308, 'kvpbybglsr': 12309, 'developer': 12310, 'hld5xlywbn': 12311, 'apologise': 12312, 'grudge': 12313, 'unfollow': 12314, 'baking': 12315, 'alllivesmatter': 12316, 'gentrification': 12317, 'ayhhhhhdjjfjrjjrdjjeks': 12318, 'nkkctttsd9': 12319, 'raffi': 12320, 'rc': 12321, 'sustainourearth': 12322, 'yru4nphdrf': 12323, 'thi': 12324, 'baileysmsteach': 12325, 'ahhh': 12326, 'perrychat': 12327, 'portsmouth': 12328, 'ruhl': 12329, 'modoc': 12330, 'temporarily': 12331, 'reassigned': 12332, 'requa': 12333, 'dzlense1gw': 12334, 'dccomics': 12335, 'imagecomics': 12336, 'darkhorsecomics': 12337, 'idwpublishing': 12338, 'enabling': 12339, 'sugarhouse': 12340, 'fwd': 12341, 'homukami': 12342, 'biz': 12343, 'r33ncvjovc': 12344, 'colo': 12345, 'lzkely': 12346, 'jwalkerlyle': 12347, 'nickcannon': 12348, 'realmandyrain': 12349, 'itunesmusic': 12350, 'dehmym5lpk': 12351, 'blowmandyup': 12352, 'kl4r1ccwct': 12353, 'ant': 12354, 'winged': 12355, 'insect': 12356, 'mnkoyz76cp': 12357, 'aro': 12358, 'laois': 12359, 'advertised': 12360, 'igm2fcmupm': 12361, 'uxcfbj3mzx': 12362, '4evttqpeia': 12363, 'nas3ipm5vh': 12364, 'yahoonewsdigest': 12365, 'xi': 12366, 'lxmdiseucn': 12367, 'yug': 12368, 'jun': 12369, 'yemeni': 12370, 'ûªa': 12371, '11juzhlgmt': 12372, 'ppsellsbabyparts': 12373, 'wzc5r4xoqz': 12374, 'peoria': 12375, 'postponed': 12376, 'fnmje8gf7m': 12377, 'nye8ae2ifr': 12378, 'espn2': 12379, '1pdjoq4jc1': 12380, 'oslo': 12381, 'tenn': 12382, 'tennessean': 12383, 'eb74iieiwn': 12384, 'hond': 12385, '3000': 12386, 'aubilenon': 12387, 'markkriegsman': 12388, 'dramaa': 12389, 'llama': 12390, 'lilourry': 12391, 'stan': 12392, 'narry': 12393, 'jmbvpanxr3': 12394, 'nflexpertpicks': 12395, 'aluminum': 12396, 'naomi': 12397, '0wdseihyqu': 12398, 'abia': 12399, 'inec': 12400, 'razedåê': 12401, 'ikpeazu': 12402, 'apga': 12403, 'react': 12404, 'akzzoe5ce6': 12405, 'qvsp6b2qsu': 12406, '0s6ydfrwdq': 12407, 'gasparc': 12408, 'hirochii0': 12409, 'and1btizao': 12410, 'silent0siris': 12411, 'norse': 12412, 'boring': 12413, 'snotgreen': 12414, 'difference': 12415, 'masterchef': 12416, 'taxreturn': 12417, 'cleaning': 12418, 'cri': 12419, 'gxqwd1qzbd': 12420, 'slam': 12421, '20k': 12422, 'sky9eokggb': 12423, '5iyzsda6xb': 12424, 'tradcatknights': 12425, 'salisbury': 12426, '325': 12427, 'cypress': 12428, '10am': 12429, 'oa6b0z2h6y': 12430, 'gospel': 12431, 'vcq2icptki': 12432, 'elena': 12433, 'benjm1': 12434, 'tourofutah': 12435, 'b1grego': 12436, 'racing': 12437, 'welles': 12438, 'mitigating': 12439, '75vlsw85gi': 12440, 'txy3us2ejs': 12441, 'gasoline': 12442, 'catwalk': 12443, 'diageo': 12444, 'revolt': 12445, 'stpoda901u': 12446, 'windy': 12447, 'fphfesemyj': 12448, 'wasnt': 12449, 'everwhe': 12450, 'ace': 12451, 'grille': 12452, 'speedtech': 12453, 'amber': 12454, '544': 12455, 't6seku4yvm': 12456, 'tjoz4u4txl': 12457, 'relationship': 12458, 'hyatt': 12459, 'aia': 12460, 'cote': 12461, 'ths9iqswp3': 12462, 'huffpostarts': 12463, 'aknbtuyaef': 12464, 'pzotpdgaki': 12465, '4playthursdays': 12466, 'everybody': 12467, '1716': 12468, 'scu9qzp6nq': 12469, 'yosemite': 12470, 'sam': 12471, 'drumpf': 12472, 'ûïnobody': 12473, 'rabbit': 12474, 'ginga': 12475, 'drago': 12476, 'ageekyfangirl14': 12477, 'humor': 12478, 'creates': 12479, 'junko': 12480, 'lspnycvolo': 12481, 'nh5pkfbfqm': 12482, 'railed': 12483, 'deepthoughts': 12484, 'movt': 12485, 'yazidi': 12486, 'burp': 12487, 'm151a1': 12488, 'mutt': 12489, 'm416': 12490, '9rryaylgyy': 12491, 'nm83johluu': 12492, 'shud': 12493, 'oth': 12494, 'contries': 12495, 'qiopbtiuvu': 12496, 'nagaski': 12497, 'sanctioned': 12498, 'aannnnd': 12499, 'p1jlurgwbu': 12500, '707762': 12501, '74': 12502, '014213': 12503, 'breathing': 12504, 'giveaway': 12505, 'dren': 12506, 'fhkhcqpl7j': 12507, 'arthas': 12508, 'olrules': 12509, 'chapter': 12510, '6qx7arf4ag': 12511, 'i5k3vjicmg': 12512, 'cizjafnm4e': 12513, 'freemarketeer': 12514, 'dibang': 12515, 'ugzu9iqprw': 12516, 'nwsbayarea': 12517, 'trooper': 12518, 'bobble': 12519, 'funko': 12520, 'kjbxieypma': 12521, 'enpjcfma8l': 12522, '13pm': 12523, 'mapleridge': 12524, 'lougheed': 12525, '203rd': 12526, 'dewdney': 12527, 'eto': 12528, 'gargoyle': 12529, 'hoof': 12530, '2ii3brc7nx': 12531, 'iafflocal4416': 12532, 'reckon': 12533, 'dmt': 12534, 'shayoly': 12535, 'pydisney': 12536, 'justin': 12537, 'bieber': 12538, 'q4q8xsyzob': 12539, 'mink': 12540, 'sevenfigz': 12541, '20b3pnqxmd': 12542, 'snapping': 12543, '9stlkh59fb': 12544, 'efcn9ivnfg': 12545, 'rand': 12546, 'qzdqrbr4lh': 12547, 'galvnews': 12548, 'cm9tve2vsq': 12549, 'galveston': 12550, 'mqydxrlae7': 12551, 'epjjkb4be9': 12552, 'rocking': 12553, 'joeybats19': 12554, 'rogers': 12555, 'offs': 12556, 'moseby': 12557, 'barfield': 12558, 'dundas': 12559, 'j3lyon': 12560, 'ffvii': 12561, 'exclamation': 12562, 'midweek': 12563, 'gajtugaui7': 12564, 'sandrabland': 12565, 'msgnndxoek': 12566, 'livemint': 12567, 'rptouz2ijs': 12568, '69mlhfefhr': 12569, 'allthenews': 12570, 'praise': 12571, 'ministry': 12572, 'wdyouth': 12573, 'biblestudy': 12574, 'ujk0e5gbcc': 12575, 'oilandgas': 12576, 'ohholj9vev': 12577, 'roy': 12578, 'spx': 12579, '171': 12580, 'finite': 12581, 'mint': 12582, 'uhfm1r3tq5': 12583, 'qulgakebhb': 12584, 'connor': 12585, 'franta': 12586, 'howell': 12587, 'troyslaby22': 12588, 'revel': 12589, 'farewell': 12590, 'gtxrwm': 12591, 'intensifies': 12592, 'nnylxhinpx': 12593, 'syd': 12594, 'tzyhdbw9f5': 12595, 'calwildfires': 12596, 'aftermath': 12597, 'wwxbgubww5': 12598, 'davidolszak': 12599, 'chicora': 12600, 'savannahross': 12601, 'comcastcares': 12602, 'happing': 12603, 'toyu16mxbo': 12604, 'p10hndc0mm': 12605, '9eh2lcqkxl': 12606, 'blackinamerica': 12607, 'growingupblack': 12608, 'stanford': 12609, 'circular': 12610, 'od2ratxrqs': 12611, '9tyucdwh3g': 12612, '9tarbox': 12613, 'sour': 12614, 'freezer': 12615, 'jab541hhk0': 12616, 'je6zjwh5ub': 12617, 'fdxgmiwaeh': 12618, 'lubrication': 12619, 'drsarwatzaib070': 12620, 'ik': 12621, 'mcourt': 12622, 'attacking': 12623, 'parliment': 12624, 'represents': 12625, 'shortfall': 12626, 'arranged': 12627, 'guatemalan': 12628, '4fynq1hwwb': 12629, '02elqlopfk': 12630, 'unij1rvrrq': 12631, 'u8ykr63b1g': 12632, 'funkylilshack': 12633, 'mariaf30': 12634, 'slapping': 12635, 'showdown': 12636, 'ldywd4ydt9': 12637, 'ponting': 12638, 'hsgktezucn': 12639, 'hardstyle': 12640, 'messy': 12641, 'mixify': 12642, 'qcyxwr2rdv': 12643, 'blossominglilac': 12644, 'jetengine': 12645, 'turbojet': 12646, 'boing': 12647, 'g90': 12648, 'kxxnszp6nk': 12649, '92': 12650, 'wrote': 12651, 'greatly': 12652, 'rfvjh58ef2': 12653, 'dhambp54ya': 12654, '4103': 12655, 'amymwwcpym': 12656, '1fhrrhcimh': 12657, 'fastest': 12658, 's4sicmyrmh': 12659, 'troylercraft': 12660, 'spammer': 12661, 'defensive': 12662, 'decrease': 12663, 'vulnerability': 12664, 'masse': 12665, 'backlash': 12666, 'fajbxz5kar': 12667, 'eeenice221': 12668, 'climatechange': 12669, 'd62zfzy0mi': 12670, 'postexistence': 12671, 'elevation': 12672, 'brzjc': 12673, 'wpgvayfkbq': 12674, 'i4aogcsoy5': 12675, 'djiwg9pxv4': 12676, '2nip3d15dx': 12677, 'egyfnlaoqv': 12678, 'nashvilletraffic': 12679, '8m': 12680, '0ghk693egj': 12681, 'commoditiesåêare': 12682, 'njd1n5txxe': 12683, 'axk9xno6yz': 12684, 'mercados': 12685, 'pharma': 12686, 'overloaded': 12687, 'bible': 12688, 'unloads': 12689, 'descriptive': 12690, 'indecency': 12691, 'chuckswindoll': 12692, 'iflcanada': 12693, 'nbcpolitics': 12694, '911bombing': 12695, 'barrack': 12696, 'coppednews': 12697, 'wx11d69gez': 12698, '1vi2rnbk2i': 12699, 'aberdeenshire': 12700, 'flatliners': 12701, 'balance': 12702, 'longevity': 12703, 'lucifer': 12704, 'wcfpznsn9u': 12705, 'jerseyville': 12706, 'gritty': 12707, 'amico': 12708, 'amicospizzato': 12709, 'seeyouatamicos': 12710, 'mz8vqxbkts': 12711, '1648': 12712, 'åêm': 12713, 'jd7rik7fx0': 12714, 'h6ngsw9a5b': 12715, 'indepth': 12716, 'coping': 12717, 'ayp6zvhm2a': 12718, 'rationing': 12719, 'wartime': 12720, 'wroug': 12721, 'efsa6pbemc': 12722, 'guthrie': 12723, 'hcwrk81p71': 12724, 'uvq41i3kx2': 12725, 'dangdaddy': 12726, 'qaqqrjv9gu': 12727, '864': 12728, '803': 12729, 'charleyisqueen': 12730, 'barber': 12731, 'oldest': 12732, 'donthate': 12733, 'retainer': 12734, 'dylanmcclure55': 12735, 'zumiez': 12736, 'zw5jp46v5k': 12737, 'listeria': 12738, 'theneeds': 12739, 'f56v61ampt': 12740, 'harder': 12741, 'triumph': 12742, 'paine': 12743, 'voorhees': 12744, 'togthe': 12745, 'snuff': 12746, 'isbtzujfbm': 12747, 'yopeypjkb2': 12748, 'sakhalintribune': 12749, '40121': 12750, 'jqso4fyzp4': 12751, 'f4xnplio5s': 12752, '1elreh1jlj': 12753, 'hank': 12754, 'you7wn9xvs': 12755, 'rzl': 12756, 'vegetarian': 12757, 'restaurant': 12758, 'nr7ust3uh8': 12759, 'zgsjwxdrcm': 12760, 'reince': 12761, 'presssec': 12762, 'granted': 12763, 'xii': 12764, 'mmxi': 12765, 'istg': 12766, 'crimsonfuckingv': 12767, 'bitchl0vecannon': 12768, 'admit': 12769, 'seras': 12770, 'sasha': 12771, 'peice': 12772, 'sidewalk': 12773, 'trost': 12774, 'documenting': 12775, '4q4zd7ou34': 12776, 'stfmbbzfb5': 12777, 'tkyonly1fmk': 12778, 'qzqc8wwwcn': 12779, 'kabarmesir': 12780, 'badr58': 12781, 'rabaa': 12782, 'observed': 12783, 'rememberrabaa': 12784, 'damnaarielle': 12785, 'createdunique23': 12786, 'keren': 12787, 'serpa': 12788, 'arianareed11': 12789, 'pcinc8ytfh': 12790, 'skyler': 12791, 'uruguay': 12792, 'langata': 12793, '22pm': 12794, 'mattmosley': 12795, '104393': 12796, '628624': 12797, 'gibyqhhkpk': 12798, 'lehigh': 12799, 'sedar': 12800, 'element': 12801, '7hanpcr5rk': 12802, 'rgyuakc0dr': 12803, 'tim': 12804, 'roberts': 12805, 'nana': 12806, 'restlessness': 12807, 'iron': 12808, 'fist': 12809, 'nino': 12810, 'boost': 12811, 'agycutkbnn': 12812, '4i0rkcbk1d': 12813, 'savior': 12814, 'zdj2hyf6ro': 12815, 'uhxodsc7wi': 12816, 'orchardalley': 12817, 'repression': 12818, 'abcnorio': 12819, 'ba2rrxugsg': 12820, 'womem': 12821, 'mommyisbomb': 12822, 'houma': 12823, '3942': 12824, 'kerrykatona7': 12825, 'bak': 12826, 'pty9hrcuzh': 12827, 'nada': 12828, 'kalmikya': 12829, 'astrakhan': 12830, 'volgagrad': 12831, 'dagestan': 12832, 'locust': 12833, '79fw9zwxtp': 12834, 'timeworld': 12835, 'rizzo': 12836, 'valparaiso': 12837, 'visible': 12838, 'steep': 12839, 'terrain': 12840, 'zrtrpl77qv': 12841, 'freeing': 12842, 'newidea': 12843, 'makewaterwork': 12844, 'maxed': 12845, 'txrbdaubnn': 12846, 'ue78c7egox': 12847, 'westerncanadadrought': 12848, 'forrestmankins': 12849, 's0vgtkhw7v': 12850, 'hamayun': 12851, 'shaheed': 12852, 'heli': 12853, '2z8ubsy5m8': 12854, 'fade': 12855, 'nicolekidman': 12856, 'oprah': 12857, 'grubbing': 12858, 'kike': 12859, 'cluei': 12860, 'telekinesis': 12861, 'jusstdoitgirl': 12862, 'wbu': 12863, 'chasing': 12864, 'jass': 12865, 'lkwxu8qv7n': 12866, 'ytw9slwvmg': 12867, 'broadcast': 12868, 'television': 12869, 'superv': 12870, 'overboard': 12871, 'tonyabbottmhr': 12872, 'pnaqxprweg': 12873, 'convene': 12874, 'award': 12875, 'gi': 12876, '0t9yd557ry': 12877, 'gisuserpr': 12878, 'geotech': 12879, 'ironic': 12880, 'traitor': 12881, 'revitup': 12882, 'pizzarev': 12883, 'bp8bm8xsxw': 12884, 'ocnj': 12885, 'jzprciqa9d': 12886, 'zdtdqqbahc': 12887, 'psqcnsvfgp': 12888, '6zgef8j8bm': 12889, 'kajang': 12890, 'uitm': 12891, 'puncak': 12892, 'alam': 12893, 'ashton5sos': 12894, 'luke5sos': 12895, 'calum5sos': 12896, 'viterbo': 12897, 'bfa': 12898, 'nissannews': 12899, 'hospitalized': 12900, 'a1a': 12901, 'bing': 12902, '9dwyjqvfy4': 12903, 'rfp': 12904, '450': 12905, 'transporta': 12906, '8gtrvece1n': 12907, 'awxr24zsqh': 12908, 'o9a26fn27y': 12909, 'wce': 12910, 'explicitpretty': 12911, 'eastatlanta': 12912, 'westgeorgia': 12913, 'frustration': 12914, 'untmdoutdoors': 12915, 'screw': 12916, 'cramp': 12917, 'alvinnelson07': 12918, 'withstand': 12919, 'immediate': 12920, 'cubc0nq6fd': 12921, 'ufo4ublogeurope': 12922, 'dreieich': 12923, 'livestream': 12924, 'nut': 12925, 'gvd7fcx8iz': 12926, 'u7vavyrgv9': 12927, 'sundercr': 12928, 'remixes': 12929, 'merged': 12930, 'zsdvweglf5': 12931, 'faulty': 12932, 'cdxe5vmzoj': 12933, 'kzbsohtwb4': 12934, 'deadlydemi': 12935, 'staying': 12936, 'barrier': 12937, 'tìüp': 12938, 'hckxj8eukt': 12939, 'sbee': 12940, 'snubza6ksc': 12941, 'takin': 12942, 'riverroaming': 12943, 'participate': 12944, 'simulating': 12945, 'nwv2rvghf3': 12946, 'hvnewsnetwork': 12947, 'hudson': 12948, '5qhqo6ejtu': 12949, 'ohmygoshi': 12950, 'metrobus': 12951, 'enclave': 12952, 'uclvihwoec': 12953, 'novalismi': 12954, 'mallord': 12955, 'shade': 12956, '1843': 12957, 'clicca': 12958, 'sul': 12959, 'titolo': 12960, '458dtr3ulx': 12961, 'frascati': 12962, 'consent': 12963, 'xszx9mwxyp': 12964, 'nmfsgkf1za': 12965, 'uelz59wvom': 12966, 'aesop': 12967, 'ipad': 12968, 'rcburzsb2b': 12969, 'ehsfklgri3': 12970, 'stings': 12971, 'titan': 12972, 'vita': 12973, 'crazyweather': 12974, 'xqbwnlbbiu': 12975, 'ìü': 12976, 'pw78nbljky': 12977, 'ssssnell': 12978, 'rope': 12979, 'demo': 12980, 'kenosha': 12981, 'inbetween': 12982, 'greasy': 12983, 'deli': 12984, 'so81ab3a1x': 12985, 'leaking': 12986, 'sewage': 12987, 'uchiha': 12988, 'luke': 12989, 'genitals': 12990, 'suilzs2s95': 12991, 'healthandsafety': 12992, 'nyack': 12993, 'pineview': 12994, 'railroad': 12995, 'crossing': 12996, 'rockland': 12997, 'hkbpqdncba': 12998, 'wal4frtfka': 12999, 'kakeru': 13000, 'teduka': 13001, 'bfore': 13002, '70years': 13003, 'bomd': 13004, '8vzl1ns2io': 13005, 'yokohama': 13006, 'bbcwomanshour': 13007, 'setsuko': 13008, 'thurlow': 13009, 'cvjyml7krm': 13010, 'fph01u3eii': 13011, 'salyers': 13012, 'blair': 13013, 'jenna': 13014, 'bdn2fdpdaz': 13015, 'galatian': 13016, 'dogger': 13017, 'westward': 13018, 'regent': 13019, 'towing': 13020, '8400': 13021, 'metre': 13022, 'ohhmyjoshh': 13023, 'stevenrulles': 13024, '3snyoohseq': 13025, 'mlg': 13026, 'ijustine': 13027, 'alaskaseafood': 13028, 'askforalaska': 13029, '2snyghaivs': 13030, 'jetstar': 13031, 'bali': 13032, 'jtjofltms4': 13033, 'rbzomwgjee': 13034, 'bcpoli': 13035, 'canpoli': 13036, 'vanpoli': 13037, 'nicola': 13038, 'pembroke': 13039, 'dill': 13040, 'disclosed': 13041, 'zqihnhdwpv': 13042, 'osi2016': 13043, 'goa': 13044, 'superintendent': 13045, 'lanford': 13046, 'vplr5hka2u': 13047, 'sxhw2tnnlf': 13048, 'l4wjhz4aj6': 13049, 'kmgdv7vsaz': 13050, 'bytsfms7md': 13051, 'landolina': 13052, 'gel': 13053, '0btniwagt1': 13054, 'realestate': 13055, 'hhzy3oqela': 13056, 'guaravitas': 13057, 'a5gnzbusqq': 13058, 'learned': 13059, 'hubert': 13060, 'humphrey': 13061, '9wqixgmhfh': 13062, 'helder': 13063, 'rijkswerf': 13064, 'parked': 13065, 'modestmouseremix': 13066, 'truestory': 13067, 'uprooting': 13068, 'enrpgrgtts': 13069, 'joelsherman1': 13070, 'chipper': 13071, 'xzvmzqus0x': 13072, 'ymcglaun': 13073, 'connects': 13074, 'udhampuragain': 13075, '660': 13076, 'kfbjvjivqb': 13077, 'bn7xpzqdm0': 13078, 'ih0awv3l1o': 13079, 'sqsyueh4yi': 13080, 'koin6news': 13081, '199t7nd0pm': 13082, 'ore': 13083, 'haji': 13084, 'hunter762': 13085, 'middleeasteye': 13086, 'muzzies': 13087, 'payback': 13088, 'molecularly': 13089, 'targeted': 13090, 'lungcancer': 13091, 'twi3pym7us': 13092, 'qt8jmd9pi1': 13093, 'ci': 13094, 'offended': 13095, 'transgendered': 13096, 'atx': 13097, 'equally': 13098, 'lgpne5hkao': 13099, 'wyrmwood': 13100, 'eighty': 13101, 'spe7u8t40k': 13102, 'myvintagesoul': 13103, 'manservant': 13104, 'pampered': 13105, 'wealthy': 13106, 'reversal': 13107, 'niallhariss': 13108, 'vain': 13109, 'iahjj0agq6': 13110, 'mics': 13111, 'booth': 13112, 'mythgriy': 13113, 'bovine': 13114, 'smugglersåênabbed': 13115, 'e7fn5g5ruu': 13116, 'dtfswnjzil': 13117, 'sophistication': 13118, 'closely': 13119, 'zrnf': 13120, 'announce': 13121, 'dull': 13122, 'monotonous': 13123, 'delving': 13124, 'soap': 13125, 'twain': 13126, 'uojy4e2sv4': 13127, 'fighterdena': 13128, 'jude': 13129, 'mugabi': 13130, 'worldoil': 13131, 'subscription': 13132, 'kqvevuutdj': 13133, 'cvinch': 13134, 'waow': 13135, 'stacy': 13136, 'wausau': 13137, 'o097vsotxk': 13138, 'i23xy7iejj': 13139, 'stephaniemarija': 13140, 'dressing': 13141, 'incessant': 13142, 'teamatowinner': 13143, 'mino': 13144, 'a1moejxqya': 13145, 'r4kheh7iaf': 13146, 'qszgjfuutu': 13147, 'dofrh5yb01': 13148, 'campground': 13149, 'jbodkm6rbu': 13150, 'japanjapan': 13151, 'inferior': 13152, 'salute': 13153, 'chazifornia': 13154, 'pomo': 13155, 'dydfvz7amj': 13156, 'gofundme': 13157, 'tinixw': 13158, 'hoopa': 13159, 'berkeley': 13160, 'l0hhwb9lsz': 13161, 'ny3l1orzqb': 13162, 'liveleak': 13163, 'stefano': 13164, 'expelcl': 13165, 'vlaiuvtomm': 13166, 'ajpnebg803': 13167, 'preseasonworkouts': 13168, 'indonesian': 13169, '7mug2kahl7': 13170, 'fj7kcrlir7': 13171, 'selmoooooo': 13172, 'edvinnn': 13173, 'imtariik': 13174, 'dzafic': 13175, 'haris': 13176, 'selmo': 13177, 'witnessing': 13178, 'slaughter': 13179, 'kentwood': 13180, 'slimebeast': 13181, 'ulr6myklnh': 13182, 'i3hzemldpu': 13183, 'dreamer15': 13184, 'dil': 13185, 'campsite': 13186, 'getbjip5rh': 13187, 'uonebahh3h': 13188, 'mwlippert': 13189, 'southkorea': 13190, 'electrocutedboiling': 13191, 'waterfur': 13192, '3a50dhz7yi': 13193, 'sammysosita': 13194, 'blunt': 13195, 'ciggs': 13196, 'nieuws': 13197, '8lkmwp9qzw': 13198, 'torro': 13199, 'loco': 13200, 'animallogic': 13201, 'lotg': 13202, 'smoothed': 13203, 'chalked': 13204, 'mouse': 13205, 'subtle': 13206, 'tourist': 13207, 'jackholes': 13208, 'dianneg': 13209, 'gunshot': 13210, 'bicep': 13211, 'torso': 13212, 'jonathanferrell': 13213, 'lizhphoto': 13214, 'outburst': 13215, 'aggression': 13216, 'sux': 13217, 'ohndh2ri0v': 13218, 'batfanuk': 13219, 'renfrew': 13220, 'bjvfk1ete9': 13221, 'colinhoffman29': 13222, 'l53oabeqc9': 13223, 'q3izqdk1n0': 13224, 'centurion': 13225, '1beegwrsis': 13226, 'scmp': 13227, 'drculiyp0t': 13228, 'hfqlwo1kmy': 13229, 'letdown': 13230, 'lei9dwvllq': 13231, '1km': 13232, 'nne': 13233, 'x6el3ysycn': 13234, 'parental': 13235, 'offspring': 13236, 'preconditioning': 13237, 'n9c3i9v8go': 13238, 'semarang': 13239, 'helpme': 13240, 'ticketed': 13241, 'cycle': 13242, 'ghetto': 13243, 'reunite': 13244, '1ki8lgvay4': 13245, 'caitsroberts': 13246, 'barra': 13247, 'arian': 13248, 'yeat': 13249, 'cpanel': 13250, 'birkbje23e': 13251, 'buzwjmw49e': 13252, 'k3': 13253, 'prayforsaipan': 13254, 'w0r8eaoka0': 13255, '0yaxrjicrr': 13256, 'silverman': 13257, 'sarahksilverman': 13258, 'soundtrack': 13259, 'tracey': 13260, 'ullman': 13261, 'sioux': 13262, 'siouxland': 13263, 'siouxlan': 13264, 'sztgmbkohg': 13265, 'silverhusky': 13266, 'shtap': 13267, 'salted': 13268, 'channelstv': 13269, 'intel': 13270, 'cwheate': 13271, 'tamworth': 13272, 'mcc76xowli': 13273, 'leaning': 13274, 'learni': 13275, 'wgl4lubnw1': 13276, 'tasted': 13277, 'writes4coffee': 13278, 'sto58qa94c': 13279, 'iartg': 13280, 'rwa': 13281, 'tw4rw': 13282, 'rrbc': 13283, 'fairie': 13284, 'inspiration': 13285, 'otsego': 13286, 'esevu': 13287, 'emzn4spwnk': 13288, '5hkgxzjlmx': 13289, 'zach': 13290, 'galifianakis': 13291, 'farce': 13292, 'tq3j2qgtzq': 13293, 'cain': 13294, 'norwich': 13295, 'q4grdpajr5': 13296, 'tore': 13297, 'nzqwtcyidv': 13298, 'mht': 13299, 'xlzwtzgqtc': 13300, 'gl3c1vc88p': 13301, '8392': 13302, 'deluxe': 13303, 'vihdoksccc': 13304, 'hopeinhearts': 13305, 'encouraging': 13306, 'f0wqlobooy': 13307, 'bromleythe': 13308, 'thpbdpdj35': 13309, 'cimerak': 13310, 'pangandaran': 13311, 'ai6kworbbt': 13312, 'txlege': 13313, 'lvl': 13314, '6615434': 13315, 'satoshis': 13316, 'dmlj1agotw': 13317, 'robotcoingame': 13318, 'freebitcoin': 13319, 'hendrixonfire': 13320, 'blackcats': 13321, 'noob': 13322, 'mixed': 13323, 'violated': 13324, 'witnessed': 13325, 'excitement': 13326, 'cannoli': 13327, 'eater': 13328, 'performance': 13329, 'saver': 13330, 'blazer': 13331, 'icrzi5tqc5': 13332, 'onxhkfhn2a': 13333, 'mhl7pfr7kb': 13334, 'lou8lbla1f': 13335, 'itsdanie': 13336, 'noooo': 13337, 'kontrolled': 13338, 'ww3': 13339, 'dice': 13340, 'demonization': 13341, 'ursula': 13342, 'protoshoggoth': 13343, 'lyeh': 13344, 'hermancranston': 13345, 'wvn6griypq': 13346, 'rei3puwp84': 13347, 'adz8kburt7': 13348, '1921': 13349, 'ch': 13350, 'pl': 13351, 'satin': 13352, '99mbyfl3id': 13353, '4ddmtguzzs': 13354, 'r8ptvfuh5x': 13355, 'npckk0tleq': 13356, 'g3': 13357, '15000270653': 13358, 'positively': 13359, 'bzdfznkvog': 13360, 'erhdh37rdh': 13361, 'scegnews': 13362, 'lighting': 13363, 'uhhhhh': 13364, 'crusade': 13365, 'optps1lgkc': 13366, 'efkcoegjck': 13367, 'ubfr1urafc': 13368, 'alnv51d95x': 13369, 'abc7': 13370, 'qpwotugui9': 13371, 'anzio': 13372, '0ymf6txfch': 13373, '3i3d2ngent': 13374, 'jyiekeo2he': 13375, 'wolmers': 13376, 'naayf': 13377, 'chandanee': 13378, 'magu': 13379, 'taxi': 13380, 'halfway': 13381, 'conf': 13382, 'gloomy': 13383, 'x4ecggvnsn': 13384, 'baydestrian': 13385, 'refugeesmatter': 13386, 'oez7o9ab2c': 13387, 'benji': 13388, 'devos': 13389, 'rotterdam': 13390, 'superbug': 13391, 'biolabs': 13392, 'biosurveillance': 13393, 'cvhygwcbzv': 13394, 'ad38kwoglh': 13395, 'connorfranta': 13396, 'askconnor': 13397, 'displaces': 13398, '6hkw5qlppt': 13399, 'p6cylz5lpt': 13400, 'jpu9gips9f': 13401, 'swam': 13402, 'bounced': 13403, 'suffice': 13404, 'halfrica': 13405, '1epiyenqyl': 13406, 'gut': 13407, 'deutsch': 13408, 'musik': 13409, 'rotten': 13410, 'monarchy': 13411, 'rjju70rhyu': 13412, 'jkl': 13413, '4e719w6m4v': 13414, 'souda': 13415, 'sonia': 13416, 'kneelbot': 13417, 'bakeofffriends': 13418, 'notts': 13419, 'opener': 13420, 'guilty': 13421, 'gasping': 13422, 'giggling': 13423, 'z5grlrey6v': 13424, 'shzpyiqok5': 13425, 'wiped': 13426, 'yaqrsximph': 13427, 'lasted': 13428, 'standstill': 13429, 'umzkc9azwd': 13430, '0000': 13431, 'millcityio': 13432, '20150613': 13433, 'theramin': 13434, 'northbayhealth': 13435, 'shine': 13436, '21b6skpdur': 13437, 'wbcb3sytj7': 13438, 'fairfield': 13439, 'exquisite': 13440, 'sto': 13441, 'y9w0v6te9o': 13442, 'cumshot': 13443, 'porno': 13444, 'safyuan': 13445, 'citation': 13446, 'possesion': 13447, 'decriminalized': 13448, 'substance': 13449, 'facing': 13450, 'colt': 13451, 'patriot': 13452, 'whine': 13453, 'cantmakeitup': 13454, 'patriotsnation': 13455, 'tpw5gpmhq4': 13456, 'z6hxx6d2pm': 13457, 'euroquake': 13458, 'entrance': 13459, 'devybnvxgq': 13460, 'todayng': 13461, 'unconsciously': 13462, 'stillness': 13463, 'aspect': 13464, 'weigh': 13465, 'tornadogiveaway': 13466, 'thebookclub': 13467, 'ljomctuzfy': 13468, '2zgvslox5p': 13469, 'gurgaon': 13470, 'haryana': 13471, 'bd': 13472, 'sham': 13473, 'prophecy': 13474, 'combining': 13475, 'xfccvmxuwb': 13476, 'memesphere': 13477, 'exporting': 13478, 'solving': 13479, 'uttanbigrx': 13480, 'fireball': 13481, 'fijapxykrq': 13482, 'psalm34': 13483, 'bomairinge': 13484, 'elutranscendent': 13485, 'prohibits': 13486, 'ke1zs6naml': 13487, 'groton': 13488, 'rmucfjcazr': 13489, 'pmhmmkspaq': 13490, 'ps1': 13491, 'platform': 13492, 'platinum': 13493, 'deals': 13494, '0gknpy4lua': 13495, 'starmade': 13496, 'stardate': 13497, 'planetary': 13498, 'i2hhviumtm': 13499, 'seclusion': 13500, 'compliance': 13501, 'morevoices': 13502, '2ppzgpxybi': 13503, 'ds9khkffwc': 13504, 'allen': 13505, 'enbot': 13506, 'cntwb6sczj': 13507, 'flee': 13508, 'burundi': 13509, 'jojnq2oopi': 13510, 'dskui6mmgl': 13511, 'e1kbludwh5': 13512, 'allyinwondrland': 13513, 'trader': 13514, 'joes': 13515, 'wknd': 13516, 'harveymaine': 13517, 'aaaa': 13518, 'lemme': 13519, 'roomr': 13520, 'hears': 13521, 'labyrinthia': 13522, '994': 13523, 'h2ahxpch0y': 13524, 'vq3vwxj8yu': 13525, 'gaabyx': 13526, 'activist': 13527, 'friend59': 13528, 't94lnfwf34': 13529, 'rocyyei2dm': 13530, 'hearitfrompa': 13531, 'hogsmeade': 13532, 'mbo6oaniqi': 13533, 'earthtwerk': 13534, '4yygb': 13535, 'strongest': 13536, 'oamsgajagahahah': 13537, 'laighign': 13538, 'etkbw1rcrv': 13539, 'penny': 13540, 'qwhinbni8e': 13541, 'climbed': 13542, 'io': 13543, 'hawk': 13544, 'srk': 13545, 'professionally': 13546, 'unsensibly': 13547, 'outrun': 13548, 'damatu': 13549, 'rzxqssun02': 13550, 'iidkc0jsbx': 13551, 'najibrazak': 13552, 'malaysiaairlines': 13553, 'cwzhgezaj4': 13554, 'eug6zhciun': 13555, 'xwxbyhtuzc': 13556, 'wzedxefblg': 13557, '8e7ry8ebmf': 13558, 'ugliest': 13559, 'tight': 13560, 'juneau': 13561, '94uyt4ojyk': 13562, 'gideonstrumpet': 13563, 'mm': 13564, '459': 13565, 'rio2016': 13566, '9mtrq5jf4d': 13567, '8jymd9ypsj': 13568, '57pkmmcadg': 13569, 'tactical': 13570, 'headquarters': 13571, 'uppsala': 13572, 'terrifying': 13573, 'nqxqyi70w4': 13574, 'wart': 13575, 'itfbbz9xyc': 13576, 'japton': 13577, 'tim8x9bi0f': 13578, 'favorited': 13579, 'beaverton': 13580, 'vancouveråêisland': 13581, 'vdiliicyr5': 13582, 'qw8qk165sb': 13583, 'jbjrg3ep1q': 13584, 'healthcare': 13585, 'kodiak': 13586, '8kj1wdaigj': 13587, 'iys9xwpvmk': 13588, 'unexercised': 13589, 'honda': 13590, 'psqd': 13591, '007npen6lg': 13592, 'firework': 13593, 'lr4btvueom': 13594, 'wny': 13595, 'rendered': 13596, 'kitten': 13597, '9cpwiecegv': 13598, 'rzlytnez2u': 13599, 'copenhagen': 13600, 'remainontop': 13601, 'bukidnon': 13602, 'z0hsckvysn': 13603, 'tv5': 13604, 'sequwmvfx4': 13605, 'drf3mmrbyx': 13606, 'caneyttwev': 13607, 'unites': 13608, 'shaznlmsfe': 13609, 'looooool': 13610, 'vve3usesgf': 13611, 'dmac1043': 13612, 'reddish': 13613, 'colored': 13614, 'pronouncing': 13615, 'im2ad': 13616, '4tiles': 13617, 'zacb': 13618, 'dell': 13619, 'win10': 13620, 'bailed': 13621, 'nite': 13622, 'kettering': 13623, 'malistkiss': 13624, 'sunni': 13625, 'righteous': 13626, 'ideal': 13627, 'poway': 13628, 'hcg': 13629, 'ensures': 13630, 'whensoever': 13631, 'nevermore': 13632, 'sizygwwf': 13633, '573': 13634, 'certified': 13635, 'glzmgbm7w0': 13636, 'ruled': 13637, 'dictator': 13638, 'empty': 13639, 'cqnow': 13640, 'untangle': 13641, 'partner': 13642, 'besttalkradio': 13643, '8j09zutxwt': 13644, 'umqbyrupbd': 13645, 'sonofbobbob': 13646, 'shimmyfab': 13647, 'trickxie': 13648, 'chopping': 13649, 'rooftop': 13650, 'strengthening': 13651, 'afterhaiyan': 13652, 'ga14egplw9': 13653, 'yolandaph': 13654, 'livelihood': 13655, 'disasterrecovery': 13656, 'promised': 13657, 'xn09mx6sxy': 13658, '3g79prayyc': 13659, 'topnews': 13660, 'freeze': 13661, 'veggie': 13662, 'met0mtpr3s': 13663, 'xfguklrltf': 13664, 'fegu8hwmc4': 13665, 'yx1ukbmtqb': 13666, 'lahar': 13667, 'gwalior': 13668, 'ogun': 13669, 'smuggler': 13670, 'engage': 13671, 'shootoutåê': 13672, 'allegedly': 13673, 'puxbc2loyk': 13674, 'd2i9bl89zo': 13675, 'assailant': 13676, 'zdcvlyq6qk': 13677, 'tyleroakley': 13678, 'blackparavde': 13679, 'frankie': 13680, 'n2bcf4m64v': 13681, 'daisycuttertz': 13682, 'grogparty': 13683, 'burke': 13684, 'imam': 13685, 'a0ad8z5vsr': 13686, 't8sv2ai7sw': 13687, 'acebabes': 13688, 'healthweekly1': 13689, 'amateurnester': 13690, 'dispute': 13691, 'oazghozgya': 13692, 'gunfail': 13693, 'nra': 13694, 'tweetinglew': 13695, 'tersestuff': 13696, 'notley': 13697, 'heartland': 13698, 'tfw': 13699, 'albertans': 13700, 'mississauga': 13701, 'gxgm1t3w0j': 13702, 'elation': 13703, 'pumxlvlsgm': 13704, 'pledge': 13705, 'allegiance': 13706, 'y2mt6v13e8': 13707, 'cmpostela': 13708, 'andygilder': 13709, 'infomercial': 13710, 'crept': 13711, 'thee': 13712, 'thou': 13713, 'idqcfjycym': 13714, 'cs8myauna4': 13715, 'gecko': 13716, 'wxela91juh': 13717, 'waialua': 13718, 'iap4lwvqsw': 13719, 'tgcr5vofj3': 13720, 'nmgp7imeii': 13721, 'cabrillo': 13722, 'magellan': 13723, 'mir': 13724, '58': 13725, 'tadhgtgmtel': 13726, 'purgatory': 13727, 'angelina': 13728, 'jolie': 13729, 'sef': 13730, 'rinkydnk2': 13731, 'zaibatsunews': 13732, 'neoprogressive1': 13733, 'push2left': 13734, 'ecology': 13735, 'rts': 13736, 'afghetc': 13737, 'humanitarian': 13738, 'ajtxuafoem': 13739, 'sureshpprabhu': 13740, 'technique': 13741, 'uplfsqmr0c': 13742, 'rb02svlppu': 13743, 'lynbrook': 13744, 'anarchic': 13745, 'teapot': 13746, 'boironusa': 13747, 'zeno001': 13748, 'glononium': 13749, '6c': 13750, 'bashing': 13751, 'nitroglycerin': 13752, 'paranaque': 13753, 'di8elzswnr': 13754, 'appetite': 13755, 'ej2ghnafhy': 13756, 'stacdemon': 13757, 'mullin': 13758, 'nmrvthkvah': 13759, 'sjubb': 13760, 'gameday': 13761, 'fnpdjwvw1j': 13762, 'cardboard': 13763, 'heartwarming': 13764, 'bene': 13765, 'gesserit': 13766, 'litany': 13767, 'dune': 13768, 'atgrannyshouse': 13769, 'counting': 13770, 'ud': 13771, 'ypres': 13772, 'bluewestlo': 13773, '38745': 13774, 'upgd2cy9il': 13775, 'futurea': 13776, 'totalitarian': 13777, 'employ': 13778, 'literature': 13779, 'drfkarlz1d': 13780, 'dart': 13781, 'participating': 13782, 'intensive': 13783, 'technical': 13784, 'tl93aod3er': 13785, 'njmidysxof': 13786, 'abc7chicago': 13787, 'estados': 13788, 'unidos': 13789, 'n1tjct8hmc': 13790, 'pytqm7rvp0': 13791, 'openly': 13792, 'wom': 13793, '6ysbcsszys': 13794, 'dyersburg': 13795, 'rotting': 13796, 'potato': 13797, 'smelled': 13798, 'copy': 13799, 'selena': 13800, 'hilary': 13801, 'burford': 13802, 'council': 13803, 'x3g2ox6k8r': 13804, 'benton': 13805, 'kjfordays': 13806, 'f2tqmfh1yb': 13807, 'cher': 13808, 'renovation': 13809, 'pq3ipugkuy': 13810, 'smallbiz': 13811, 'standardized': 13812, 'id667rlets': 13813, 'parentsacrossam': 13814, 'billgates': 13815, 'oxrwrjzmnu': 13816, 'bushman': 13817, 'palmer': 13818, 'cecil': 13819, 'commentes': 13820, 'qwiihnmchr': 13821, 'companionship': 13822, 'chestertweetsuk': 13823, 'kauai': 13824, 'legacyofthesith': 13825, 'sagacioussaber': 13826, 'lordofbetrayal': 13827, 'crescent': 13828, 'harbinger': 13829, 'refer': 13830, 'ûïsippin': 13831, 'lame': 13832, 'effective': 13833, 'mpela': 13834, 'zwe': 13835, '8ihuco4glw': 13836, 'seasonfrom': 13837, 'onshit': 13838, 'c9t2f6dltm': 13839, 'laylovetournay': 13840, 'ryrotheunaware': 13841, 'groaning': 13842, 'smokey': 13843, 'wtggqs5geh': 13844, 'xxfk4khbiw': 13845, 'maracay': 13846, 'nirgua': 13847, 'samihonkonen': 13848, 'blueprint': 13849, 'nelson': 13850, 'mandela': 13851, 'qr1l2jyuez': 13852, 'brewing': 13853, '26oo0fcl53': 13854, 'fwqfckncqw': 13855, 'popeyes': 13856, 'greenwich': 13857, 'q0x7e84r4e': 13858, 'anchor': 13859, 'gix1gaynxz': 13860, 'p93s2rfhx6': 13861, 'bulletproof': 13862, 'funeral': 13863, 'uqssnaattu': 13864, 'kiddie': 13865, 'ploppy': 13866, 'disturb': 13867, 'sahel': 13868, 'chore': 13869, 'ysg9vsrt4g': 13870, 'wxia': 13871, 'zqqjrqsbjm': 13872, 'extraterrestrial': 13873, '1942': 13874, 'jeesss': 13875, '7giglwdmhy': 13876, 'cocktail': 13877, 'ma': 13878, 'verde': 13879, 'mezcal': 13880, 'chartreuse': 13881, 'cucumber': 13882, 'bitter': 13883, 'reuosjek4m': 13884, '570': 13885, 'qo3vwfelkp': 13886, 'roadway': 13887, '15901': 13888, 'statesville': 13889, 'greenspace': 13890, 'development': 13891, 'zzcbbqyj1q': 13892, 'kksghsblfh': 13893, 'haircut': 13894, 'minimal': 13895, 'antigua': 13896, 'iladqebxpn': 13897, 'z4ilb9y9nu': 13898, 'j295md1sow': 13899, 'desk': 13900, 'irishirr': 13901, 'mchapmanwsaz': 13902, 'wsaz': 13903, 'brittany': 13904, 'kellyannwx': 13905, 'pz56zjssft': 13906, 'mrtophypup': 13907, 'xwms1aww8m': 13908, 'te2yerugsi': 13909, 'dungeon': 13910, 'rochester': 13911, 'skiing': 13912, 'mockingpanems': 13913, 'cuddlesforjen': 13914, 'slammed': 13915, 'shitsickles': 13916, 'vulcan': 13917, 'gaehr9bhek': 13918, 'usage': 13919, 'sjnyfszcu1': 13920, 'raquel': 13921, 'oegfqbiqiq': 13922, 'kristyleemusic': 13923, 'attic': 13924, 'b7zwevsrgo': 13925, 'uvm975yha2': 13926, 'deathmule': 13927, 'sxhgfithjw': 13928, 'mk': 13929, 'stalag': 13930, 'ermac': 13931, 'tournament': 13932, 'pharaoh': 13933, 'stark': 13934, 'lamb': 13935, 'intro': 13936, 'lem5z1nfk3': 13937, 'singer': 13938, 'songwriter': 13939, 'kfyebhb3di': 13940, 'kou': 13941, 'register': 13942, 'br': 13943, 'slopelousas': 13944, 'lone': 13945, 'shed': 13946, 'polluted': 13947, 'starve': 13948, 'nathan': 13949, 'reckless': 13950, 'sandunes': 13951, 'gentle': 13952, 'lapping': 13953, 'gull': 13954, 'sizewell': 13955, 'x9cuihib5n': 13956, '38pm': 13957, '7huen4rwrn': 13958, 'saumur': 13959, '419': 13960, 'hcdiwe5flc': 13961, 'zlvebeoavg': 13962, 'finale': 13963, 'thegame': 13964, 'saturated': 13965, 'hilly': 13966, 'taron': 13967, 'marginoferror': 13968, 'rom': 13969, 'slipping': 13970, 'cove': 13971, 'endorsement': 13972, 'cacheadvance': 13973, 'deployed': 13974, '3939': 13975, 'panicked': 13976, 'htpqvohtud': 13977, 'waystone': 13978, 'inn': 13979, 'assume': 13980, 'lurking': 13981, 'jungle': 13982, 'qp6q8rs8on': 13983, 'ioq051t5te': 13984, '629': 13985, 'klxaucnp5i': 13986, 'itnkbxgwlh': 13987, 'belle': 13988, 'bsg': 13989, 'sufficiently': 13990, 'hyped': 13991, '6cz3bohrd4': 13992, 'vulnera': 13993, 'au5jwgt0ar': 13994, 'me': 13995, 'up': 13996, 'guk': 13997, 'xlfi7ovhfj': 13998, 'raq4zpdvke': 13999, '92pk0hujd8': 14000, 'mk2': 14001, 'uud': 14002, 'lk': 14003, '7adqv1grvr': 14004, 'fx7uzzxte4': 14005, 'cumberbatch': 14006, 'qfrawln4ba': 14007, 'bow': 14008, 'flyopinemonkey': 14009, 'honshu': 14010, 'coronet': 14011, '1m': 14012, 'allied': 14013, '30m': 14014, 'queanbeyan': 14015, '65xr1p9soo': 14016, 'runjewels': 14017, 'relation': 14018, 'loveislove': 14019, '6ce1vwovhs': 14020, 'indo': 14021, 'pact': 14022, 'xkurdr3yev': 14023, 'trossen': 14024, 'ranefihbuk': 14025, 'mflrvbh4qa': 14026, 'derbyshire': 14027, 'bike': 14028, 'enemity': 14029, 'bishopfred': 14030, 'carmike': 14031, 'behfhsppud': 14032, 'cyv2zg935g': 14033, 'thedailyshow': 14034, 'mahalo': 14035, 'nui': 14036, 'loa': 14037, 'holomua': 14038, 'defeater': 14039, 'yeaahh': 14040, 'miyagi': 14041, 'observation': 14042, 'pccwsgcyma': 14043, 'interplanetaryzone': 14044, 'tunisian': 14045, 'bardo': 14046, '1fvootqnej': 14047, 'lifelong': 14048, 'rfb3jxbiej': 14049, 'dugout': 14050, 'nipzmflibd': 14051, 'justintrudeau': 14052, 'respected': 14053, 'g7': 14054, 'g20': 14055, 'canuck': 14056, 'fte': 14057, 'yu6nue7gfb': 14058, 'crabbycale': 14059, 'ke6djxanmm': 14060, 'intersection': 14061, 'tpuu3eatb3': 14062, 'levy': 14063, 'wdtv': 14064, '2fibe2haxc': 14065, 'zdtz3rbs6w': 14066, 'liam': 14067, 'payne': 14068, 'addtexastonext1dtour': 14069, 'antoniooooo': 14070, 'itss': 14071, 'selenaluna': 14072, 'robdelaney': 14073, 'unable': 14074, 'ejaculating': 14075, 'difficult': 14076, 'blowjob': 14077, 'cannibalism': 14078, 'masturbation': 14079, 'blaawhysct': 14080, 'ddr0zjxvqn': 14081, 'funkflex': 14082, 'flex': 14083, '2azxdlcxga': 14084, '7s1gfnebgt': 14085, 'vilelunar': 14086, 'trickshot': 14087, 'infinite': 14088, '1970s': 14089, 'piracy': 14090, 'slavery': 14091, 'purely': 14092, 'historical': 14093, 'occur': 14094, 'qwpuxpywbf': 14095, '8jlxz6fkxy': 14096, 'reidlake': 14097, 'maca': 14098, 'nwt': 14099, 'yzf': 14100, 'sct012': 14101, 'bkn025': 14102, 'whippenz': 14103, 'descended': 14104, 'shadowed': 14105, 'crest': 14106, 'striking': 14107, 'harshly': 14108, 'lattice': 14109, 'studded': 14110, 'qj2kbltcxz': 14111, 'xqpn2zykct': 14112, 'unity': 14113, 'disappears': 14114, 'ronwyden': 14115, 'lyndon': 14116, '67': 14117, 'tcjfckxdzl': 14118, 'emtxtgo4ce': 14119, 'sharply': 14120, 'dfyrppzkpu': 14121, 'iwsdbgd1zq': 14122, 'steamship': 14123, 'qp3gvvfofq': 14124, 'jewhaditm': 14125, 'greinke': 14126, '801': 14127, 'dubbo': 14128, 'hdbmfovutz': 14129, 'dailyliberal': 14130, 'gvm70u2bpm': 14131, 'ag65u29sgo': 14132, 'fadc': 14133, 'silentmind': 14134, 'bookofdaniel': 14135, 'fkqjy3ezyg': 14136, 'contemplation': 14137, 'bridal': 14138, 'wiwnpfxa': 14139, 'xysnxum29t': 14140, 'gidiexclusixe': 14141, 'faceless': 14142, 'rgtyzbnkeo': 14143, 'bennycapricon': 14144, 'itzsteven': 14145, 'xdojjjj': 14146, 'whopper': 14147, '760': 14148, 'cbaxcuba0h': 14149, 'warped': 14150, 'attila': 14151, 'overtaking': 14152, 'bathandnortheastsomerset': 14153, 'fa3fcnln86': 14154, 'serephina': 14155, 'k6uetsnlht': 14156, 'honolulu': 14157, 'hashtags': 14158, 'bbshelli': 14159, 'louavul': 14160, 'pity': 14161, 'annoyed': 14162, 'hung': 14163, 'audaciousspunk': 14164, 'dustinbrowder': 14165, 'distraction': 14166, 'paying': 14167, 'influencers': 14168, 'socialtimes': 14169, 'ptc0xcragy': 14170, 'alamodc': 14171, 'pmxlezjbrc': 14172, 'ashburn': 14173, 'brctmnybjy': 14174, 'kesabaran': 14175, 'membuahkan': 14176, 'hasil': 14177, 'indah': 14178, 'pada': 14179, 'saat': 14180, 'tepat': 14181, 'miller': 14182, '5ortb8p51c': 14183, 'ddnewslive': 14184, 'nitishkumar': 14185, 'arvindkejriwal': 14186, 'modi': 14187, 'idmhswewqw': 14188, 'justicemalala': 14189, 'nkeajresq': 14190, 'nkea': 14191, 'gambia': 14192, 'mercenary': 14193, 'v57nugmgkt': 14194, '5yrbegzafx': 14195, 'tindering': 14196, '20mins': 14197, 'mere': 14198, 'n4neuiyt2k': 14199, 'realised': 14200, 'lestah': 14201, 'nssjpr6pdd': 14202, 'inglewood': 14203, '5uoophsqu3': 14204, '6supthaece': 14205, 'iinet': 14206, 'nbn': 14207, 'buffering': 14208, 'ggperglvki': 14209, 'abcnews': 14210, 'parliamentary': 14211, 'subsequent': 14212, 'sacking': 14213, 'iphooey': 14214, 'ironically': 14215, 'bachmann': 14216, 'gemmahentsch': 14217, 'dloesch': 14218, 'envision': 14219, 'stiiilo': 14220, 'reporter': 14221, 'arzemsr7fq': 14222, 'rku0idm6aq': 14223, 'rdfaakkbnj': 14224, 'oifn28hpcs': 14225, 'screamqueens': 14226, 'katherine': 14227, 'approves': 14228, 'association': 14229, 'twpl0nl8cx': 14230, 'webster': 14231, 'clapton': 14232, 'gagnon': 14233, 'imposing': 14234, 'marriage': 14235, 'hipklxphnp': 14236, 'zkgqspwyj3': 14237, 'preacher': 14238, 'daplllfuqk': 14239, 'markoturner': 14240, 'annaciclismo': 14241, '5kfovovjso': 14242, 'klavierstuk': 14243, 'lvg': 14244, 'spur': 14245, 'smaller': 14246, 'lcb': 14247, 'cl': 14248, 'patrol': 14249, 'grzchkdf37': 14250, 'elchilicitanierraversal': 14251, 'pjcoyle': 14252, 'included': 14253, 'oamqqbnice': 14254, 'stemming': 14255, 'roster': 14256, 'arizzo44': 14257, 'jlester34': 14258, 'xgnjgle9eq': 14259, 'marietta': 14260, 'carlilescanoelivery': 14261, 'lovemyjob': 14262, 'zo8rsqura2': 14263, 'wyoming': 14264, 'temecafreeman': 14265, 'eqjcpwilvn': 14266, 'initiative': 14267, 'alliance': 14268, 'assad': 14269, 'jv8ppkhjy7': 14270, 'qcyqhvn2ha': 14271, 'wsoc': 14272, 'djufkrrtft': 14273, 'glue': 14274, 'dunking': 14275, '2leezy': 14276, 'grabbing': 14277, 'sweaty': 14278, 'grwdr4kuf3': 14279, 'nivea': 14280, 'gazans': 14281, 'jw3hn9ewft': 14282, 'presstv': 14283, 'nywrkrq7kn': 14284, 'meereen': 14285, 'sd7loww9nu': 14286, '7hkavtvx81': 14287, 'zggpacjp7d': 14288, 'elm': 14289, 'remade': 14290, 'hvwkjqxxyt': 14291, 'destiel': 14292, 'mkx6ux4ozt': 14293, 'dorismatsui': 14294, 'supporting': 14295, 'q4l7dg56jm': 14296, 'uea0txrhys': 14297, 'iggfnbixt5': 14298, 'sxmlg3xdvx': 14299, 'devon': 14300, 'breneman': 14301, 'heated': 14302, 'jjl89f9o3v': 14303, 'f7wqpcekg2': 14304, 'lawfulsurvivor': 14305, 'morale': 14306, 'andrea': 14307, 'jacqui': 14308, 'merle': 14309, 'acted': 14310, 'flamethrower': 14311, 'jen': 14312, 'czqr3ci9xw': 14313, 'chicagorobotz': 14314, 'neon': 14315, 'caracas': 14316, 'j3x0doy7r3': 14317, 'sexuality': 14318, 'diagnosis': 14319, 'digitalhealth': 14320, 'hcsm': 14321, 'heinz': 14322, 'mothe': 14323, 'rteugb5tnv': 14324, '614817868480726': 14325, '195582811791382': 14326, 'tanstaafl23': 14327, 'correlation': 14328, 'imply': 14329, 'causation': 14330, 'antarctica': 14331, 'vhrlswvzql': 14332, 'xuhmj098lq': 14333, 'pummel': 14334, 'jkym9edofc': 14335, 'suginami': 14336, 'ku': 14337, '2y9dnp5vtg': 14338, '6xul6dcosh': 14339, 'xrja0xpl40': 14340, 'driverless': 14341, 'healthinsurance': 14342, 'netkicorp': 14343, 'eltne5v1qn': 14344, 'cautious': 14345, 'jejc9xctmp': 14346, 'mrsbinker': 14347, 'emiliorivera48': 14348, 'davidlabrava': 14349, 'diesel': 14350, 'breed': 14351, 'pug': 14352, 'd1ff3r3nt1sg00d': 14353, 'riceechrispies': 14354, 'committed': 14355, 'cihc8nrc9h': 14356, 'jfb': 14357, 'tfb': 14358, 'alrasyid448iturasya': 14359, 'izjtoojzkp': 14360, 'smantibatam': 14361, 'roh3smantibatam': 14362, 'jkt48': 14363, 'a7x': 14364, 'kkdx8zmv4g': 14365, 'kylewappler': 14366, 'thisishavehope': 14367, '1pdnlsp8xw': 14368, 'madonnamking': 14369, 'density': 14370, 'sherwood': 14371, 'h31knuwzz5': 14372, 'brandonskeie': 14373, 'samsmithworld': 14374, 'yetagc2d8a': 14375, 'quora': 14376, 'ikfmektpcx': 14377, 'u2do2mc2ri': 14378, '3om3xw6cz8': 14379, 'mutek': 14380, 'vjbhxn9x1o': 14381, 'isea2015': 14382, 'joshacagan': 14383, 'fkv5qxdcy3': 14384, 'femalegilgamesh': 14385, 'assault': 14386, 'useless': 14387, 'penetrate': 14388, 'protectingtitan': 14389, 'brokenscnecal': 14390, 'gzekqwzijq': 14391, 'annajhm': 14392, 'jcomanse': 14393, 'staubs': 14394, 'rslm72254': 14395, 'blanktgt': 14396, 'fartanxiety': 14397, 'willhillbet': 14398, 'robertoneill31': 14399, 'y9wvqkgbbi': 14400, 's5f9fcomp8': 14401, 'omega': 14402, 'explores': 14403, 'religion': 14404, 'rayner': 14405, 'hr88cwxpgz': 14406, 'newsarama': 14407, 'private': 14408, 'h6pm1w7ell': 14409, 'countless': 14410, 'orchestrated': 14411, 'g1bwl3dqqk': 14412, 'cgmjlseylo': 14413, 'mikecroninwmur': 14414, 'rjcaxjp4os': 14415, '1145': 14416, 'mjstefggu5': 14417, 'foxnew': 14418, 'xfhh2xf9ga': 14419, 'espoo': 14420, 'hes0bpu60y': 14421, 'labuan': 14422, 'sabcnewsroom': 14423, 'sabotage': 14424, 'owbujez3q4': 14425, 'swaning': 14426, 'laurenjauregui': 14427, 'comdev': 14428, 'broadcasting': 14429, 'upcoming': 14430, 'iovr4ymlkp': 14431, 'kp1hdchfnz': 14432, '2m1gneaifl': 14433, 'uqh85mip0v': 14434, 'dimapur': 14435, 'hw': 14436, 'ohlordy': 14437, 'tqh5amoknd': 14438, 'thorium': 14439, 'mly7sdn6ev': 14440, 'critically': 14441, 'endangered': 14442, 'vwz3vzpmfb': 14443, 'shouout': 14444, 'kasad1lla': 14445, 'shes': 14446, 'devpeace': 14447, 'jwxrx1lsqo': 14448, 'senatemajldr': 14449, 'incredulous': 14450, 'outcry': 14451, 'welfare': 14452, 'taxpayer': 14453, 'similar': 14454, 'objection': 14455, '100bn': 14456, 'ely': 14457, 'cambridgeshire': 14458, 'zzzz': 14459, 'simmering': 14460, 'nhl': 14461, 'concussion': 14462, 'pioneerpress': 14463, 'zl7fhucxhl': 14464, 'iphazv47g7': 14465, 'jlput7va3s': 14466, 'wendell': 14467, 'berry': 14468, 'gulf': 14469, 'tn1ax1xmbb': 14470, 'papi': 14471, 'bahstun': 14472, 'porta': 14473, 'reeko': 14474, 'minimehh': 14475, 'cjoyner': 14476, 'overlooking': 14477, 'ucy5fea9yu': 14478, 'dnwwo1ybrk': 14479, 'guelph': 14480, 'zpxe3fmyng': 14481, 'tonne': 14482, 'gassymexican': 14483, 'lpgfqnpjd3': 14484, 'glitch': 14485, 'malkavius2': 14486, 'retirement': 14487, 'bookmobile': 14488, 'l2nmywrmq2': 14489, 'crowned': 14490, 'tends': 14491, 'puente': 14492, 'naturaldisasters': 14493, 'tqwrw3jqwo': 14494, 'yumiko': 14495, 'woah': 14496, 'lenkaiswaifu': 14497, 'daniglasgow45': 14498, 'cfouwpbrcg': 14499, 'whs': 14500, 'pl2vzlrkvk': 14501, 'mandatory': 14502, 'mj8rezoxlj': 14503, 'molina036': 14504, 'milioooo': 14505, 'emilio': 14506, 'roi2nsmejj': 14507, '3tj8zjin21': 14508, 'yduixefipe': 14509, 'lxtjc87kls': 14510, 'praiz8': 14511, 'petchary': 14512, 'displeased': 14513, 'congrats': 14514, 'reggaeboyz': 14515, 'citadel': 14516, 'oldtown': 14517, 'deflategate': 14518, 'incremental': 14519, 'caring': 14520, 'ruddyyyyyy': 14521, 'jamiegriff97': 14522, 'jamie': 14523, 'vzgslepkkh': 14524, 'mochichiiiii': 14525, 'hikagezero': 14526, 'ww': 14527, 'wew': 14528, 'hashiren': 14529, 'battleroyalemod': 14530, 'teleported': 14531, 'decides': 14532, 'yg32yb2jdy': 14533, 'maatmhi': 14534, 'dilutional': 14535, 'institutionalize': 14536, 'sued': 14537, 'slander': 14538, 'z9zj3kxwyu': 14539, 'wompppp': 14540, 'conning': 14541, 'portfolio': 14542, 'diversification': 14543, '33fbr25t1o': 14544, 'a8jz5a26wi': 14545, 'niiiice': 14546, 'w4ofcc99wq': 14547, 'pu7c4hhbxj': 14548, 'blackfalds': 14549, 'drained': 14550, 'hpd3snm6oy': 14551, '9973': 14552, 'gsmddmu9pu': 14553, 'tc': 14554, 'portaloos': 14555, 'sentient': 14556, 'austell': 14557, 'nashsnewvideo': 14558, 'epzwaseyky': 14559, 'cfevtrsc1u': 14560, '2ao97o2a9d': 14561, 'aiginsurance': 14562, 'divestiture': 14563, 'q2': 14564, '2y2wzk1frm': 14565, 'bluedio': 14566, 'turbine': 14567, 'bluetooth': 14568, 'stereo': 14569, 'headset': 14570, 'weudlkc4o4': 14571, 'trl1dskf81': 14572, '81hvv3n3rs': 14573, 'monwabisi': 14574, 'hlongwane': 14575, 'ryt': 14576, 'ashestoashes': 14577, 'pretoria': 14578, 'h7ldx29aba': 14579, 'k9cd0efvut': 14580, 'cufi': 14581, 'jew': 14582, 'convert': 14583, '4arwwrzpsr': 14584, 'mkjq9yfmp8': 14585, 'taliban': 14586, 'demise': 14587, 'ajkmcuswho': 14588, 'jailbreak': 14589, '48tpnmbjvg': 14590, 'torrent': 14591, 'marilyn': 14592, 'monroe': 14593, 'ripriprip': 14594, 'julian': 14595, 'anp9g6njfd': 14596, 'mnh6fxhodb': 14597, 'junsuisengen': 14598, 'gz27audyha': 14599, 'p4ekgc9sig': 14600, 'palmyra': 14601, 'ranked': 14602, 'vq3yab2j8n': 14603, 'lvkoemsq8m': 14604, 'cjirhhh4vj': 14605, 'f5miuhqaby': 14606, 'muttatek': 14607, 'kwwwkwwwk': 14608, 'jiahahahha': 14609, 'yeyeulala': 14610, 'kediri': 14611, 'jawa': 14612, 'timur': 14613, 'painful': 14614, 'roger': 14615, 'bannister': 14616, 'gostei': 14617, 'um': 14618, 'deo': 14619, 'christinartnd': 14620, 'bwe9kjcept': 14621, 'postcard': 14622, 'polaroid': 14623, 'crato': 14624, 'ce': 14625, 'slsp': 14626, 'fco': 14627, 'tobias': 14628, 'ellwood': 14629, 'condemns': 14630, 'c3w95h0ozz': 14631, 'wgasoencwc': 14632, 'roanoketimes': 14633, 'traintragedy': 14634, 'jthusynjah': 14635, 'felr5a1hbp': 14636, 'progressive': 14637, 'pen': 14638, 'publication': 14639, '9fxpixqujt': 14640, 'inang': 14641, 'pamantasan': 14642, 'hk9yf72ova': 14643, 'mbiwa': 14644, 'rat': 14645, 'kot9zvd2h7': 14646, 'irishtimesworld': 14647, '3am': 14648, 'footed': 14649, 'pajama': 14650, 'bb7ttdvjwe': 14651, 'pfmn63vnam': 14652, 'vkwqbojfjc': 14653, 'l5vaklr59m': 14654, 'flames': 14655, 'optimistic': 14656, 'hillsville': 14657, 'yejt18sbm0': 14658, 'rcqacn91be': 14659, 'detector': 14660, 'shevlin': 14661, 'hixon': 14662, 'z6ee1jvhni': 14663, 'p6kdh0p0sp': 14664, 'waetkgsza9': 14665, 'vmwtouyohm': 14666, '9naw3qoqol': 14667, 'burberryant': 14668, 'basketball': 14669, 'sumn': 14670, '6sy44kyysd': 14671, '71st': 14672, 'kif7m3fqlx': 14673, 'oz6vlwwtnr': 14674, 'aminespn': 14675, 'mencius': 14676, 'correct': 14677, 'squabble': 14678, 'immigration': 14679, 'vf6cklmcsx': 14680, 'choke': 14681, 'tube4nbqnz': 14682, 'notoriousd12': 14683, 'theconspiracytheory': 14684, 'newep': 14685, 'pw3tzu0tay': 14686, 'laura': 14687, 'ucudwiu3an': 14688, 'kamunt': 14689, 'youuu': 14690, 'remote': 14691, 'ki9ehjhl8y': 14692, 'v2yxurne2p': 14693, 'roblox': 14694, 'naaa': 14695, 'j4fsdpfa63': 14696, 'prompting': 14697, 'r7vpaklhvi': 14698, 'kualar': 14699, 'yancey': 14700, 'cortneymo': 14701, 'buff': 14702, 'oaqtjawgxg': 14703, 'mba': 14704, 'careen': 14705, 'eovm': 14706, 'e0pi0c54ff': 14707, 'aqmpxzo3v1': 14708, 'gqskwqzuul': 14709, 'jq2ib1ob1x': 14710, 'antichrist': 14711, 'desecrates': 14712, 'stormtrooper': 14713, 'engaged': 14714, 'somme': 14715, 'ìñ': 14716, 'yxvmiflvc4': 14717, 'mfjxh4p51u': 14718, 'wwexdreamer': 14719, 'hogwarts': 14720, 'isaiah': 14721, 'contemporary': 14722, 'vcu': 14723, 'famineåêmemories': 14724, 'sgecnkfthu': 14725, 'sworn': 14726, 'proven': 14727, 'wews': 14728, 's7grbznwlr': 14729, 'fs4y1c9mnf': 14730, 'roughdeal1': 14731, 'hudhud': 14732, 'chandrababu': 14733, 'victorious': 14734, 'rv': 14735, 'wwat': 14736, 'champion': 14737, 'championsblackfoot': 14738, 'v9i4pfxo0c': 14739, 'ee8rpoahpk': 14740, 'melton': 14741, 'rachelrofe': 14742, 'harlingen': 14743, 'p85nwcmkqu': 14744, 'wudlkq7ncx': 14745, 'harleychick': 14746, 'pjnt': 14747, 'runbenrun': 14748, 'cedjdlpdan': 14749, 'drako': 14750, 'zarharzar': 14751, 'frpbnhvpyi': 14752, 'oyster': 14753, 'carnegie': 14754, 'flour': 14755, 'aptly': 14756, 'engineerd': 14757, 'xdt4vhfn7b': 14758, 'a0v1ybysod': 14759, 'liveonstreamate': 14760, 'nckogwjq61': 14761, 'bangladeshaffected': 14762, 'bangladeshflood': 14763, 'chxrmingprince': 14764, 'luna': 14765, 'folding': 14766, 'nl': 14767, 'backroom': 14768, 'kgxnwziuxd': 14769, 'cocky': 14770, 'strutted': 14771, 'thomashcrown': 14772, 'grandfather': 14773, 'prediction': 14774, 'xb1': 14775, '3941': 14776, '1yixfg1hdy': 14777, 'goz': 14778, 'manually': 14779, '3ejl9lzlch': 14780, 'halljh1720': 14781, 'colonial': 14782, 'domination': 14783, 'kz35rgngjf': 14784, 'tareksocal': 14785, 'celebrity': 14786, 'x713omh6ai': 14787, 'tama': 14788, 'frequent': 14789, 'midtown': 14790, 'kqjevyqzlv': 14791, 'cn': 14792, 'hmwhob7prs': 14793, 'pyramidhead76': 14794, 'elkhart': 14795, 'indiahttp': 14796, 'informationng': 14797, '309943': 14798, 'testicle': 14799, 'clvlnd': 14800, 'yiayplan': 14801, 'amiibos': 14802, 'drvox': 14803, 'agw': 14804, 'denial': 14805, 'dwu8qqys0v': 14806, 'reddevil4life': 14807, 'sr14': 14808, 'brush': 14809, '1700': 14810, 'qposkp3mwj': 14811, 'mtqjsvupwy': 14812, 'hensley': 14813, 'hqsu8lwlth': 14814, 'tam6aoskoj': 14815, 'el24mnfchw': 14816, 'janta': 14817, 'firstpostin': 14818, 'cznxhutasx': 14819, 'kevin': 14820, 'chef': 14821, 'pasture': 14822, 'organic': 14823, 'cooking': 14824, 'd9xvuvp9s6': 14825, 'waverly': 14826, '6gldwx71da': 14827, 'harpurhey': 14828, 'kiwi': 14829, 'karyn': 14830, 'hpvodud7ip': 14831, 'loveland': 14832, 'foodborne': 14833, 'frackfreelancs': 14834, 'deccgovuk': 14835, 'frackfree': 14836, 'tarleton': 14837, 'jsccx8k0ja': 14838, 'prepper': 14839, 'grid': 14840, 'avvsoino8z': 14841, 'voyruxcrin': 14842, 'prov': 14843, 'ysxun5vceh': 14844, 'norf': 14845, 'sergiopiaggio': 14846, 'ûªd': 14847, 'avigdorliberman': 14848, 'susiya': 14849, 'beheading': 14850, 'li8otxt8hh': 14851, 'grape': 14852, 'kinetic': 14853, 'typography': 14854, 'fl8gci84aj': 14855, 'dvonwiv3l1': 14856, 'copperfields': 14857, '6un7xc9sve': 14858, 'cutting': 14859, 'celebrety': 14860, 'auezxza5ak': 14861, 'expansion': 14862, 'bard': 14863, 'egioxbaboe': 14864, 'coleslaw': 14865, 'sijnbmczij': 14866, 'hworb1n6vn': 14867, 'motordom': 14868, 'lobbied': 14869, 'visionzero': 14870, 'cavb7pgepv': 14871, 'unlicensed': 14872, 'woc6akehyx': 14873, 'piedmont': 14874, 'strives': 14875, 'eco': 14876, 'friendly': 14877, 'existence': 14878, 'casually': 14879, 'jasmine': 14880, 'gladiator': 14881, '860': 14882, '757': 14883, 'katiekatcubs': 14884, 'wrigley': 14885, 'buzzfeed': 14886, 'qsipl1c9fa': 14887, 'catharines': 14888, 'halsey': 14889, 'troye': 14890, 'collab': 14891, 'keli': 14892, 'sponge': 14893, '5pmikavykl': 14894, 'rosemarytravale': 14895, 'screwed': 14896, '0usdi5jcho': 14897, 'xyg7jhrjof': 14898, '261': 14899, 'redbull': 14900, 'rite': 14901, 'tlk': 14902, 'widout': 14903, 'nuh': 14904, 'cum': 14905, 'itz': 14906, 'rubbery': 14907, 'knw': 14908, 'pon': 14909, 'gully': 14910, 'tastemycupcakee': 14911, 'lmfaooo': 14912, 'nawh': 14913, 'disneyirh': 14914, 'tatzfk63ch': 14915, 'jasalhad': 14916, 'brianboru67': 14917, 'jimskiv92': 14918, 'hijinks1967': 14919, 'ojyw7jkuh5': 14920, 'thatrussianman': 14921, 'statesboro': 14922, 'ctaztrophe31': 14923, 'scituate': 14924, 'kern': 14925, 'airing': 14926, 'kbak': 14927, 'cbs29': 14928, 'rorktmpqns': 14929, 'liveonkbak': 14930, 'edznx6goud': 14931, 'melrises': 14932, 'gayler1969': 14933, 'wwwbigbaldhead': 14934, 'jessienojoke': 14935, 'melissaross9847': 14936, 'monty': 14937, 'python': 14938, 'hsdbgciyrs': 14939, 'trailhead': 14940, 'ablz20mgzv': 14941, 'bounce': 14942, 'churchill': 14943, 'gl6eejyjky': 14944, 'wqtdnp3w5a': 14945, 'bardissimo': 14946, 'jfjlbf40to': 14947, 'q3dtoqo04c': 14948, 'ngapain': 14949, 'bottling': 14950, 'explodes': 14951, 'moyne': 14952, 'rvkyj3yuvk': 14953, 'envyseven': 14954, 'aquarius': 14955, 'queenmy': 14956, 'pretense': 14957, 'overture': 14958, 'phantom': 14959, 'songfor': 14960, 'dzlpnp399x': 14961, 'censor': 14962, 'pg4y3i5ciu': 14963, 'l9udest': 14964, 'nagel': 14965, 'vicken52': 14966, 'basedlarock': 14967, 'goonc1ty': 14968, 'languishing': 14969, 'exsqijf4ny': 14970, 'noirandeal': 14971, 'tedcruz2016': 14972, 'y7sipkb1kd': 14973, 'brazos': 14974, 'fzujg7sxjg': 14975, 'boygbp0jw9': 14976, 'unwanted': 14977, '12th': 14978, 'pp15000266818': 14979, '2for1lapdances': 14980, 'yompxjpptv': 14981, 'blowin': 14982, 'dey': 14983, 'cu': 14984, 'attend': 14985, 'organized': 14986, 'protesting': 14987, 'bvckd9pdti': 14988, 'elevator': 14989, 'usw': 14990, 'abandoning': 14991, 'uncertainty': 14992, 'unrest': 14993, 'dmerida': 14994, 'nataly': 14995, 'steak': 14996, 'cheer': 14997, 'entitlement': 14998, 'pqslug4jk5': 14999, 'metepec': 15000, 'oficial': 15001, 'nitclub': 15002, 'wtfjf9jjzs': 15003, 'clt': 15004, 'ei8qqhregz': 15005, 'memorable': 15006, 'ronald': 15007, 'romp': 15008, '2xohtjqjwh': 15009, 'filming': 15010, 'sonyprousa': 15011, 'lumixusa': 15012, 'djiglobal': 15013, 'profbriancox': 15014, '2gljhvead9': 15015, '3p': 15016, 'xqrlewia4x': 15017, 'mcnabbychic': 15018, 'tulalip': 15019, 'marketingåêmediocrity': 15020, 'ilq0wqj0xs': 15021, 'aw1nytpwjr': 15022, 'jtw': 15023, 'ceiao1texr': 15024, 'fowler': 15025, 'uabstephenlong': 15026, 'courtlizcamp': 15027, 'hodge': 15028, 'notoriety': 15029, '1rpchru72c': 15030, 'rodarmer21': 15031, 'dolla': 15032, 'ikeja': 15033, 'j4ggmkiney': 15034, 'forbesasia': 15035, '40w': 15036, 'us70': 15037, 'recal': 15038, 'j2erzbmjqd': 15039, 'tfan6qq2ys': 15040, 'rakwwritpo': 15041, '9i6crcrq2m': 15042, 'okvsimogic': 15043, 'dumbass': 15044, 'miracle': 15045, 'mankind': 15046, 'sewer': 15047, 'heiekfchdm': 15048, '42': 15049, '910975': 15050, '865828': 15051, 'gevrmbvznb': 15052, 'lancaster': 15053, 'cunayyh': 15054, 'taufikcj': 15055, 'bandar': 15056, 'lampung': 15057, 'zonnqgsxyw': 15058, 'usarmy': 15059, 'jagm': 15060, 'tow': 15061, '2mnqc73hfk': 15062, 'benicia': 15063, 'noahj456': 15064, 'xnto3jmmts': 15065, 'sticky': 15066, '3huhzxliig': 15067, 'ootd': 15068, 'doubleghats': 15069, 'jsuhupz6vp': 15070, 'n5vrffrbo3': 15071, '4zsxjgv7it': 15072, 'rant': 15073, '8000': 15074, 'darlington': 15075, 'sliding': 15076, 'nester': 15077, 'sonoranrattler': 15078, 'writingtips': 15079, 'slttorrlhs': 15080, 'waterboarding': 15081, 'dipping': 15082, 'scriptettesar': 15083, 'katiecool447': 15084, '30th': 15085, 'bailiwick': 15086, 'xlq8g6vb2r': 15087, 'lightumupbeast': 15088, 'heyot6': 15089, 'tdwprvb04y': 15090, 'gnpstnvi5g': 15091, 'vitì': 15092, 'ria': 15093, 'aawzxykles': 15094, 'rsmvgdxriv': 15095, 't344phnpy9': 15096, 'ehlq3zsptd': 15097, 'djx5elbrv1': 15098, 'kindermorgan': 15099, 'kristenkoin6': 15100, 'abq': 15101, 'bcuz': 15102, 'albuquerque': 15103, 'r18autnlsd': 15104, 'cnqae9foj6': 15105, '02pm': 15106, 'rover': 15107, 'cf9e6tu3g7': 15108, 'internetradio': 15109, 'collegeradi': 15110, 'trim': 15111, 'wqul8pg5px': 15112, '4ykxt3kd62': 15113, 'juic1': 15114, 'sayed': 15115, 'ridha': 15116, 'amin': 15117, 'akh': 15118, 'congratulation': 15119, 'capturing': 15120, 'besieged': 15121, 'indiscriminate': 15122, 'athletics': 15123, 'doping': 15124, 'monetary': 15125, 'oer5hh41ew': 15126, 'purduee': 15127, 'ctafails': 15128, '1udz0nvoeh': 15129, 'rolandonabeats': 15130, 'ellie': 15131, 'goulding': 15132, 'acesse': 15133, 'nosso': 15134, 'para': 15135, 'ouvir': 15136, 'zk69ugxmt8': 15137, 'itirapina': 15138, 'gpvzv0249y': 15139, '0yl3yt4ylh': 15140, 'dislike': 15141, 'femnism': 15142, 'r7pvtsduma': 15143, 'mentor': 15144, 'ahhtheenikki': 15145, 'lavapixcom': 15146, 'y0qqs2l7bs': 15147, 'newsroom': 15148, 'bickleton': 15149, 'mcsek4hx5s': 15150, 'iifgaz0fil': 15151, 'g0r3zr1nqj': 15152, 'vcjcykq8b8': 15153, 'fxdh3u8bq3': 15154, 'yzhvobgocq': 15155, 'ydgiuydqgb': 15156, 'pony': 15157, 'cbs3': 15158, 'stoponesounds': 15159, 'airwave': 15160, 'g7s34sw2am': 15161, 'stickynyc': 15162, '95roots': 15163, 'surviving': 15164, 'qzcut7bvkt': 15165, '165000': 15166, 'ûòthe': 15167, 'fukbbedfgx': 15168, 'a2ss7pr4gw': 15169, 'wvobvvtxkg': 15170, 'ljubljana': 15171, 'slovenia': 15172, 'bqblwiw08g': 15173, 'roimentor': 15174, 'yycwalks': 15175, 'yhyy3o609u': 15176, 'huntley': 15177, 'lnzi7o166y': 15178, 'tmpfwjpi6i': 15179, '129': 15180, 'brisk': 15181, 'pace': 15182, 'myfitnesspal': 15183, 'willienelson': 15184, 'suncorp': 15185, 'billion': 15186, 'cwz37lndvk': 15187, 'tora': 15188, 'slit': 15189, 'throat': 15190, 'apologize': 15191, 'hometown': 15192, 'bsrerjby0i': 15193, 'hiroshima70': 15194, 'murlo': 15195, 'android': 15196, 'tribez': 15197, 'pbclfsxrld': 15198, 'androidgames': 15199, 'gameinsight': 15200, 'iuh718kcy0': 15201, '9pqyx4xool': 15202, 'tremont': 15203, 'fpkiqbus9r': 15204, 'nueva': 15205, 'favorita': 15206, 'met4ytzmfb': 15207, 'deezercolombia': 15208, 'samaritan': 15209, 'v5yuualoqw': 15210, '263chat': 15211, 'twimbos': 15212, 'zimpapersviews': 15213, 'horowitz': 15214, 'nwo': 15215, '6pagjqfbzk': 15216, 'qzizelxbyr': 15217, 'ensure': 15218, 'treatmen': 15219, 'followme': 15220, 'syringetoanger': 15221, 'disagreement': 15222, 'occurrence': 15223, 'wsjthinktank': 15224, 'colleenmnelson': 15225, 'xyxtuaczvb': 15226, 'scumper': 15227, 'leandotorg': 15228, 'lean': 15229, 'quicker': 15230, 'suzbkyw5tt': 15231, 'pkfv8lksld': 15232, 'xdxdprcpns': 15233, 'hendy': 15234, 'purdies': 15235, 'mammy': 15236, 'sterling': 15237, 'fundraiser': 15238, 'ma4ra7atql': 15239, 'cg579wldne': 15240, 'santafe': 15241, 'winning': 15242, 'bhzr9ugus2': 15243, 'repì¼blica': 15244, 'jxs50fkvik': 15245, 'kq9ae6ap2b': 15246, 'carfest': 15247, 'dundalk': 15248, 'martynwaites': 15249, 'valentine': 15250, 'oompah': 15251, 'sinkingshipindy': 15252, 'scarlet': 15253, 'lenore': 15254, 'saison': 15255, 'stonebrewingco': 15256, 'wrongdejavu': 15257, 'wk6b5z803o': 15258, '4xb4zwyhct': 15259, 'khanna': 15260, 'tui9uwbvvp': 15261, 'slytherin': 15262, 'playingnow': 15263, 'bloodbound': 15264, 'dly6ruusqk': 15265, 'fiction': 15266, 'escaping': 15267, 'dating': 15268, 'hbdo22nqpz': 15269, 'creel': 15270, 'moron': 15271, 'brainless': 15272, 'postal': 15273, 'sell': 15274, '7mepkbf9e8': 15275, 'napa': 15276, 'slipper': 15277, 'b1bx0eruep': 15278, 'halloikbenwill': 15279, 'sincere': 15280, 'willinghearted': 15281, 'rpn': 15282, 'pbya7uv3v5': 15283, 'y87gi3brlv': 15284, '1zbhvdcxzs': 15285, 'ud7xobyua1': 15286, 'qllkofdyzx': 15287, 'rgjjumnnah': 15288, 'alarmingly': 15289, 'lightman': 15290, '4wsva9wo0f': 15291, 'greenfield': 15292, 'sahq5uoahw': 15293, 'akq4rwjfvl': 15294, 'granada': 15295, 'driven': 15296, 'wvlah8jrxe': 15297, 'instagramers': 15298, 'm3njvvtygn': 15299, 'sayzt2oagm': 15300, 'administrative': 15301, 'mt029qj4ig': 15302, 'primarily': 15303, '311': 15304, 'ch6e7vtatr': 15305, 'zbzc8905gl': 15306, 'scranton': 15307, 'illusoria': 15308, 'icarus': 15309, 'e2wgreicmz': 15310, 'zsnsar1tw1': 15311, 'racer': 15312, 'shipsxanchors': 15313, 'idek': 15314, 'qxxn6rksp6': 15315, 'b3x1wqzaor': 15316, 'worthless': 15317, 'kwara': 15318, 'bathing': 15319, 'ape': 15320, 'earn': 15321, 'mcr': 15322, 'snort': 15323, 'jst5hauk35': 15324, 'flavorchargedtea': 15325, '1pxpoqktjo': 15326, 'kilkenny': 15327, 'bhramabull': 15328, 'jewel': 15329, 'socially': 15330, 'duo': 15331, 'ld5p1sia2n': 15332, 'uisnqiu3if': 15333, 'cara': 15334, 'chucker': 15335, 'tf2bkq0olx': 15336, 'vmas': 15337, '3fqq7pfjvx': 15338, 'fw1ptaelgv': 15339, 'a6ro9bmxcy': 15340, 'rlpttkbg4w': 15341, 'cyzlshlqhg': 15342, 'ndis8f1vzt': 15343, 'fgvn2vcrrx': 15344, 'kftvnu7nvf': 15345, 'hindustan': 15346, 'cc9z5asvzh': 15347, 'silicon': 15348, 'holly': 15349, 'us1dmdxzvb': 15350, 'ìø': 15351, 'southwest': 15352, 'pusssssssssy': 15353, 'shoook': 15354, 'taker': 15355, 'lkjfabqzb3': 15356, 'ydjpoph1dw': 15357, 'buyout': 15358, '6bn': 15359, 'worldpay': 15360, 'ipo': 15361, 'skyåênews': 15362, '94gjskur0r': 15363, 'yankee': 15364, '815': 15365, 'cjqq6cgohg': 15366, 'tm9zbhjcyf': 15367, 'rgpem2tqej': 15368, 'chrisdanielshow': 15369, 'pee': 15370, '1tvlfrhm1m': 15371, 'highqualitybird': 15372, 'reverse': 15373, 'specifically': 15374, 'utilized': 15375, 'f496d': 15376, 'bldrcosheriff': 15377, 'cbsdenver': 15378, 'alley': 15379, 'rangerkaitimay': 15380, 'mariasherwood2': 15381, 'johnjcampbell': 15382, 'marvellous': 15383, 'christchurch': 15384, 'twenty': 15385, 'cedarglade2015': 15386, 'trumann': 15387, 'pikin': 15388, 'killsåêone': 15389, 'i2c00fcowb': 15390, 'jaagcfartw': 15391, '8j19fvu7qa': 15392, 'faze': 15393, 'y3dm9ulqxg': 15394, 'senschumer': 15395, 'religious': 15396, 'colnharun': 15397, '2mwc9ywjzy': 15398, 'axxdcakzty': 15399, 'marcoarment': 15400, '499212': 15401, '153': 15402, '011072': 15403, 'byproduct': 15404, 'czwjw4uv7i': 15405, 'blinker': 15406, 'warfare': 15407, 'tgtcru8jio': 15408, 'nebraska': 15409, 'xvii': 15410, 'aa': 15411, 'mgm': 15412, 'kbtzzzg2tp': 15413, 'blairmcdougall': 15414, 'commenting': 15415, 'arkan': 15416, 'napviygkyk': 15417, 'defj7xekgx': 15418, 'tracy': 15419, 'gvj7slbelp': 15420, 'u3wao8asfg': 15421, 'hc6hzs4wsi': 15422, 'spilled': 15423, 'wezjqc4cf2': 15424, 'wonderfully': 15425, 'installment': 15426, 'sisterhood': 15427, 'cw500': 15428, 'jq9nj6gko3': 15429, 'devastates': 15430, 'fcujsioyqo': 15431, 'hq': 15432, 'katramsland': 15433, '214904': 15434, '139055': 15435, 'hilversum': 15436, 'meter': 15437, 'sniping': 15438, 'b231ul1o1k': 15439, 'lumbar': 15440, 'extender': 15441, '6n6gcej9iy': 15442, 'flowri': 15443, 'marinading': 15444, 'gloucestershire': 15445, 'drift': 15446, 'storming': 15447, 'bebacksoon': 15448, 'oneborn': 15449, 'failing': 15450, 'yield': 15451, 'dgul7ffjt2': 15452, 'smelling': 15453, 'bon': 15454, 'more': 15455, 'pour': 15456, 'd8awx2okke': 15457, 'warsaw': 15458, 'ao4ju9vmmf': 15459, 'cm8uni1mrg': 15460, 'st9jpz8y24': 15461, 'wjwyjbncat': 15462, 'onlinecommunities': 15463, 'amageddon': 15464, 'freespeech': 15465, '0erisq25kt': 15466, 'lasvegaslocally': 15467, 'vitalvegas': 15468, 'reined': 15469, 'stool': 15470, 'zotar': 15471, 'skeleton': 15472, 'alchemist': 15473, 'atamathon': 15474, 'gpwrc1kz5i': 15475, 'eyal': 15476, 'shandral': 15477, 'wqow': 15478, 'hj26sfddfi': 15479, 'settle': 15480, 'musbik7ejf': 15481, 'bigburgerboi55': 15482, 'spartan': 15483, 'crushing': 15484, 'lansing': 15485, 'stayed': 15486, 'wooden': 15487, 'wozubxri2p': 15488, '1h7zk6uyze': 15489, '488400524109015': 15490, '352798039832285': 15491, 'backty': 15492, '985dwwpdet': 15493, 'condemn': 15494, 'ary': 15495, 'cowardly': 15496, 'fimak': 15497, 'ist': 15498, 'bolge': 15499, 'muduru': 15500, 'seismicsoftware': 15501, 'enablement': 15502, 'kwmrcekvtf': 15503, 'azure': 15504, 'imullbvued': 15505, 'catalonia': 15506, 'breaking411': 15507, 'onlvf2fyoy': 15508, 'latino': 15509, 'l0unafly0y': 15510, 'sucker': 15511, '43sxg9z6xh': 15512, 'dlc': 15513, 'oman': 15514, 'muscat': 15515, 'seeb': 15516, 'glenstannard': 15517, 'essexweather': 15518, 'abouts': 15519, 'dmassa5': 15520, 'definite': 15521, 'kwajalein': 15522, 'roleplay': 15523, '93vqkdfgnr': 15524, 'ariabrisard': 15525, 'leiaorganasolo': 15526, 'hottest': 15527, 'youngins': 15528, 'watsmxytva': 15529, '3ln8trhw6x': 15530, 'uwijmegl4e': 15531, 'carb': 15532, 'consultative': 15533, 'xkdrx': 15534, 'disrupted': 15535, '6ezkoof2xt': 15536, 'facm78eg7k': 15537, 'ohmyloz': 15538, 'rondarousey': 15539, 'beloeil': 15540, 'richelieu': 15541, 'laurent': 15542, 'expanding': 15543, 'hmuyzmv8qh': 15544, 'rescind': 15545, 'u4r8driuac': 15546, 'cottonwood': 15547, 'villicanaalicia': 15548, 'sanctuary': 15549, 'alarming': 15550, 'v6h97k688j': 15551, 'tjw9bseipw': 15552, 'passion': 15553, 'overblown': 15554, 'mmzgphnknp': 15555, 'belie': 15556, 'a3b5n3rcr5': 15557, 'capoeira': 15558, 'tennis': 15559, 'defending': 15560, 'champ': 15561, 'svetlana': 15562, 'kuznetsova': 15563, 'withdraws': 15564, 'citi': 15565, 'cite': 15566, 'espn': 15567, 'im2hdsklq5': 15568, 'destructive': 15569, 'volcanic': 15570, 'thirty': 15571, 'kkjp9ksbst': 15572, 'orbette': 15573, 'outlaw': 15574, '0f8xa4ih1u': 15575, 'freemurphy': 15576, 'hitchhiking': 15577, 'sorely': 15578, 'sami': 15579, 'reduces': 15580, 'jvivt6zrv7': 15581, 'petebests': 15582, 'dessicated': 15583, 'kneel': 15584, 'horsemind': 15585, 'rvmmut3gvc': 15586, 'algeria': 15587, 'alger': 15588, 'kmtwa3n1gf': 15589, '6gsamy6mts': 15590, 'acousticmaloley': 15591, 'aod2ftbmgu': 15592, 'xxj2b4jxrt': 15593, '9gtylgxroe': 15594, 'yg6rj86bki': 15595, 'trivium': 15596, 'rrusa': 15597, 'cubdnsnuvt': 15598, 'bangkok': 15599, '33pm': 15600, '1eof1wxnpj': 15601, 'skywarn': 15602, '73101': 15603, '70000': 15604, 'outright': 15605, 'mo7dbbdfvr': 15606, '0scnwe8xbv': 15607, 'entertain': 15608, 'diarrhea': 15609, 'chicopee': 15610, 'echo': 15611, 'brasì': 15612, 'derives': 15613, 'vincent': 15614, 'peale': 15615, 'brinco': 15616, 'snd': 15617, 'nxkum9h7wd': 15618, 'vl5tbr3wbr': 15619, 'fragrance': 15620, 'bathe': 15621, 'cg': 15622, 'crazyideascollege': 15623, 'dh0s4buuk7': 15624, 'christycroley': 15625, 'vela': 15626, 'q8reoevlue': 15627, 'barcousky': 15628, 'dhgavw8bsw': 15629, '0lmheaex9k': 15630, 'spends': 15631, 'srslcxhc2t': 15632, 'suffield': 15633, 'bptmlf4p10': 15634, 'sask': 15635, 'åêfedex': 15636, 'k0y7xfxmxa': 15637, 'stlouis': 15638, 'caraccidentlawyer': 15639, 'speeding': 15640, 'k4zomof319': 15641, 's2kxvm0cba': 15642, 'scam': 15643, 'sarcastic': 15644, 'innerhalb': 15645, 'der': 15646, 'lì': 15647, 'cke': 15648, 'uci8stqug1': 15649, 'slopeofhope': 15650, 'dilute': 15651, 'undone': 15652, 'adverse': 15653, 'gotriangle': 15654, 's7xdxuudcy': 15655, 'chapel': 15656, 'coaster': 15657, 'silverwood': 15658, 'lockdown': 15659, 'rumor': 15660, '562796': 15661, '488849': 15662, '4rtpjrhsqe': 15663, 'b24fowler': 15664, 'hairdryer': 15665, 'oblivion': 15666, 'revise': 15667, 'scenario': 15668, 'drlkebeypi': 15669, 'lightningstrike': 15670, 'rjjxucx5pm': 15671, 'leoblakecarter': 15672, 'mg1lpgr0rm': 15673, 'natasha': 15674, 'rideout': 15675, 'airhorns': 15676, 'tractor': 15677, 'exznmxbinj': 15678, '3pcntczoxv': 15679, 'n0akjm1e4b': 15680, 'sounder': 15681, 'etkd58un8n': 15682, 'shaker': 15683, 'lrelvrm06w': 15684, 'jlu2j5qs8u': 15685, '15th': 15686, 'kgswhsr7mn': 15687, 'teamsurvivors': 15688, 'zombiefunrun2014': 15689, 'icfql7i9op': 15690, 'lakh': 15691, 'glaucoma': 15692, 'occurs': 15693, 'fluid': 15694, 'nerve': 15695, 'eyefacts': 15696, 'rockville': 15697, 'ordained': 15698, 'spurgeon': 15699, 'bs6xaqhsim': 15700, 'oneheartonemindonecss': 15701, 'khadidon': 15702, 'asoopcygwn': 15703, '90l2lb5wmr': 15704, '9lyx7zmthe': 15705, '5pbc96rtmj': 15706, 'whippany': 15707, 'mtsalert': 15708, 'developed': 15709, 'soonergrunt': 15710, 'dissonance': 15711, 'risky': 15712, 'r3pddjpiee': 15713, 'latechwatch': 15714, 'hastings': 15715, 'invited': 15716, 'feelin': 15717, '9hkxxbb82o': 15718, 'tryout': 15719, 'minus': 15720, 'toenail': 15721, 'layer': 15722, 'trailed': 15723, 'colin': 15724, 'goodness': 15725, 'pioneer': 15726, 'paleface': 15727, 'drifting': 15728, 'raft': 15729, 'container': 15730, 'enkelbiljett': 15731, 'menolippu': 15732, 'bournemouth': 15733, 'suggs': 15734, 'psychrewatch': 15735, 'deadpool': 15736, 'babybackreeve': 15737, 'wwp': 15738, 'serving': 15739, '75k': 15740, '52k': 15741, 'oif': 15742, 'oef': 15743, 'invisible': 15744, 'shhlv4dplz': 15745, 'fredericksburg': 15746, 'catoinstitute': 15747, 'deeply': 15748, 'solved': 15749, 'h2xcax4jbu': 15750, '9136024': 15751, '81': 15752, '6078532': 15753, 'caaaaaall': 15754, 'wc8aqxedf7': 15755, 'atcmrjzjtp': 15756, 'cincinnati': 15757, 'jesse': 15758, 'suffers': 15759, 'r4utnewlna': 15760, 'bailout': 15761, 'cjvbqxw83s': 15762, '901': 15763, 'a7zf6n7vrl': 15764, 'decorating': 15765, 'rec': 15766, 'iwk': 15767, 'earonlwifh': 15768, 'darnley': 15769, 'personnel': 15770, 'ibazrhlsur': 15771, 'b6wwq2nyqi': 15772, 'featuring': 15773, 'm1xykecrzr': 15774, 'blunts': 15775, '3novices': 15776, '2i4eoggo5j': 15777, 'tem': 15778, 'fjdm8qhyai': 15779, 'sebee': 15780, 'fct': 15781, 'mmklapx2ok': 15782, 'mtmkimwiyy': 15783, '2slow2report': 15784, 'phuket': 15785, 'nycdivorcelaw': 15786, 'algae': 15787, 'bloom': 15788, 'alska': 15789, 'seeweed': 15790, 'caribean': 15791, 'inhofe': 15792, 'ripple': 15793, 'lesleychappelle': 15794, 'crowtherjohn': 15795, 'effiedeans': 15796, 'lbr': 15797, 'couldnt': 15798, 'situ': 15799, 'reopens': 15800, 'oabjztbvyz': 15801, 'gpbxrrdc07': 15802, 'aracaju': 15803, 'sergipe': 15804, 'news786': 15805, 'islamist': 15806, 'anjem': 15807, 'choudary': 15808, 'u7bbenxwyk': 15809, 'resolution': 15810, 'mika': 15811, 'looney': 15812, 'plfd': 15813, 'cuh': 15814, 'connection': 15815, 'buckley': 15816, 'jamesmelville': 15817, 'testimony': 15818, 'tactic': 15819, 'corruption': 15820, 'infiltration': 15821, 'cyu8zxw1oh': 15822, 'multinational': 15823, 'tuzacdwfqd': 15824, 'mesa': 15825, 'ara': 15826, 'infiltrated': 15827, 'ashrafiyah': 15828, 'afrin': 15829, 'ypg': 15830, 'imposed': 15831, 'ankara': 15832, 'malatya': 15833, 'orontem': 15834, 'whaley': 15835, 'trick': 15836, 'clash': 15837, 'ofclans': 15838, 'glimpse': 15839, 'rainfall': 15840, 'waimea': 15841, 'czdw8oowa2': 15842, 'uzwxjbg0zh': 15843, 'fylde': 15844, 'preston': 15845, 'disappearing': 15846, 'pdkhbdg9ho': 15847, 'chorley': 15848, 'purported': 15849, 'swvuzxi6gt': 15850, 'sunbathe': 15851, 'drno7okm21': 15852, 'lax': 15853, 'hurn': 15854, 'tokteacher': 15855, 'skynet': 15856, '73umw2igrz': 15857, 'nomissski': 15858, 'faint': 15859, 'i2el5acrrw': 15860, '0802': 15861, 'sarahmcpants': 15862, 'justjon': 15863, 'titty': 15864, '1i19cuov7l': 15865, 'qu1iug3e9r': 15866, 'joboozoso': 15867, 'usat': 15868, 'dgkmueoaxz': 15869, '3htj2pypsg': 15870, 'fukuoka': 15871, 'crusty': 15872, 'uga': 15873, 'alumnus': 15874, 'notexplained': 15875, 'infamous': 15876, 'cooper': 15877, 'jlzk2hdetg': 15878, 'bradford': 15879, 'weep': 15880, 'olnfzb86zb': 15881, 'warthen': 15882, 'midst': 15883, 'bullpen': 15884, 'bubble': 15885, 'flushing': 15886, 'dannyraynard': 15887, 'personally': 15888, 'rid': 15889, 'aguero': 15890, 'striker': 15891, 'berahino': 15892, 'appropriate': 15893, 'jamaican': 15894, 'shout': 15895, 'wgmzmj5imd': 15896, 'e9yfe3p7p1': 15897, '8gzbgmmaa1': 15898, 'suing': 15899, '7ijlz6bcsp': 15900, 'ihphzckm41': 15901, 'wuicdttuhf': 15902, 'sethalphaeus': 15903, 'paramore': 15904, 'biloxi': 15905, 'mississippi': 15906, 'jlmicj6je5': 15907, 'wider': 15908, 'ptsd': 15909, 'g0q0bzbjli': 15910, 'exyr6c5qpu': 15911, 'militarydotcom': 15912, 'qm5sz0fyu8': 15913, 'pais': 15914, 'arrechos': 15915, 'boyhaus': 15916, 'jakeåê': 15917, 'ûïafter': 15918, 'fid3z4x3s5': 15919, 'comp': 15920, 'vsoxiooy78': 15921, 'pouring': 15922, 'coquitlam': 15923, 'geqkdao4cv': 15924, 'dg0bgzecgm': 15925, '198': 15926, 'rqlpsaye3b': 15927, 'pardon': 15928, 'mindless': 15929, 'ffa': 15930, 'foodstand': 15931, 'capeann': 15932, 'seagull': 15933, 'triciaoneill': 15934, 'triciaoneillphoto': 15935, 'ols6qdi9um': 15936, 'tamrcwfygd': 15937, 'jaymcleanauthor': 15938, 'earths': 15939, 'appalling': 15940, 'businessmen': 15941, 'jlwhaowfqa': 15942, 'saveti': 15943, 'c4news': 15944, 'pleasant': 15945, 'allay': 15946, 'glanders': 15947, 'equestrian': 15948, 'uotpnsqpz5': 15949, 'horsetalknz': 15950, 'phiddleface': 15951, 'adhd': 15952, 'i4fz75utnh': 15953, 'varagesale': 15954, 'candace': 15955, 'dx': 15956, 'kawartha': 15957, 'canad': 15958, 'fleeing': 15959, 'vietnamese': 15960, 'dutton': 15961, 'presser': 15962, 'vagersedolla': 15963, 'uuweikd7sp': 15964, 'erbil': 15965, 'yzdmouxqbo': 15966, 'pexfgawrg1': 15967, 'dialysis': 15968, 'grandpa': 15969, 'roar': 15970, 'dlvyfvnqee': 15971, 'hick': 15972, 'pfft': 15973, 'unhinged': 15974, 'machismo': 15975, 'bullshit': 15976, 'await': 15977, 'disembarkment': 15978, 'vessel': 15979, 'tconnellyr': 15980, 'aim5cyhl0y': 15981, 'trynna': 15982, 'elielcruz': 15983, 'kì': 15984, 'nrw': 15985, 'remaster': 15986, 'frame': 15987, 'windwaker': 15988, 'laredo': 15989, 'mariahcarey': 15990, 'xxzd1nmb1i': 15991, 'smirking': 15992, 'remorseless': 15993, 'boasting': 15994, 'fpjlwoxklg': 15995, 'isolated': 15996, 'ozk1qhjvfh': 15997, 'zimmerman': 15998, 'rzimmermanjr': 15999, 'renewsit': 16000, 'sock': 16001, 'acc': 16002, 'ybshleie3p': 16003, 'overcome': 16004, 'behold': 16005, 'tcc': 16006, 'endless': 16007, 'eerkh8ljws': 16008, 'yewa': 16009, 'jrgj17oamt': 16010, 'disillusioned': 16011, 'crowe': 16012, 'trope': 16013, 'builder': 16014, 'blackmail': 16015, '7mzycu2iho': 16016, 'yprjwmighl': 16017, '3rrkrcjyw7': 16018, 'kanger': 16019, 'vaping101': 16020, 'cykr4xaluh': 16021, 'blogger': 16022, 'ineedexposure': 16023, 'kbstrxnhup': 16024, '3934': 16025, 'invented': 16026, 'insomniac': 16027, 'upstate': 16028, 'dented': 16029, 'deductible': 16030, 'wcvb': 16031, 'modest': 16032, 'sniff': 16033, 'sniiiiiiff': 16034, 'donny': 16035, 'theevilolives': 16036, 'hypo': 16037, 'jzgxwrgfqg': 16038, 'noxdv': 16039, 'casting': 16040, 'deviating': 16041, 'dyxtmrydu': 16042, 'brucewillis': 16043, 'cxdjapzxmp': 16044, 'hermosa': 16045, 'slows': 16046, 'p0gos5urxg': 16047, 'eddyville': 16048, '97343': 16049, 'exitlxgisj': 16050, 'northerncalifornia': 16051, 'monijjth7v': 16052, '0yxbb5dzw5': 16053, 'carlachamorros': 16054, 'isai': 16055, 'psm': 16056, '138': 16057, 'scattered': 16058, 'bartender': 16059, 'sourmashnumber7': 16060, 'tomfromireland': 16061, 'rfcgeom66': 16062, 'bbctalkback': 16063, 'succeed': 16064, 'pol92mn8yz': 16065, 'sgxp1u5ol1': 16066, 'horrendous': 16067, 'sb3rjqqzix': 16068, 'swedish': 16069, '4kdthctemv': 16070, 'godof': 16071, 'mischief': 16072, 'loki': 16073, 'dagger': 16074, 'jammed': 16075, 'grabbed': 16076, 'sif': 16077, 'gigagil': 16078, 'iof': 16079, '513': 16080, 'morality': 16081, 'railguns': 16082, 't1000s': 16083, 'u1fuwrgk5u': 16084, 'translated': 16085, 'dmrsyeiqz3': 16086, 'keepthefaith': 16087, 'darrylb1979': 16088, '2019': 16089, '120000': 16090, 'fcixk23xqh': 16091, 'y5yhbb0hkf': 16092, 'rln09wke9g': 16093, 'lado': 16094, 'tweeting': 16095, 'joshua': 16096, 'typo': 16097, 'atom': 16098, 'hctxghr2yf': 16099, 'k5knnwugwt': 16100, 'unexplainable': 16101, 'childhooddefined': 16102, 'victorinox': 16103, 'mop': 16104, '241487': 16105, 'yfy3nkkcoh': 16106, 'knehvvohvk': 16107, 'b9zx2xz6aw': 16108, 'sumter': 16109, 'retiredfilth': 16110, 'unreal': 16111, 'merc': 16112, 'hqewmreyso': 16113, 'y4y8fcljed': 16114, 'ewnunp8hdo': 16115, 'chicagoscanner': 16116, '60607': 16117, 'avoids': 16118, 'hlyhdfwsqb': 16119, 'gwsnbmmcqf': 16120, 'bleacher': 16121, 'cllwud4wsu': 16122, 'summary': 16123, '4esbsa8int': 16124, 'utfire': 16125, 'fcqmkffflw': 16126, 'vayaymbngu': 16127, 'creepiest': 16128, 't8uqm7imir': 16129, 'ralph': 16130, 'whistleblower': 16131, 'ipwysnik0g': 16132, 'time4me': 16133, 'sews': 16134, 'e0uusnpsq5': 16135, 'palmater': 16136, 'perrybellegarde': 16137, 'firstnations': 16138, 'idlenomore': 16139, 'cndpoli': 16140, 'yyj': 16141, 'melted': 16142, 'cube': 16143, 'mccauleysdesign': 16144, 'abysmaljoiner': 16145, 'dyamiplotke': 16146, 'purpose': 16147, '4k': 16148, 'rural': 16149, 'chevrolet': 16150, 'wd': 16151, 'obky8pc89h': 16152, 'dxirntdsrd': 16153, '3km': 16154, 'henshaw': 16155, 'f9kqksosw3': 16156, '74jppek6o7': 16157, 'palmoil': 16158, '4zn0mdsrvp': 16159, '100000': 16160, 'annihilate': 16161, 'spin': 16162, '23rd': 16163, 'bremerton': 16164, 'satanaofhell': 16165, 'dreamy': 16166, 'rocketing': 16167, 'rockstar': 16168, 'aspiring': 16169, 'talent': 16170, 'omjmtu9kfg': 16171, 'danagould': 16172, 'waynesteratl': 16173, 'equalizer': 16174, 'sf2vwqvjya': 16175, 'edwin': 16176, 'hamont': 16177, 'stunckle': 16178, 'r74': 16179, 'crazydoctorlady': 16180, 'rod': 16181, 'creature': 16182, 'wished': 16183, 'spilt': 16184, 'mayonnaise': 16185, '8j4rdwyjwu': 16186, '9mkzpzfkl2': 16187, 'unharmed': 16188, 'denied': 16189, 'ex4fnjjl6h': 16190, 'thanjavur': 16191, 'hammond': 16192, '3xn1soh4bb': 16193, 'nosa8jjjin': 16194, 'wukvdavuju': 16195, 'humanityi': 16196, 'apologized': 16197, 'nuclearweapons': 16198, 'twykzn4rlc': 16199, 'gastric': 16200, 'carcinoma': 16201, 'gene': 16202, 'su4zvwadj7': 16203, 'gamefeed': 16204, 'gx1kz3c2tc': 16205, 'videogame': 16206, 'thirsty': 16207, 'dehydration': 16208, 'downright': 16209, 'tightrope': 16210, 'vjgr6liaxh': 16211, '55jr66plov': 16212, 'xdescry': 16213, 'us101': 16214, 'unkn': 16215, 'js9ehp88wq': 16216, 'packed': 16217, '2ns5tfnxpa': 16218, 'w2kvscbtlp': 16219, 'tn8o00nrlp': 16220, '40mln': 16221, 'sputnik': 16222, '0dxvz7fdh3': 16223, 'asheboro': 16224, 'exhausted': 16225, 'enacted': 16226, '610': 16227, 'reviewing': 16228, 'commuter': 16229, 'ft7orfa52y': 16230, 'dv4mmlso1i': 16231, 'candidate': 16232, 'grime': 16233, 'pbegof4740': 16234, 'hse': 16235, 'h4usheekxm': 16236, 'jnhnx3oisn': 16237, 'eyugk6byxr': 16238, 'archipelagowolves': 16239, 'nearing': 16240, 'extinction': 16241, 'standforwolves': 16242, 'hbwoivjqkd': 16243, 'ndetention': 16244, 'unscreened': 16245, 'b4k0r4gga8': 16246, 'dcclothesline': 16247, 'insanity': 16248, 'grimrail': 16249, 'depot': 16250, 'infantryman': 16251, 'experimental': 16252, 'assertative': 16253, 'intelligence': 16254, 'regard': 16255, 'onthisday': 16256, 'mayflower': 16257, 'laphamsquart': 16258, 'ssn1mxsfoa': 16259, 'fw8elbnap7': 16260, 'khq': 16261, 'anlhw2izkz': 16262, '1880': 16263, 'dmpl': 16264, 'cameo': 16265, 'rev': 16266, 'm96kbqwior': 16267, 'wrjr846fks': 16268, 'hanna': 16269, 'fqv47ob8ge': 16270, 'quezon': 16271, 'watchthevideo': 16272, 'p64xrvgjik': 16273, 'wps': 16274, 'wj7ujfs8fd': 16275, 'pantofel': 16276, '087809233445': 16277, '23928835': 16278, 'dthneezupe': 16279, 'pnpizody': 16280, 'stephenking': 16281, 'thedarktower': 16282, 'j9lpdrxcde': 16283, 'bdisgusting': 16284, 'testa': 16285, 'distinction': 16286, 'htarvrgly': 16287, 'n6rbnhmtd4': 16288, 'rowysolouisville': 16289, 'hxvfmouhdm': 16290, 'l90dcpv9zu': 16291, '4e2gjmvrvi': 16292, 'boomerangtime': 16293, 'rskarim1': 16294, 'sopameer': 16295, 'wattashit3': 16296, 'ridah': 16297, 'perrie': 16298, 'engagement': 16299, 'gedoxsppl9': 16300, 'aczruorytd': 16301, 'modernize': 16302, 'ap9jbrpmqg': 16303, 'hollywoodland': 16304, 'pyrbliss': 16305, '179': 16306, 'nypd': 16307, '3åê': 16308, 'cn1jommugh': 16309, 'knocked': 16310, 'yday': 16311, '2day': 16312, 'etg0prbp4g': 16313, 'newbie': 16314, 'topeka': 16315, '4ssuyhkgrb': 16316, 'tderbtgz2k': 16317, 'crazyindapeg': 16318, 'vets78734': 16319, 'understandable': 16320, 'ptsdchat': 16321, 'badastronomer': 16322, 'farther': 16323, 'impairs': 16324, 'individual': 16325, 'zisuwlqrhf': 16326, 'sega': 16327, 'flo8fgy35a': 16328, 'jogja': 16329, 'silverstar58200': 16330, 'romero': 16331, '12pm': 16332, 'ayfdjeb7hy': 16333, 'musicvideo': 16334, 'uuzaumdobc': 16335, 'arktj9qn4s': 16336, 'youd': 16337, 'bo3': 16338, '0x8jaqtowm': 16339, 'm1rosi2wcs': 16340, 'kmactwn': 16341, 'meaganerd': 16342, 'kellogg': 16343, 'sugar': 16344, 'crunchy': 16345, 'lightseraphs': 16346, 'pikachu': 16347, 'juanny': 16348, 'beisbol': 16349, 'lgm': 16350, 'dinallyhot': 16351, 'r6kzsqdghz': 16352, 'tdeukjzzii': 16353, 'artectura': 16354, 'pop2015': 16355, 'nå¼36': 16356, 'florence': 16357, '9le0b19lvf': 16358, 'rs40000cr': 16359, 'lifeline': 16360, 'fci': 16361, 'grain': 16362, 'nagpur': 16363, 'sjxllzosw7': 16364, 'k0qtl8aodh': 16365, 'zqbxe7x9y7': 16366, 'symbolicjensen': 16367, 'lordbrathwaite': 16368, 'growingupincolorado': 16369, 'karnythia': 16370, 'gaining': 16371, 'xomi4zqzgp': 16372, '0m1tw3datd': 16373, 'prayed': 16374, 'wf8itk2kvx': 16375, 'huffpostrelig': 16376, 'ij': 16377, 'h132iul7mu': 16378, 'dattomm': 16379, 'funniest': 16380, '4head': 16381, '415': 16382, '751': 16383, '0880': 16384, 'lucio': 16385, 'overwatch': 16386, 'hype': 16387, '5zdbtktww7': 16388, 'taller': 16389, 'bigperm28': 16390, 'drafted': 16391, '124': 16392, 'overall': 16393, 'utahgrizz': 16394, 'gpgtafmkt0': 16395, '505': 16396, 'maple': 16397, 'suite': 16398, 'urine': 16399, 'ul5xdblmbk': 16400, 'vjhpvlnbaw': 16401, 'lavenderpoetrycafe': 16402, 'encoded': 16403, 'sensory': 16404, 'dmb6xp966d': 16405, 'njaffyjarz': 16406, '1xhsuewqn4': 16407, 'bloodbath': 16408, 'introducing': 16409, 'kirstiealley': 16410, 'animaladvocate': 16411, 'lifeaintfairkid': 16412, 'brooo': 16413, 'cleverbot': 16414, 'dotish': 16415, 'laventillemoorings': 16416, 'unsure': 16417, 'cope': 16418, 'paging': 16419, 'uxqkieqdyf': 16420, 'gettinglost': 16421, 'jennellensbb': 16422, 'muncle': 16423, 'superficial': 16424, 'spray': 16425, 'kcrw': 16426, '6agmkx2ww4': 16427, 'asb': 16428, 'tire': 16429, 'ph2xli8nve': 16430, '22fuxhn7el': 16431, 'hemel': 16432, 'hempstead': 16433, 'alil': 16434, 'category': 16435, 'defined': 16436, 'odydt9qpk1': 16437, 'gopsicp8bm': 16438, 'senseless': 16439, 'nonsense': 16440, 'xcolwugfjg': 16441, 'jeep': 16442, 'fiat': 16443, 'chrysler': 16444, 'harman': 16445, 'consumerist': 16446, '2hocep41kh': 16447, 'mcgsecure': 16448, 'immensely': 16449, 'crossfit': 16450, 'qamwojyahq': 16451, 'costing': 16452, 'apiece': 16453, 'dtdidinqyf': 16454, 'anutoopkf4': 16455, 'ferriby': 16456, 'ml8irhwg7o': 16457, '578gunp8t9': 16458, '6mgbizjfgd': 16459, 'mumbailocals': 16460, 'lessonforlife': 16461, 'marinelines': 16462, 'easton': 16463, 'softball': 16464, 'fastpitch': 16465, 'sk398': 16466, 'ra2majpkq2': 16467, 'y7ghhyk05b': 16468, 'babysweet420': 16469, '420': 16470, 'tripsburg': 16471, 'caixxum5sos': 16472, 'vivid': 16473, 'jmu5uyamdu': 16474, 'nephew': 16475, 'shadowflame': 16476, 'wraith': 16477, 'ldbao0rsuz': 16478, 'ûïcat': 16479, '6f9afql6wp': 16480, 'separated': 16481, 'investment': 16482, 'keurig': 16483, 'gtdnw1spvi': 16484, 'haarlem': 16485, 'camilla': 16486, 'craykain': 16487, 'shatter': 16488, 'delusion': 16489, 'fueled': 16490, 'rkdzb0tgc3': 16491, 'wikipedia': 16492, 'encyclopedia': 16493, 'ghucazjsxb': 16494, 'ap30pszkvx': 16495, 'j2pykyo0en': 16496, 'titortau': 16497, 'lynch': 16498, 'larious': 16499, 'realtime': 16500, 'checking': 16501, 'ombudsmanship': 16502, 'bruv': 16503, 'thoroughly': 16504, 'brutality': 16505, 'nvr': 16506, 'bv': 16507, 'publish': 16508, 'indictment': 16509, '5wfxbaqmbk': 16510, 's0eyq1wehe': 16511, 'lakeeffect': 16512, 'twill': 16513, 'denim': 16514, 'txtpx4umqh': 16515, 'yi30zgizsw': 16516, '2jgvhw7yzs': 16517, 'hkxyzhvmqe': 16518, 'ueppjwvlcb': 16519, 'watersafety': 16520, 'moving2k15': 16521, 'expertwhiner': 16522, 'teh': 16523, 'alhaji': 16524, 'sha': 16525, 'ibeto': 16526, 'competitor': 16527, 'christiec733': 16528, 'cometh': 16529, 'bp597yds2b': 16530, 'gabriel': 16531, 'loner': 16532, 'diary': 16533, 'choked': 16534, 'ekfaz6wvbz': 16535, 'kisumu': 16536, 'theme': 16537, 'asks': 16538, 'zenit': 16539, 'hfvnyft78c': 16540, 'suva': 16541, 'fiji': 16542, 'creation': 16543, 'ai': 16544, 'workforce': 16545, 'inequality': 16546, 'florin': 16547, 'es1b3lyway': 16548, 'yfavsuogvl': 16549, 'isi1rllct0': 16550, '4y4ytwhd74': 16551, 'picthis': 16552, 'br7gmmh5ek': 16553, 'amazingness': 16554, 'finall': 16555, 'selling': 16556, 'morel': 16557, 'ambleside': 16558, 'farmr': 16559, 'mart': 16560, 'mushroom': 16561, 'foragesecret': 16562, 'tonyhsieh': 16563, 'assumes': 16564, 'kasabwe': 16565, 'biryani': 16566, 'bilaspur': 16567, 'chhattisgarh': 16568, '495001': 16569, 'osuoivnigo': 16570, 'fem': 16571, 'kmndkfa7me': 16572, 'belgrade': 16573, 'punk': 16574, 'ghostoftheav': 16575, 'montroseband': 16576, 'wdvxjsqwic': 16577, 'raniakhalek': 16578, 'tuebingen': 16579, 'innsbruck': 16580, 'razak': 16581, 'isla': 16582, 'fk1l4nozig': 16583, 'janice': 16584, 'medusa': 16585, 'microphone': 16586, 'input': 16587, 'mxkalmqpdb': 16588, '8kznhtytt9': 16589, 'wise': 16590, 'alicante': 16591, 'valencia': 16592, 'sw1sbua3mn': 16593, 'kopiteluke1892': 16594, 'lfc': 16595, 'gsw': 16596, 'raheelsharif': 16597, 'manifesting': 16598, 'helm': 16599, 'stormy': 16600, 'fallacy': 16601, 'steam': 16602, 'robertcalifornia': 16603, 'thereisonlysex': 16604, 'pomfret': 16605, 'hrqcjdovjz': 16606, 'fy30fv0qbx': 16607, 'dalailama': 16608, 'hammersmith': 16609, 'targe': 16610, 'm0dap5xlwo': 16611, 'cxb55h37jn': 16612, 'rascal': 16613, 'flatts': 16614, 'h6tyysgr30': 16615, 'bossland': 16616, 'willie': 16617, 'am': 16618, 'justthebottle': 16619, 'cooling': 16620, 'winechat': 16621, 'obsolete': 16622, 'ashes2015': 16623, 'a7tjawwtj7': 16624, 'diplomat': 16625, 'v0yrfh9dkc': 16626, 'ajzy19vepu': 16627, 'ashghebranious': 16628, 'trans': 16629, 'josebasedgod': 16630, 'realm': 16631, 'pnw': 16632, 'alllll': 16633, 'nittys': 16634, 'stockwell': 16635, 'foliage': 16636, 'ignited': 16637, 'douchebag': 16638, 'sunray': 16639, 'hairy': 16640, 'dried': 16641, 'spiderweb': 16642, 'pwwpum6rbj': 16643, 'yspon4d6qo': 16644, 'hector': 16645, 'bellerin': 16646, 'questioning': 16647, 'ecmj18azai': 16648, 'schwarber': 16649, 'cervelli': 16650, 'puff': 16651, 'africansinsf': 16652, 'beyondgps': 16653, 'etdgpiwxti': 16654, 'richarkkirkarch': 16655, 'ausinstarchitect': 16656, 'queenswharf': 16657, 'jmkywhv7mp': 16658, 'financialreview': 16659, '5uftrxppv0': 16660, 'omgbethersss': 16661, 'bethanymota': 16662, 'mis0rjxuir': 16663, 'e14epzhoth': 16664, '22a9d5do6q': 16665, 'abbyairshow': 16666, 'vxjcx8ukmd': 16667, 'honeymoon': 16668, 'bdsgf1cfax': 16669, 'surulere': 16670, 'swagg': 16671, 'demco': 16672, '8550013': 16673, 'hitch': 16674, '21k': 16675, 'ultra': 16676, 'hrdwgfbfyq': 16677, 'nuohkmpzfj': 16678, 'persistent': 16679, 'fasting': 16680, 'forth': 16681, 'wox3vprixq': 16682, 'hindhede': 16683, 'alwx': 16684, 'gtqmgsgcsb': 16685, 'gmtty': 16686, 'sectarian': 16687, 'militia': 16688, 'withdraw': 16689, 'fightin': 16690, 'uve': 16691, 'bcjylerryx': 16692, 'bind': 16693, 'comlg0vdbv': 16694, 'organizer': 16695, 'spotlight': 16696, 'wniagospel': 16697, '1he4ufawzm': 16698, 'bnhtxaezmm': 16699, 'f75qwyeeec': 16700, 'nlk1dyd2tp': 16701, 'parisian': 16702, 'accustomed': 16703, 'baffling': 16704, 'surrounding': 16705, 'sxwjyr3k3l': 16706, 'aewglvqreh': 16707, 'airplaneåê': 16708, 'wq3wjsgphl': 16709, 'ashville': 16710, '752': 16711, 'hylmo0wgfi': 16712, 'bloomfield': 16713, 'joedawg42': 16714, 'enhanced': 16715, 'wording': 16716, 'imo': 16717, 'countermoonbat': 16718, 'woken': 16719, 'y8h5v1j2y7': 16720, 'lisnaskea': 16721, 'ezralevant': 16722, 'inverness': 16723, 'buscemi': 16724, 'firefightr': 16725, 'fame': 16726, 'workd': 16727, '12hr': 16728, 'diggin': 16729, 'wtc': 16730, 'lookg': 16731, 'l9fjpnszuo': 16732, 'kmdqm3nlns': 16733, 'follownflnews': 16734, '5dujgypima': 16735, 'awake': 16736, 'tolled': 16737, 'nbzikcjphp': 16738, 'raidersreporter': 16739, '957thegame': 16740, 'letter': 16741, 'kkoovbkndp': 16742, 'dao9azeucr': 16743, 'mixxtail': 16744, 'watermelon': 16745, 'loko': 16746, 'brittsand9': 16747, 'since1970the': 16748, 'depreciation': 16749, 'usd': 16750, 'b4federal': 16751, 'wgqkxmby3b': 16752, 'junction': 16753, 'beep': 16754, 'horn': 16755, 'ushanka': 16756, 'xl61': 16757, '62': 16758, '74yfqxvak0': 16759, 'kxrehvt6hl': 16760, 'aladdin': 16761, 'braoubgec2': 16762, 'ebooks': 16763, 'ollymursaus': 16764, 'piprhys': 16765, 'cardiff': 16766, 'attached': 16767, 'cheat': 16768, 'firefigthers': 16769, 'hppld1jhtz': 16770, '9vd6x4wdoy': 16771, 'hatteras': 16772, 'snowy': 16773, 'ideally': 16774, 'stood': 16775, 'superiority': 16776, 'unconditional': 16777, 'surrender': 16778, 'westwestwestwestwestwestwest': 16779, 'ub3woz2ut1': 16780, 'tiffanyfrizzell': 16781, 'raf732vrtt': 16782, 'k8bexkgwr2': 16783, 'mariankeyes': 16784, 'apd': 16785, 'qyccvuubkr': 16786, 'thruuu': 16787, 'hksbmijqz1': 16788, 'q13': 16789, 'e981dgskab': 16790, 'earthquakenews': 16791, 'intragenerational': 16792, 'sandra': 16793, 'bland': 16794, 'zweygphpf7': 16795, 'sentenced': 16796, 'chippewa': 16797, 'kqpky7dthj': 16798, 'thugging': 16799, '4914njpio3': 16800, 'lolo': 16801, 'nj36': 16802, '516': 16803, 'leonardville': 16804, '2xwihy2wsg': 16805, 'zachzaidman': 16806, '670thescore': 16807, 'wld': 16808, 'boycottbears': 16809, 'dorman': 16810, '917': 16811, '033': 16812, 'wxces39zte': 16813, 'pygkssscfr': 16814, 'tozlet': 16815, 'butt': 16816, 'leprosy': 16817, 'jerkface': 16818, 'syndrome': 16819, 'lateral': 16820, 'lisp': 16821, 'rickets': 16822, 'mute': 16823, 'whatsapp': 16824, 'vrpmplczcy': 16825, 'uahicwpih4': 16826, 'jgdlx4faw8': 16827, 'ivwtynoujk': 16828, 'skateboard': 16829, 'saferåê': 16830, 'ihinj3enqi': 16831, 'kshllcenterpri1': 16832, 'progress4ohio': 16833, 'spying': 16834, '79upydcemp': 16835, 'cigarknub': 16836, 'crqck': 16837, 'becyme': 16838, 'mayor': 16839, 'includes': 16840, 'foursquare': 16841, 'hwy401': 16842, 'rv9dv6joew': 16843, 'hardball': 16844, 'sejorg': 16845, 'skaausjpo4': 16846, 'oliviamiles01': 16847, 'eyes': 16848, 'u9ao3a4ogc': 16849, 'retooled': 16850, 'retiree': 16851, 'handicapped': 16852, 'nomorehandouts': 16853, 'marlene': 16854, 'menahem': 16855, 'moshav': 16856, 'safsufa': 16857, 'hamas': 16858, 'egged': 16859, '361': 16860, 'hadnt': 16861, 'butgod': 16862, 'jrlallo': 16863, 'narrator': 16864, 'chemically': 16865, 'lavatory': 16866, 'db5': 16867, 'prescott': 16868, 'praro2owia': 16869, '7cehnv3dky': 16870, 'fox5newsdc': 16871, 'avbronstein': 16872, 'popehat': 16873, 'instapundit': 16874, '950': 16875, 'tumble': 16876, 'todayi': 16877, 'sfakqnveta': 16878, '43rd': 16879, 'offramp': 16880, 'ct9ejxolpu': 16881, 'rdxzsl5eac': 16882, 'qwijrriyif': 16883, 'r5live': 16884, 'discussion': 16885, 'herring': 16886, 'scraptrident': 16887, 'modibo': 16888, 'maiga': 16889, 'fucktard': 16890, 'coyi': 16891, 'aurugjegiq': 16892, 'l3w8mipvnt': 16893, 'o85m1bjfrw': 16894, 'corp': 16895, 'nyse': 16896, 'fdx': 16897, '2kdq56xtws': 16898, 'xtljz7bjgl': 16899, 'nout': 16900, 'rubbin': 16901, 'm8ufjdtlsm': 16902, 'tnn': 16903, '9lo0hzwjpz': 16904, 'doofus': 16905, 'diamorfiend': 16906, 'jokin': 16907, 'hilda': 16908, 'ksxto8nknl': 16909, 'espagne': 16910, 'ppji1tcnml': 16911, 'cubze5mizm': 16912, 'ryanoss123': 16913, 'hitter': 16914, '35qwnglkos': 16915, 'is2idc3ubj': 16916, 'raheel': 16917, 'sharif': 16918, 'chitral': 16919, 'lauded': 16920, 'fwo': 16921, 'txrswi0efg': 16922, 'occupy': 16923, 'yeljpqhmed': 16924, 'moe': 16925, 'bouta': 16926, 'convection': 16927, 'nlwx': 16928, 'landsli': 16929, '9tg7a5oqfp': 16930, 'adventist': 16931, 'sabbath': 16932, '3yu26v19zh': 16933, 'tagging': 16934, 'semekeepschanging': 16935, 'soyeh': 16936, 'induced': 16937, 'holdin': 16938, 'bmwmpoydig': 16939, 'our': 16940, 'rebahe': 16941, 'zenande': 16942, 'mcfen': 16943, 'ndzedze': 16944, 'ashes2ashes': 16945, 'cins': 16946, 'tg': 16947, 'chicagoland': 16948, 'pageparkescorp': 16949, 'chloeunguyen': 16950, 'laurensicle': 16951, 'charstevens97': 16952, 'tiara': 16953, 'marei': 16954, 'gemma': 16955, 'bowe': 16956, '9wowps78vd': 16957, '1x1': 16958, 'vjlnskbg86': 16959, 'kingston': 16960, 'iapvtqxlht': 16961, 'wamkre6ckd': 16962, 'greenbuildermag': 16963, 'webinar': 16964, 'xmsvohkccp': 16965, 'firewise': 16966, 'intermountain': 16967, 'blcbabm7a1': 16968, 'securing': 16969, 'lasting': 16970, 'jzwrisxepf': 16971, 'yl67dkf4tb': 16972, 'tricky': 16973, 'dicky': 16974, 'miusvpxqte': 16975, 'ifs': 16976, 'ands': 16977, 'buts': 16978, 'hfgjgfgfel': 16979, 'inviting': 16980, '2z2htdjqzd': 16981, 'vinustrip': 16982, 'scored': 16983, '111020': 16984, 'squeaky': 16985, 'skull': 16986, 'aetgbxm1pl': 16987, 'goooooooo': 16988, 'fz5ew4ihmb': 16989, 'metrotown': 16990, 'resulting': 16991, 'maintained': 16992, 'burnaby': 16993, 'changefortheworse': 16994, 'gunning': 16995, 'heartache': 16996, 'jhupogbvs8': 16997, 'xy41z0o5ei': 16998, 'pollster': 16999, 'bmw': 17000, '325ci': 17001, '5l': 17002, 'l6': 17003, 'gbvdnczjou': 17004, 'c211hise0r': 17005, 'kotowsa': 17006, 'mexwohd3tg': 17007, 'gb46fid2we': 17008, 'aknynpv461': 17009, 'nick': 17010, 'xqmjhiozxg': 17011, 'overton': 17012, 'hashtagteaclub': 17013, 'par': 17014, 'defender': 17015, 'tod': 17016, 'ensued': 17017, 'thomassmonson': 17018, 'lds': 17019, 'mormon': 17020, 'zl7ojdaj3u': 17021, 'iecc1jdoub': 17022, 'zonewolf123': 17023, 'u66kyg11zd': 17024, '72': 17025, 'osjurfddkt': 17026, 'y217ceeemd': 17027, 'rosvxqelqj': 17028, 'wanderlust': 17029, 'z8ij8ktkyk': 17030, 'fleetwood': 17031, 'q99': 17032, 'ffnzit7kgn': 17033, 'uxp6poqjlb': 17034, 'curtain': 17035, 'courtney': 17036, 'laudner': 17037, 'panty': 17038, 'kenny': 17039, 't4pv0nroov': 17040, 'pseylyzck4': 17041, 'ezeisasm0c': 17042, 'chrisdyson16': 17043, 'mta': 17044, 'sorrybutitstrue': 17045, 'yulee': 17046, 'kayla': 17047, 'kutztown': 17048, 'patricia': 17049, 'traina': 17050, 'mcclain': 17051, 'nyg': 17052, 'exil1bkzmp': 17053, 'ehomn68ojb': 17054, 'uooygbb6az': 17055, 'sivan': 17056, 'basalt': 17057, 'massage': 17058, 'jjxcnwbp15': 17059, 'vazpg0ftmu': 17060, 'prehistoric': 17061, 'tbbobvcotj': 17062, 'micjnpuhg0': 17063, 'multidimensional': 17064, 'vddi5chktp': 17065, 'font': 17066, 'interrogation': 17067, 'uwitvbsbnc': 17068, 'aerospace': 17069, 'exec': 17070, 's2wm8lh7oo': 17071, 'belbroughton': 17072, '8pdnhh6tzh': 17073, 'furtrix': 17074, 'cougar': 17075, 'thetimepast': 17076, 'saalon': 17077, 'resolved': 17078, 'fricken': 17079, 'mcdonald': 17080, 'coolest': 17081, 'escondido': 17082, 'nuys': 17083, 'fxux987vzx': 17084, 'vannuyscouncil': 17085, 'eeasterling': 17086, 'glenview': 17087, 'janeenorman': 17088, 'probability': 17089, 'cdohgnjmst': 17090, 'rbcinsurance': 17091, 'existant': 17092, 'adumbbb': 17093, 'pawnee': 17094, 'igcetumkcw': 17095, 'illumination': 17096, 'ykltfj1fnc': 17097, 'tianta': 17098, 'soil': 17099, 'entershikari': 17100, 'bjfordiani': 17101, 'squibby': 17102, 'm9d2elimzi': 17103, 'ufn': 17104, 'fecal': 17105, 'scifi': 17106, 'turdnado': 17107, 'forgeting': 17108, 'hyperbole': 17109, 'saintsfc': 17110, 'nwspocatello': 17111, 'brunt': 17112, 'grayed': 17113, 'interspersed': 17114, 'segment': 17115, 'anthology': 17116, 'lqjmuaxjuu': 17117, 'v8aftd9zez': 17118, 'onnnn': 17119, 'protestors': 17120, 'skyscraper': 17121, 'soloquiero': 17122, 'firefighte': 17123, 'alma': 17124, 'rosa': 17125, 'sj': 17126, 'gist': 17127, '148': 17128, 'dkrgs2awex': 17129, 'streetjamzdotnet': 17130, 'mr9kcgpiwm': 17131, 'hunchback': 17132, 'notre': 17133, '11th': 17134, 'wander': 17135, 'broadview': 17136, 'magnitudeåêåêml': 17137, '4regionåêåênear': 17138, '0wdazlcm90': 17139, 'booksbyroger': 17140, 'l9mb2j5pxg': 17141, 'macclesfield': 17142, 'lisowski': 17143, 'whitewash': 17144, 'quals': 17145, 'mligpuhvoh': 17146, 'snooker': 17147, 'tcs2cd5y6y': 17148, 'researcher': 17149, 'select': 17150, '9viibxgjav': 17151, 'fundwhen': 17152, 'hlportal': 17153, 'sochi': 17154, 'kda': 17155, '0ubg9wfyge': 17156, 'losangeles': 17157, 'thingsihate': 17158, 'pol': 17159, 'ia1hngnhvb': 17160, 'beauty': 17161, 'stretch': 17162, 'victorian': 17163, '1890': 17164, 'uilpg8i1ev': 17165, 'm9pxto2kww': 17166, 'cityofhummus': 17167, 'ilnewsflash': 17168, 'earl': 17169, 'smoker': 17170, 'wpd': 17171, '1600': 17172, 'hanover': 17173, 'provokes': 17174, 'fjeafgbzfj': 17175, 'no': 17176, 'periferico': 17177, 'm7na4skfwr': 17178, 'orapinforma': 17179, 'visited': 17180, 'humbled': 17181, 'acc1z5q9zw': 17182, 'kotolily': 17183, 'judith': 17184, 'hopfer': 17185, 'deglin': 17186, 'april': 17187, 'vallerand': 17188, 'iufs7uv1hk': 17189, 'afrhnlly8d': 17190, 'ahamedis': 17191, 'messiah': 17192, 'dajaal': 17193, 'gog': 17194, 'magog': 17195, 'birb': 17196, 'hqdczzdmbn': 17197, '6craekc9wb': 17198, '1uo1atrbbj': 17199, 'driverlesscars': 17200, 'um3wtl5r7k': 17201, '2lqyxzq5dn': 17202, 'esoteric': 17203, 'astrologian': 17204, 'sweetpea': 17205, 'allotment': 17206, 'brightening': 17207, 'rainy': 17208, '6ndbfopk5m': 17209, 'tipperary': 17210, 'wackoes': 17211, 'michelebachman': 17212, 'firey': 17213, 'inferno': 17214, 'accept': 17215, 'globalwarming': 17216, 'assassinkpg': 17217, 'frankly': 17218, 'sunbury': 17219, 'buren': 17220, 'kjsvw06gbv': 17221, 'ma3route': 17222, 'imeshika': 17223, 'hapa': 17224, 'aar': 17225, 'bonnieg434': 17226, 'piga': 17227, 'kijan': 17228, 'kltit88as3': 17229, 'yohvuwumzs': 17230, 'novi': 17231, 'aimlessly': 17232, 'detersion': 17233, 'hlg': 17234, 'deedee': 17235, 'casey': 17236, 'investigate': 17237, 'byebyesoundcloud': 17238, 'ba': 17239, 'icc': 17240, 'realckt': 17241, 'lahore': 17242, 'ncjpgf6znv': 17243, 'gerjau74ey': 17244, '6peeip4y7w': 17245, 'bhufevagpu': 17246, 'qct6fb8won': 17247, 'fried': 17248, 'ravioliåêwith': 17249, 'porcini': 17250, 'ricotta': 17251, 'n6mcpgvwq2': 17252, 's8oinfgxyx': 17253, 'catholicism': 17254, 'homophobia': 17255, 'dustpiggies': 17256, 'awash': 17257, 'abstract': 17258, 'dustpig': 17259, '96km': 17260, 'brenas': 17261, 'sdzrrfzhmy': 17262, 'ririnsider': 17263, 'hendricks': 17264, 'hospitality': 17265, 'neanea2724': 17266, 'kc8o81bchg': 17267, 'epa': 17268, 'norkxbrs6g': 17269, 'lenn': 17270, '316': 17271, 'breachgamingorg': 17272, 'britishbakeoff': 17273, 'baked': 17274, 'alaskan': 17275, 'neverforget': 17276, 'kennel': 17277, 'grimsby': 17278, 'jozerphine': 17279, 'everythign': 17280, 'mcpherson': 17281, 'crowdtappers': 17282, 'joinvroom': 17283, 'ohhhh': 17284, 'tangletalk': 17285, '2002': 17286, '81neizeknm': 17287, 'b2': 17288, 'fremont': 17289, '15000270364': 17290, 'ge0yd3mkav': 17291, 'x9ofv1kmv7': 17292, 'markwschaefer': 17293, 'bgerljamte': 17294, 'spuhuvgasy': 17295, 'conveniently': 17296, 'revere': 17297, 'honour': 17298, 'baruch': 17299, 'goldstein': 17300, '3kob7xbea0': 17301, 'tiny': 17302, 'oct336': 17303, '0keh2treny': 17304, 'dom': 17305, 'tdeqwm8zxn': 17306, 'autismawareness': 17307, 'jwiv6wyw6f': 17308, 'osage': 17309, 'reveillertm': 17310, 'macabrelolita': 17311, 'amino': 17312, 'diobzghfju': 17313, 'martial': 17314, 'biuey7buts': 17315, 'jwqybe4ep1': 17316, 'blending': 17317, '8qqzyziaqf': 17318, 'rvfriedmann': 17319, 'lodisilverado': 17320, 'ritzy': 17321, 'jewels': 17322, 'restart': 17323, 'dbaujp29ub': 17324, 'c1h7jecfrv': 17325, 'royalcarribean': 17326, 'faroeislands': 17327, 'dawabsha': 17328, 'erode': 17329, 'homegrown': 17330, 'q8n5tn8wme': 17331, 'dqsvyusy': 17332, 'deqqopsp4f': 17333, 'lbkvfqrpgt': 17334, '3rva5uvt0p': 17335, 't2kk8fya77': 17336, 'followurdreams': 17337, '30stm': 17338, 'quem': 17339, 'lembra': 17340, 'potteratthedisc': 17341, 'y7rv0til1w': 17342, 'rjdx29wosp': 17343, 'theashes': 17344, 'kushwush': 17345, 'hogging': 17346, 'hampstead': 17347, 'brittanypetko': 17348, '7ad0l7cgee': 17349, 'hhzql9tznp': 17350, 'quotesttg': 17351, 'helios': 17352, 'petaluma': 17353, 'imsushickoflove': 17354, 'alekalicante': 17355, 'gauze': 17356, 'michaelwestbiz': 17357, 'bhopal': 17358, 'chonce': 17359, 'cryibg': 17360, 'ljp': 17361, 'liv': 17362, 'oliviaapalmerr': 17363, 'thatswhatfriendsarefor': 17364, 'zicac': 17365, 'briefcase': 17366, 'a3xv6ff8dn': 17367, 'vts9cayibc': 17368, 'doricreates': 17369, 'alhanda': 17370, 'moonbeam': 17371, 'toke': 17372, 'o6onsjhcsd': 17373, 'p2': 17374, 'norwaymfa': 17375, 'gfjfgtodad': 17376, 'tomarse99': 17377, 'intending': 17378, 'signal': 17379, 'brizzle': 17380, 'jail': 17381, 'ev1ahoucza': 17382, 'edison': 17383, 'lightbulb': 17384, 'wank': 17385, 'dalkeith': 17386, 'ccvcte3lcw': 17387, 'truckload': 17388, 'wjntaokdhf': 17389, 'cobblestone': 17390, 'charcoal': 17391, 'handled': 17392, 'exceptionally': 17393, 'cor4': 17394, 'ukqybhxmqi': 17395, 'idws2zgysa': 17396, '7aze4iogme': 17397, 'assessment': 17398, 'optimization': 17399, 'routing': 17400, 'kircut1': 17401, 'dopest': 17402, 'reserve': 17403, '48zg5ynebn': 17404, 'tbx8cakdrw': 17405, 'collateral': 17406, 'woodchuck': 17407, 'runkeeper': 17408, 'thomasvissman22': 17409, 'keithyyl': 17410, 'keithyy': 17411, 'dlkuftlqnf': 17412, 'clair': 17413, 'awwww': 17414, 'rewatchingthepilot': 17415, 'teamscorpion': 17416, 'hsu': 17417, 'hao': 17418, 'ferno': 17419, 'engineering': 17420, 'inspect': 17421, 'gted6ldwho': 17422, 'jeromekem': 17423, 'nq89drydbu': 17424, 'twist': 17425, 'ksgmy0d0mx': 17426, 'ov': 17427, 'mzk0pfogi7': 17428, 'okcfox': 17429, 'mylittlepwnies3': 17430, 'anathemazhiv': 17431, 'tonysandos': 17432, 'watertown': 17433, 'gazette': 17434, 'jhc2rt0v9f': 17435, 'ghghqm9e6d': 17436, 'bftiapf35f': 17437, 'sbfglqjzfs': 17438, 'chillimik': 17439, 'hushlegs': 17440, 'comparing': 17441, 'brilliant': 17442, 'arse': 17443, 'mustard': 17444, 'lynwood': 17445, '9jxb3rx8mf': 17446, 'b5s5epj7um': 17447, 'hpa9gqrywa': 17448, 'mqbyravk6h': 17449, 'imminent': 17450, 'xjb0dcaahf': 17451, 'sayn': 17452, 'ae': 17453, 'lanjut': 17454, 'dirumah': 17455, 'yagitudeh': 17456, 'rumah': 17457, 'cipinang': 17458, 'yilt1bb68k': 17459, '152261': 17460, '775995': 17461, 'drag0nking0201': 17462, 'animatronics': 17463, 'freddy': 17464, 'fazbears': 17465, 'pizzeria': 17466, 'jhoahpbpq4': 17467, 'cookie': 17468, 'dough': 17469, 'bryansinger': 17470, 'reveals': 17471, 'rupaul': 17472, 'alexshipppp': 17473, 'oqw8jx6rts': 17474, 'peach': 17475, 'sanfrancisco': 17476, 'ojuhfkhvb2': 17477, 'knbv2ytnwc': 17478, 'taraswart': 17479, 'giang': 17480, 'anthxvy': 17481, 'cyompz1a0z': 17482, 'gbepdi0wzt': 17483, 'goof': 17484, 'guild': 17485, 'saunders': 17486, 'hkbxxvd9iw': 17487, 'zdpvqmeezs': 17488, 'bm0qec7pja': 17489, 'eminem': 17490, 'nate': 17491, 'dogg': 17492, 'benjamin': 17493, 'francis': 17494, 'leftwich': 17495, '5kjy8g0i4y': 17496, 'neath': 17497, 'denying': 17498, 'polar': 17499, 'suffer': 17500, 'efg8rth9rb': 17501, 'miubkz77m6': 17502, 'gsomtdpmoj': 17503, 'terwilliger': 17504, 'pp15000266858': 17505, 'ercjmnea': 17506, 'imawvmzs3a': 17507, 'cimahi': 17508, 'emerges': 17509, 'n3ow73oasw': 17510, 'gs9bmplbhh': 17511, 'gdrssjbh8q': 17512, 'fluctuation': 17513, 'disturbance': 17514, 'imbalance': 17515, 'margaret': 17516, 'wheatley': 17517, 'yahooschwab': 17518, 'rice': 17519, 'j5onxfwlao': 17520, 'allergic': 17521, 'vecmsiuuh1': 17522, 'cllrraymogford': 17523, 'comprehensive': 17524, 'e7ojhpdfg2': 17525, 'doco': 17526, '9pm': 17527, 'setanta': 17528, 'freeview': 17529, 'scottwalker': 17530, 'grupdates': 17531, 'fqcdphccg7': 17532, 'shantaeskyy': 17533, 'nro': 17534, 'unauthorized': 17535, 'violator': 17536, 'improved': 17537, 'hurled': 17538, 'nuked': 17539, 'apcåêpdp': 17540, 'w1ufeibala': 17541, 'biulqprxke': 17542, 'rpneaj6fod': 17543, 'kurt': 17544, 'keighley': 17545, 'govts': 17546, 'ubvevuuach': 17547, 'selangor': 17548, 'qjuu0wcwpx': 17549, 'tema': 17550, 'timestack': 17551, 'mesmerizing': 17552, 'cas8xc2dfe': 17553, '7a': 17554, '30p': 17555, 'siena': 17556, 'fdiu44jldj': 17557, 'pinpoint': 17558, 'idasyjybro': 17559, 'gdoaolpq91': 17560, 'positivity': 17561, 'creationsbykole': 17562, 'fn': 17563, 'guaj2t910b': 17564, '5kbrzzmf8c': 17565, 'tafs': 17566, 'fb100': 17567, 'afzqvotutj': 17568, 's3xleak': 17569, 'ph0tos': 17570, '19yrs': 17571, 'festac': 17572, 'delta': 17573, 'exp0sed': 17574, 'bbm': 17575, 'leaked': 17576, 'ixrehm05yq': 17577, 'papiichampoo': 17578, 'civility': 17579, 'jpu3es746i': 17580, 'l1gfxgozvx': 17581, 'tkjybjjskl': 17582, 'c5u9qshhnb': 17583, 'aaarrrgghhh': 17584, 'g2uimbekge': 17585, 'acrylic': 17586, 'x17fubqbgg': 17587, 'annihilating': 17588, 'quarterstaff': 17589, 'lionx3': 17590, 'rodpt33xfm': 17591, 'eversafe': 17592, '0bvk5tub4j': 17593, 'ot': 17594, 'mort3mer': 17595, 'blink': 17596, 'd4c2iqirnu': 17597, 'crptotech': 17598, 'khztevedja': 17599, 'banking': 17600, 'bitcoing': 17601, 'blockchain': 17602, 'mauritius': 17603, 'alisonannyoung': 17604}\n"
          ],
          "name": "stdout"
        }
      ]
    },
    {
      "cell_type": "code",
      "metadata": {
        "id": "GbUhRrjWcmDZ",
        "colab_type": "code",
        "outputId": "5fe55a90-cac7-4abc-a13d-9ef2537b8239",
        "colab": {
          "base_uri": "https://localhost:8080/",
          "height": 136
        }
      },
      "source": [
        "train_X"
      ],
      "execution_count": 26,
      "outputs": [
        {
          "output_type": "execute_result",
          "data": {
            "text/plain": [
              "array([[    0,     0,     0, ...,     2,     1,  3864],\n",
              "       [    0,     0,     0, ...,  6100,   717,   411],\n",
              "       [    0,     0,     0, ...,  4211,   541,   171],\n",
              "       ...,\n",
              "       [    0,     0,     0, ...,   273,   293,   279],\n",
              "       [    0,     0,     0, ..., 12753,   577,   320],\n",
              "       [    0,     0,     0, ...,  9301,    67,   284]], dtype=int32)"
            ]
          },
          "metadata": {
            "tags": []
          },
          "execution_count": 26
        }
      ]
    },
    {
      "cell_type": "code",
      "metadata": {
        "id": "6KiX4bjJ-2-v",
        "colab_type": "code",
        "outputId": "66d80da6-43b2-4442-a2ec-24c950ed58ce",
        "colab": {
          "base_uri": "https://localhost:8080/",
          "height": 238
        }
      },
      "source": [
        "!kaggle competitions download -c quora-insincere-questions-classification"
      ],
      "execution_count": 27,
      "outputs": [
        {
          "output_type": "stream",
          "text": [
            "Warning: Looks like you're using an outdated API Version, please consider updating (server 1.5.6 / client 1.5.4)\n",
            "Downloading embeddings.zip to /content\n",
            "100% 5.95G/5.96G [01:26<00:00, 18.2MB/s]\n",
            "100% 5.96G/5.96G [01:27<00:00, 73.4MB/s]\n",
            "Downloading train.csv.zip to /content\n",
            " 75% 41.0M/54.9M [00:01<00:00, 24.6MB/s]\n",
            "100% 54.9M/54.9M [00:01<00:00, 49.4MB/s]\n",
            "Downloading sample_submission.csv.zip to /content\n",
            "  0% 0.00/4.09M [00:00<?, ?B/s]\n",
            "100% 4.09M/4.09M [00:00<00:00, 66.9MB/s]\n",
            "Downloading test.csv.zip to /content\n",
            " 32% 5.00M/15.8M [00:00<00:00, 27.0MB/s]\n",
            "100% 15.8M/15.8M [00:00<00:00, 62.7MB/s]\n"
          ],
          "name": "stdout"
        }
      ]
    },
    {
      "cell_type": "code",
      "metadata": {
        "id": "Df9jUeibemob",
        "colab_type": "code",
        "outputId": "16151bfc-3726-4ece-a451-793ad3d9c446",
        "colab": {
          "base_uri": "https://localhost:8080/",
          "height": 68
        }
      },
      "source": [
        "!ls"
      ],
      "execution_count": 28,
      "outputs": [
        {
          "output_type": "stream",
          "text": [
            "embeddings.zip\tsample_submission.csv\t   test.csv.zip\n",
            "kaggle.json\tsample_submission.csv.zip  train.csv\n",
            "sample_data\ttest.csv\t\t   train.csv.zip\n"
          ],
          "name": "stdout"
        }
      ]
    },
    {
      "cell_type": "code",
      "metadata": {
        "id": "n3wNYE3Her9i",
        "colab_type": "code",
        "outputId": "e125eecd-87a3-4710-fa5e-9bf638ed22ca",
        "colab": {
          "base_uri": "https://localhost:8080/",
          "height": 187
        }
      },
      "source": [
        "!unzip embeddings.zip"
      ],
      "execution_count": 29,
      "outputs": [
        {
          "output_type": "stream",
          "text": [
            "Archive:  embeddings.zip\n",
            "   creating: GoogleNews-vectors-negative300/\n",
            "   creating: glove.840B.300d/\n",
            "   creating: paragram_300_sl999/\n",
            "   creating: wiki-news-300d-1M/\n",
            "  inflating: glove.840B.300d/glove.840B.300d.txt  \n",
            "  inflating: GoogleNews-vectors-negative300/GoogleNews-vectors-negative300.bin  \n",
            "  inflating: wiki-news-300d-1M/wiki-news-300d-1M.vec  \n",
            "  inflating: paragram_300_sl999/README.txt  \n",
            "  inflating: paragram_300_sl999/paragram_300_sl999.txt  \n"
          ],
          "name": "stdout"
        }
      ]
    },
    {
      "cell_type": "code",
      "metadata": {
        "id": "mn8d4z0Cewrb",
        "colab_type": "code",
        "outputId": "8974ad64-919f-4805-c7d1-ef667bc0db12",
        "colab": {
          "base_uri": "https://localhost:8080/",
          "height": 102
        }
      },
      "source": [
        "!ls"
      ],
      "execution_count": 30,
      "outputs": [
        {
          "output_type": "stream",
          "text": [
            "embeddings.zip\t\t\tsample_data\t\t   train.csv\n",
            "glove.840B.300d\t\t\tsample_submission.csv\t   train.csv.zip\n",
            "GoogleNews-vectors-negative300\tsample_submission.csv.zip  wiki-news-300d-1M\n",
            "kaggle.json\t\t\ttest.csv\n",
            "paragram_300_sl999\t\ttest.csv.zip\n"
          ],
          "name": "stdout"
        }
      ]
    },
    {
      "cell_type": "code",
      "metadata": {
        "id": "0-HBKUKWfJbd",
        "colab_type": "code",
        "colab": {}
      },
      "source": [
        "def load_glove(word_index):\n",
        "    # EMBEDDING_FILE = '../input/embeddings/glove.840B.300d/glove.840B.300d.txt'\n",
        "    EMBEDDING_FILE = 'glove.840B.300d/glove.840B.300d.txt'\n",
        "    ## This file contains content as following\n",
        "    #Glass -0.41236 0.35532 -0.076236 0.43268 0.14769 -1.1381 -0.30427 0.37039 -0.3804 0.029443 -0.081454 0.15791 -0.32558 -0.35445 0.11918 -0.13342 -0.087387 1.2125 -0.048223  .....\n",
        "    def get_coefs(word,*arr): return word, np.asarray(arr, dtype='float32')\n",
        "    embeddings_index = dict(get_coefs(*o.split(\" \")) for o in open(EMBEDDING_FILE))\n",
        "\n",
        "    all_embs = np.stack(embeddings_index.values())\n",
        "    emb_mean,emb_std = -0.005838499,0.48782197\n",
        "    embed_size = all_embs.shape[1]\n",
        "\n",
        "    # word_index = tokenizer.word_index\n",
        "    nb_words = min(max_features, len(word_index))\n",
        "    embedding_matrix = np.random.normal(emb_mean, emb_std, (nb_words, embed_size))\n",
        "    for word, i in word_index.items():\n",
        "        if i >= max_features: continue\n",
        "        embedding_vector = embeddings_index.get(word)\n",
        "        if embedding_vector is not None: embedding_matrix[i] = embedding_vector\n",
        "            \n",
        "    return embedding_matrix "
      ],
      "execution_count": 0,
      "outputs": []
    },
    {
      "cell_type": "code",
      "metadata": {
        "id": "qoqvBknzg6vM",
        "colab_type": "code",
        "outputId": "48be75e2-beeb-4413-cd37-75ff9318e319",
        "colab": {
          "base_uri": "https://localhost:8080/",
          "height": 71
        }
      },
      "source": [
        "embedding_matrix_1 = load_glove(word_index)"
      ],
      "execution_count": 32,
      "outputs": [
        {
          "output_type": "stream",
          "text": [
            "/usr/local/lib/python3.6/dist-packages/IPython/core/interactiveshell.py:2882: FutureWarning: arrays to stack must be passed as a \"sequence\" type such as list or tuple. Support for non-sequence iterables such as generators is deprecated as of NumPy 1.16 and will raise an error in the future.\n",
            "  exec(code_obj, self.user_global_ns, self.user_ns)\n"
          ],
          "name": "stderr"
        }
      ]
    },
    {
      "cell_type": "code",
      "metadata": {
        "id": "Y2jM4_e8kfrU",
        "colab_type": "code",
        "colab": {}
      },
      "source": [
        "# https://www.kaggle.com/suicaokhoailang/lstm-attention-baseline-0-652-lb\n",
        "\n",
        "class Attention(Layer):\n",
        "    def __init__(self, step_dim,\n",
        "                 W_regularizer=None, b_regularizer=None,\n",
        "                 W_constraint=None, b_constraint=None,\n",
        "                 bias=True, **kwargs):\n",
        "        self.supports_masking = True\n",
        "        self.init = initializers.get('glorot_uniform')\n",
        "\n",
        "        self.W_regularizer = regularizers.get(W_regularizer)\n",
        "        self.b_regularizer = regularizers.get(b_regularizer)\n",
        "\n",
        "        self.W_constraint = constraints.get(W_constraint)\n",
        "        self.b_constraint = constraints.get(b_constraint)\n",
        "\n",
        "        self.bias = bias\n",
        "        self.step_dim = step_dim\n",
        "        self.features_dim = 0\n",
        "        super(Attention, self).__init__(**kwargs)\n",
        "\n",
        "    def build(self, input_shape):\n",
        "        assert len(input_shape) == 3\n",
        "\n",
        "        self.W = self.add_weight((input_shape[-1],),\n",
        "                                 initializer=self.init,\n",
        "                                 name='{}_W'.format(self.name),\n",
        "                                 regularizer=self.W_regularizer,\n",
        "                                 constraint=self.W_constraint)\n",
        "        self.features_dim = input_shape[-1]\n",
        "\n",
        "        if self.bias:\n",
        "            self.b = self.add_weight((input_shape[1],),\n",
        "                                     initializer='zero',\n",
        "                                     name='{}_b'.format(self.name),\n",
        "                                     regularizer=self.b_regularizer,\n",
        "                                     constraint=self.b_constraint)\n",
        "        else:\n",
        "            self.b = None\n",
        "\n",
        "        self.built = True\n",
        "\n",
        "    def compute_mask(self, input, input_mask=None):\n",
        "        return None\n",
        "\n",
        "    def call(self, x, mask=None):\n",
        "        features_dim = self.features_dim\n",
        "        step_dim = self.step_dim\n",
        "\n",
        "        eij = K.reshape(K.dot(K.reshape(x, (-1, features_dim)),\n",
        "                        K.reshape(self.W, (features_dim, 1))), (-1, step_dim))\n",
        "\n",
        "        if self.bias:\n",
        "            eij += self.b\n",
        "\n",
        "        eij = K.tanh(eij)\n",
        "\n",
        "        a = K.exp(eij)\n",
        "\n",
        "        if mask is not None:\n",
        "            a *= K.cast(mask, K.floatx())\n",
        "\n",
        "        a /= K.cast(K.sum(a, axis=1, keepdims=True) + K.epsilon(), K.floatx())\n",
        "\n",
        "        a = K.expand_dims(a)\n",
        "        weighted_input = x * a\n",
        "        return K.sum(weighted_input, axis=1)\n",
        "\n",
        "    def compute_output_shape(self, input_shape):\n",
        "        return input_shape[0],  self.features_dim"
      ],
      "execution_count": 0,
      "outputs": []
    },
    {
      "cell_type": "code",
      "metadata": {
        "id": "kQngLU3XWZpY",
        "colab_type": "code",
        "outputId": "c01fa397-ef7b-4098-9252-f6bcc3966692",
        "colab": {
          "base_uri": "https://localhost:8080/",
          "height": 34
        }
      },
      "source": [
        "dataset_size = train_data.shape[0]\n",
        "print(dataset_size)"
      ],
      "execution_count": 34,
      "outputs": [
        {
          "output_type": "stream",
          "text": [
            "6700\n"
          ],
          "name": "stdout"
        }
      ]
    },
    {
      "cell_type": "code",
      "metadata": {
        "id": "BthvqdY_Uadz",
        "colab_type": "code",
        "outputId": "d7280740-b648-4994-e9d1-d2efcf0a871c",
        "colab": {
          "base_uri": "https://localhost:8080/",
          "height": 34
        }
      },
      "source": [
        "#batches_per_epoch = dataset_size/batch_size\n",
        "learningrate = 0.15\n",
        "batches_per_epoch = int(dataset_size/500)\n",
        "lrdecay = (1./learningrate -1)/batches_per_epoch\n",
        "print(lrdecay)"
      ],
      "execution_count": 35,
      "outputs": [
        {
          "output_type": "stream",
          "text": [
            "0.4358974358974359\n"
          ],
          "name": "stdout"
        }
      ]
    },
    {
      "cell_type": "code",
      "metadata": {
        "id": "WQybGEukhRyy",
        "colab_type": "code",
        "colab": {}
      },
      "source": [
        "from keras.optimizers import Adam, Adagrad\n",
        "\n",
        "\n",
        "def model_gru_atten_3(embedding_matrix):\n",
        "    inp = Input(shape=(maxlen,))\n",
        "    x = Embedding(max_features, embed_size, weights=[embedding_matrix], trainable=False)(inp)\n",
        "    #x = Bidirectional(CuDNNGRU(128, return_sequences=True))(x)\n",
        "    #x = Bidirectional(CuDNNGRU(100, return_sequences=True))(x)\n",
        "    #x = Bidirectional(CuDNNGRU(64, return_sequences=True))(x)\n",
        "    \n",
        "    #x = Bidirectional(GRU(128, return_sequences=True))(x)\n",
        "    #x = Bidirectional(GRU(100, return_sequences=True))(x)\n",
        "    #x = Bidirectional(GRU(64, return_sequences=True))(x)\n",
        "    \n",
        "    x = Bidirectional(GRU(128, return_sequences=True))(x)\n",
        "    x = Dropout(0.7)(x)\n",
        "    x = Bidirectional(GRU(100, return_sequences=True))(x)\n",
        "    x = Dropout(0.7)(x)\n",
        "    #x = Bidirectional(GRU(64, return_sequences=True))(x)\n",
        "    \n",
        "    x = Attention(maxlen)(x)        ## Finding on this\n",
        "    #z = Dropout(0.1)(z)\n",
        "    \n",
        "    x = Dense(1, activation=\"sigmoid\")(x)\n",
        "    #x = Dense(1, activation=\"softmax\")(x)\n",
        "    model = Model(inputs=inp, outputs=x)\n",
        "    #opt = Adagrad(lr=0.001, momentum=0.9, decay=0.01)\n",
        "    opt = Adam(lr= learningrate, decay= lrdecay)\n",
        "    #model.compile(loss='binary_crossentropy', optimizer='adam', metrics=['accuracy'])\n",
        "    model.compile(loss='binary_crossentropy', optimizer=opt, metrics=['accuracy'])\n",
        "    \n",
        "    return model"
      ],
      "execution_count": 0,
      "outputs": []
    },
    {
      "cell_type": "code",
      "metadata": {
        "id": "az746unYfeno",
        "colab_type": "code",
        "colab": {}
      },
      "source": [
        "from keras.models import load_model\n",
        "\n",
        "def train_pred(model, epochs_param):\n",
        "    try:\n",
        "        model.fit(train_X, train_y, batch_size=500, epochs = epochs_param, validation_data=(val_X, val_y))  #512\n",
        "    except KeyboardInterrupt:\n",
        "        filename = 'google3qla.h5'\n",
        "        model.save(filename)\n",
        "        model = load_model('google3qla.h5')\n",
        "\n",
        "    pred_val_y = model.predict([val_X], batch_size=1024, verbose=1)\n",
        "    pred_test_y = model.predict([test_X], batch_size=1024, verbose=1)\n",
        "    return pred_val_y, pred_test_y, model"
      ],
      "execution_count": 0,
      "outputs": []
    },
    {
      "cell_type": "code",
      "metadata": {
        "id": "uMGztQ8qqfIv",
        "colab_type": "code",
        "outputId": "132e3420-6366-4fd8-de74-cd589aa22389",
        "colab": {
          "base_uri": "https://localhost:8080/",
          "height": 54
        }
      },
      "source": [
        "'''\n",
        "from keras.models import load_model\n",
        "\n",
        "def train_pred(model, epochs_param):\n",
        "    try:\n",
        "        history = model.fit(train_X, train_y, batch_size=500, epochs = epochs_param, validation_data=(val_X, val_y), shuffle=True)  #512\n",
        "    except KeyboardInterrupt:\n",
        "        filename = 'google3qla.h5'\n",
        "        model.save(filename)\n",
        "        model = load_model('google3qla.h5')\n",
        "\n",
        "    pred_val_y = model.predict([val_X], batch_size=1024, verbose=1)\n",
        "    pred_test_y = model.predict([test_X], batch_size=1024, verbose=1)\n",
        "    return pred_val_y, pred_test_y, history, model\n",
        "'''"
      ],
      "execution_count": 38,
      "outputs": [
        {
          "output_type": "execute_result",
          "data": {
            "text/plain": [
              "\"\\nfrom keras.models import load_model\\n\\ndef train_pred(model, epochs_param):\\n    try:\\n        history = model.fit(train_X, train_y, batch_size=500, epochs = epochs_param, validation_data=(val_X, val_y), shuffle=True)  #512\\n    except KeyboardInterrupt:\\n        filename = 'google3qla.h5'\\n        model.save(filename)\\n        model = load_model('google3qla.h5')\\n\\n    pred_val_y = model.predict([val_X], batch_size=1024, verbose=1)\\n    pred_test_y = model.predict([test_X], batch_size=1024, verbose=1)\\n    return pred_val_y, pred_test_y, history, model\\n\""
            ]
          },
          "metadata": {
            "tags": []
          },
          "execution_count": 38
        }
      ]
    },
    {
      "cell_type": "code",
      "metadata": {
        "id": "yTA8t1BipObJ",
        "colab_type": "code",
        "outputId": "93f431c6-13f2-4335-b22a-70abc2a4675b",
        "colab": {
          "base_uri": "https://localhost:8080/",
          "height": 54
        }
      },
      "source": [
        "'''\n",
        "from keras.models import load_model\n",
        "#works\n",
        "\n",
        "def train_pred(model, epochs_param):\n",
        "    history = model.fit(train_X, train_y, batch_size=500, epochs = epochs_param, validation_data=(val_X, val_y))  #512\n",
        "    pred_val_y = model.predict([val_X], batch_size=1024, verbose=1)\n",
        "    pred_test_y = model.predict([test_X], batch_size=1024, verbose=1)\n",
        "    return pred_val_y, pred_test_y, history, model\n",
        "'''"
      ],
      "execution_count": 0,
      "outputs": [
        {
          "output_type": "execute_result",
          "data": {
            "text/plain": [
              "'\\nfrom keras.models import load_model\\n#works\\n\\ndef train_pred(model, epochs_param):\\n    history = model.fit(train_X, train_y, batch_size=500, epochs = epochs_param, validation_data=(val_X, val_y))  #512\\n    pred_val_y = model.predict([val_X], batch_size=1024, verbose=1)\\n    pred_test_y = model.predict([test_X], batch_size=1024, verbose=1)\\n    return pred_val_y, pred_test_y, history, model\\n'"
            ]
          },
          "metadata": {
            "tags": []
          },
          "execution_count": 296
        }
      ]
    },
    {
      "cell_type": "code",
      "metadata": {
        "id": "lFBk-M60zePo",
        "colab_type": "code",
        "outputId": "fdef82f5-19b3-4ceb-838a-f59e0e7d3791",
        "colab": {
          "base_uri": "https://localhost:8080/",
          "height": 1000
        }
      },
      "source": [
        "pred_val_y, pred_test_y, model = train_pred(model_gru_atten_3(embedding_matrix_1), epochs_param = 50)"
      ],
      "execution_count": 39,
      "outputs": [
        {
          "output_type": "stream",
          "text": [
            "WARNING:tensorflow:From /usr/local/lib/python3.6/dist-packages/keras/backend/tensorflow_backend.py:66: The name tf.get_default_graph is deprecated. Please use tf.compat.v1.get_default_graph instead.\n",
            "\n",
            "WARNING:tensorflow:From /usr/local/lib/python3.6/dist-packages/keras/backend/tensorflow_backend.py:541: The name tf.placeholder is deprecated. Please use tf.compat.v1.placeholder instead.\n",
            "\n",
            "WARNING:tensorflow:From /usr/local/lib/python3.6/dist-packages/keras/backend/tensorflow_backend.py:4432: The name tf.random_uniform is deprecated. Please use tf.random.uniform instead.\n",
            "\n",
            "WARNING:tensorflow:From /usr/local/lib/python3.6/dist-packages/keras/backend/tensorflow_backend.py:190: The name tf.get_default_session is deprecated. Please use tf.compat.v1.get_default_session instead.\n",
            "\n",
            "WARNING:tensorflow:From /usr/local/lib/python3.6/dist-packages/keras/backend/tensorflow_backend.py:197: The name tf.ConfigProto is deprecated. Please use tf.compat.v1.ConfigProto instead.\n",
            "\n",
            "WARNING:tensorflow:From /usr/local/lib/python3.6/dist-packages/keras/backend/tensorflow_backend.py:203: The name tf.Session is deprecated. Please use tf.compat.v1.Session instead.\n",
            "\n",
            "WARNING:tensorflow:From /usr/local/lib/python3.6/dist-packages/keras/backend/tensorflow_backend.py:207: The name tf.global_variables is deprecated. Please use tf.compat.v1.global_variables instead.\n",
            "\n",
            "WARNING:tensorflow:From /usr/local/lib/python3.6/dist-packages/keras/backend/tensorflow_backend.py:216: The name tf.is_variable_initialized is deprecated. Please use tf.compat.v1.is_variable_initialized instead.\n",
            "\n",
            "WARNING:tensorflow:From /usr/local/lib/python3.6/dist-packages/keras/backend/tensorflow_backend.py:223: The name tf.variables_initializer is deprecated. Please use tf.compat.v1.variables_initializer instead.\n",
            "\n",
            "WARNING:tensorflow:From /usr/local/lib/python3.6/dist-packages/keras/backend/tensorflow_backend.py:148: The name tf.placeholder_with_default is deprecated. Please use tf.compat.v1.placeholder_with_default instead.\n",
            "\n",
            "WARNING:tensorflow:From /usr/local/lib/python3.6/dist-packages/keras/backend/tensorflow_backend.py:3733: calling dropout (from tensorflow.python.ops.nn_ops) with keep_prob is deprecated and will be removed in a future version.\n",
            "Instructions for updating:\n",
            "Please use `rate` instead of `keep_prob`. Rate should be set to `rate = 1 - keep_prob`.\n",
            "WARNING:tensorflow:Large dropout rate: 0.7 (>0.5). In TensorFlow 2.x, dropout() uses dropout rate instead of keep_prob. Please ensure that this is intended.\n",
            "WARNING:tensorflow:Large dropout rate: 0.7 (>0.5). In TensorFlow 2.x, dropout() uses dropout rate instead of keep_prob. Please ensure that this is intended.\n",
            "WARNING:tensorflow:From /usr/local/lib/python3.6/dist-packages/keras/optimizers.py:793: The name tf.train.Optimizer is deprecated. Please use tf.compat.v1.train.Optimizer instead.\n",
            "\n",
            "WARNING:tensorflow:From /usr/local/lib/python3.6/dist-packages/keras/backend/tensorflow_backend.py:3657: The name tf.log is deprecated. Please use tf.math.log instead.\n",
            "\n",
            "WARNING:tensorflow:From /tensorflow-1.15.0/python3.6/tensorflow_core/python/ops/nn_impl.py:183: where (from tensorflow.python.ops.array_ops) is deprecated and will be removed in a future version.\n",
            "Instructions for updating:\n",
            "Use tf.where in 2.0, which has the same broadcast rule as np.where\n",
            "WARNING:tensorflow:From /usr/local/lib/python3.6/dist-packages/keras/backend/tensorflow_backend.py:1033: The name tf.assign_add is deprecated. Please use tf.compat.v1.assign_add instead.\n",
            "\n",
            "WARNING:tensorflow:From /usr/local/lib/python3.6/dist-packages/keras/backend/tensorflow_backend.py:1020: The name tf.assign is deprecated. Please use tf.compat.v1.assign instead.\n",
            "\n",
            "Train on 6700 samples, validate on 1142 samples\n",
            "Epoch 1/50\n",
            "6700/6700 [==============================] - 79s 12ms/step - loss: 1.6901 - acc: 0.5272 - val_loss: 0.6970 - val_acc: 0.5762\n",
            "Epoch 2/50\n",
            "6700/6700 [==============================] - 69s 10ms/step - loss: 0.6664 - acc: 0.6019 - val_loss: 0.6385 - val_acc: 0.6103\n",
            "Epoch 3/50\n",
            "6700/6700 [==============================] - 68s 10ms/step - loss: 0.6391 - acc: 0.6324 - val_loss: 0.6248 - val_acc: 0.6410\n",
            "Epoch 4/50\n",
            "6700/6700 [==============================] - 69s 10ms/step - loss: 0.6203 - acc: 0.6437 - val_loss: 0.6127 - val_acc: 0.6436\n",
            "Epoch 5/50\n",
            "6700/6700 [==============================] - 69s 10ms/step - loss: 0.5969 - acc: 0.6724 - val_loss: 0.5944 - val_acc: 0.6673\n",
            "Epoch 6/50\n",
            "6700/6700 [==============================] - 69s 10ms/step - loss: 0.5809 - acc: 0.6848 - val_loss: 0.5873 - val_acc: 0.6883\n",
            "Epoch 7/50\n",
            "6700/6700 [==============================] - 69s 10ms/step - loss: 0.5645 - acc: 0.7037 - val_loss: 0.5801 - val_acc: 0.7032\n",
            "Epoch 8/50\n",
            "6700/6700 [==============================] - 69s 10ms/step - loss: 0.5499 - acc: 0.7137 - val_loss: 0.5716 - val_acc: 0.7198\n",
            "Epoch 9/50\n",
            "6700/6700 [==============================] - 68s 10ms/step - loss: 0.5323 - acc: 0.7381 - val_loss: 0.5653 - val_acc: 0.7242\n",
            "Epoch 10/50\n",
            "6700/6700 [==============================] - 68s 10ms/step - loss: 0.5127 - acc: 0.7554 - val_loss: 0.5596 - val_acc: 0.7434\n",
            "Epoch 11/50\n",
            "6700/6700 [==============================] - 68s 10ms/step - loss: 0.4916 - acc: 0.7752 - val_loss: 0.5548 - val_acc: 0.7496\n",
            "Epoch 12/50\n",
            "6700/6700 [==============================] - 68s 10ms/step - loss: 0.4708 - acc: 0.7915 - val_loss: 0.5526 - val_acc: 0.7496\n",
            "Epoch 13/50\n",
            "6700/6700 [==============================] - 69s 10ms/step - loss: 0.4543 - acc: 0.8043 - val_loss: 0.5550 - val_acc: 0.7539\n",
            "Epoch 14/50\n",
            "6700/6700 [==============================] - 70s 10ms/step - loss: 0.4382 - acc: 0.8161 - val_loss: 0.5514 - val_acc: 0.7531\n",
            "Epoch 15/50\n",
            "6700/6700 [==============================] - 69s 10ms/step - loss: 0.4223 - acc: 0.8260 - val_loss: 0.5510 - val_acc: 0.7557\n",
            "Epoch 16/50\n",
            "6700/6700 [==============================] - 68s 10ms/step - loss: 0.4076 - acc: 0.8360 - val_loss: 0.5507 - val_acc: 0.7776\n",
            "Epoch 17/50\n",
            "6700/6700 [==============================] - 69s 10ms/step - loss: 0.3894 - acc: 0.8446 - val_loss: 0.5549 - val_acc: 0.7785\n",
            "Epoch 18/50\n",
            "6700/6700 [==============================] - 69s 10ms/step - loss: 0.3760 - acc: 0.8519 - val_loss: 0.5594 - val_acc: 0.7811\n",
            "Epoch 19/50\n",
            "6700/6700 [==============================] - 69s 10ms/step - loss: 0.3617 - acc: 0.8584 - val_loss: 0.5659 - val_acc: 0.7811\n",
            "Epoch 20/50\n",
            "6700/6700 [==============================] - 69s 10ms/step - loss: 0.3516 - acc: 0.8669 - val_loss: 0.5795 - val_acc: 0.7793\n",
            "Epoch 21/50\n",
            "6700/6700 [==============================] - 69s 10ms/step - loss: 0.3392 - acc: 0.8719 - val_loss: 0.5901 - val_acc: 0.7767\n",
            "Epoch 22/50\n",
            "6700/6700 [==============================] - 68s 10ms/step - loss: 0.3284 - acc: 0.8794 - val_loss: 0.6013 - val_acc: 0.7758\n",
            "Epoch 23/50\n",
            "6700/6700 [==============================] - 70s 10ms/step - loss: 0.3178 - acc: 0.8846 - val_loss: 0.6022 - val_acc: 0.7758\n",
            "Epoch 24/50\n",
            "6700/6700 [==============================] - 69s 10ms/step - loss: 0.3098 - acc: 0.8870 - val_loss: 0.6216 - val_acc: 0.7741\n",
            "Epoch 25/50\n",
            "6700/6700 [==============================] - 68s 10ms/step - loss: 0.2993 - acc: 0.8973 - val_loss: 0.6253 - val_acc: 0.7750\n",
            "Epoch 26/50\n",
            "6700/6700 [==============================] - 67s 10ms/step - loss: 0.2915 - acc: 0.9001 - val_loss: 0.6335 - val_acc: 0.7758\n",
            "Epoch 27/50\n",
            "6700/6700 [==============================] - 67s 10ms/step - loss: 0.2836 - acc: 0.9024 - val_loss: 0.6538 - val_acc: 0.7697\n",
            "Epoch 28/50\n",
            "6700/6700 [==============================] - 67s 10ms/step - loss: 0.2768 - acc: 0.9085 - val_loss: 0.6324 - val_acc: 0.7732\n",
            "Epoch 29/50\n",
            "6700/6700 [==============================] - 67s 10ms/step - loss: 0.2693 - acc: 0.9094 - val_loss: 0.6346 - val_acc: 0.7732\n",
            "Epoch 30/50\n",
            "6700/6700 [==============================] - 67s 10ms/step - loss: 0.2607 - acc: 0.9166 - val_loss: 0.6525 - val_acc: 0.7662\n",
            "Epoch 31/50\n",
            "6700/6700 [==============================] - 67s 10ms/step - loss: 0.2552 - acc: 0.9178 - val_loss: 0.6666 - val_acc: 0.7706\n",
            "Epoch 32/50\n",
            "6700/6700 [==============================] - 67s 10ms/step - loss: 0.2517 - acc: 0.9184 - val_loss: 0.6658 - val_acc: 0.7697\n",
            "Epoch 33/50\n",
            "6700/6700 [==============================] - 67s 10ms/step - loss: 0.2472 - acc: 0.9200 - val_loss: 0.6769 - val_acc: 0.7680\n",
            "Epoch 34/50\n",
            "6700/6700 [==============================] - 67s 10ms/step - loss: 0.2414 - acc: 0.9246 - val_loss: 0.6809 - val_acc: 0.7627\n",
            "Epoch 35/50\n",
            "6700/6700 [==============================] - 67s 10ms/step - loss: 0.2345 - acc: 0.9257 - val_loss: 0.6876 - val_acc: 0.7618\n",
            "Epoch 36/50\n",
            "6700/6700 [==============================] - 67s 10ms/step - loss: 0.2324 - acc: 0.9285 - val_loss: 0.6828 - val_acc: 0.7662\n",
            "Epoch 37/50\n",
            "6700/6700 [==============================] - 67s 10ms/step - loss: 0.2288 - acc: 0.9313 - val_loss: 0.6947 - val_acc: 0.7653\n",
            "Epoch 38/50\n",
            "6700/6700 [==============================] - 67s 10ms/step - loss: 0.2241 - acc: 0.9316 - val_loss: 0.7037 - val_acc: 0.7636\n",
            "Epoch 39/50\n",
            "6700/6700 [==============================] - 68s 10ms/step - loss: 0.2187 - acc: 0.9328 - val_loss: 0.7034 - val_acc: 0.7636\n",
            "Epoch 40/50\n",
            "6700/6700 [==============================] - 68s 10ms/step - loss: 0.2146 - acc: 0.9346 - val_loss: 0.7138 - val_acc: 0.7636\n",
            "Epoch 41/50\n",
            "6700/6700 [==============================] - 68s 10ms/step - loss: 0.2113 - acc: 0.9355 - val_loss: 0.7204 - val_acc: 0.7627\n",
            "Epoch 42/50\n",
            "6700/6700 [==============================] - 68s 10ms/step - loss: 0.2071 - acc: 0.9393 - val_loss: 0.7142 - val_acc: 0.7644\n",
            "Epoch 43/50\n",
            "6700/6700 [==============================] - 69s 10ms/step - loss: 0.2029 - acc: 0.9415 - val_loss: 0.7190 - val_acc: 0.7644\n",
            "Epoch 44/50\n",
            "6700/6700 [==============================] - 69s 10ms/step - loss: 0.2019 - acc: 0.9399 - val_loss: 0.7119 - val_acc: 0.7662\n",
            "Epoch 45/50\n",
            "6700/6700 [==============================] - 68s 10ms/step - loss: 0.1967 - acc: 0.9413 - val_loss: 0.7132 - val_acc: 0.7671\n",
            "Epoch 46/50\n",
            "6700/6700 [==============================] - 68s 10ms/step - loss: 0.1946 - acc: 0.9434 - val_loss: 0.7344 - val_acc: 0.7618\n",
            "Epoch 47/50\n",
            "6700/6700 [==============================] - 68s 10ms/step - loss: 0.1920 - acc: 0.9436 - val_loss: 0.7382 - val_acc: 0.7609\n",
            "Epoch 48/50\n",
            "6700/6700 [==============================] - 68s 10ms/step - loss: 0.1902 - acc: 0.9434 - val_loss: 0.7456 - val_acc: 0.7609\n",
            "Epoch 49/50\n",
            "6700/6700 [==============================] - 68s 10ms/step - loss: 0.1879 - acc: 0.9472 - val_loss: 0.7550 - val_acc: 0.7574\n",
            "Epoch 50/50\n",
            "6700/6700 [==============================] - 67s 10ms/step - loss: 0.1870 - acc: 0.9470 - val_loss: 0.7610 - val_acc: 0.7601\n",
            "1142/1142 [==============================] - 4s 3ms/step\n",
            "3263/3263 [==============================] - 9s 3ms/step\n"
          ],
          "name": "stdout"
        }
      ]
    },
    {
      "cell_type": "code",
      "metadata": {
        "id": "beiCYFOPyD2w",
        "colab_type": "code",
        "outputId": "6fd8f4d7-b30d-487a-e6b4-53cd2c1b0f1b",
        "colab": {
          "base_uri": "https://localhost:8080/",
          "height": 231
        }
      },
      "source": [
        "import matplotlib.pyplot as plt\n",
        "\n",
        "print(history.history.keys())\n",
        "print(\"batch_size : \", 500, \", epoch : \", 30, \", loss= binary_crossentropy, optimizer= adam\")\n",
        "print(\"Bidirectional(GRU(100, return_sequences=True))(x)  x = Dropout(0.5)(x)\")\n",
        "# summarize history for accuracy\n",
        "plt.plot(history.history['acc'])\n",
        "plt.plot(history.history['val_acc'])\n",
        "plt.title('model accuracy')\n",
        "plt.ylabel('accuracy')\n",
        "plt.xlabel('epoch')\n",
        "plt.legend(['train', 'test'], loc='upper left')\n",
        "plt.show()\n",
        "# summarize history for loss\n",
        "plt.plot(history.history['loss'])\n",
        "plt.plot(history.history['val_loss'])\n",
        "plt.title('model loss')\n",
        "plt.ylabel('loss')\n",
        "plt.xlabel('epoch')\n",
        "plt.legend(['train', 'test'], loc='upper left')\n",
        "plt.show()"
      ],
      "execution_count": 0,
      "outputs": [
        {
          "output_type": "error",
          "ename": "NameError",
          "evalue": "ignored",
          "traceback": [
            "\u001b[0;31m---------------------------------------------------------------------------\u001b[0m",
            "\u001b[0;31mNameError\u001b[0m                                 Traceback (most recent call last)",
            "\u001b[0;32m<ipython-input-1-a8e3f0d93d64>\u001b[0m in \u001b[0;36m<module>\u001b[0;34m()\u001b[0m\n\u001b[1;32m      1\u001b[0m \u001b[0;32mimport\u001b[0m \u001b[0mmatplotlib\u001b[0m\u001b[0;34m.\u001b[0m\u001b[0mpyplot\u001b[0m \u001b[0;32mas\u001b[0m \u001b[0mplt\u001b[0m\u001b[0;34m\u001b[0m\u001b[0;34m\u001b[0m\u001b[0m\n\u001b[1;32m      2\u001b[0m \u001b[0;34m\u001b[0m\u001b[0m\n\u001b[0;32m----> 3\u001b[0;31m \u001b[0mprint\u001b[0m\u001b[0;34m(\u001b[0m\u001b[0mhistory\u001b[0m\u001b[0;34m.\u001b[0m\u001b[0mhistory\u001b[0m\u001b[0;34m.\u001b[0m\u001b[0mkeys\u001b[0m\u001b[0;34m(\u001b[0m\u001b[0;34m)\u001b[0m\u001b[0;34m)\u001b[0m\u001b[0;34m\u001b[0m\u001b[0;34m\u001b[0m\u001b[0m\n\u001b[0m\u001b[1;32m      4\u001b[0m \u001b[0mprint\u001b[0m\u001b[0;34m(\u001b[0m\u001b[0;34m\"batch_size : \"\u001b[0m\u001b[0;34m,\u001b[0m \u001b[0;36m500\u001b[0m\u001b[0;34m,\u001b[0m \u001b[0;34m\", epoch : \"\u001b[0m\u001b[0;34m,\u001b[0m \u001b[0;36m30\u001b[0m\u001b[0;34m,\u001b[0m \u001b[0;34m\", loss= binary_crossentropy, optimizer= adam\"\u001b[0m\u001b[0;34m)\u001b[0m\u001b[0;34m\u001b[0m\u001b[0;34m\u001b[0m\u001b[0m\n\u001b[1;32m      5\u001b[0m \u001b[0mprint\u001b[0m\u001b[0;34m(\u001b[0m\u001b[0;34m\"Bidirectional(GRU(100, return_sequences=True))(x)  x = Dropout(0.5)(x)\"\u001b[0m\u001b[0;34m)\u001b[0m\u001b[0;34m\u001b[0m\u001b[0;34m\u001b[0m\u001b[0m\n",
            "\u001b[0;31mNameError\u001b[0m: name 'history' is not defined"
          ]
        }
      ]
    },
    {
      "cell_type": "code",
      "metadata": {
        "id": "IyhrmqjVx6XH",
        "colab_type": "code",
        "colab": {}
      },
      "source": [
        ""
      ],
      "execution_count": 0,
      "outputs": []
    },
    {
      "cell_type": "code",
      "metadata": {
        "id": "B-Z5DRTunGDm",
        "colab_type": "code",
        "colab": {}
      },
      "source": [
        "##  ValueError: Layer weight shape (95000, 300) not compatible with provided weight shape (24568, 300)"
      ],
      "execution_count": 0,
      "outputs": []
    },
    {
      "cell_type": "code",
      "metadata": {
        "id": "yotVF5-0b2UL",
        "colab_type": "code",
        "outputId": "8ca93d5f-5df2-496b-c9d4-3569b65824c2",
        "colab": {
          "base_uri": "https://localhost:8080/",
          "height": 34
        }
      },
      "source": [
        "score = model.evaluate(traintest_X, traintest_y, verbose=0) #79.48\n",
        "print('test loss, test acc:', score)"
      ],
      "execution_count": 40,
      "outputs": [
        {
          "output_type": "stream",
          "text": [
            "test loss, test acc: [0.6755885462191275, 0.7950566428819965]\n"
          ],
          "name": "stdout"
        }
      ]
    },
    {
      "cell_type": "code",
      "metadata": {
        "id": "7H1Qpng6EBwp",
        "colab_type": "code",
        "outputId": "4f03a7bd-ce43-471e-a429-6e7c607cc576",
        "colab": {
          "base_uri": "https://localhost:8080/",
          "height": 34
        }
      },
      "source": [
        "pred_test_y_a = np.where( pred_test_y > 0.42 , 1, 0)\n",
        "\n",
        "print(pred_test_y_a.shape)"
      ],
      "execution_count": 41,
      "outputs": [
        {
          "output_type": "stream",
          "text": [
            "(3263, 1)\n"
          ],
          "name": "stdout"
        }
      ]
    },
    {
      "cell_type": "code",
      "metadata": {
        "id": "jXrWiq2VDeig",
        "colab_type": "code",
        "colab": {}
      },
      "source": [
        "test_df = pd.read_csv(\"test.csv\", usecols=[\"id\"])\n",
        "out_df = pd.DataFrame({\"id\":test_df[\"id\"].values})\n",
        "out_df['target'] = pred_test_y_a\n",
        "out_df.to_csv(\"submission.csv\", index=False)"
      ],
      "execution_count": 0,
      "outputs": []
    },
    {
      "cell_type": "code",
      "metadata": {
        "id": "89GLPxOtM-i7",
        "colab_type": "code",
        "colab": {
          "base_uri": "https://localhost:8080/",
          "height": 102
        },
        "outputId": "c29136f8-88b9-4ebe-bf59-d889d22701b9"
      },
      "source": [
        "!ls"
      ],
      "execution_count": 43,
      "outputs": [
        {
          "output_type": "stream",
          "text": [
            "embeddings.zip\t\t\tsample_data\t\t   test.csv.zip\n",
            "glove.840B.300d\t\t\tsample_submission.csv\t   train.csv\n",
            "GoogleNews-vectors-negative300\tsample_submission.csv.zip  train.csv.zip\n",
            "kaggle.json\t\t\tsubmission.csv\t\t   wiki-news-300d-1M\n",
            "paragram_300_sl999\t\ttest.csv\n"
          ],
          "name": "stdout"
        }
      ]
    },
    {
      "cell_type": "code",
      "metadata": {
        "id": "wCkQr4PBNDMR",
        "colab_type": "code",
        "colab": {
          "base_uri": "https://localhost:8080/",
          "height": 419
        },
        "outputId": "c7b2c937-389a-4c70-fa7d-46de60c0f955"
      },
      "source": [
        "sub = pd.read_csv(\"submission.csv\")\n",
        "sub"
      ],
      "execution_count": 44,
      "outputs": [
        {
          "output_type": "execute_result",
          "data": {
            "text/html": [
              "<div>\n",
              "<style scoped>\n",
              "    .dataframe tbody tr th:only-of-type {\n",
              "        vertical-align: middle;\n",
              "    }\n",
              "\n",
              "    .dataframe tbody tr th {\n",
              "        vertical-align: top;\n",
              "    }\n",
              "\n",
              "    .dataframe thead th {\n",
              "        text-align: right;\n",
              "    }\n",
              "</style>\n",
              "<table border=\"1\" class=\"dataframe\">\n",
              "  <thead>\n",
              "    <tr style=\"text-align: right;\">\n",
              "      <th></th>\n",
              "      <th>id</th>\n",
              "      <th>target</th>\n",
              "    </tr>\n",
              "  </thead>\n",
              "  <tbody>\n",
              "    <tr>\n",
              "      <th>0</th>\n",
              "      <td>0</td>\n",
              "      <td>1</td>\n",
              "    </tr>\n",
              "    <tr>\n",
              "      <th>1</th>\n",
              "      <td>2</td>\n",
              "      <td>0</td>\n",
              "    </tr>\n",
              "    <tr>\n",
              "      <th>2</th>\n",
              "      <td>3</td>\n",
              "      <td>1</td>\n",
              "    </tr>\n",
              "    <tr>\n",
              "      <th>3</th>\n",
              "      <td>9</td>\n",
              "      <td>1</td>\n",
              "    </tr>\n",
              "    <tr>\n",
              "      <th>4</th>\n",
              "      <td>11</td>\n",
              "      <td>1</td>\n",
              "    </tr>\n",
              "    <tr>\n",
              "      <th>...</th>\n",
              "      <td>...</td>\n",
              "      <td>...</td>\n",
              "    </tr>\n",
              "    <tr>\n",
              "      <th>3258</th>\n",
              "      <td>10861</td>\n",
              "      <td>1</td>\n",
              "    </tr>\n",
              "    <tr>\n",
              "      <th>3259</th>\n",
              "      <td>10865</td>\n",
              "      <td>0</td>\n",
              "    </tr>\n",
              "    <tr>\n",
              "      <th>3260</th>\n",
              "      <td>10868</td>\n",
              "      <td>1</td>\n",
              "    </tr>\n",
              "    <tr>\n",
              "      <th>3261</th>\n",
              "      <td>10874</td>\n",
              "      <td>1</td>\n",
              "    </tr>\n",
              "    <tr>\n",
              "      <th>3262</th>\n",
              "      <td>10875</td>\n",
              "      <td>0</td>\n",
              "    </tr>\n",
              "  </tbody>\n",
              "</table>\n",
              "<p>3263 rows × 2 columns</p>\n",
              "</div>"
            ],
            "text/plain": [
              "         id  target\n",
              "0         0       1\n",
              "1         2       0\n",
              "2         3       1\n",
              "3         9       1\n",
              "4        11       1\n",
              "...     ...     ...\n",
              "3258  10861       1\n",
              "3259  10865       0\n",
              "3260  10868       1\n",
              "3261  10874       1\n",
              "3262  10875       0\n",
              "\n",
              "[3263 rows x 2 columns]"
            ]
          },
          "metadata": {
            "tags": []
          },
          "execution_count": 44
        }
      ]
    },
    {
      "cell_type": "code",
      "metadata": {
        "id": "FehWGcDONImu",
        "colab_type": "code",
        "colab": {
          "base_uri": "https://localhost:8080/",
          "height": 68
        },
        "outputId": "4dcffc2d-6465-49fe-f320-773019ea65ce"
      },
      "source": [
        "# submit the file to kaggle\n",
        "!kaggle competitions submit -c nlp-getting-started -f submission.csv -m \"Submitting Submission file\""
      ],
      "execution_count": 45,
      "outputs": [
        {
          "output_type": "stream",
          "text": [
            "Warning: Looks like you're using an outdated API Version, please consider updating (server 1.5.6 / client 1.5.4)\n",
            "100% 22.2k/22.2k [00:01<00:00, 12.2kB/s]\n",
            "Successfully submitted to Real or Not? NLP with Disaster Tweets"
          ],
          "name": "stdout"
        }
      ]
    },
    {
      "cell_type": "code",
      "metadata": {
        "id": "seoyxF37NKdC",
        "colab_type": "code",
        "colab": {}
      },
      "source": [
        ""
      ],
      "execution_count": 0,
      "outputs": []
    },
    {
      "cell_type": "code",
      "metadata": {
        "id": "-24aj-aO7vcG",
        "colab_type": "code",
        "colab": {}
      },
      "source": [
        ""
      ],
      "execution_count": 0,
      "outputs": []
    },
    {
      "cell_type": "code",
      "metadata": {
        "id": "kXuzi2OAhDIl",
        "colab_type": "code",
        "outputId": "d50816c4-7ef6-4b24-c2c9-e7f878ad4956",
        "colab": {
          "base_uri": "https://localhost:8080/",
          "height": 513
        }
      },
      "source": [
        "pred_val_y, pred_test_y, model = train_pred(model_gru_atten_3(embedding_matrix_1), epochs_param = 5)"
      ],
      "execution_count": 0,
      "outputs": [
        {
          "output_type": "stream",
          "text": [
            "Train on 1994 samples, validate on 624 samples\n",
            "Epoch 1/5\n",
            "1994/1994 [==============================] - 40s 20ms/step - loss: 0.9337 - acc: 0.4860 - val_loss: 0.7651 - val_acc: 0.5929\n",
            "Epoch 2/5\n",
            "1994/1994 [==============================] - 29s 15ms/step - loss: 0.7142 - acc: 0.5682 - val_loss: 0.7080 - val_acc: 0.4071\n",
            "Epoch 3/5\n",
            "1994/1994 [==============================] - 29s 15ms/step - loss: 0.6967 - acc: 0.4824 - val_loss: 0.6729 - val_acc: 0.5785\n",
            "Epoch 4/5\n",
            "1994/1994 [==============================] - 29s 15ms/step - loss: 0.6716 - acc: 0.5727 - val_loss: 0.6774 - val_acc: 0.5929\n",
            "Epoch 5/5\n",
            "1994/1994 [==============================] - 29s 14ms/step - loss: 0.6769 - acc: 0.5682 - val_loss: 0.6557 - val_acc: 0.5962\n"
          ],
          "name": "stdout"
        },
        {
          "output_type": "error",
          "ename": "ValueError",
          "evalue": "ignored",
          "traceback": [
            "\u001b[0;31m---------------------------------------------------------------------------\u001b[0m",
            "\u001b[0;31mValueError\u001b[0m                                Traceback (most recent call last)",
            "\u001b[0;32m<ipython-input-74-0ad78da782c0>\u001b[0m in \u001b[0;36m<module>\u001b[0;34m()\u001b[0m\n\u001b[0;32m----> 1\u001b[0;31m \u001b[0mpred_val_y\u001b[0m\u001b[0;34m,\u001b[0m \u001b[0mpred_test_y\u001b[0m\u001b[0;34m,\u001b[0m \u001b[0mmodel\u001b[0m \u001b[0;34m=\u001b[0m \u001b[0mtrain_pred\u001b[0m\u001b[0;34m(\u001b[0m\u001b[0mmodel_gru_atten_3\u001b[0m\u001b[0;34m(\u001b[0m\u001b[0membedding_matrix_1\u001b[0m\u001b[0;34m)\u001b[0m\u001b[0;34m,\u001b[0m \u001b[0mepochs_param\u001b[0m \u001b[0;34m=\u001b[0m \u001b[0;36m5\u001b[0m\u001b[0;34m)\u001b[0m\u001b[0;34m\u001b[0m\u001b[0;34m\u001b[0m\u001b[0m\n\u001b[0m",
            "\u001b[0;32m<ipython-input-72-fbe9c6c380a1>\u001b[0m in \u001b[0;36mtrain_pred\u001b[0;34m(model, epochs_param)\u001b[0m\n\u001b[1;32m      5\u001b[0m     \u001b[0mfilename\u001b[0m \u001b[0;34m=\u001b[0m \u001b[0;34m'google3qla.h5'\u001b[0m\u001b[0;34m\u001b[0m\u001b[0;34m\u001b[0m\u001b[0m\n\u001b[1;32m      6\u001b[0m     \u001b[0mmodel\u001b[0m\u001b[0;34m.\u001b[0m\u001b[0msave\u001b[0m\u001b[0;34m(\u001b[0m\u001b[0mfilename\u001b[0m\u001b[0;34m)\u001b[0m\u001b[0;34m\u001b[0m\u001b[0;34m\u001b[0m\u001b[0m\n\u001b[0;32m----> 7\u001b[0;31m     \u001b[0mmodel\u001b[0m \u001b[0;34m=\u001b[0m \u001b[0mload_model\u001b[0m\u001b[0;34m(\u001b[0m\u001b[0;34m'google3qla.h5'\u001b[0m\u001b[0;34m)\u001b[0m\u001b[0;34m\u001b[0m\u001b[0;34m\u001b[0m\u001b[0m\n\u001b[0m\u001b[1;32m      8\u001b[0m \u001b[0;34m\u001b[0m\u001b[0m\n\u001b[1;32m      9\u001b[0m     \u001b[0mpred_val_y\u001b[0m \u001b[0;34m=\u001b[0m \u001b[0mmodel\u001b[0m\u001b[0;34m.\u001b[0m\u001b[0mpredict\u001b[0m\u001b[0;34m(\u001b[0m\u001b[0;34m[\u001b[0m\u001b[0mval_X\u001b[0m\u001b[0;34m]\u001b[0m\u001b[0;34m,\u001b[0m \u001b[0mbatch_size\u001b[0m\u001b[0;34m=\u001b[0m\u001b[0;36m1024\u001b[0m\u001b[0;34m,\u001b[0m \u001b[0mverbose\u001b[0m\u001b[0;34m=\u001b[0m\u001b[0;36m1\u001b[0m\u001b[0;34m)\u001b[0m\u001b[0;34m\u001b[0m\u001b[0;34m\u001b[0m\u001b[0m\n",
            "\u001b[0;32m/usr/local/lib/python3.6/dist-packages/keras/engine/saving.py\u001b[0m in \u001b[0;36mload_wrapper\u001b[0;34m(*args, **kwargs)\u001b[0m\n\u001b[1;32m    456\u001b[0m                 \u001b[0mos\u001b[0m\u001b[0;34m.\u001b[0m\u001b[0mremove\u001b[0m\u001b[0;34m(\u001b[0m\u001b[0mtmp_filepath\u001b[0m\u001b[0;34m)\u001b[0m\u001b[0;34m\u001b[0m\u001b[0;34m\u001b[0m\u001b[0m\n\u001b[1;32m    457\u001b[0m             \u001b[0;32mreturn\u001b[0m \u001b[0mres\u001b[0m\u001b[0;34m\u001b[0m\u001b[0;34m\u001b[0m\u001b[0m\n\u001b[0;32m--> 458\u001b[0;31m         \u001b[0;32mreturn\u001b[0m \u001b[0mload_function\u001b[0m\u001b[0;34m(\u001b[0m\u001b[0;34m*\u001b[0m\u001b[0margs\u001b[0m\u001b[0;34m,\u001b[0m \u001b[0;34m**\u001b[0m\u001b[0mkwargs\u001b[0m\u001b[0;34m)\u001b[0m\u001b[0;34m\u001b[0m\u001b[0;34m\u001b[0m\u001b[0m\n\u001b[0m\u001b[1;32m    459\u001b[0m \u001b[0;34m\u001b[0m\u001b[0m\n\u001b[1;32m    460\u001b[0m     \u001b[0;32mreturn\u001b[0m \u001b[0mload_wrapper\u001b[0m\u001b[0;34m\u001b[0m\u001b[0;34m\u001b[0m\u001b[0m\n",
            "\u001b[0;32m/usr/local/lib/python3.6/dist-packages/keras/engine/saving.py\u001b[0m in \u001b[0;36mload_model\u001b[0;34m(filepath, custom_objects, compile)\u001b[0m\n\u001b[1;32m    548\u001b[0m     \u001b[0;32mif\u001b[0m \u001b[0mH5Dict\u001b[0m\u001b[0;34m.\u001b[0m\u001b[0mis_supported_type\u001b[0m\u001b[0;34m(\u001b[0m\u001b[0mfilepath\u001b[0m\u001b[0;34m)\u001b[0m\u001b[0;34m:\u001b[0m\u001b[0;34m\u001b[0m\u001b[0;34m\u001b[0m\u001b[0m\n\u001b[1;32m    549\u001b[0m         \u001b[0;32mwith\u001b[0m \u001b[0mH5Dict\u001b[0m\u001b[0;34m(\u001b[0m\u001b[0mfilepath\u001b[0m\u001b[0;34m,\u001b[0m \u001b[0mmode\u001b[0m\u001b[0;34m=\u001b[0m\u001b[0;34m'r'\u001b[0m\u001b[0;34m)\u001b[0m \u001b[0;32mas\u001b[0m \u001b[0mh5dict\u001b[0m\u001b[0;34m:\u001b[0m\u001b[0;34m\u001b[0m\u001b[0;34m\u001b[0m\u001b[0m\n\u001b[0;32m--> 550\u001b[0;31m             \u001b[0mmodel\u001b[0m \u001b[0;34m=\u001b[0m \u001b[0m_deserialize_model\u001b[0m\u001b[0;34m(\u001b[0m\u001b[0mh5dict\u001b[0m\u001b[0;34m,\u001b[0m \u001b[0mcustom_objects\u001b[0m\u001b[0;34m,\u001b[0m \u001b[0mcompile\u001b[0m\u001b[0;34m)\u001b[0m\u001b[0;34m\u001b[0m\u001b[0;34m\u001b[0m\u001b[0m\n\u001b[0m\u001b[1;32m    551\u001b[0m     \u001b[0;32melif\u001b[0m \u001b[0mhasattr\u001b[0m\u001b[0;34m(\u001b[0m\u001b[0mfilepath\u001b[0m\u001b[0;34m,\u001b[0m \u001b[0;34m'write'\u001b[0m\u001b[0;34m)\u001b[0m \u001b[0;32mand\u001b[0m \u001b[0mcallable\u001b[0m\u001b[0;34m(\u001b[0m\u001b[0mfilepath\u001b[0m\u001b[0;34m.\u001b[0m\u001b[0mwrite\u001b[0m\u001b[0;34m)\u001b[0m\u001b[0;34m:\u001b[0m\u001b[0;34m\u001b[0m\u001b[0;34m\u001b[0m\u001b[0m\n\u001b[1;32m    552\u001b[0m         \u001b[0;32mdef\u001b[0m \u001b[0mload_function\u001b[0m\u001b[0;34m(\u001b[0m\u001b[0mh5file\u001b[0m\u001b[0;34m)\u001b[0m\u001b[0;34m:\u001b[0m\u001b[0;34m\u001b[0m\u001b[0;34m\u001b[0m\u001b[0m\n",
            "\u001b[0;32m/usr/local/lib/python3.6/dist-packages/keras/engine/saving.py\u001b[0m in \u001b[0;36m_deserialize_model\u001b[0;34m(h5dict, custom_objects, compile)\u001b[0m\n\u001b[1;32m    241\u001b[0m         \u001b[0;32mraise\u001b[0m \u001b[0mValueError\u001b[0m\u001b[0;34m(\u001b[0m\u001b[0;34m'No model found in config.'\u001b[0m\u001b[0;34m)\u001b[0m\u001b[0;34m\u001b[0m\u001b[0;34m\u001b[0m\u001b[0m\n\u001b[1;32m    242\u001b[0m     \u001b[0mmodel_config\u001b[0m \u001b[0;34m=\u001b[0m \u001b[0mjson\u001b[0m\u001b[0;34m.\u001b[0m\u001b[0mloads\u001b[0m\u001b[0;34m(\u001b[0m\u001b[0mmodel_config\u001b[0m\u001b[0;34m.\u001b[0m\u001b[0mdecode\u001b[0m\u001b[0;34m(\u001b[0m\u001b[0;34m'utf-8'\u001b[0m\u001b[0;34m)\u001b[0m\u001b[0;34m)\u001b[0m\u001b[0;34m\u001b[0m\u001b[0;34m\u001b[0m\u001b[0m\n\u001b[0;32m--> 243\u001b[0;31m     \u001b[0mmodel\u001b[0m \u001b[0;34m=\u001b[0m \u001b[0mmodel_from_config\u001b[0m\u001b[0;34m(\u001b[0m\u001b[0mmodel_config\u001b[0m\u001b[0;34m,\u001b[0m \u001b[0mcustom_objects\u001b[0m\u001b[0;34m=\u001b[0m\u001b[0mcustom_objects\u001b[0m\u001b[0;34m)\u001b[0m\u001b[0;34m\u001b[0m\u001b[0;34m\u001b[0m\u001b[0m\n\u001b[0m\u001b[1;32m    244\u001b[0m     \u001b[0mmodel_weights_group\u001b[0m \u001b[0;34m=\u001b[0m \u001b[0mh5dict\u001b[0m\u001b[0;34m[\u001b[0m\u001b[0;34m'model_weights'\u001b[0m\u001b[0;34m]\u001b[0m\u001b[0;34m\u001b[0m\u001b[0;34m\u001b[0m\u001b[0m\n\u001b[1;32m    245\u001b[0m \u001b[0;34m\u001b[0m\u001b[0m\n",
            "\u001b[0;32m/usr/local/lib/python3.6/dist-packages/keras/engine/saving.py\u001b[0m in \u001b[0;36mmodel_from_config\u001b[0;34m(config, custom_objects)\u001b[0m\n\u001b[1;32m    591\u001b[0m                         '`Sequential.from_config(config)`?')\n\u001b[1;32m    592\u001b[0m     \u001b[0;32mfrom\u001b[0m \u001b[0;34m.\u001b[0m\u001b[0;34m.\u001b[0m\u001b[0mlayers\u001b[0m \u001b[0;32mimport\u001b[0m \u001b[0mdeserialize\u001b[0m\u001b[0;34m\u001b[0m\u001b[0;34m\u001b[0m\u001b[0m\n\u001b[0;32m--> 593\u001b[0;31m     \u001b[0;32mreturn\u001b[0m \u001b[0mdeserialize\u001b[0m\u001b[0;34m(\u001b[0m\u001b[0mconfig\u001b[0m\u001b[0;34m,\u001b[0m \u001b[0mcustom_objects\u001b[0m\u001b[0;34m=\u001b[0m\u001b[0mcustom_objects\u001b[0m\u001b[0;34m)\u001b[0m\u001b[0;34m\u001b[0m\u001b[0;34m\u001b[0m\u001b[0m\n\u001b[0m\u001b[1;32m    594\u001b[0m \u001b[0;34m\u001b[0m\u001b[0m\n\u001b[1;32m    595\u001b[0m \u001b[0;34m\u001b[0m\u001b[0m\n",
            "\u001b[0;32m/usr/local/lib/python3.6/dist-packages/keras/layers/__init__.py\u001b[0m in \u001b[0;36mdeserialize\u001b[0;34m(config, custom_objects)\u001b[0m\n\u001b[1;32m    166\u001b[0m                                     \u001b[0mmodule_objects\u001b[0m\u001b[0;34m=\u001b[0m\u001b[0mglobs\u001b[0m\u001b[0;34m,\u001b[0m\u001b[0;34m\u001b[0m\u001b[0;34m\u001b[0m\u001b[0m\n\u001b[1;32m    167\u001b[0m                                     \u001b[0mcustom_objects\u001b[0m\u001b[0;34m=\u001b[0m\u001b[0mcustom_objects\u001b[0m\u001b[0;34m,\u001b[0m\u001b[0;34m\u001b[0m\u001b[0;34m\u001b[0m\u001b[0m\n\u001b[0;32m--> 168\u001b[0;31m                                     printable_module_name='layer')\n\u001b[0m",
            "\u001b[0;32m/usr/local/lib/python3.6/dist-packages/keras/utils/generic_utils.py\u001b[0m in \u001b[0;36mdeserialize_keras_object\u001b[0;34m(identifier, module_objects, custom_objects, printable_module_name)\u001b[0m\n\u001b[1;32m    145\u001b[0m                     \u001b[0mconfig\u001b[0m\u001b[0;34m[\u001b[0m\u001b[0;34m'config'\u001b[0m\u001b[0;34m]\u001b[0m\u001b[0;34m,\u001b[0m\u001b[0;34m\u001b[0m\u001b[0;34m\u001b[0m\u001b[0m\n\u001b[1;32m    146\u001b[0m                     custom_objects=dict(list(_GLOBAL_CUSTOM_OBJECTS.items()) +\n\u001b[0;32m--> 147\u001b[0;31m                                         list(custom_objects.items())))\n\u001b[0m\u001b[1;32m    148\u001b[0m             \u001b[0;32mwith\u001b[0m \u001b[0mCustomObjectScope\u001b[0m\u001b[0;34m(\u001b[0m\u001b[0mcustom_objects\u001b[0m\u001b[0;34m)\u001b[0m\u001b[0;34m:\u001b[0m\u001b[0;34m\u001b[0m\u001b[0;34m\u001b[0m\u001b[0m\n\u001b[1;32m    149\u001b[0m                 \u001b[0;32mreturn\u001b[0m \u001b[0mcls\u001b[0m\u001b[0;34m.\u001b[0m\u001b[0mfrom_config\u001b[0m\u001b[0;34m(\u001b[0m\u001b[0mconfig\u001b[0m\u001b[0;34m[\u001b[0m\u001b[0;34m'config'\u001b[0m\u001b[0;34m]\u001b[0m\u001b[0;34m)\u001b[0m\u001b[0;34m\u001b[0m\u001b[0;34m\u001b[0m\u001b[0m\n",
            "\u001b[0;32m/usr/local/lib/python3.6/dist-packages/keras/engine/network.py\u001b[0m in \u001b[0;36mfrom_config\u001b[0;34m(cls, config, custom_objects)\u001b[0m\n\u001b[1;32m   1041\u001b[0m         \u001b[0;31m# First, we create all layers and enqueue nodes to be processed\u001b[0m\u001b[0;34m\u001b[0m\u001b[0;34m\u001b[0m\u001b[0;34m\u001b[0m\u001b[0m\n\u001b[1;32m   1042\u001b[0m         \u001b[0;32mfor\u001b[0m \u001b[0mlayer_data\u001b[0m \u001b[0;32min\u001b[0m \u001b[0mconfig\u001b[0m\u001b[0;34m[\u001b[0m\u001b[0;34m'layers'\u001b[0m\u001b[0;34m]\u001b[0m\u001b[0;34m:\u001b[0m\u001b[0;34m\u001b[0m\u001b[0;34m\u001b[0m\u001b[0m\n\u001b[0;32m-> 1043\u001b[0;31m             \u001b[0mprocess_layer\u001b[0m\u001b[0;34m(\u001b[0m\u001b[0mlayer_data\u001b[0m\u001b[0;34m)\u001b[0m\u001b[0;34m\u001b[0m\u001b[0;34m\u001b[0m\u001b[0m\n\u001b[0m\u001b[1;32m   1044\u001b[0m \u001b[0;34m\u001b[0m\u001b[0m\n\u001b[1;32m   1045\u001b[0m         \u001b[0;31m# Then we process nodes in order of layer depth.\u001b[0m\u001b[0;34m\u001b[0m\u001b[0;34m\u001b[0m\u001b[0;34m\u001b[0m\u001b[0m\n",
            "\u001b[0;32m/usr/local/lib/python3.6/dist-packages/keras/engine/network.py\u001b[0m in \u001b[0;36mprocess_layer\u001b[0;34m(layer_data)\u001b[0m\n\u001b[1;32m   1027\u001b[0m \u001b[0;34m\u001b[0m\u001b[0m\n\u001b[1;32m   1028\u001b[0m             layer = deserialize_layer(layer_data,\n\u001b[0;32m-> 1029\u001b[0;31m                                       custom_objects=custom_objects)\n\u001b[0m\u001b[1;32m   1030\u001b[0m             \u001b[0mcreated_layers\u001b[0m\u001b[0;34m[\u001b[0m\u001b[0mlayer_name\u001b[0m\u001b[0;34m]\u001b[0m \u001b[0;34m=\u001b[0m \u001b[0mlayer\u001b[0m\u001b[0;34m\u001b[0m\u001b[0;34m\u001b[0m\u001b[0m\n\u001b[1;32m   1031\u001b[0m \u001b[0;34m\u001b[0m\u001b[0m\n",
            "\u001b[0;32m/usr/local/lib/python3.6/dist-packages/keras/layers/__init__.py\u001b[0m in \u001b[0;36mdeserialize\u001b[0;34m(config, custom_objects)\u001b[0m\n\u001b[1;32m    166\u001b[0m                                     \u001b[0mmodule_objects\u001b[0m\u001b[0;34m=\u001b[0m\u001b[0mglobs\u001b[0m\u001b[0;34m,\u001b[0m\u001b[0;34m\u001b[0m\u001b[0;34m\u001b[0m\u001b[0m\n\u001b[1;32m    167\u001b[0m                                     \u001b[0mcustom_objects\u001b[0m\u001b[0;34m=\u001b[0m\u001b[0mcustom_objects\u001b[0m\u001b[0;34m,\u001b[0m\u001b[0;34m\u001b[0m\u001b[0;34m\u001b[0m\u001b[0m\n\u001b[0;32m--> 168\u001b[0;31m                                     printable_module_name='layer')\n\u001b[0m",
            "\u001b[0;32m/usr/local/lib/python3.6/dist-packages/keras/utils/generic_utils.py\u001b[0m in \u001b[0;36mdeserialize_keras_object\u001b[0;34m(identifier, module_objects, custom_objects, printable_module_name)\u001b[0m\n\u001b[1;32m    138\u001b[0m             \u001b[0;32mif\u001b[0m \u001b[0mcls\u001b[0m \u001b[0;32mis\u001b[0m \u001b[0;32mNone\u001b[0m\u001b[0;34m:\u001b[0m\u001b[0;34m\u001b[0m\u001b[0;34m\u001b[0m\u001b[0m\n\u001b[1;32m    139\u001b[0m                 raise ValueError('Unknown ' + printable_module_name +\n\u001b[0;32m--> 140\u001b[0;31m                                  ': ' + class_name)\n\u001b[0m\u001b[1;32m    141\u001b[0m         \u001b[0;32mif\u001b[0m \u001b[0mhasattr\u001b[0m\u001b[0;34m(\u001b[0m\u001b[0mcls\u001b[0m\u001b[0;34m,\u001b[0m \u001b[0;34m'from_config'\u001b[0m\u001b[0;34m)\u001b[0m\u001b[0;34m:\u001b[0m\u001b[0;34m\u001b[0m\u001b[0;34m\u001b[0m\u001b[0m\n\u001b[1;32m    142\u001b[0m             \u001b[0mcustom_objects\u001b[0m \u001b[0;34m=\u001b[0m \u001b[0mcustom_objects\u001b[0m \u001b[0;32mor\u001b[0m \u001b[0;34m{\u001b[0m\u001b[0;34m}\u001b[0m\u001b[0;34m\u001b[0m\u001b[0;34m\u001b[0m\u001b[0m\n",
            "\u001b[0;31mValueError\u001b[0m: Unknown layer: Attention"
          ]
        }
      ]
    },
    {
      "cell_type": "code",
      "metadata": {
        "id": "FujKAtjCgyrN",
        "colab_type": "code",
        "outputId": "14c4d2ec-a014-4ea1-f099-05631ecdb226",
        "colab": {
          "base_uri": "https://localhost:8080/",
          "height": 231
        }
      },
      "source": [
        "# list all data in history\n",
        "print(history.history.keys())\n",
        "# summarize history for accuracy\n",
        "plt.plot(history.history['accuracy'])\n",
        "plt.plot(history.history['val_accuracy'])\n",
        "plt.title('model accuracy')\n",
        "plt.ylabel('accuracy')\n",
        "plt.xlabel('epoch')\n",
        "plt.legend(['train', 'test'], loc='upper left')\n",
        "plt.show()\n",
        "# summarize history for loss\n",
        "plt.plot(history.history['loss'])\n",
        "plt.plot(history.history['val_loss'])\n",
        "plt.title('model loss')\n",
        "plt.ylabel('loss')\n",
        "plt.xlabel('epoch')\n",
        "plt.legend(['train', 'test'], loc='upper left')\n",
        "plt.show()"
      ],
      "execution_count": 0,
      "outputs": [
        {
          "output_type": "error",
          "ename": "NameError",
          "evalue": "ignored",
          "traceback": [
            "\u001b[0;31m---------------------------------------------------------------------------\u001b[0m",
            "\u001b[0;31mNameError\u001b[0m                                 Traceback (most recent call last)",
            "\u001b[0;32m<ipython-input-64-17a4e3bded8f>\u001b[0m in \u001b[0;36m<module>\u001b[0;34m()\u001b[0m\n\u001b[0;32m----> 1\u001b[0;31m \u001b[0mprint\u001b[0m\u001b[0;34m(\u001b[0m\u001b[0mhistory\u001b[0m\u001b[0;34m.\u001b[0m\u001b[0mhistory\u001b[0m\u001b[0;34m.\u001b[0m\u001b[0mkeys\u001b[0m\u001b[0;34m(\u001b[0m\u001b[0;34m)\u001b[0m\u001b[0;34m)\u001b[0m\u001b[0;34m\u001b[0m\u001b[0;34m\u001b[0m\u001b[0m\n\u001b[0m\u001b[1;32m      2\u001b[0m \u001b[0;31m# summarize history for accuracy\u001b[0m\u001b[0;34m\u001b[0m\u001b[0;34m\u001b[0m\u001b[0;34m\u001b[0m\u001b[0m\n\u001b[1;32m      3\u001b[0m \u001b[0mplt\u001b[0m\u001b[0;34m.\u001b[0m\u001b[0mplot\u001b[0m\u001b[0;34m(\u001b[0m\u001b[0mhistory\u001b[0m\u001b[0;34m.\u001b[0m\u001b[0mhistory\u001b[0m\u001b[0;34m[\u001b[0m\u001b[0;34m'accuracy'\u001b[0m\u001b[0;34m]\u001b[0m\u001b[0;34m)\u001b[0m\u001b[0;34m\u001b[0m\u001b[0;34m\u001b[0m\u001b[0m\n\u001b[1;32m      4\u001b[0m \u001b[0mplt\u001b[0m\u001b[0;34m.\u001b[0m\u001b[0mplot\u001b[0m\u001b[0;34m(\u001b[0m\u001b[0mhistory\u001b[0m\u001b[0;34m.\u001b[0m\u001b[0mhistory\u001b[0m\u001b[0;34m[\u001b[0m\u001b[0;34m'val_accuracy'\u001b[0m\u001b[0;34m]\u001b[0m\u001b[0;34m)\u001b[0m\u001b[0;34m\u001b[0m\u001b[0;34m\u001b[0m\u001b[0m\n\u001b[1;32m      5\u001b[0m \u001b[0mplt\u001b[0m\u001b[0;34m.\u001b[0m\u001b[0mtitle\u001b[0m\u001b[0;34m(\u001b[0m\u001b[0;34m'model accuracy'\u001b[0m\u001b[0;34m)\u001b[0m\u001b[0;34m\u001b[0m\u001b[0;34m\u001b[0m\u001b[0m\n",
            "\u001b[0;31mNameError\u001b[0m: name 'history' is not defined"
          ]
        }
      ]
    },
    {
      "cell_type": "code",
      "metadata": {
        "id": "xuYCLdr5tNaJ",
        "colab_type": "code",
        "outputId": "2d49bbe6-992e-4f24-d4cc-e50da685f8eb",
        "colab": {
          "base_uri": "https://localhost:8080/",
          "height": 102
        }
      },
      "source": [
        "model = model_gru_atten_3(embedding_matrix_1)\n",
        "history = model.fit(train_X, train_y, batch_size=500, epochs = 2, validation_data=(val_X, val_y))  #512"
      ],
      "execution_count": 0,
      "outputs": [
        {
          "output_type": "stream",
          "text": [
            "Train on 1994 samples, validate on 624 samples\n",
            "Epoch 1/2\n",
            "1994/1994 [==============================] - 40s 20ms/step - loss: 0.8320 - acc: 0.5371 - val_loss: 0.7975 - val_acc: 0.4071\n",
            "Epoch 2/2\n",
            "1994/1994 [==============================] - 29s 14ms/step - loss: 0.7230 - acc: 0.4669 - val_loss: 0.7033 - val_acc: 0.5929\n"
          ],
          "name": "stdout"
        }
      ]
    },
    {
      "cell_type": "code",
      "metadata": {
        "id": "7-G_2ZxZgKP1",
        "colab_type": "code",
        "outputId": "350cd0b5-8dfa-4826-a78a-b9cecc80d87d",
        "colab": {
          "base_uri": "https://localhost:8080/",
          "height": 136
        }
      },
      "source": [
        "pred_test_y"
      ],
      "execution_count": 0,
      "outputs": [
        {
          "output_type": "execute_result",
          "data": {
            "text/plain": [
              "array([[0.01398143],\n",
              "       [0.08510914],\n",
              "       [0.96508956],\n",
              "       ...,\n",
              "       [0.98746103],\n",
              "       [0.9870027 ],\n",
              "       [0.00680384]], dtype=float32)"
            ]
          },
          "metadata": {
            "tags": []
          },
          "execution_count": 39
        }
      ]
    },
    {
      "cell_type": "code",
      "metadata": {
        "id": "ZcKzHU_GOn6-",
        "colab_type": "code",
        "outputId": "aafafee3-6bb6-4723-9b8a-a35254fdbd98",
        "colab": {
          "base_uri": "https://localhost:8080/",
          "height": 102
        }
      },
      "source": [
        "!ls"
      ],
      "execution_count": 0,
      "outputs": [
        {
          "output_type": "stream",
          "text": [
            "embeddings.zip\t\t\tparagram_300_sl999\t   test.csv\n",
            "glove.840B.300d\t\t\tsample_data\t\t   test.csv.zip\n",
            "google3qla.h5\t\t\tsample_submission.csv\t   train.csv\n",
            "GoogleNews-vectors-negative300\tsample_submission.csv.zip  train.csv.zip\n",
            "kaggle.json\t\t\tsubmission.csv\t\t   wiki-news-300d-1M\n"
          ],
          "name": "stdout"
        }
      ]
    },
    {
      "cell_type": "code",
      "metadata": {
        "id": "cWJE6h85Ow9g",
        "colab_type": "code",
        "outputId": "d95e6e17-a153-41bf-a4ef-bdce7be7c842",
        "colab": {
          "base_uri": "https://localhost:8080/",
          "height": 419
        }
      },
      "source": [
        "sub = pd.read_csv(\"submission.csv\")\n",
        "sub"
      ],
      "execution_count": 0,
      "outputs": [
        {
          "output_type": "execute_result",
          "data": {
            "text/html": [
              "<div>\n",
              "<style scoped>\n",
              "    .dataframe tbody tr th:only-of-type {\n",
              "        vertical-align: middle;\n",
              "    }\n",
              "\n",
              "    .dataframe tbody tr th {\n",
              "        vertical-align: top;\n",
              "    }\n",
              "\n",
              "    .dataframe thead th {\n",
              "        text-align: right;\n",
              "    }\n",
              "</style>\n",
              "<table border=\"1\" class=\"dataframe\">\n",
              "  <thead>\n",
              "    <tr style=\"text-align: right;\">\n",
              "      <th></th>\n",
              "      <th>id</th>\n",
              "      <th>target</th>\n",
              "    </tr>\n",
              "  </thead>\n",
              "  <tbody>\n",
              "    <tr>\n",
              "      <th>0</th>\n",
              "      <td>0</td>\n",
              "      <td>0</td>\n",
              "    </tr>\n",
              "    <tr>\n",
              "      <th>1</th>\n",
              "      <td>2</td>\n",
              "      <td>0</td>\n",
              "    </tr>\n",
              "    <tr>\n",
              "      <th>2</th>\n",
              "      <td>3</td>\n",
              "      <td>1</td>\n",
              "    </tr>\n",
              "    <tr>\n",
              "      <th>3</th>\n",
              "      <td>9</td>\n",
              "      <td>1</td>\n",
              "    </tr>\n",
              "    <tr>\n",
              "      <th>4</th>\n",
              "      <td>11</td>\n",
              "      <td>1</td>\n",
              "    </tr>\n",
              "    <tr>\n",
              "      <th>...</th>\n",
              "      <td>...</td>\n",
              "      <td>...</td>\n",
              "    </tr>\n",
              "    <tr>\n",
              "      <th>3258</th>\n",
              "      <td>10861</td>\n",
              "      <td>0</td>\n",
              "    </tr>\n",
              "    <tr>\n",
              "      <th>3259</th>\n",
              "      <td>10865</td>\n",
              "      <td>1</td>\n",
              "    </tr>\n",
              "    <tr>\n",
              "      <th>3260</th>\n",
              "      <td>10868</td>\n",
              "      <td>1</td>\n",
              "    </tr>\n",
              "    <tr>\n",
              "      <th>3261</th>\n",
              "      <td>10874</td>\n",
              "      <td>1</td>\n",
              "    </tr>\n",
              "    <tr>\n",
              "      <th>3262</th>\n",
              "      <td>10875</td>\n",
              "      <td>0</td>\n",
              "    </tr>\n",
              "  </tbody>\n",
              "</table>\n",
              "<p>3263 rows × 2 columns</p>\n",
              "</div>"
            ],
            "text/plain": [
              "         id  target\n",
              "0         0       0\n",
              "1         2       0\n",
              "2         3       1\n",
              "3         9       1\n",
              "4        11       1\n",
              "...     ...     ...\n",
              "3258  10861       0\n",
              "3259  10865       1\n",
              "3260  10868       1\n",
              "3261  10874       1\n",
              "3262  10875       0\n",
              "\n",
              "[3263 rows x 2 columns]"
            ]
          },
          "metadata": {
            "tags": []
          },
          "execution_count": 47
        }
      ]
    },
    {
      "cell_type": "code",
      "metadata": {
        "id": "ekonuyEgCMQt",
        "colab_type": "code",
        "outputId": "6d2eb09f-1b1c-4b25-f4ba-0c9ee6896a5a",
        "colab": {
          "base_uri": "https://localhost:8080/",
          "height": 68
        }
      },
      "source": [
        "# submit the file to kaggle\n",
        "# !kaggle competitions submit -c nlp-getting-started -f submission.csv -m \"Submitting file through Google Colab!\""
      ],
      "execution_count": 0,
      "outputs": [
        {
          "output_type": "stream",
          "text": [
            "Warning: Looks like you're using an outdated API Version, please consider updating (server 1.5.6 / client 1.5.4)\n",
            "\r  0% 0.00/22.2k [00:00<?, ?B/s]\r100% 22.2k/22.2k [00:00<00:00, 85.6kB/s]\n",
            "Successfully submitted to Real or Not? NLP with Disaster Tweets"
          ],
          "name": "stdout"
        }
      ]
    },
    {
      "cell_type": "code",
      "metadata": {
        "id": "Y2Du5WonDrMW",
        "colab_type": "code",
        "colab": {}
      },
      "source": [
        ""
      ],
      "execution_count": 0,
      "outputs": []
    },
    {
      "cell_type": "code",
      "metadata": {
        "id": "Faj7ZjnxDruX",
        "colab_type": "code",
        "colab": {}
      },
      "source": [
        ""
      ],
      "execution_count": 0,
      "outputs": []
    },
    {
      "cell_type": "code",
      "metadata": {
        "id": "AEK8HPeDqILW",
        "colab_type": "code",
        "outputId": "342bd70b-49f6-4e8e-fe88-e0b2f7f077ee",
        "colab": {
          "base_uri": "https://localhost:8080/",
          "height": 51
        }
      },
      "source": [
        "print(pred_val_y.shape)\n",
        "print(test_X.shape)"
      ],
      "execution_count": 46,
      "outputs": [
        {
          "output_type": "stream",
          "text": [
            "(1142, 1)\n",
            "(3263, 180)\n"
          ],
          "name": "stdout"
        }
      ]
    },
    {
      "cell_type": "code",
      "metadata": {
        "id": "V__SN3wjXu7F",
        "colab_type": "code",
        "colab": {}
      },
      "source": [
        ""
      ],
      "execution_count": 0,
      "outputs": []
    }
  ]
}